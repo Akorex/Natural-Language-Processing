{
 "cells": [
  {
   "cell_type": "code",
   "execution_count": 1,
   "metadata": {
    "execution": {
     "iopub.execute_input": "2022-03-21T23:38:18.728347Z",
     "iopub.status.busy": "2022-03-21T23:38:18.727757Z",
     "iopub.status.idle": "2022-03-21T23:38:24.009095Z",
     "shell.execute_reply": "2022-03-21T23:38:24.008375Z",
     "shell.execute_reply.started": "2022-03-21T23:38:18.728254Z"
    },
    "id": "jSxjOYkGkFr4"
   },
   "outputs": [],
   "source": [
    "import numpy as np\n",
    "import os\n",
    "import pandas as pd\n",
    "import matplotlib.pyplot as plt\n",
    "import seaborn as sns\n",
    "import tensorflow as tf\n",
    "from tensorflow import keras\n",
    "from keras import models, layers\n",
    "import gc # garbage collections\n",
    "import bz2 # to open zipped files"
   ]
  },
  {
   "cell_type": "markdown",
   "metadata": {
    "id": "vKj8lAH2lZaN"
   },
   "source": [
    "# Loading the dataset"
   ]
  },
  {
   "cell_type": "code",
   "execution_count": 2,
   "metadata": {
    "execution": {
     "iopub.execute_input": "2022-03-21T23:38:24.012584Z",
     "iopub.status.busy": "2022-03-21T23:38:24.011550Z",
     "iopub.status.idle": "2022-03-21T23:38:24.027563Z",
     "shell.execute_reply": "2022-03-21T23:38:24.026937Z",
     "shell.execute_reply.started": "2022-03-21T23:38:24.012552Z"
    },
    "id": "VdMqAnWumVbx"
   },
   "outputs": [],
   "source": [
    "train = bz2.BZ2File('../input/amazonreviews/train.ft.txt.bz2')\n",
    "test = bz2.BZ2File('../input/amazonreviews/test.ft.txt.bz2')"
   ]
  },
  {
   "cell_type": "code",
   "execution_count": 3,
   "metadata": {
    "execution": {
     "iopub.execute_input": "2022-03-21T23:38:24.028999Z",
     "iopub.status.busy": "2022-03-21T23:38:24.028694Z",
     "iopub.status.idle": "2022-03-21T23:39:59.220486Z",
     "shell.execute_reply": "2022-03-21T23:39:59.219823Z",
     "shell.execute_reply.started": "2022-03-21T23:38:24.028963Z"
    },
    "executionInfo": {
     "elapsed": 105842,
     "status": "ok",
     "timestamp": 1647289219116,
     "user": {
      "displayName": "Adewole Akorede",
      "photoUrl": "https://lh3.googleusercontent.com/a-/AOh14Gg03grqCyFQgax4UoMPg_gPqiuE8Jeq4oiFSV2x=s64",
      "userId": "08678817209531841234"
     },
     "user_tz": -60
    },
    "id": "3j7dxTQ8nC-4",
    "outputId": "13855432-5929-4cc8-b024-db8babe86f43"
   },
   "outputs": [
    {
     "data": {
      "text/plain": [
       "b'__label__2 Stuning even for the non-gamer: This sound track was beautiful! It paints the senery in your mind so well I would recomend it even to people who hate vid. game music! I have played the game Chrono Cross but out of all of the games I have ever played it has the best music! It backs away from crude keyboarding and takes a fresher step with grate guitars and soulful orchestras. It would impress anyone who cares to listen! ^_^\\n'"
      ]
     },
     "execution_count": 3,
     "metadata": {},
     "output_type": "execute_result"
    }
   ],
   "source": [
    "train = train.readlines()\n",
    "test = test.readlines()\n",
    "\n",
    "train[0]"
   ]
  },
  {
   "cell_type": "code",
   "execution_count": 4,
   "metadata": {
    "execution": {
     "iopub.execute_input": "2022-03-21T23:39:59.222791Z",
     "iopub.status.busy": "2022-03-21T23:39:59.222552Z",
     "iopub.status.idle": "2022-03-21T23:40:01.428055Z",
     "shell.execute_reply": "2022-03-21T23:40:01.427323Z",
     "shell.execute_reply.started": "2022-03-21T23:39:59.222757Z"
    },
    "id": "h_DcWktfnuEb"
   },
   "outputs": [],
   "source": [
    "# convert from raw binary strings into text files that can be parsed\n",
    "\n",
    "train = [x.decode('utf-8') for x in train]\n",
    "test = [x.decode('utf-8') for x in test]"
   ]
  },
  {
   "cell_type": "code",
   "execution_count": 5,
   "metadata": {
    "execution": {
     "iopub.execute_input": "2022-03-21T23:40:01.429388Z",
     "iopub.status.busy": "2022-03-21T23:40:01.429154Z",
     "iopub.status.idle": "2022-03-21T23:40:01.436068Z",
     "shell.execute_reply": "2022-03-21T23:40:01.435298Z",
     "shell.execute_reply.started": "2022-03-21T23:40:01.429356Z"
    },
    "executionInfo": {
     "elapsed": 14,
     "status": "ok",
     "timestamp": 1647289223295,
     "user": {
      "displayName": "Adewole Akorede",
      "photoUrl": "https://lh3.googleusercontent.com/a-/AOh14Gg03grqCyFQgax4UoMPg_gPqiuE8Jeq4oiFSV2x=s64",
      "userId": "08678817209531841234"
     },
     "user_tz": -60
    },
    "id": "J3nJdk23oTn8",
    "outputId": "579fb88d-36d5-4dca-a4b5-04273888a8ee"
   },
   "outputs": [
    {
     "data": {
      "text/plain": [
       "'__label__2 Stuning even for the non-gamer: This sound track was beautiful! It paints the senery in your mind so well I would recomend it even to people who hate vid. game music! I have played the game Chrono Cross but out of all of the games I have ever played it has the best music! It backs away from crude keyboarding and takes a fresher step with grate guitars and soulful orchestras. It would impress anyone who cares to listen! ^_^\\n'"
      ]
     },
     "execution_count": 5,
     "metadata": {},
     "output_type": "execute_result"
    }
   ],
   "source": [
    "train[0]"
   ]
  },
  {
   "cell_type": "code",
   "execution_count": 6,
   "metadata": {
    "execution": {
     "iopub.execute_input": "2022-03-21T23:40:01.438072Z",
     "iopub.status.busy": "2022-03-21T23:40:01.437615Z",
     "iopub.status.idle": "2022-03-21T23:40:01.447303Z",
     "shell.execute_reply": "2022-03-21T23:40:01.446493Z",
     "shell.execute_reply.started": "2022-03-21T23:40:01.438038Z"
    },
    "executionInfo": {
     "elapsed": 13,
     "status": "ok",
     "timestamp": 1647289223297,
     "user": {
      "displayName": "Adewole Akorede",
      "photoUrl": "https://lh3.googleusercontent.com/a-/AOh14Gg03grqCyFQgax4UoMPg_gPqiuE8Jeq4oiFSV2x=s64",
      "userId": "08678817209531841234"
     },
     "user_tz": -60
    },
    "id": "-c3Nw1evoWes",
    "outputId": "e2e1570c-0d35-4c9a-e260-b7eb94495f5a"
   },
   "outputs": [
    {
     "name": "stdout",
     "output_type": "stream",
     "text": [
      "<class 'list'> <class 'list'> \n",
      "\n",
      "Train Data Volume: 3600000\n",
      "\n",
      "Test Data Volume: 400000\n",
      "\n",
      "\n",
      "Demo:  \n",
      "\n",
      "__label__2 Stuning even for the non-gamer: This sound track was beautiful! It paints the senery in your mind so well I would recomend it even to people who hate vid. game music! I have played the game Chrono Cross but out of all of the games I have ever played it has the best music! It backs away from crude keyboarding and takes a fresher step with grate guitars and soulful orchestras. It would impress anyone who cares to listen! ^_^\n",
      " \n",
      "\n",
      "__label__2 The best soundtrack ever to anything.: I'm reading a lot of reviews saying that this is the best 'game soundtrack' and I figured that I'd write a review to disagree a bit. This in my opinino is Yasunori Mitsuda's ultimate masterpiece. The music is timeless and I'm been listening to it for years now and its beauty simply refuses to fade.The price tag on this is pretty staggering I must say, but if you are going to buy any cd for this much money, this is the only one that I feel would be worth every penny.\n",
      " \n",
      "\n",
      "__label__2 Amazing!: This soundtrack is my favorite music of all time, hands down. The intense sadness of \"Prisoners of Fate\" (which means all the more if you've played the game) and the hope in \"A Distant Promise\" and \"Girl who Stole the Star\" have been an important inspiration to me personally throughout my teen years. The higher energy tracks like \"Chrono Cross ~ Time's Scar~\", \"Time of the Dreamwatch\", and \"Chronomantique\" (indefinably remeniscent of Chrono Trigger) are all absolutely superb as well.This soundtrack is amazing music, probably the best of this composer's work (I haven't heard the Xenogears soundtrack, so I can't say for sure), and even if you've never played the game, it would be worth twice the price to buy it.I wish I could give it 6 stars.\n",
      " \n",
      "\n",
      "__label__2 Excellent Soundtrack: I truly like this soundtrack and I enjoy video game music. I have played this game and most of the music on here I enjoy and it's truly relaxing and peaceful.On disk one. my favorites are Scars Of Time, Between Life and Death, Forest Of Illusion, Fortress of Ancient Dragons, Lost Fragment, and Drowned Valley.Disk Two: The Draggons, Galdorb - Home, Chronomantique, Prisoners of Fate, Gale, and my girlfriend likes ZelbessDisk Three: The best of the three. Garden Of God, Chronopolis, Fates, Jellyfish sea, Burning Orphange, Dragon's Prayer, Tower Of Stars, Dragon God, and Radical Dreamers - Unstealable Jewel.Overall, this is a excellent soundtrack and should be brought by those that like video game music.Xander Cross\n",
      " \n",
      "\n",
      "__label__2 Remember, Pull Your Jaw Off The Floor After Hearing it: If you've played the game, you know how divine the music is! Every single song tells a story of the game, it's that good! The greatest songs are without a doubt, Chrono Cross: Time's Scar, Magical Dreamers: The Wind, The Stars, and the Sea and Radical Dreamers: Unstolen Jewel. (Translation varies) This music is perfect if you ask me, the best it can be. Yasunori Mitsuda just poured his heart on and wrote it down on paper.\n",
      " \n",
      "\n"
     ]
    }
   ],
   "source": [
    "print(type(train), type(test), \"\\n\")\n",
    "\n",
    "print(f\"Train Data Volume: {len(train)}\\n\")\n",
    "print(f\"Test Data Volume: {len(test)}\\n\\n\")\n",
    "\n",
    "print(\"Demo: \", \"\\n\")\n",
    "for x in train[:5]:\n",
    "    print(x, \"\\n\")"
   ]
  },
  {
   "cell_type": "code",
   "execution_count": 7,
   "metadata": {
    "execution": {
     "iopub.execute_input": "2022-03-21T23:40:01.449126Z",
     "iopub.status.busy": "2022-03-21T23:40:01.448638Z",
     "iopub.status.idle": "2022-03-21T23:40:17.921912Z",
     "shell.execute_reply": "2022-03-21T23:40:17.921187Z",
     "shell.execute_reply.started": "2022-03-21T23:40:01.449091Z"
    },
    "id": "S-2MBfOhpNQb"
   },
   "outputs": [],
   "source": [
    "# extract labels from the dataset\n",
    "# judging from the dataset, let's set 0 for negative sentiment and 1 for positive sentiment\n",
    "\n",
    "train_labels = [0 if x.split(' ')[0] == '__label__1' else 1 for x in train] \n",
    "test_labels = [0 if x.split(' ')[0] =='__label__1' else 1 for x in test]"
   ]
  },
  {
   "cell_type": "code",
   "execution_count": 8,
   "metadata": {
    "execution": {
     "iopub.execute_input": "2022-03-21T23:40:17.923414Z",
     "iopub.status.busy": "2022-03-21T23:40:17.923142Z",
     "iopub.status.idle": "2022-03-21T23:40:25.795273Z",
     "shell.execute_reply": "2022-03-21T23:40:25.794556Z",
     "shell.execute_reply.started": "2022-03-21T23:40:17.923368Z"
    },
    "executionInfo": {
     "elapsed": 6525,
     "status": "ok",
     "timestamp": 1647289246349,
     "user": {
      "displayName": "Adewole Akorede",
      "photoUrl": "https://lh3.googleusercontent.com/a-/AOh14Gg03grqCyFQgax4UoMPg_gPqiuE8Jeq4oiFSV2x=s64",
      "userId": "08678817209531841234"
     },
     "user_tz": -60
    },
    "id": "Cekaua_Ps0FG",
    "outputId": "7d16beda-9597-486d-edd4-b8ea8aba1da8"
   },
   "outputs": [
    {
     "name": "stderr",
     "output_type": "stream",
     "text": [
      "/opt/conda/lib/python3.7/site-packages/seaborn/_decorators.py:43: FutureWarning: Pass the following variable as a keyword arg: x. From version 0.12, the only valid positional argument will be `data`, and passing other arguments without an explicit keyword will result in an error or misinterpretation.\n",
      "  FutureWarning\n"
     ]
    },
    {
     "data": {
      "text/plain": [
       "Text(0.5, 1.0, 'Train Labels Distribution')"
      ]
     },
     "execution_count": 8,
     "metadata": {},
     "output_type": "execute_result"
    },
    {
     "data": {
      "image/png": "[encoded data removed]",
      "text/plain": [
       "<Figure size 432x288 with 1 Axes>"
      ]
     },
     "metadata": {
      "needs_background": "light"
     },
     "output_type": "display_data"
    }
   ],
   "source": [
    "sns.countplot(train_labels)\n",
    "plt.title('Train Labels Distribution')"
   ]
  },
  {
   "cell_type": "code",
   "execution_count": 9,
   "metadata": {
    "execution": {
     "iopub.execute_input": "2022-03-21T23:40:25.796832Z",
     "iopub.status.busy": "2022-03-21T23:40:25.796591Z",
     "iopub.status.idle": "2022-03-21T23:40:26.763852Z",
     "shell.execute_reply": "2022-03-21T23:40:26.763087Z",
     "shell.execute_reply.started": "2022-03-21T23:40:25.796798Z"
    },
    "executionInfo": {
     "elapsed": 763,
     "status": "ok",
     "timestamp": 1647289247099,
     "user": {
      "displayName": "Adewole Akorede",
      "photoUrl": "https://lh3.googleusercontent.com/a-/AOh14Gg03grqCyFQgax4UoMPg_gPqiuE8Jeq4oiFSV2x=s64",
      "userId": "08678817209531841234"
     },
     "user_tz": -60
    },
    "id": "-lvzUiwgs_DK",
    "outputId": "6768f1cf-e54b-4dba-9655-8e6f7c946b45"
   },
   "outputs": [
    {
     "name": "stderr",
     "output_type": "stream",
     "text": [
      "/opt/conda/lib/python3.7/site-packages/seaborn/_decorators.py:43: FutureWarning: Pass the following variable as a keyword arg: x. From version 0.12, the only valid positional argument will be `data`, and passing other arguments without an explicit keyword will result in an error or misinterpretation.\n",
      "  FutureWarning\n"
     ]
    },
    {
     "data": {
      "text/plain": [
       "Text(0.5, 1.0, 'Test Labels Distribution')"
      ]
     },
     "execution_count": 9,
     "metadata": {},
     "output_type": "execute_result"
    },
    {
     "data": {
      "image/png": "[encoded data removed]",
      "text/plain": [
       "<Figure size 432x288 with 1 Axes>"
      ]
     },
     "metadata": {
      "needs_background": "light"
     },
     "output_type": "display_data"
    }
   ],
   "source": [
    "sns.countplot(test_labels)\n",
    "plt.title('Test Labels Distribution')"
   ]
  },
  {
   "cell_type": "code",
   "execution_count": 10,
   "metadata": {
    "execution": {
     "iopub.execute_input": "2022-03-21T23:40:26.767202Z",
     "iopub.status.busy": "2022-03-21T23:40:26.766815Z",
     "iopub.status.idle": "2022-03-21T23:40:29.489866Z",
     "shell.execute_reply": "2022-03-21T23:40:29.489192Z",
     "shell.execute_reply.started": "2022-03-21T23:40:26.767170Z"
    },
    "executionInfo": {
     "elapsed": 3553,
     "status": "ok",
     "timestamp": 1647289250645,
     "user": {
      "displayName": "Adewole Akorede",
      "photoUrl": "https://lh3.googleusercontent.com/a-/AOh14Gg03grqCyFQgax4UoMPg_gPqiuE8Jeq4oiFSV2x=s64",
      "userId": "08678817209531841234"
     },
     "user_tz": -60
    },
    "id": "fhZ3FfmitOJT",
    "outputId": "ff19100e-9c8d-485b-9d40-b3989b80ef00"
   },
   "outputs": [
    {
     "data": {
      "text/plain": [
       "'Stuning even for the non-gamer: This sound track was beautiful! It paints the senery in your mind so well I would recomend it even to people who hate vid. game music! I have played the game Chrono Cross but out of all of the games I have ever played it has the best music! It backs away from crude keyboarding and takes a fresher step with grate guitars and soulful orchestras. It would impress anyone who cares to listen! ^_^'"
      ]
     },
     "execution_count": 10,
     "metadata": {},
     "output_type": "execute_result"
    }
   ],
   "source": [
    "# let's extract the texts\n",
    "\n",
    "train_texts = [x.split(' ', maxsplit=1)[1][:-1] for x in train]\n",
    "test_texts = [x.split(' ', maxsplit=1)[1][:-1] for x in test]\n",
    "\n",
    "train_texts[0]"
   ]
  },
  {
   "cell_type": "code",
   "execution_count": 11,
   "metadata": {
    "execution": {
     "iopub.execute_input": "2022-03-21T23:40:29.491283Z",
     "iopub.status.busy": "2022-03-21T23:40:29.491047Z",
     "iopub.status.idle": "2022-03-21T23:40:30.140272Z",
     "shell.execute_reply": "2022-03-21T23:40:30.139472Z",
     "shell.execute_reply.started": "2022-03-21T23:40:29.491249Z"
    },
    "executionInfo": {
     "elapsed": 499,
     "status": "ok",
     "timestamp": 1647289253014,
     "user": {
      "displayName": "Adewole Akorede",
      "photoUrl": "https://lh3.googleusercontent.com/a-/AOh14Gg03grqCyFQgax4UoMPg_gPqiuE8Jeq4oiFSV2x=s64",
      "userId": "08678817209531841234"
     },
     "user_tz": -60
    },
    "id": "cqlooqAeuMzX",
    "outputId": "d5c33c66-df6b-410c-cbef-10c266d99d09"
   },
   "outputs": [
    {
     "data": {
      "text/plain": [
       "70"
      ]
     },
     "execution_count": 11,
     "metadata": {},
     "output_type": "execute_result"
    }
   ],
   "source": [
    "del train, test\n",
    "\n",
    "gc.collect()"
   ]
  },
  {
   "cell_type": "markdown",
   "metadata": {
    "id": "PIIRugaDvD3b"
   },
   "source": [
    "## Exploratory Data Analysis"
   ]
  },
  {
   "cell_type": "markdown",
   "metadata": {
    "id": "PdxBLF_G1TPS"
   },
   "source": [
    "### Word Cloud"
   ]
  },
  {
   "cell_type": "code",
   "execution_count": 12,
   "metadata": {
    "execution": {
     "iopub.execute_input": "2022-03-21T23:40:30.142827Z",
     "iopub.status.busy": "2022-03-21T23:40:30.142177Z",
     "iopub.status.idle": "2022-03-21T23:40:30.183229Z",
     "shell.execute_reply": "2022-03-21T23:40:30.182591Z",
     "shell.execute_reply.started": "2022-03-21T23:40:30.142786Z"
    },
    "id": "l7GRmz-lvCRC"
   },
   "outputs": [],
   "source": [
    "from wordcloud import WordCloud"
   ]
  },
  {
   "cell_type": "code",
   "execution_count": 13,
   "metadata": {
    "execution": {
     "iopub.execute_input": "2022-03-21T23:40:30.184515Z",
     "iopub.status.busy": "2022-03-21T23:40:30.184256Z",
     "iopub.status.idle": "2022-03-21T23:40:30.275611Z",
     "shell.execute_reply": "2022-03-21T23:40:30.274828Z",
     "shell.execute_reply.started": "2022-03-21T23:40:30.184479Z"
    },
    "executionInfo": {
     "elapsed": 1894,
     "status": "ok",
     "timestamp": 1647289254902,
     "user": {
      "displayName": "Adewole Akorede",
      "photoUrl": "https://lh3.googleusercontent.com/a-/AOh14Gg03grqCyFQgax4UoMPg_gPqiuE8Jeq4oiFSV2x=s64",
      "userId": "08678817209531841234"
     },
     "user_tz": -60
    },
    "id": "rsU-gWKsyNmf",
    "outputId": "0431650c-a548-4cdd-c4cc-fa9dd867bf33"
   },
   "outputs": [
    {
     "name": "stdout",
     "output_type": "stream",
     "text": [
      "There are 44053838 words in the corpus\n"
     ]
    }
   ],
   "source": [
    "# let's have a corpus for all the texts in train_text\n",
    "\n",
    "corpus = ' '.join(text for text in train_texts[:100000])\n",
    "print(f'There are {len(corpus)} words in the corpus')"
   ]
  },
  {
   "cell_type": "code",
   "execution_count": 14,
   "metadata": {
    "execution": {
     "iopub.execute_input": "2022-03-21T23:40:30.277597Z",
     "iopub.status.busy": "2022-03-21T23:40:30.276905Z",
     "iopub.status.idle": "2022-03-21T23:40:57.311742Z",
     "shell.execute_reply": "2022-03-21T23:40:57.311070Z",
     "shell.execute_reply.started": "2022-03-21T23:40:30.277557Z"
    },
    "executionInfo": {
     "elapsed": 31165,
     "status": "ok",
     "timestamp": 1647289286546,
     "user": {
      "displayName": "Adewole Akorede",
      "photoUrl": "https://lh3.googleusercontent.com/a-/AOh14Gg03grqCyFQgax4UoMPg_gPqiuE8Jeq4oiFSV2x=s64",
      "userId": "08678817209531841234"
     },
     "user_tz": -60
    },
    "id": "yAXbeewUu8D7",
    "outputId": "883ae7f1-979c-47ef-8049-0124beb42828"
   },
   "outputs": [
    {
     "data": {
      "image/png": "[encoded data removed]",
      "text/plain": [
       "<Figure size 720x576 with 1 Axes>"
      ]
     },
     "metadata": {
      "needs_background": "light"
     },
     "output_type": "display_data"
    }
   ],
   "source": [
    "wordcloud = WordCloud(max_font_size=50, max_words=100, background_color='white')\n",
    "wordcloud = wordcloud.generate(corpus)\n",
    "\n",
    "\n",
    "plt.figure(figsize=(10, 8))\n",
    "plt.imshow(wordcloud, interpolation='bilinear')\n",
    "plt.axis('off')\n",
    "\n",
    "plt.show()"
   ]
  },
  {
   "cell_type": "code",
   "execution_count": 15,
   "metadata": {
    "execution": {
     "iopub.execute_input": "2022-03-21T23:40:57.312938Z",
     "iopub.status.busy": "2022-03-21T23:40:57.312688Z",
     "iopub.status.idle": "2022-03-21T23:40:57.626754Z",
     "shell.execute_reply": "2022-03-21T23:40:57.625894Z",
     "shell.execute_reply.started": "2022-03-21T23:40:57.312904Z"
    },
    "executionInfo": {
     "elapsed": 7,
     "status": "ok",
     "timestamp": 1647289286547,
     "user": {
      "displayName": "Adewole Akorede",
      "photoUrl": "https://lh3.googleusercontent.com/a-/AOh14Gg03grqCyFQgax4UoMPg_gPqiuE8Jeq4oiFSV2x=s64",
      "userId": "08678817209531841234"
     },
     "user_tz": -60
    },
    "id": "F6fvT87AHBr9",
    "outputId": "bb2dee4e-1abb-4e6b-c2dc-99dff95752a0"
   },
   "outputs": [
    {
     "data": {
      "text/plain": [
       "3192"
      ]
     },
     "execution_count": 15,
     "metadata": {},
     "output_type": "execute_result"
    }
   ],
   "source": [
    "del wordcloud\n",
    "\n",
    "gc.collect()"
   ]
  },
  {
   "cell_type": "markdown",
   "metadata": {
    "id": "fuYL6dKt3BHZ"
   },
   "source": [
    "### Distribution of word count"
   ]
  },
  {
   "cell_type": "code",
   "execution_count": 16,
   "metadata": {
    "execution": {
     "iopub.execute_input": "2022-03-21T23:40:57.628362Z",
     "iopub.status.busy": "2022-03-21T23:40:57.628097Z",
     "iopub.status.idle": "2022-03-21T23:41:26.214701Z",
     "shell.execute_reply": "2022-03-21T23:41:26.213969Z",
     "shell.execute_reply.started": "2022-03-21T23:40:57.628324Z"
    },
    "executionInfo": {
     "elapsed": 41172,
     "status": "ok",
     "timestamp": 1647289327713,
     "user": {
      "displayName": "Adewole Akorede",
      "photoUrl": "https://lh3.googleusercontent.com/a-/AOh14Gg03grqCyFQgax4UoMPg_gPqiuE8Jeq4oiFSV2x=s64",
      "userId": "08678817209531841234"
     },
     "user_tz": -60
    },
    "id": "wuVsvjen1kiP",
    "outputId": "dfb7d878-e851-4d55-b40f-71ea09916d0c"
   },
   "outputs": [
    {
     "name": "stderr",
     "output_type": "stream",
     "text": [
      "/opt/conda/lib/python3.7/site-packages/seaborn/distributions.py:2619: FutureWarning: `distplot` is a deprecated function and will be removed in a future version. Please adapt your code to use either `displot` (a figure-level function with similar flexibility) or `histplot` (an axes-level function for histograms).\n",
      "  warnings.warn(msg, FutureWarning)\n"
     ]
    },
    {
     "data": {
      "text/plain": [
       "Text(0.5, 1.0, 'Word Frequency Distribution in Reviews')"
      ]
     },
     "execution_count": 16,
     "metadata": {},
     "output_type": "execute_result"
    },
    {
     "data": {
      "image/png": "[encoded data removed]",
      "text/plain": [
       "<Figure size 432x288 with 1 Axes>"
      ]
     },
     "metadata": {
      "needs_background": "light"
     },
     "output_type": "display_data"
    }
   ],
   "source": [
    "# let's count the number of words in the review and see the distribution\n",
    "\n",
    "train_texts_size = list(map(lambda x: len(x.split()), train_texts))\n",
    "sns.distplot(train_texts_size)\n",
    "plt.xlabel('No. of words in review')\n",
    "plt.ylabel('Frequency')\n",
    "plt.title('Word Frequency Distribution in Reviews')"
   ]
  },
  {
   "cell_type": "code",
   "execution_count": 17,
   "metadata": {
    "execution": {
     "iopub.execute_input": "2022-03-21T23:41:26.216622Z",
     "iopub.status.busy": "2022-03-21T23:41:26.216173Z",
     "iopub.status.idle": "2022-03-21T23:41:28.854564Z",
     "shell.execute_reply": "2022-03-21T23:41:28.853857Z",
     "shell.execute_reply.started": "2022-03-21T23:41:26.216563Z"
    },
    "executionInfo": {
     "elapsed": 1937,
     "status": "ok",
     "timestamp": 1647289329636,
     "user": {
      "displayName": "Adewole Akorede",
      "photoUrl": "https://lh3.googleusercontent.com/a-/AOh14Gg03grqCyFQgax4UoMPg_gPqiuE8Jeq4oiFSV2x=s64",
      "userId": "08678817209531841234"
     },
     "user_tz": -60
    },
    "id": "9L5LhBMf3ix2",
    "outputId": "ff49aaf3-db09-4297-fd4c-b88ffec07f69"
   },
   "outputs": [
    {
     "data": {
      "text/html": [
       "<div>\n",
       "<style scoped>\n",
       "    .dataframe tbody tr th:only-of-type {\n",
       "        vertical-align: middle;\n",
       "    }\n",
       "\n",
       "    .dataframe tbody tr th {\n",
       "        vertical-align: top;\n",
       "    }\n",
       "\n",
       "    .dataframe thead th {\n",
       "        text-align: right;\n",
       "    }\n",
       "</style>\n",
       "<table border=\"1\" class=\"dataframe\">\n",
       "  <thead>\n",
       "    <tr style=\"text-align: right;\">\n",
       "      <th></th>\n",
       "      <th>len</th>\n",
       "      <th>labels</th>\n",
       "    </tr>\n",
       "  </thead>\n",
       "  <tbody>\n",
       "    <tr>\n",
       "      <th>0</th>\n",
       "      <td>80</td>\n",
       "      <td>1</td>\n",
       "    </tr>\n",
       "    <tr>\n",
       "      <th>1</th>\n",
       "      <td>97</td>\n",
       "      <td>1</td>\n",
       "    </tr>\n",
       "    <tr>\n",
       "      <th>2</th>\n",
       "      <td>129</td>\n",
       "      <td>1</td>\n",
       "    </tr>\n",
       "    <tr>\n",
       "      <th>3</th>\n",
       "      <td>118</td>\n",
       "      <td>1</td>\n",
       "    </tr>\n",
       "    <tr>\n",
       "      <th>4</th>\n",
       "      <td>87</td>\n",
       "      <td>1</td>\n",
       "    </tr>\n",
       "    <tr>\n",
       "      <th>5</th>\n",
       "      <td>142</td>\n",
       "      <td>1</td>\n",
       "    </tr>\n",
       "    <tr>\n",
       "      <th>6</th>\n",
       "      <td>139</td>\n",
       "      <td>0</td>\n",
       "    </tr>\n",
       "    <tr>\n",
       "      <th>7</th>\n",
       "      <td>105</td>\n",
       "      <td>1</td>\n",
       "    </tr>\n",
       "    <tr>\n",
       "      <th>8</th>\n",
       "      <td>103</td>\n",
       "      <td>1</td>\n",
       "    </tr>\n",
       "    <tr>\n",
       "      <th>9</th>\n",
       "      <td>63</td>\n",
       "      <td>1</td>\n",
       "    </tr>\n",
       "  </tbody>\n",
       "</table>\n",
       "</div>"
      ],
      "text/plain": [
       "   len  labels\n",
       "0   80       1\n",
       "1   97       1\n",
       "2  129       1\n",
       "3  118       1\n",
       "4   87       1\n",
       "5  142       1\n",
       "6  139       0\n",
       "7  105       1\n",
       "8  103       1\n",
       "9   63       1"
      ]
     },
     "execution_count": 17,
     "metadata": {},
     "output_type": "execute_result"
    }
   ],
   "source": [
    "train_size_df = pd.DataFrame({'len': train_texts_size, 'labels': train_labels})\n",
    "train_size_df.head(10)"
   ]
  },
  {
   "cell_type": "code",
   "execution_count": 18,
   "metadata": {
    "execution": {
     "iopub.execute_input": "2022-03-21T23:41:28.856164Z",
     "iopub.status.busy": "2022-03-21T23:41:28.855887Z",
     "iopub.status.idle": "2022-03-21T23:41:29.814864Z",
     "shell.execute_reply": "2022-03-21T23:41:29.813451Z",
     "shell.execute_reply.started": "2022-03-21T23:41:28.856124Z"
    },
    "executionInfo": {
     "elapsed": 1252,
     "status": "ok",
     "timestamp": 1647289330878,
     "user": {
      "displayName": "Adewole Akorede",
      "photoUrl": "https://lh3.googleusercontent.com/a-/AOh14Gg03grqCyFQgax4UoMPg_gPqiuE8Jeq4oiFSV2x=s64",
      "userId": "08678817209531841234"
     },
     "user_tz": -60
    },
    "id": "DsPWDWSv4xd0",
    "outputId": "8ac7a1d9-dbac-4448-9b1f-9baeb8f62fae"
   },
   "outputs": [
    {
     "name": "stdout",
     "output_type": "stream",
     "text": [
      "Negative mean length: 81.50\n",
      "Positive mean length:  75.46\n",
      "Mean difference: 6.04\n"
     ]
    },
    {
     "data": {
      "text/plain": [
       "Text(0.5, 6.79999999999999, 'Label -> 0 for Negative and 1 for Positive')"
      ]
     },
     "execution_count": 18,
     "metadata": {},
     "output_type": "execute_result"
    },
    {
     "data": {
      "image/png": "[encoded data removed]",
      "text/plain": [
       "<Figure size 360x360 with 1 Axes>"
      ]
     },
     "metadata": {
      "needs_background": "light"
     },
     "output_type": "display_data"
    }
   ],
   "source": [
    "neg_mean_len = train_size_df[train_size_df['labels'] == 0]['len'].mean()\n",
    "pos_mean_len = train_size_df[train_size_df['labels'] == 1]['len'].mean()\n",
    "\n",
    "print(f'Negative mean length: {neg_mean_len:.2f}')\n",
    "print(f'Positive mean length: {pos_mean_len: .2f}')\n",
    "print(f'Mean difference: {neg_mean_len - pos_mean_len:.2f}')\n",
    "\n",
    "sns.catplot(x='labels', y='len', data=train_size_df, kind='box')\n",
    "plt.title('Review length by Sentiment')\n",
    "plt.ylabel('No. words in review')\n",
    "plt.xlabel('Label -> 0 for Negative and 1 for Positive')"
   ]
  },
  {
   "cell_type": "code",
   "execution_count": 19,
   "metadata": {
    "execution": {
     "iopub.execute_input": "2022-03-21T23:41:29.817818Z",
     "iopub.status.busy": "2022-03-21T23:41:29.817459Z",
     "iopub.status.idle": "2022-03-21T23:41:30.151417Z",
     "shell.execute_reply": "2022-03-21T23:41:30.148459Z",
     "shell.execute_reply.started": "2022-03-21T23:41:29.817788Z"
    },
    "executionInfo": {
     "elapsed": 10,
     "status": "ok",
     "timestamp": 1647289330879,
     "user": {
      "displayName": "Adewole Akorede",
      "photoUrl": "https://lh3.googleusercontent.com/a-/AOh14Gg03grqCyFQgax4UoMPg_gPqiuE8Jeq4oiFSV2x=s64",
      "userId": "08678817209531841234"
     },
     "user_tz": -60
    },
    "id": "UhCb_f2YHMh6",
    "outputId": "b74f0984-9a0e-4dbb-f0ac-b9ca9b0c3fe0"
   },
   "outputs": [
    {
     "data": {
      "text/plain": [
       "24"
      ]
     },
     "execution_count": 19,
     "metadata": {},
     "output_type": "execute_result"
    }
   ],
   "source": [
    "del train_size_df\n",
    "\n",
    "gc.collect()"
   ]
  },
  {
   "cell_type": "markdown",
   "metadata": {
    "id": "AlF9R4NA_jr-"
   },
   "source": [
    "## Tokenizing and Vectorizing"
   ]
  },
  {
   "cell_type": "code",
   "execution_count": 20,
   "metadata": {
    "execution": {
     "iopub.execute_input": "2022-03-21T23:41:44.597971Z",
     "iopub.status.busy": "2022-03-21T23:41:44.597310Z",
     "iopub.status.idle": "2022-03-21T23:41:44.604732Z",
     "shell.execute_reply": "2022-03-21T23:41:44.603813Z",
     "shell.execute_reply.started": "2022-03-21T23:41:44.597934Z"
    },
    "executionInfo": {
     "elapsed": 560,
     "status": "ok",
     "timestamp": 1647289348969,
     "user": {
      "displayName": "Adewole Akorede",
      "photoUrl": "https://lh3.googleusercontent.com/a-/AOh14Gg03grqCyFQgax4UoMPg_gPqiuE8Jeq4oiFSV2x=s64",
      "userId": "08678817209531841234"
     },
     "user_tz": -60
    },
    "id": "qphcYXRUApD6",
    "outputId": "3f323545-e723-44b8-96ca-2ff3ff393571"
   },
   "outputs": [
    {
     "data": {
      "text/plain": [
       "(3600000, 400000)"
      ]
     },
     "execution_count": 20,
     "metadata": {},
     "output_type": "execute_result"
    }
   ],
   "source": [
    "len(train_texts), len(test_texts)"
   ]
  },
  {
   "cell_type": "code",
   "execution_count": 21,
   "metadata": {
    "execution": {
     "iopub.execute_input": "2022-03-21T23:41:45.774928Z",
     "iopub.status.busy": "2022-03-21T23:41:45.774352Z",
     "iopub.status.idle": "2022-03-21T23:45:43.748955Z",
     "shell.execute_reply": "2022-03-21T23:45:43.748257Z",
     "shell.execute_reply.started": "2022-03-21T23:41:45.774890Z"
    },
    "executionInfo": {
     "elapsed": 254487,
     "status": "ok",
     "timestamp": 1647289605025,
     "user": {
      "displayName": "Adewole Akorede",
      "photoUrl": "https://lh3.googleusercontent.com/a-/AOh14Gg03grqCyFQgax4UoMPg_gPqiuE8Jeq4oiFSV2x=s64",
      "userId": "08678817209531841234"
     },
     "user_tz": -60
    },
    "id": "Wk34eYqU_mr3",
    "outputId": "95013284-9d91-4604-f87e-23a524df689b"
   },
   "outputs": [
    {
     "name": "stdout",
     "output_type": "stream",
     "text": [
      "The size of the vocabulary: 1103003\n"
     ]
    },
    {
     "data": {
      "text/plain": [
       "{'the': 1,\n",
       " 'and': 2,\n",
       " 'i': 3,\n",
       " 'a': 4,\n",
       " 'to': 5,\n",
       " 'it': 6,\n",
       " 'of': 7,\n",
       " 'this': 8,\n",
       " 'is': 9,\n",
       " 'in': 10,\n",
       " 'for': 11,\n",
       " 'that': 12,\n",
       " 'was': 13,\n",
       " 'not': 14,\n",
       " 'you': 15,\n",
       " 'but': 16,\n",
       " 'with': 17,\n",
       " 'on': 18,\n",
       " 'book': 19,\n",
       " 'have': 20,\n",
       " 'my': 21,\n",
       " 'as': 22,\n",
       " 'are': 23,\n",
       " 'one': 24,\n",
       " 'be': 25,\n",
       " 'so': 26,\n",
       " 'all': 27,\n",
       " 'if': 28,\n",
       " 'great': 29,\n",
       " 'very': 30,\n",
       " 'good': 31,\n",
       " 'like': 32,\n",
       " 'they': 33,\n",
       " 'at': 34,\n",
       " 'just': 35,\n",
       " 'from': 36,\n",
       " 'or': 37,\n",
       " 'would': 38,\n",
       " 'out': 39,\n",
       " 'about': 40,\n",
       " 'an': 41,\n",
       " 'me': 42,\n",
       " 'has': 43,\n",
       " 'what': 44,\n",
       " 'more': 45,\n",
       " 'had': 46,\n",
       " 'will': 47,\n",
       " 'read': 48,\n",
       " 'when': 49,\n",
       " \"it's\": 50,\n",
       " 'get': 51,\n",
       " 'no': 52,\n",
       " 'up': 53,\n",
       " 'by': 54,\n",
       " 'time': 55,\n",
       " 'there': 56,\n",
       " 'only': 57,\n",
       " 'your': 58,\n",
       " 'can': 59,\n",
       " 'movie': 60,\n",
       " 'he': 61,\n",
       " 'his': 62,\n",
       " \"don't\": 63,\n",
       " 'really': 64,\n",
       " 'some': 65,\n",
       " 'do': 66,\n",
       " 'well': 67,\n",
       " 'than': 68,\n",
       " 'them': 69,\n",
       " 'who': 70,\n",
       " 'much': 71,\n",
       " 'even': 72,\n",
       " 'first': 73,\n",
       " 'other': 74,\n",
       " 'we': 75,\n",
       " 'these': 76,\n",
       " 'her': 77,\n",
       " 'after': 78,\n",
       " 'love': 79,\n",
       " 'because': 80,\n",
       " 'buy': 81,\n",
       " 'too': 82,\n",
       " 'were': 83,\n",
       " 'product': 84,\n",
       " 'how': 85,\n",
       " 'best': 86,\n",
       " 'been': 87,\n",
       " 'which': 88,\n",
       " 'better': 89,\n",
       " 'use': 90,\n",
       " 'work': 91,\n",
       " 'their': 92,\n",
       " 'cd': 93,\n",
       " 'any': 94,\n",
       " 'she': 95,\n",
       " 'also': 96,\n",
       " 'am': 97,\n",
       " 'bought': 98,\n",
       " 'did': 99,\n",
       " 'could': 100,\n",
       " 'then': 101,\n",
       " 'new': 102,\n",
       " 'album': 103,\n",
       " 'story': 104,\n",
       " 'way': 105,\n",
       " 'little': 106,\n",
       " 'now': 107,\n",
       " \"i'm\": 108,\n",
       " 'does': 109,\n",
       " 'many': 110,\n",
       " 'over': 111,\n",
       " 'back': 112,\n",
       " 'money': 113,\n",
       " 'into': 114,\n",
       " 'think': 115,\n",
       " 'most': 116,\n",
       " 'music': 117,\n",
       " 'make': 118,\n",
       " 'off': 119,\n",
       " '2': 120,\n",
       " 'never': 121,\n",
       " 'its': 122,\n",
       " 'know': 123,\n",
       " 'two': 124,\n",
       " 'got': 125,\n",
       " 'still': 126,\n",
       " 'bad': 127,\n",
       " 'made': 128,\n",
       " 'see': 129,\n",
       " 'should': 130,\n",
       " 'ever': 131,\n",
       " 'want': 132,\n",
       " 'old': 133,\n",
       " 'people': 134,\n",
       " 'books': 135,\n",
       " 'find': 136,\n",
       " 'years': 137,\n",
       " \"i've\": 138,\n",
       " 'recommend': 139,\n",
       " 'quality': 140,\n",
       " 'used': 141,\n",
       " \"didn't\": 142,\n",
       " 'go': 143,\n",
       " 'game': 144,\n",
       " 'another': 145,\n",
       " 'again': 146,\n",
       " 'reading': 147,\n",
       " 'dvd': 148,\n",
       " 'same': 149,\n",
       " 'found': 150,\n",
       " 'through': 151,\n",
       " 'say': 152,\n",
       " 'life': 153,\n",
       " 'before': 154,\n",
       " 'put': 155,\n",
       " \"can't\": 156,\n",
       " 'while': 157,\n",
       " 'songs': 158,\n",
       " 'every': 159,\n",
       " 'few': 160,\n",
       " 'thing': 161,\n",
       " 'worth': 162,\n",
       " 'down': 163,\n",
       " 'thought': 164,\n",
       " 'something': 165,\n",
       " \"doesn't\": 166,\n",
       " '3': 167,\n",
       " 'easy': 168,\n",
       " 'price': 169,\n",
       " '1': 170,\n",
       " 'our': 171,\n",
       " 'long': 172,\n",
       " 'film': 173,\n",
       " 'works': 174,\n",
       " 'sound': 175,\n",
       " 'lot': 176,\n",
       " '5': 177,\n",
       " 'year': 178,\n",
       " 'must': 179,\n",
       " 'however': 180,\n",
       " 'amazon': 181,\n",
       " 'hard': 182,\n",
       " 'why': 183,\n",
       " 'give': 184,\n",
       " 'those': 185,\n",
       " 'right': 186,\n",
       " 'need': 187,\n",
       " 'going': 188,\n",
       " 'looking': 189,\n",
       " 'excellent': 190,\n",
       " 'since': 191,\n",
       " 'nice': 192,\n",
       " 'being': 193,\n",
       " 'characters': 194,\n",
       " 'waste': 195,\n",
       " 'enough': 196,\n",
       " 'set': 197,\n",
       " 'nothing': 198,\n",
       " 'real': 199,\n",
       " 'look': 200,\n",
       " 'here': 201,\n",
       " 'day': 202,\n",
       " 'where': 203,\n",
       " 'last': 204,\n",
       " 'disappointed': 205,\n",
       " 'times': 206,\n",
       " 'anyone': 207,\n",
       " 'series': 208,\n",
       " 'makes': 209,\n",
       " 'take': 210,\n",
       " 'different': 211,\n",
       " 'own': 212,\n",
       " 'without': 213,\n",
       " 'though': 214,\n",
       " 'fun': 215,\n",
       " 'such': 216,\n",
       " '4': 217,\n",
       " 'written': 218,\n",
       " 'end': 219,\n",
       " 'fan': 220,\n",
       " 'big': 221,\n",
       " 'watch': 222,\n",
       " 'far': 223,\n",
       " 'author': 224,\n",
       " 'song': 225,\n",
       " 'purchased': 226,\n",
       " 'him': 227,\n",
       " 'around': 228,\n",
       " 'both': 229,\n",
       " 'feel': 230,\n",
       " 'reviews': 231,\n",
       " 'sure': 232,\n",
       " 'pretty': 233,\n",
       " 'come': 234,\n",
       " 'us': 235,\n",
       " 'using': 236,\n",
       " 'play': 237,\n",
       " 'problem': 238,\n",
       " 'actually': 239,\n",
       " 'may': 240,\n",
       " 'away': 241,\n",
       " 'things': 242,\n",
       " 'keep': 243,\n",
       " 'always': 244,\n",
       " 'interesting': 245,\n",
       " 'bit': 246,\n",
       " 'version': 247,\n",
       " 'small': 248,\n",
       " 'each': 249,\n",
       " 'anything': 250,\n",
       " 'show': 251,\n",
       " 'try': 252,\n",
       " 'part': 253,\n",
       " 'world': 254,\n",
       " 'stars': 255,\n",
       " 'loved': 256,\n",
       " 'review': 257,\n",
       " 'wonderful': 258,\n",
       " 'seems': 259,\n",
       " 'tried': 260,\n",
       " 'item': 261,\n",
       " 'came': 262,\n",
       " 'almost': 263,\n",
       " 'poor': 264,\n",
       " 'original': 265,\n",
       " 'months': 266,\n",
       " 'quite': 267,\n",
       " 'yet': 268,\n",
       " 'said': 269,\n",
       " 'once': 270,\n",
       " 'help': 271,\n",
       " 'perfect': 272,\n",
       " 'video': 273,\n",
       " 'high': 274,\n",
       " 'done': 275,\n",
       " 'highly': 276,\n",
       " 'purchase': 277,\n",
       " 'getting': 278,\n",
       " 'less': 279,\n",
       " 'enjoy': 280,\n",
       " 'next': 281,\n",
       " 'seen': 282,\n",
       " 'second': 283,\n",
       " 'writing': 284,\n",
       " 'instead': 285,\n",
       " 'everything': 286,\n",
       " 'having': 287,\n",
       " 'boring': 288,\n",
       " 'plot': 289,\n",
       " 'information': 290,\n",
       " 'whole': 291,\n",
       " 'worst': 292,\n",
       " \"you're\": 293,\n",
       " 'wanted': 294,\n",
       " 'fine': 295,\n",
       " '10': 296,\n",
       " 'favorite': 297,\n",
       " 'several': 298,\n",
       " 'days': 299,\n",
       " 'three': 300,\n",
       " 'might': 301,\n",
       " 'believe': 302,\n",
       " 'star': 303,\n",
       " 'maybe': 304,\n",
       " \"that's\": 305,\n",
       " 'trying': 306,\n",
       " 'buying': 307,\n",
       " 'live': 308,\n",
       " 'received': 309,\n",
       " 'wrong': 310,\n",
       " 'probably': 311,\n",
       " \"isn't\": 312,\n",
       " 'movies': 313,\n",
       " 'heard': 314,\n",
       " 'worked': 315,\n",
       " 'band': 316,\n",
       " 'full': 317,\n",
       " 'box': 318,\n",
       " 'true': 319,\n",
       " 'least': 320,\n",
       " 'light': 321,\n",
       " 'able': 322,\n",
       " 'fit': 323,\n",
       " 'man': 324,\n",
       " 'until': 325,\n",
       " 'others': 326,\n",
       " \"won't\": 327,\n",
       " 'short': 328,\n",
       " \"couldn't\": 329,\n",
       " 'someone': 330,\n",
       " 'top': 331,\n",
       " 'happy': 332,\n",
       " 'job': 333,\n",
       " 'together': 334,\n",
       " 'ordered': 335,\n",
       " 'ago': 336,\n",
       " 'definitely': 337,\n",
       " 'listen': 338,\n",
       " 'order': 339,\n",
       " 'wish': 340,\n",
       " 'fact': 341,\n",
       " 'home': 342,\n",
       " 'cover': 343,\n",
       " 'point': 344,\n",
       " 'kids': 345,\n",
       " 'took': 346,\n",
       " 'character': 347,\n",
       " 'already': 348,\n",
       " 'case': 349,\n",
       " 'amazing': 350,\n",
       " 'although': 351,\n",
       " 'especially': 352,\n",
       " 'looks': 353,\n",
       " 'funny': 354,\n",
       " 'family': 355,\n",
       " 'went': 356,\n",
       " 'else': 357,\n",
       " 'stuff': 358,\n",
       " 'understand': 359,\n",
       " 'novel': 360,\n",
       " 'enjoyed': 361,\n",
       " 'piece': 362,\n",
       " 'started': 363,\n",
       " 'minutes': 364,\n",
       " 'history': 365,\n",
       " 'beautiful': 366,\n",
       " 'place': 367,\n",
       " 'let': 368,\n",
       " 'problems': 369,\n",
       " 'collection': 370,\n",
       " 'water': 371,\n",
       " 'gave': 372,\n",
       " \"wasn't\": 373,\n",
       " 'style': 374,\n",
       " 'half': 375,\n",
       " 'cheap': 376,\n",
       " 'comes': 377,\n",
       " 'gets': 378,\n",
       " 'liked': 379,\n",
       " 'pages': 380,\n",
       " 'saw': 381,\n",
       " 'line': 382,\n",
       " 'kind': 383,\n",
       " 'unit': 384,\n",
       " 'return': 385,\n",
       " 'start': 386,\n",
       " 'between': 387,\n",
       " 'left': 388,\n",
       " 'size': 389,\n",
       " 'working': 390,\n",
       " \"i'd\": 391,\n",
       " 'terrible': 392,\n",
       " 'making': 393,\n",
       " 'myself': 394,\n",
       " 'picture': 395,\n",
       " 'classic': 396,\n",
       " 'hope': 397,\n",
       " '6': 398,\n",
       " 'save': 399,\n",
       " 'awesome': 400,\n",
       " 'rather': 401,\n",
       " 'ok': 402,\n",
       " 'tell': 403,\n",
       " 'either': 404,\n",
       " 'reason': 405,\n",
       " 'overall': 406,\n",
       " 'side': 407,\n",
       " 'voice': 408,\n",
       " 'son': 409,\n",
       " 'everyone': 410,\n",
       " 'rock': 411,\n",
       " 'simply': 412,\n",
       " 'hear': 413,\n",
       " 'horrible': 414,\n",
       " 'couple': 415,\n",
       " 'etc': 416,\n",
       " 'gift': 417,\n",
       " 'tv': 418,\n",
       " 'stories': 419,\n",
       " 'please': 420,\n",
       " 'children': 421,\n",
       " 'idea': 422,\n",
       " \"you'll\": 423,\n",
       " 'christmas': 424,\n",
       " 'page': 425,\n",
       " 'takes': 426,\n",
       " 'completely': 427,\n",
       " 'plastic': 428,\n",
       " 'expected': 429,\n",
       " 'fast': 430,\n",
       " 'sounds': 431,\n",
       " 'black': 432,\n",
       " 'finally': 433,\n",
       " 'player': 434,\n",
       " 'person': 435,\n",
       " 'simple': 436,\n",
       " 'camera': 437,\n",
       " 'power': 438,\n",
       " 'phone': 439,\n",
       " 'battery': 440,\n",
       " 'mind': 441,\n",
       " 'seem': 442,\n",
       " 'absolutely': 443,\n",
       " 'watching': 444,\n",
       " 'along': 445,\n",
       " 'service': 446,\n",
       " 'daughter': 447,\n",
       " 'needed': 448,\n",
       " 'wait': 449,\n",
       " 'loves': 450,\n",
       " 'easily': 451,\n",
       " 'fans': 452,\n",
       " 'experience': 453,\n",
       " 'goes': 454,\n",
       " 'learn': 455,\n",
       " \"wouldn't\": 456,\n",
       " 'cannot': 457,\n",
       " 'playing': 458,\n",
       " 'reader': 459,\n",
       " 'difficult': 460,\n",
       " 'under': 461,\n",
       " 'young': 462,\n",
       " 'hours': 463,\n",
       " 'copy': 464,\n",
       " 'lost': 465,\n",
       " 'shows': 466,\n",
       " 'friends': 467,\n",
       " 'needs': 468,\n",
       " 'low': 469,\n",
       " 'night': 470,\n",
       " 'house': 471,\n",
       " 'hold': 472,\n",
       " 'school': 473,\n",
       " 'felt': 474,\n",
       " 'company': 475,\n",
       " 'truly': 476,\n",
       " \"i'll\": 477,\n",
       " 'rest': 478,\n",
       " 'action': 479,\n",
       " 'guess': 480,\n",
       " 'disappointing': 481,\n",
       " 'words': 482,\n",
       " 'complete': 483,\n",
       " 'past': 484,\n",
       " 'turn': 485,\n",
       " 'toy': 486,\n",
       " 'title': 487,\n",
       " 'store': 488,\n",
       " 'track': 489,\n",
       " 'thinking': 490,\n",
       " 'doing': 491,\n",
       " 'called': 492,\n",
       " 'extremely': 493,\n",
       " 'recommended': 494,\n",
       " 'ones': 495,\n",
       " 'course': 496,\n",
       " 'weeks': 497,\n",
       " 'computer': 498,\n",
       " 'free': 499,\n",
       " 'support': 500,\n",
       " 'says': 501,\n",
       " 'child': 502,\n",
       " 'during': 503,\n",
       " 'itself': 504,\n",
       " 'system': 505,\n",
       " 'given': 506,\n",
       " \"there's\": 507,\n",
       " 'name': 508,\n",
       " 'cool': 509,\n",
       " 'pay': 510,\n",
       " 'yourself': 511,\n",
       " 'write': 512,\n",
       " 'baby': 513,\n",
       " 'material': 514,\n",
       " 'month': 515,\n",
       " 'week': 516,\n",
       " 'unfortunately': 517,\n",
       " 'clear': 518,\n",
       " 'stay': 519,\n",
       " 'gives': 520,\n",
       " 'later': 521,\n",
       " 'dont': 522,\n",
       " 'parts': 523,\n",
       " 'god': 524,\n",
       " 'mr': 525,\n",
       " 'hand': 526,\n",
       " '20': 527,\n",
       " 'played': 528,\n",
       " 'care': 529,\n",
       " 'type': 530,\n",
       " 'tracks': 531,\n",
       " 'pictures': 532,\n",
       " 'yes': 533,\n",
       " 'longer': 534,\n",
       " 'season': 535,\n",
       " 'main': 536,\n",
       " 'head': 537,\n",
       " '8': 538,\n",
       " 'american': 539,\n",
       " 'totally': 540,\n",
       " 'car': 541,\n",
       " 'deal': 542,\n",
       " 'change': 543,\n",
       " 'design': 544,\n",
       " 'stop': 545,\n",
       " 'run': 546,\n",
       " 'based': 547,\n",
       " 'often': 548,\n",
       " 'sense': 549,\n",
       " 'friend': 550,\n",
       " 'within': 551,\n",
       " 'told': 552,\n",
       " 'color': 553,\n",
       " 'coffee': 554,\n",
       " 'quickly': 555,\n",
       " 'single': 556,\n",
       " 'release': 557,\n",
       " 'acting': 558,\n",
       " 'broke': 559,\n",
       " 'disc': 560,\n",
       " 'expect': 561,\n",
       " 'machine': 562,\n",
       " 'hot': 563,\n",
       " 'close': 564,\n",
       " 'cut': 565,\n",
       " 'today': 566,\n",
       " 'entire': 567,\n",
       " 'ending': 568,\n",
       " 'large': 569,\n",
       " 'hair': 570,\n",
       " 'clean': 571,\n",
       " 'listening': 572,\n",
       " 'albums': 573,\n",
       " 'slow': 574,\n",
       " 'guy': 575,\n",
       " 'special': 576,\n",
       " 'shipping': 577,\n",
       " 'available': 578,\n",
       " 'open': 579,\n",
       " 'white': 580,\n",
       " 'metal': 581,\n",
       " 'self': 582,\n",
       " 'awful': 583,\n",
       " 'seemed': 584,\n",
       " \"haven't\": 585,\n",
       " 'huge': 586,\n",
       " 'lots': 587,\n",
       " 'kept': 588,\n",
       " 'sometimes': 589,\n",
       " 'unless': 590,\n",
       " 'arrived': 591,\n",
       " 'four': 592,\n",
       " 'heart': 593,\n",
       " 'brand': 594,\n",
       " 'sorry': 595,\n",
       " 'products': 596,\n",
       " 'sent': 597,\n",
       " 'girl': 598,\n",
       " 'heavy': 599,\n",
       " 'games': 600,\n",
       " 'check': 601,\n",
       " 'interested': 602,\n",
       " 'room': 603,\n",
       " 'screen': 604,\n",
       " 'junk': 605,\n",
       " 'decided': 606,\n",
       " 'disappointment': 607,\n",
       " 'looked': 608,\n",
       " 'useful': 609,\n",
       " 'follow': 610,\n",
       " 'level': 611,\n",
       " 's': 612,\n",
       " 'replacement': 613,\n",
       " 'non': 614,\n",
       " 'inside': 615,\n",
       " '7': 616,\n",
       " 'finish': 617,\n",
       " 'dog': 618,\n",
       " 'word': 619,\n",
       " 'matter': 620,\n",
       " 'exactly': 621,\n",
       " '30': 622,\n",
       " 'customer': 623,\n",
       " 'strong': 624,\n",
       " 'cost': 625,\n",
       " 'plus': 626,\n",
       " 'glad': 627,\n",
       " 'fantastic': 628,\n",
       " 'husband': 629,\n",
       " 'edition': 630,\n",
       " 'war': 631,\n",
       " 'returned': 632,\n",
       " 'guide': 633,\n",
       " 'scenes': 634,\n",
       " 'value': 635,\n",
       " 'number': 636,\n",
       " 'software': 637,\n",
       " 'five': 638,\n",
       " 'poorly': 639,\n",
       " 'call': 640,\n",
       " 'add': 641,\n",
       " 'pop': 642,\n",
       " 'early': 643,\n",
       " 'opinion': 644,\n",
       " 'oh': 645,\n",
       " 'remember': 646,\n",
       " 'previous': 647,\n",
       " 'mine': 648,\n",
       " 'women': 649,\n",
       " 'b': 650,\n",
       " 'lyrics': 651,\n",
       " 'forward': 652,\n",
       " 'stand': 653,\n",
       " 'age': 654,\n",
       " 'bag': 655,\n",
       " 'mean': 656,\n",
       " 'expensive': 657,\n",
       " 'e': 658,\n",
       " 'thank': 659,\n",
       " 'perhaps': 660,\n",
       " 'soon': 661,\n",
       " 'helpful': 662,\n",
       " 'happened': 663,\n",
       " 'entertaining': 664,\n",
       " \"he's\": 665,\n",
       " 'pick': 666,\n",
       " 'text': 667,\n",
       " 'guys': 668,\n",
       " 'worse': 669,\n",
       " 'beginning': 670,\n",
       " 'radio': 671,\n",
       " 'spend': 672,\n",
       " 'extra': 673,\n",
       " 'important': 674,\n",
       " 'record': 675,\n",
       " 'class': 676,\n",
       " 'woman': 677,\n",
       " 'hit': 678,\n",
       " 'certainly': 679,\n",
       " 'batteries': 680,\n",
       " 'model': 681,\n",
       " 'paper': 682,\n",
       " 'hate': 683,\n",
       " 'performance': 684,\n",
       " 'dark': 685,\n",
       " 'stick': 686,\n",
       " 'taking': 687,\n",
       " 'turned': 688,\n",
       " 'become': 689,\n",
       " 'missing': 690,\n",
       " 'quick': 691,\n",
       " 'bottom': 692,\n",
       " 'food': 693,\n",
       " 'card': 694,\n",
       " 'wife': 695,\n",
       " 'guitar': 696,\n",
       " 'description': 697,\n",
       " 'sad': 698,\n",
       " 'except': 699,\n",
       " 'john': 700,\n",
       " 're': 701,\n",
       " 'thanks': 702,\n",
       " 'paid': 703,\n",
       " 'recording': 704,\n",
       " 'pieces': 705,\n",
       " 'cable': 706,\n",
       " 'agree': 707,\n",
       " 'coming': 708,\n",
       " 'usually': 709,\n",
       " 'stopped': 710,\n",
       " '15': 711,\n",
       " \"they're\": 712,\n",
       " 'decent': 713,\n",
       " 'issues': 714,\n",
       " 'basic': 715,\n",
       " 'features': 716,\n",
       " 'dead': 717,\n",
       " 'useless': 718,\n",
       " 'face': 719,\n",
       " 'boy': 720,\n",
       " 'stupid': 721,\n",
       " 'example': 722,\n",
       " 'spent': 723,\n",
       " 'supposed': 724,\n",
       " '12': 725,\n",
       " 'business': 726,\n",
       " 'art': 727,\n",
       " 'english': 728,\n",
       " 'view': 729,\n",
       " 'chapter': 730,\n",
       " 'watched': 731,\n",
       " 'knew': 732,\n",
       " 'due': 733,\n",
       " 'broken': 734,\n",
       " 'move': 735,\n",
       " 'subject': 736,\n",
       " 'seller': 737,\n",
       " 'country': 738,\n",
       " 'garbage': 739,\n",
       " 'leave': 740,\n",
       " 'annoying': 741,\n",
       " 'ideas': 742,\n",
       " 'greatest': 743,\n",
       " 'tape': 744,\n",
       " 'older': 745,\n",
       " 'language': 746,\n",
       " 'otherwise': 747,\n",
       " 'cute': 748,\n",
       " 'u': 749,\n",
       " 'volume': 750,\n",
       " 'personal': 751,\n",
       " 'tool': 752,\n",
       " 'included': 753,\n",
       " 'group': 754,\n",
       " 'anyway': 755,\n",
       " 'control': 756,\n",
       " 'gone': 757,\n",
       " 'air': 758,\n",
       " 'drive': 759,\n",
       " 'fiction': 760,\n",
       " '9': 761,\n",
       " '100': 762,\n",
       " 'interest': 763,\n",
       " 'known': 764,\n",
       " 'pleased': 765,\n",
       " 'total': 766,\n",
       " 'scene': 767,\n",
       " 'replace': 768,\n",
       " 'c': 769,\n",
       " 'print': 770,\n",
       " 'writer': 771,\n",
       " 'taste': 772,\n",
       " 'space': 773,\n",
       " 'handle': 774,\n",
       " 'hoping': 775,\n",
       " 'wants': 776,\n",
       " 'against': 777,\n",
       " 'third': 778,\n",
       " 'giving': 779,\n",
       " 'keeps': 780,\n",
       " 'future': 781,\n",
       " 'fall': 782,\n",
       " 'program': 783,\n",
       " 'films': 784,\n",
       " 'uses': 785,\n",
       " 'break': 786,\n",
       " 'issue': 787,\n",
       " 'released': 788,\n",
       " 'twice': 789,\n",
       " 'weight': 790,\n",
       " 'feeling': 791,\n",
       " 'hour': 792,\n",
       " 'comfortable': 793,\n",
       " '50': 794,\n",
       " 'behind': 795,\n",
       " 'instructions': 796,\n",
       " 'major': 797,\n",
       " 'waiting': 798,\n",
       " 'solid': 799,\n",
       " 'hands': 800,\n",
       " 'taken': 801,\n",
       " 'super': 802,\n",
       " 'apart': 803,\n",
       " 'send': 804,\n",
       " 'men': 805,\n",
       " 'death': 806,\n",
       " 'enjoyable': 807,\n",
       " 'weak': 808,\n",
       " 'loud': 809,\n",
       " 'recently': 810,\n",
       " 'serious': 811,\n",
       " 'advice': 812,\n",
       " 'okay': 813,\n",
       " 'list': 814,\n",
       " 'seeing': 815,\n",
       " 'middle': 816,\n",
       " 'library': 817,\n",
       " 'avoid': 818,\n",
       " 'body': 819,\n",
       " 'audio': 820,\n",
       " 'authors': 821,\n",
       " 'wonder': 822,\n",
       " 'none': 823,\n",
       " 'online': 824,\n",
       " 'humor': 825,\n",
       " 'd': 826,\n",
       " 'attention': 827,\n",
       " 'de': 828,\n",
       " 'local': 829,\n",
       " 'similar': 830,\n",
       " 'wow': 831,\n",
       " 'lives': 832,\n",
       " 'red': 833,\n",
       " 'mother': 834,\n",
       " 'saying': 835,\n",
       " 'alone': 836,\n",
       " 'beware': 837,\n",
       " 'package': 838,\n",
       " 'including': 839,\n",
       " \"aren't\": 840,\n",
       " 'running': 841,\n",
       " 'front': 842,\n",
       " 'surprised': 843,\n",
       " 'effort': 844,\n",
       " 'blue': 845,\n",
       " 'ended': 846,\n",
       " 'perfectly': 847,\n",
       " 'figure': 848,\n",
       " 'research': 849,\n",
       " 'suggest': 850,\n",
       " 'finished': 851,\n",
       " 'crap': 852,\n",
       " 'condition': 853,\n",
       " 'com': 854,\n",
       " 'production': 855,\n",
       " 'amount': 856,\n",
       " 'reference': 857,\n",
       " 'learning': 858,\n",
       " 'human': 859,\n",
       " 'reviewers': 860,\n",
       " 'content': 861,\n",
       " 'step': 862,\n",
       " 'rate': 863,\n",
       " 'lack': 864,\n",
       " 'wrote': 865,\n",
       " 'device': 866,\n",
       " 'happen': 867,\n",
       " 'actual': 868,\n",
       " 'bother': 869,\n",
       " 'wear': 870,\n",
       " 'clearly': 871,\n",
       " 'beyond': 872,\n",
       " 'cast': 873,\n",
       " 'throughout': 874,\n",
       " 'himself': 875,\n",
       " 'excited': 876,\n",
       " 'date': 877,\n",
       " 'modern': 878,\n",
       " 'chance': 879,\n",
       " 'mystery': 880,\n",
       " 'expecting': 881,\n",
       " 'charge': 882,\n",
       " 'deep': 883,\n",
       " 'living': 884,\n",
       " 'readers': 885,\n",
       " 'dry': 886,\n",
       " 'ray': 887,\n",
       " 'area': 888,\n",
       " 'alot': 889,\n",
       " 't': 890,\n",
       " 'choice': 891,\n",
       " 'addition': 892,\n",
       " 'beat': 893,\n",
       " 'impressed': 894,\n",
       " 'means': 895,\n",
       " 'noise': 896,\n",
       " 'detail': 897,\n",
       " 'changed': 898,\n",
       " 'moving': 899,\n",
       " 'r': 900,\n",
       " 'possible': 901,\n",
       " 'bible': 902,\n",
       " 'ms': 903,\n",
       " 'mostly': 904,\n",
       " 'eyes': 905,\n",
       " 'talent': 906,\n",
       " 'basically': 907,\n",
       " 'across': 908,\n",
       " 'fell': 909,\n",
       " 'questions': 910,\n",
       " 'obviously': 911,\n",
       " 'mix': 912,\n",
       " 'knows': 913,\n",
       " 'sex': 914,\n",
       " 'rating': 915,\n",
       " 'sort': 916,\n",
       " 'trash': 917,\n",
       " 'digital': 918,\n",
       " 'parents': 919,\n",
       " 'trouble': 920,\n",
       " 'singing': 921,\n",
       " 'setting': 922,\n",
       " 'straight': 923,\n",
       " 'miss': 924,\n",
       " 'romance': 925,\n",
       " 'musical': 926,\n",
       " 'nearly': 927,\n",
       " 'horror': 928,\n",
       " 'themselves': 929,\n",
       " 'flat': 930,\n",
       " 'standard': 931,\n",
       " 'unique': 932,\n",
       " 'refund': 933,\n",
       " 'talk': 934,\n",
       " 'dance': 935,\n",
       " 'graphics': 936,\n",
       " 'message': 937,\n",
       " 'bring': 938,\n",
       " 'soft': 939,\n",
       " 'thin': 940,\n",
       " 'regular': 941,\n",
       " 'feature': 942,\n",
       " 'actors': 943,\n",
       " 'kid': 944,\n",
       " 'general': 945,\n",
       " 'effects': 946,\n",
       " 'pain': 947,\n",
       " 'shame': 948,\n",
       " 'girls': 949,\n",
       " 'talking': 950,\n",
       " 'details': 951,\n",
       " 'late': 952,\n",
       " 'seat': 953,\n",
       " 'kindle': 954,\n",
       " 'somewhat': 955,\n",
       " 'recipes': 956,\n",
       " 'difference': 957,\n",
       " 'stuck': 958,\n",
       " 'present': 959,\n",
       " 'truth': 960,\n",
       " 'plan': 961,\n",
       " 'immediately': 962,\n",
       " 'install': 963,\n",
       " \"you've\": 964,\n",
       " 'science': 965,\n",
       " 'learned': 966,\n",
       " 'purchasing': 967,\n",
       " 'historical': 968,\n",
       " 'incredible': 969,\n",
       " 'period': 970,\n",
       " 'form': 971,\n",
       " 'putting': 972,\n",
       " 'impossible': 973,\n",
       " 'forget': 974,\n",
       " 'note': 975,\n",
       " 'depth': 976,\n",
       " \"she's\": 977,\n",
       " 'fits': 978,\n",
       " 'picked': 979,\n",
       " 'covers': 980,\n",
       " 'compared': 981,\n",
       " 'plays': 982,\n",
       " 'powerful': 983,\n",
       " 'upon': 984,\n",
       " 'touch': 985,\n",
       " 'background': 986,\n",
       " 'sweet': 987,\n",
       " 'examples': 988,\n",
       " 'warranty': 989,\n",
       " 'feels': 990,\n",
       " 'windows': 991,\n",
       " 'workout': 992,\n",
       " 'bands': 993,\n",
       " 'test': 994,\n",
       " 'range': 995,\n",
       " 'chapters': 996,\n",
       " 'seriously': 997,\n",
       " 'feet': 998,\n",
       " 'contains': 999,\n",
       " 'christian': 1000,\n",
       " ...}"
      ]
     },
     "execution_count": 21,
     "metadata": {},
     "output_type": "execute_result"
    }
   ],
   "source": [
    "from tensorflow.keras.preprocessing.text import Tokenizer\n",
    "from tensorflow.keras.preprocessing.sequence import pad_sequences\n",
    "\n",
    "num_words = 70000 # number of words from the train_text to tokenize by frequency\n",
    "tokenizer = Tokenizer(num_words = num_words)\n",
    "tokenizer.fit_on_texts(train_texts)\n",
    "\n",
    "# let's see the dictionary of words tokenized\n",
    "\n",
    "word_index = tokenizer.word_index\n",
    "print(f'The size of the vocabulary: {len(word_index)}')\n",
    "word_index"
   ]
  },
  {
   "cell_type": "code",
   "execution_count": 22,
   "metadata": {
    "execution": {
     "iopub.execute_input": "2022-03-21T23:45:43.751050Z",
     "iopub.status.busy": "2022-03-21T23:45:43.750773Z",
     "iopub.status.idle": "2022-03-21T23:45:45.268002Z",
     "shell.execute_reply": "2022-03-21T23:45:45.267247Z",
     "shell.execute_reply.started": "2022-03-21T23:45:43.751014Z"
    },
    "id": "P9_WrLG5TiWd"
   },
   "outputs": [],
   "source": [
    "# let's save the tokenizer for future use\n",
    "\n",
    "import pickle\n",
    "\n",
    "# saving\n",
    "with open('tokenizer.pickle', 'wb') as handle:\n",
    "    pickle.dump(tokenizer, handle, protocol=pickle.HIGHEST_PROTOCOL)\n",
    "\n",
    "# loading\n",
    "#with open('tokenizer.pickle', 'rb') as handle:\n",
    "   # tokenizer = pickle.load(handle)"
   ]
  },
  {
   "cell_type": "code",
   "execution_count": 23,
   "metadata": {
    "execution": {
     "iopub.execute_input": "2022-03-21T23:45:45.269773Z",
     "iopub.status.busy": "2022-03-21T23:45:45.269513Z",
     "iopub.status.idle": "2022-03-21T23:49:35.906480Z",
     "shell.execute_reply": "2022-03-21T23:49:35.905606Z",
     "shell.execute_reply.started": "2022-03-21T23:45:45.269738Z"
    },
    "executionInfo": {
     "elapsed": 227238,
     "status": "ok",
     "timestamp": 1647289918247,
     "user": {
      "displayName": "Adewole Akorede",
      "photoUrl": "https://lh3.googleusercontent.com/a-/AOh14Gg03grqCyFQgax4UoMPg_gPqiuE8Jeq4oiFSV2x=s64",
      "userId": "08678817209531841234"
     },
     "user_tz": -60
    },
    "id": "Sbi7roFXBD8P",
    "outputId": "b189f035-0165-47a6-921e-fd2e9d773dfa"
   },
   "outputs": [
    {
     "name": "stdout",
     "output_type": "stream",
     "text": [
      "3600000\n"
     ]
    }
   ],
   "source": [
    "sequences = tokenizer.texts_to_sequences(train_texts)\n",
    "print(len(sequences))\n",
    "\n",
    "# pad sequences to the same shape\n",
    "maxlen = 100\n",
    "sequences = pad_sequences(sequences, maxlen=maxlen)"
   ]
  },
  {
   "cell_type": "code",
   "execution_count": 24,
   "metadata": {
    "execution": {
     "iopub.execute_input": "2022-03-21T23:49:35.909507Z",
     "iopub.status.busy": "2022-03-21T23:49:35.909189Z",
     "iopub.status.idle": "2022-03-21T23:49:35.918997Z",
     "shell.execute_reply": "2022-03-21T23:49:35.918085Z",
     "shell.execute_reply.started": "2022-03-21T23:49:35.909465Z"
    },
    "executionInfo": {
     "elapsed": 28,
     "status": "ok",
     "timestamp": 1647289918253,
     "user": {
      "displayName": "Adewole Akorede",
      "photoUrl": "https://lh3.googleusercontent.com/a-/AOh14Gg03grqCyFQgax4UoMPg_gPqiuE8Jeq4oiFSV2x=s64",
      "userId": "08678817209531841234"
     },
     "user_tz": -60
    },
    "id": "du58vS5CDdas",
    "outputId": "c24c53cd-81e2-4a50-c823-ca18cccbc206"
   },
   "outputs": [
    {
     "data": {
      "text/plain": [
       "(100,)"
      ]
     },
     "execution_count": 24,
     "metadata": {},
     "output_type": "execute_result"
    }
   ],
   "source": [
    "sequences[0].shape"
   ]
  },
  {
   "cell_type": "code",
   "execution_count": 25,
   "metadata": {
    "execution": {
     "iopub.execute_input": "2022-03-21T23:49:35.920921Z",
     "iopub.status.busy": "2022-03-21T23:49:35.920303Z",
     "iopub.status.idle": "2022-03-21T23:49:35.927091Z",
     "shell.execute_reply": "2022-03-21T23:49:35.926304Z",
     "shell.execute_reply.started": "2022-03-21T23:49:35.920870Z"
    },
    "executionInfo": {
     "elapsed": 19,
     "status": "ok",
     "timestamp": 1647289918254,
     "user": {
      "displayName": "Adewole Akorede",
      "photoUrl": "https://lh3.googleusercontent.com/a-/AOh14Gg03grqCyFQgax4UoMPg_gPqiuE8Jeq4oiFSV2x=s64",
      "userId": "08678817209531841234"
     },
     "user_tz": -60
    },
    "id": "1TtW6-JPEeDY",
    "outputId": "da8376f2-db67-46ee-a654-d887181fa79e"
   },
   "outputs": [
    {
     "data": {
      "text/plain": [
       "'Stuning even for the non-gamer: This sound track was beautiful! It paints the senery in your mind so well I would recomend it even to people who hate vid. game music! I have played the game Chrono Cross but out of all of the games I have ever played it has the best music! It backs away from crude keyboarding and takes a fresher step with grate guitars and soulful orchestras. It would impress anyone who cares to listen! ^_^'"
      ]
     },
     "execution_count": 25,
     "metadata": {},
     "output_type": "execute_result"
    }
   ],
   "source": [
    "train_texts[0]"
   ]
  },
  {
   "cell_type": "code",
   "execution_count": 26,
   "metadata": {
    "execution": {
     "iopub.execute_input": "2022-03-21T23:49:35.929273Z",
     "iopub.status.busy": "2022-03-21T23:49:35.928765Z",
     "iopub.status.idle": "2022-03-21T23:49:35.936126Z",
     "shell.execute_reply": "2022-03-21T23:49:35.935330Z",
     "shell.execute_reply.started": "2022-03-21T23:49:35.929231Z"
    },
    "executionInfo": {
     "elapsed": 20,
     "status": "ok",
     "timestamp": 1647289918256,
     "user": {
      "displayName": "Adewole Akorede",
      "photoUrl": "https://lh3.googleusercontent.com/a-/AOh14Gg03grqCyFQgax4UoMPg_gPqiuE8Jeq4oiFSV2x=s64",
      "userId": "08678817209531841234"
     },
     "user_tz": -60
    },
    "id": "OqbNmOxpKD1Z",
    "outputId": "8e3c3dc8-853c-41d9-8f19-d925b5ef97d7"
   },
   "outputs": [
    {
     "data": {
      "text/plain": [
       "3600000"
      ]
     },
     "execution_count": 26,
     "metadata": {},
     "output_type": "execute_result"
    }
   ],
   "source": [
    "len(train_labels)"
   ]
  },
  {
   "cell_type": "code",
   "execution_count": 27,
   "metadata": {
    "execution": {
     "iopub.execute_input": "2022-03-21T23:49:35.938284Z",
     "iopub.status.busy": "2022-03-21T23:49:35.937789Z",
     "iopub.status.idle": "2022-03-21T23:49:36.366068Z",
     "shell.execute_reply": "2022-03-21T23:49:36.365063Z",
     "shell.execute_reply.started": "2022-03-21T23:49:35.938241Z"
    },
    "id": "xtcwk8vfE7sb"
   },
   "outputs": [],
   "source": [
    "# let's convert to numpy array\n",
    "import numpy as np\n",
    "\n",
    "labels = np.array(train_labels)"
   ]
  },
  {
   "cell_type": "code",
   "execution_count": 28,
   "metadata": {
    "execution": {
     "iopub.execute_input": "2022-03-21T23:49:36.370001Z",
     "iopub.status.busy": "2022-03-21T23:49:36.369777Z",
     "iopub.status.idle": "2022-03-21T23:49:37.153024Z",
     "shell.execute_reply": "2022-03-21T23:49:37.152290Z",
     "shell.execute_reply.started": "2022-03-21T23:49:36.369975Z"
    },
    "id": "hYFu2VerFN8_"
   },
   "outputs": [],
   "source": [
    "# let's reduce the dataset size...\n",
    "# train_texts should be 400,000 and test_text should be 20,000\n",
    "\n",
    "# first we shuffle numbers from & 400000\n",
    "\n",
    "indices = np.arange(len(train_texts))\n",
    "np.random.shuffle(indices)\n",
    "train_data = sequences[indices]\n",
    "train_labels = labels[indices]"
   ]
  },
  {
   "cell_type": "code",
   "execution_count": 29,
   "metadata": {
    "execution": {
     "iopub.execute_input": "2022-03-21T23:49:37.154523Z",
     "iopub.status.busy": "2022-03-21T23:49:37.154256Z",
     "iopub.status.idle": "2022-03-21T23:49:37.160296Z",
     "shell.execute_reply": "2022-03-21T23:49:37.159457Z",
     "shell.execute_reply.started": "2022-03-21T23:49:37.154489Z"
    },
    "id": "FDRzbCUFfw3-"
   },
   "outputs": [],
   "source": [
    "train_size = 400000\n",
    "train_data = train_data[:train_size]\n",
    "train_labels = train_labels[:train_size]"
   ]
  },
  {
   "cell_type": "code",
   "execution_count": 30,
   "metadata": {
    "execution": {
     "iopub.execute_input": "2022-03-21T23:49:37.163475Z",
     "iopub.status.busy": "2022-03-21T23:49:37.162918Z",
     "iopub.status.idle": "2022-03-21T23:49:37.376029Z",
     "shell.execute_reply": "2022-03-21T23:49:37.375280Z",
     "shell.execute_reply.started": "2022-03-21T23:49:37.163441Z"
    },
    "id": "z6Y9oxwVKj7b"
   },
   "outputs": [],
   "source": [
    "# let's split the dataset\n",
    "from sklearn.model_selection import train_test_split\n",
    "\n",
    "X_train, X_valid, y_train, y_valid = train_test_split(train_data, train_labels, random_state=42, test_size=0.2)"
   ]
  },
  {
   "cell_type": "code",
   "execution_count": 31,
   "metadata": {
    "execution": {
     "iopub.execute_input": "2022-03-21T23:49:43.422392Z",
     "iopub.status.busy": "2022-03-21T23:49:43.422140Z",
     "iopub.status.idle": "2022-03-21T23:49:43.428460Z",
     "shell.execute_reply": "2022-03-21T23:49:43.426985Z",
     "shell.execute_reply.started": "2022-03-21T23:49:43.422362Z"
    },
    "executionInfo": {
     "elapsed": 23,
     "status": "ok",
     "timestamp": 1647289923701,
     "user": {
      "displayName": "Adewole Akorede",
      "photoUrl": "https://lh3.googleusercontent.com/a-/AOh14Gg03grqCyFQgax4UoMPg_gPqiuE8Jeq4oiFSV2x=s64",
      "userId": "08678817209531841234"
     },
     "user_tz": -60
    },
    "id": "Zh2TelnULP4J",
    "outputId": "56768c77-2780-4fbf-abb7-11135e790c33"
   },
   "outputs": [
    {
     "data": {
      "text/plain": [
       "(320000, 80000)"
      ]
     },
     "execution_count": 31,
     "metadata": {},
     "output_type": "execute_result"
    }
   ],
   "source": [
    "len(X_train), len(X_valid)"
   ]
  },
  {
   "cell_type": "code",
   "execution_count": 32,
   "metadata": {
    "execution": {
     "iopub.execute_input": "2022-03-21T23:49:44.130521Z",
     "iopub.status.busy": "2022-03-21T23:49:44.130071Z",
     "iopub.status.idle": "2022-03-21T23:49:44.136516Z",
     "shell.execute_reply": "2022-03-21T23:49:44.134733Z",
     "shell.execute_reply.started": "2022-03-21T23:49:44.130484Z"
    },
    "executionInfo": {
     "elapsed": 24,
     "status": "ok",
     "timestamp": 1647289923703,
     "user": {
      "displayName": "Adewole Akorede",
      "photoUrl": "https://lh3.googleusercontent.com/a-/AOh14Gg03grqCyFQgax4UoMPg_gPqiuE8Jeq4oiFSV2x=s64",
      "userId": "08678817209531841234"
     },
     "user_tz": -60
    },
    "id": "VjLDuJVQLgDy",
    "outputId": "1c6d8d98-a032-4f2c-a83f-d1d827fd0df4"
   },
   "outputs": [
    {
     "data": {
      "text/plain": [
       "(320000, 100)"
      ]
     },
     "execution_count": 32,
     "metadata": {},
     "output_type": "execute_result"
    }
   ],
   "source": [
    "X_train.shape"
   ]
  },
  {
   "cell_type": "code",
   "execution_count": 33,
   "metadata": {
    "execution": {
     "iopub.execute_input": "2022-03-21T23:49:44.842813Z",
     "iopub.status.busy": "2022-03-21T23:49:44.842286Z",
     "iopub.status.idle": "2022-03-21T23:49:44.849376Z",
     "shell.execute_reply": "2022-03-21T23:49:44.848465Z",
     "shell.execute_reply.started": "2022-03-21T23:49:44.842774Z"
    },
    "executionInfo": {
     "elapsed": 22,
     "status": "ok",
     "timestamp": 1647289923704,
     "user": {
      "displayName": "Adewole Akorede",
      "photoUrl": "https://lh3.googleusercontent.com/a-/AOh14Gg03grqCyFQgax4UoMPg_gPqiuE8Jeq4oiFSV2x=s64",
      "userId": "08678817209531841234"
     },
     "user_tz": -60
    },
    "id": "tPDRgDzILU6J",
    "outputId": "c2573876-bbc5-4501-f6cb-64f79a12635b"
   },
   "outputs": [
    {
     "data": {
      "text/plain": [
       "['even for the non gamer this sound track was beautiful it paints the in your mind so well i would recomend it even to people who hate vid game music i have played the game chrono cross but out of all of the games i have ever played it has the best music it backs away from crude keyboarding and takes a fresher step with grate guitars and soulful orchestras it would impress anyone who cares to listen',\n",
       " \"the best soundtrack ever to anything i'm reading a lot of reviews saying that this is the best and i figured that i'd write a review to disagree a bit this in my is ultimate masterpiece the music is timeless and i'm been listening to it for years now and its beauty simply refuses to fade the price tag on this is pretty staggering i must say but if you are going to buy any cd for this much money this is the only one that i feel would be worth every penny\",\n",
       " \"the game and the hope in a distant promise and girl who stole the star have been an important inspiration to me personally throughout my teen years the higher energy tracks like chrono cross time's scar time of the and remeniscent of chrono trigger are all absolutely superb as well this soundtrack is amazing music probably the best of this composer's work i haven't heard the xenogears soundtrack so i can't say for sure and even if you've never played the game it would be worth twice the price to buy it i wish i could give it 6 stars\"]"
      ]
     },
     "execution_count": 33,
     "metadata": {},
     "output_type": "execute_result"
    }
   ],
   "source": [
    "# sanity check\n",
    "\n",
    "sanity_text = tokenizer.sequences_to_texts(sequences[:3])\n",
    "sanity_text"
   ]
  },
  {
   "cell_type": "code",
   "execution_count": 34,
   "metadata": {
    "execution": {
     "iopub.execute_input": "2022-03-21T23:49:45.614841Z",
     "iopub.status.busy": "2022-03-21T23:49:45.614262Z",
     "iopub.status.idle": "2022-03-21T23:49:45.620943Z",
     "shell.execute_reply": "2022-03-21T23:49:45.620172Z",
     "shell.execute_reply.started": "2022-03-21T23:49:45.614795Z"
    },
    "executionInfo": {
     "elapsed": 20,
     "status": "ok",
     "timestamp": 1647289923705,
     "user": {
      "displayName": "Adewole Akorede",
      "photoUrl": "https://lh3.googleusercontent.com/a-/AOh14Gg03grqCyFQgax4UoMPg_gPqiuE8Jeq4oiFSV2x=s64",
      "userId": "08678817209531841234"
     },
     "user_tz": -60
    },
    "id": "rxZp3FElLxzZ",
    "outputId": "1c5eb87f-9af2-413c-e738-bd75831ef47b"
   },
   "outputs": [
    {
     "data": {
      "text/plain": [
       "['Stuning even for the non-gamer: This sound track was beautiful! It paints the senery in your mind so well I would recomend it even to people who hate vid. game music! I have played the game Chrono Cross but out of all of the games I have ever played it has the best music! It backs away from crude keyboarding and takes a fresher step with grate guitars and soulful orchestras. It would impress anyone who cares to listen! ^_^',\n",
       " \"The best soundtrack ever to anything.: I'm reading a lot of reviews saying that this is the best 'game soundtrack' and I figured that I'd write a review to disagree a bit. This in my opinino is Yasunori Mitsuda's ultimate masterpiece. The music is timeless and I'm been listening to it for years now and its beauty simply refuses to fade.The price tag on this is pretty staggering I must say, but if you are going to buy any cd for this much money, this is the only one that I feel would be worth every penny.\",\n",
       " 'Amazing!: This soundtrack is my favorite music of all time, hands down. The intense sadness of \"Prisoners of Fate\" (which means all the more if you\\'ve played the game) and the hope in \"A Distant Promise\" and \"Girl who Stole the Star\" have been an important inspiration to me personally throughout my teen years. The higher energy tracks like \"Chrono Cross ~ Time\\'s Scar~\", \"Time of the Dreamwatch\", and \"Chronomantique\" (indefinably remeniscent of Chrono Trigger) are all absolutely superb as well.This soundtrack is amazing music, probably the best of this composer\\'s work (I haven\\'t heard the Xenogears soundtrack, so I can\\'t say for sure), and even if you\\'ve never played the game, it would be worth twice the price to buy it.I wish I could give it 6 stars.']"
      ]
     },
     "execution_count": 34,
     "metadata": {},
     "output_type": "execute_result"
    }
   ],
   "source": [
    "train_texts[:3]"
   ]
  },
  {
   "cell_type": "code",
   "execution_count": 35,
   "metadata": {
    "execution": {
     "iopub.execute_input": "2022-03-21T23:49:46.274661Z",
     "iopub.status.busy": "2022-03-21T23:49:46.274146Z",
     "iopub.status.idle": "2022-03-21T23:49:46.280594Z",
     "shell.execute_reply": "2022-03-21T23:49:46.279899Z",
     "shell.execute_reply.started": "2022-03-21T23:49:46.274621Z"
    },
    "executionInfo": {
     "elapsed": 18,
     "status": "ok",
     "timestamp": 1647289923706,
     "user": {
      "displayName": "Adewole Akorede",
      "photoUrl": "https://lh3.googleusercontent.com/a-/AOh14Gg03grqCyFQgax4UoMPg_gPqiuE8Jeq4oiFSV2x=s64",
      "userId": "08678817209531841234"
     },
     "user_tz": -60
    },
    "id": "Goka8by-gaD9",
    "outputId": "62aed1c6-e50e-45f5-fccb-8144eaf4e986"
   },
   "outputs": [
    {
     "data": {
      "text/plain": [
       "['to syndicate i own a number of consoles and a pc and of course the genesis is one of them i enjoy playing outdated games super smash tv outlander predator 2 among others and syndicate is one of them it is a classic sure all too many people will gripe about slowdown memory etc but this is by far one of the most original games ever you play as a terrorist faction attempting to overtake a large corporation with an equally large on several intresting missions could have used a 2 player mode but otherwise this is a solid title',\n",
       " 'soul searching soulfull blues this cd is one of the best releases that i have heard in a couple of years',\n",
       " 'bollywood in also works its a great movie with beautiful sound effects i that ar has done beautiful job by bringing out out of mumbai its a story about common man thinking to become a movie star its fun watch it guyz']"
      ]
     },
     "execution_count": 35,
     "metadata": {},
     "output_type": "execute_result"
    }
   ],
   "source": [
    "sanity_text = tokenizer.sequences_to_texts(X_train[:3])\n",
    "sanity_text"
   ]
  },
  {
   "cell_type": "markdown",
   "metadata": {
    "id": "-UezP-Bhz0cE"
   },
   "source": [
    "All works and we can see most of the texts from each review is kept"
   ]
  },
  {
   "cell_type": "code",
   "execution_count": 36,
   "metadata": {
    "execution": {
     "iopub.execute_input": "2022-03-21T23:49:47.507840Z",
     "iopub.status.busy": "2022-03-21T23:49:47.507037Z",
     "iopub.status.idle": "2022-03-21T23:49:47.720498Z",
     "shell.execute_reply": "2022-03-21T23:49:47.719807Z",
     "shell.execute_reply.started": "2022-03-21T23:49:47.507792Z"
    },
    "executionInfo": {
     "elapsed": 16,
     "status": "ok",
     "timestamp": 1647289923707,
     "user": {
      "displayName": "Adewole Akorede",
      "photoUrl": "https://lh3.googleusercontent.com/a-/AOh14Gg03grqCyFQgax4UoMPg_gPqiuE8Jeq4oiFSV2x=s64",
      "userId": "08678817209531841234"
     },
     "user_tz": -60
    },
    "id": "BAeinG2BgrlD",
    "outputId": "36630606-2046-4e49-b776-dd34bd387a9c"
   },
   "outputs": [
    {
     "name": "stderr",
     "output_type": "stream",
     "text": [
      "/opt/conda/lib/python3.7/site-packages/seaborn/_decorators.py:43: FutureWarning: Pass the following variable as a keyword arg: x. From version 0.12, the only valid positional argument will be `data`, and passing other arguments without an explicit keyword will result in an error or misinterpretation.\n",
      "  FutureWarning\n"
     ]
    },
    {
     "data": {
      "text/plain": [
       "Text(0.5, 1.0, 'Test Labels Distribution')"
      ]
     },
     "execution_count": 36,
     "metadata": {},
     "output_type": "execute_result"
    },
    {
     "data": {
      "image/png": "[encoded data removed]",
      "text/plain": [
       "<Figure size 432x288 with 1 Axes>"
      ]
     },
     "metadata": {
      "needs_background": "light"
     },
     "output_type": "display_data"
    }
   ],
   "source": [
    "sns.countplot(train_labels)\n",
    "plt.title('Test Labels Distribution')"
   ]
  },
  {
   "cell_type": "code",
   "execution_count": 37,
   "metadata": {
    "execution": {
     "iopub.execute_input": "2022-03-21T23:49:48.145362Z",
     "iopub.status.busy": "2022-03-21T23:49:48.144906Z",
     "iopub.status.idle": "2022-03-21T23:49:48.829003Z",
     "shell.execute_reply": "2022-03-21T23:49:48.828254Z",
     "shell.execute_reply.started": "2022-03-21T23:49:48.145326Z"
    },
    "executionInfo": {
     "elapsed": 489,
     "status": "ok",
     "timestamp": 1647289925402,
     "user": {
      "displayName": "Adewole Akorede",
      "photoUrl": "https://lh3.googleusercontent.com/a-/AOh14Gg03grqCyFQgax4UoMPg_gPqiuE8Jeq4oiFSV2x=s64",
      "userId": "08678817209531841234"
     },
     "user_tz": -60
    },
    "id": "MXN-c5JWLmjI",
    "outputId": "c8382fdc-c3f8-43a3-e0de-9e259fe1ba25"
   },
   "outputs": [
    {
     "data": {
      "text/plain": [
       "24"
      ]
     },
     "execution_count": 37,
     "metadata": {},
     "output_type": "execute_result"
    }
   ],
   "source": [
    "del sequences, train_texts, train_data\n",
    "\n",
    "gc.collect()"
   ]
  },
  {
   "cell_type": "markdown",
   "metadata": {
    "id": "rr7dd_1H0hj2"
   },
   "source": [
    "### Preprocessing the Test set"
   ]
  },
  {
   "cell_type": "code",
   "execution_count": 38,
   "metadata": {
    "execution": {
     "iopub.execute_input": "2022-03-21T23:49:50.573509Z",
     "iopub.status.busy": "2022-03-21T23:49:50.572800Z",
     "iopub.status.idle": "2022-03-21T23:49:50.580555Z",
     "shell.execute_reply": "2022-03-21T23:49:50.579616Z",
     "shell.execute_reply.started": "2022-03-21T23:49:50.573470Z"
    },
    "executionInfo": {
     "elapsed": 7,
     "status": "ok",
     "timestamp": 1647289925403,
     "user": {
      "displayName": "Adewole Akorede",
      "photoUrl": "https://lh3.googleusercontent.com/a-/AOh14Gg03grqCyFQgax4UoMPg_gPqiuE8Jeq4oiFSV2x=s64",
      "userId": "08678817209531841234"
     },
     "user_tz": -60
    },
    "id": "D_zxfBMB067p",
    "outputId": "4efac883-2ccd-44ce-a6b2-8c64d1a254bf"
   },
   "outputs": [
    {
     "data": {
      "text/plain": [
       "400000"
      ]
     },
     "execution_count": 38,
     "metadata": {},
     "output_type": "execute_result"
    }
   ],
   "source": [
    "len(test_texts)"
   ]
  },
  {
   "cell_type": "code",
   "execution_count": 39,
   "metadata": {
    "execution": {
     "iopub.execute_input": "2022-03-21T23:49:51.446901Z",
     "iopub.status.busy": "2022-03-21T23:49:51.446428Z",
     "iopub.status.idle": "2022-03-21T23:50:17.309587Z",
     "shell.execute_reply": "2022-03-21T23:50:17.308832Z",
     "shell.execute_reply.started": "2022-03-21T23:49:51.446866Z"
    },
    "id": "_5TcWFZF0aN1"
   },
   "outputs": [],
   "source": [
    "# convert test_labels to numpy arrays\n",
    "test_labels = np.array(test_labels)\n",
    "\n",
    "# vectorize the test set\n",
    "test = tokenizer.texts_to_sequences(test_texts)\n",
    "\n",
    "# pad the sequence \n",
    "test = pad_sequences(test, maxlen=maxlen)"
   ]
  },
  {
   "cell_type": "code",
   "execution_count": 40,
   "metadata": {
    "execution": {
     "iopub.execute_input": "2022-03-21T23:50:17.314580Z",
     "iopub.status.busy": "2022-03-21T23:50:17.314161Z",
     "iopub.status.idle": "2022-03-21T23:50:17.397067Z",
     "shell.execute_reply": "2022-03-21T23:50:17.396334Z",
     "shell.execute_reply.started": "2022-03-21T23:50:17.314541Z"
    },
    "id": "NMRESOCMhMqU"
   },
   "outputs": [],
   "source": [
    "# let's reduce the dataset size\n",
    "indices = np.arange(len(test_texts))\n",
    "np.random.shuffle(indices)\n",
    "test = test[indices]\n",
    "test_labels = test_labels[indices]\n",
    "\n",
    "test_size = 40000\n",
    "test = test[:test_size]\n",
    "test_labels = test_labels[:test_size]"
   ]
  },
  {
   "cell_type": "code",
   "execution_count": 41,
   "metadata": {
    "execution": {
     "iopub.execute_input": "2022-03-21T23:50:17.398680Z",
     "iopub.status.busy": "2022-03-21T23:50:17.398334Z",
     "iopub.status.idle": "2022-03-21T23:50:17.408343Z",
     "shell.execute_reply": "2022-03-21T23:50:17.407653Z",
     "shell.execute_reply.started": "2022-03-21T23:50:17.398642Z"
    },
    "executionInfo": {
     "elapsed": 17,
     "status": "ok",
     "timestamp": 1647289979802,
     "user": {
      "displayName": "Adewole Akorede",
      "photoUrl": "https://lh3.googleusercontent.com/a-/AOh14Gg03grqCyFQgax4UoMPg_gPqiuE8Jeq4oiFSV2x=s64",
      "userId": "08678817209531841234"
     },
     "user_tz": -60
    },
    "id": "KGgIrXpV2uM-",
    "outputId": "f8a64d7b-0a12-43b1-b655-3e71e1d9e2d4"
   },
   "outputs": [
    {
     "name": "stdout",
     "output_type": "stream",
     "text": [
      "['Great CD: My lovely Pat has one of the GREAT voices of her generation. I have listened to this CD for YEARS and I still LOVE IT. When I\\'m in a good mood it makes me feel better. A bad mood just evaporates like sugar in the rain. This CD just oozes LIFE. Vocals are jusat STUUNNING and lyrics just kill. One of life\\'s hidden gems. This is a desert isle CD in my book. Why she never made it big is just beyond me. Everytime I play this, no matter black, white, young, old, male, female EVERYBODY says one thing \"Who was that singing ?\"', \"One of the best game music soundtracks - for a game I didn't really play: Despite the fact that I have only played a small portion of the game, the music I heard (plus the connection to Chrono Trigger which was great as well) led me to purchase the soundtrack, and it remains one of my favorite albums. There is an incredible mix of fun, epic, and emotional songs. Those sad and beautiful tracks I especially like, as there's not too many of those kinds of songs in my other video game soundtracks. I must admit that one of the songs (Life-A Distant Promise) has brought tears to my eyes on many occasions.My one complaint about this soundtrack is that they use guitar fretting effects in many of the songs, which I find distracting. But even if those weren't included I would still consider the collection worth it.\", 'Batteries died within a year ...: I bought this charger in Jul 2003 and it worked OK for a while. The design is nice and convenient. However, after about a year, the batteries would not hold a charge. Might as well just get alkaline disposables, or look elsewhere for a charger that comes with batteries that have better staying power.']\n",
      "\n",
      "\n",
      "['nice read this is i believe the second or third book i read by thich nhat hanh living buddha living christ sort of inspired me to pick this up he gives the basics as to what this whole buddhism thing is all about his explanation is neither too simplified nor to technical for the average reader if you pick up one book on the teachings of buddha make it this one', \"luck w b d but this is a disappointment wait i didn't check to see if the newer ones are made in china it's so new i'm still using the original string on it when i was using it it stopped rotating the motor still works but the other end has stopped then i went back to my 2 yr old ryobi which is worse made in china i think tomorrow i will put both of these in the trash can do my research and spend another 100 on something else don't waste your money on either of these products\", 'this makes beefy tasting gravy for everything add least amount of water to taste and cornstarch dissolved in cold water to thicken this makes a great gravy for fried hamburger and steamed sliced potatoes or for any vegetable for kids or as a base for any soup lentils chicken vegetables']\n"
     ]
    }
   ],
   "source": [
    "# sanity check\n",
    "\n",
    "print(test_texts[:3])\n",
    "print('\\n')\n",
    "print(tokenizer.sequences_to_texts(test[:3]))"
   ]
  },
  {
   "cell_type": "markdown",
   "metadata": {
    "id": "7rQj6lhfMvsc"
   },
   "source": [
    "# ML Models"
   ]
  },
  {
   "cell_type": "markdown",
   "metadata": {
    "id": "RXxUXagi0Gak"
   },
   "source": [
    "## Baseline Model"
   ]
  },
  {
   "cell_type": "code",
   "execution_count": 42,
   "metadata": {
    "execution": {
     "iopub.execute_input": "2022-03-21T23:50:33.501279Z",
     "iopub.status.busy": "2022-03-21T23:50:33.501022Z",
     "iopub.status.idle": "2022-03-21T23:50:33.504742Z",
     "shell.execute_reply": "2022-03-21T23:50:33.504008Z",
     "shell.execute_reply.started": "2022-03-21T23:50:33.501249Z"
    },
    "id": "2QvI4xTI3w6m"
   },
   "outputs": [],
   "source": [
    "embedding_dim = 100"
   ]
  },
  {
   "cell_type": "code",
   "execution_count": 43,
   "metadata": {
    "execution": {
     "iopub.execute_input": "2022-03-21T23:50:34.524740Z",
     "iopub.status.busy": "2022-03-21T23:50:34.524200Z",
     "iopub.status.idle": "2022-03-21T23:50:37.031627Z",
     "shell.execute_reply": "2022-03-21T23:50:37.030897Z",
     "shell.execute_reply.started": "2022-03-21T23:50:34.524700Z"
    },
    "id": "eauWzRlAL6WM"
   },
   "outputs": [
    {
     "name": "stderr",
     "output_type": "stream",
     "text": [
      "2022-03-21 23:50:34.601179: I tensorflow/stream_executor/cuda/cuda_gpu_executor.cc:937] successful NUMA node read from SysFS had negative value (-1), but there must be at least one NUMA node, so returning NUMA node zero\n",
      "2022-03-21 23:50:34.691477: I tensorflow/stream_executor/cuda/cuda_gpu_executor.cc:937] successful NUMA node read from SysFS had negative value (-1), but there must be at least one NUMA node, so returning NUMA node zero\n",
      "2022-03-21 23:50:34.692172: I tensorflow/stream_executor/cuda/cuda_gpu_executor.cc:937] successful NUMA node read from SysFS had negative value (-1), but there must be at least one NUMA node, so returning NUMA node zero\n",
      "2022-03-21 23:50:34.693418: I tensorflow/core/platform/cpu_feature_guard.cc:142] This TensorFlow binary is optimized with oneAPI Deep Neural Network Library (oneDNN) to use the following CPU instructions in performance-critical operations:  AVX2 AVX512F FMA\n",
      "To enable them in other operations, rebuild TensorFlow with the appropriate compiler flags.\n",
      "2022-03-21 23:50:34.694498: I tensorflow/stream_executor/cuda/cuda_gpu_executor.cc:937] successful NUMA node read from SysFS had negative value (-1), but there must be at least one NUMA node, so returning NUMA node zero\n",
      "2022-03-21 23:50:34.695138: I tensorflow/stream_executor/cuda/cuda_gpu_executor.cc:937] successful NUMA node read from SysFS had negative value (-1), but there must be at least one NUMA node, so returning NUMA node zero\n",
      "2022-03-21 23:50:34.695819: I tensorflow/stream_executor/cuda/cuda_gpu_executor.cc:937] successful NUMA node read from SysFS had negative value (-1), but there must be at least one NUMA node, so returning NUMA node zero\n",
      "2022-03-21 23:50:36.554516: I tensorflow/stream_executor/cuda/cuda_gpu_executor.cc:937] successful NUMA node read from SysFS had negative value (-1), but there must be at least one NUMA node, so returning NUMA node zero\n",
      "2022-03-21 23:50:36.555752: I tensorflow/stream_executor/cuda/cuda_gpu_executor.cc:937] successful NUMA node read from SysFS had negative value (-1), but there must be at least one NUMA node, so returning NUMA node zero\n",
      "2022-03-21 23:50:36.556737: I tensorflow/stream_executor/cuda/cuda_gpu_executor.cc:937] successful NUMA node read from SysFS had negative value (-1), but there must be at least one NUMA node, so returning NUMA node zero\n",
      "2022-03-21 23:50:36.557739: I tensorflow/core/common_runtime/gpu/gpu_device.cc:1510] Created device /job:localhost/replica:0/task:0/device:GPU:0 with 15403 MB memory:  -> device: 0, name: Tesla P100-PCIE-16GB, pci bus id: 0000:00:04.0, compute capability: 6.0\n"
     ]
    }
   ],
   "source": [
    "model = models.Sequential(name='baseline_amazon')\n",
    "model.add(layers.Embedding(input_dim=num_words, output_dim=embedding_dim, input_length=maxlen))\n",
    "model.add(layers.Conv1D(64, 7, padding='valid', activation='relu'))\n",
    "model.add(layers.Conv1D(128, 7, padding='valid', activation='relu'))\n",
    "model.add(layers.Conv1D(256, 7, padding='valid', activation='relu'))\n",
    "model.add(layers.GlobalMaxPooling1D())\n",
    "model.add(layers.Dropout(0.2))\n",
    "model.add(layers.Dense(128, activation='relu'))\n",
    "model.add(layers.Dense(64, activation='relu'))\n",
    "model.add(layers.Dense(1, activation='sigmoid'))"
   ]
  },
  {
   "cell_type": "code",
   "execution_count": 44,
   "metadata": {
    "execution": {
     "iopub.execute_input": "2022-03-21T23:50:37.033455Z",
     "iopub.status.busy": "2022-03-21T23:50:37.033191Z",
     "iopub.status.idle": "2022-03-21T23:50:37.043514Z",
     "shell.execute_reply": "2022-03-21T23:50:37.042797Z",
     "shell.execute_reply.started": "2022-03-21T23:50:37.033420Z"
    },
    "executionInfo": {
     "elapsed": 25,
     "status": "ok",
     "timestamp": 1647289982814,
     "user": {
      "displayName": "Adewole Akorede",
      "photoUrl": "https://lh3.googleusercontent.com/a-/AOh14Gg03grqCyFQgax4UoMPg_gPqiuE8Jeq4oiFSV2x=s64",
      "userId": "08678817209531841234"
     },
     "user_tz": -60
    },
    "id": "xNgZKvA35WUn",
    "outputId": "cbc7d702-35d5-4691-9d30-5b86d8a4aef6"
   },
   "outputs": [
    {
     "name": "stdout",
     "output_type": "stream",
     "text": [
      "Model: \"baseline_amazon\"\n",
      "_________________________________________________________________\n",
      "Layer (type)                 Output Shape              Param #   \n",
      "=================================================================\n",
      "embedding (Embedding)        (None, 100, 100)          7000000   \n",
      "_________________________________________________________________\n",
      "conv1d (Conv1D)              (None, 94, 64)            44864     \n",
      "_________________________________________________________________\n",
      "conv1d_1 (Conv1D)            (None, 88, 128)           57472     \n",
      "_________________________________________________________________\n",
      "conv1d_2 (Conv1D)            (None, 82, 256)           229632    \n",
      "_________________________________________________________________\n",
      "global_max_pooling1d (Global (None, 256)               0         \n",
      "_________________________________________________________________\n",
      "dropout (Dropout)            (None, 256)               0         \n",
      "_________________________________________________________________\n",
      "dense (Dense)                (None, 128)               32896     \n",
      "_________________________________________________________________\n",
      "dense_1 (Dense)              (None, 64)                8256      \n",
      "_________________________________________________________________\n",
      "dense_2 (Dense)              (None, 1)                 65        \n",
      "=================================================================\n",
      "Total params: 7,373,185\n",
      "Trainable params: 7,373,185\n",
      "Non-trainable params: 0\n",
      "_________________________________________________________________\n"
     ]
    }
   ],
   "source": [
    "model.summary()"
   ]
  },
  {
   "cell_type": "code",
   "execution_count": 45,
   "metadata": {
    "execution": {
     "iopub.execute_input": "2022-03-21T23:50:50.984043Z",
     "iopub.status.busy": "2022-03-21T23:50:50.983777Z",
     "iopub.status.idle": "2022-03-21T23:50:50.998798Z",
     "shell.execute_reply": "2022-03-21T23:50:50.997976Z",
     "shell.execute_reply.started": "2022-03-21T23:50:50.984015Z"
    },
    "id": "SI8mgsKd5X9g"
   },
   "outputs": [],
   "source": [
    "model.compile(loss='binary_crossentropy', optimizer='adam', metrics=['accuracy'])\n",
    "callbacks = [keras.callbacks.EarlyStopping(patience=10, restore_best_weights=True), \n",
    "             keras.callbacks.ModelCheckpoint('baseline.h5', save_best_only=True)]"
   ]
  },
  {
   "cell_type": "code",
   "execution_count": 46,
   "metadata": {
    "execution": {
     "iopub.execute_input": "2022-03-21T23:50:52.170515Z",
     "iopub.status.busy": "2022-03-21T23:50:52.170155Z",
     "iopub.status.idle": "2022-03-22T00:02:24.322534Z",
     "shell.execute_reply": "2022-03-22T00:02:24.321811Z",
     "shell.execute_reply.started": "2022-03-21T23:50:52.170477Z"
    },
    "executionInfo": {
     "elapsed": 2130231,
     "status": "ok",
     "timestamp": 1647292113029,
     "user": {
      "displayName": "Adewole Akorede",
      "photoUrl": "https://lh3.googleusercontent.com/a-/AOh14Gg03grqCyFQgax4UoMPg_gPqiuE8Jeq4oiFSV2x=s64",
      "userId": "08678817209531841234"
     },
     "user_tz": -60
    },
    "id": "DWl-p9-L6-Oz",
    "outputId": "363a9698-8f70-4176-d48d-0729ddbfe54b"
   },
   "outputs": [
    {
     "name": "stderr",
     "output_type": "stream",
     "text": [
      "2022-03-21 23:50:52.233783: I tensorflow/compiler/mlir/mlir_graph_optimization_pass.cc:185] None of the MLIR Optimization Passes are enabled (registered 2)\n"
     ]
    },
    {
     "name": "stdout",
     "output_type": "stream",
     "text": [
      "Epoch 1/20\n"
     ]
    },
    {
     "name": "stderr",
     "output_type": "stream",
     "text": [
      "2022-03-21 23:50:53.955540: I tensorflow/stream_executor/cuda/cuda_dnn.cc:369] Loaded cuDNN version 8005\n"
     ]
    },
    {
     "name": "stdout",
     "output_type": "stream",
     "text": [
      "10000/10000 [==============================] - 69s 6ms/step - loss: 0.2535 - accuracy: 0.8947 - val_loss: 0.2054 - val_accuracy: 0.9186\n",
      "Epoch 2/20\n",
      "10000/10000 [==============================] - 63s 6ms/step - loss: 0.1668 - accuracy: 0.9373 - val_loss: 0.2104 - val_accuracy: 0.9208\n",
      "Epoch 3/20\n",
      "10000/10000 [==============================] - 63s 6ms/step - loss: 0.1125 - accuracy: 0.9601 - val_loss: 0.2366 - val_accuracy: 0.9163\n",
      "Epoch 4/20\n",
      "10000/10000 [==============================] - 63s 6ms/step - loss: 0.0704 - accuracy: 0.9765 - val_loss: 0.2538 - val_accuracy: 0.9119\n",
      "Epoch 5/20\n",
      "10000/10000 [==============================] - 62s 6ms/step - loss: 0.0450 - accuracy: 0.9854 - val_loss: 0.3695 - val_accuracy: 0.9074\n",
      "Epoch 6/20\n",
      "10000/10000 [==============================] - 63s 6ms/step - loss: 0.0304 - accuracy: 0.9902 - val_loss: 0.3756 - val_accuracy: 0.9067\n",
      "Epoch 7/20\n",
      "10000/10000 [==============================] - 63s 6ms/step - loss: 0.0226 - accuracy: 0.9928 - val_loss: 0.4804 - val_accuracy: 0.9036\n",
      "Epoch 8/20\n",
      "10000/10000 [==============================] - 61s 6ms/step - loss: 0.0175 - accuracy: 0.9944 - val_loss: 0.4090 - val_accuracy: 0.9036\n",
      "Epoch 9/20\n",
      "10000/10000 [==============================] - 61s 6ms/step - loss: 0.0140 - accuracy: 0.9956 - val_loss: 0.5454 - val_accuracy: 0.9017\n",
      "Epoch 10/20\n",
      "10000/10000 [==============================] - 61s 6ms/step - loss: 0.0127 - accuracy: 0.9960 - val_loss: 0.7817 - val_accuracy: 0.8994\n",
      "Epoch 11/20\n",
      "10000/10000 [==============================] - 63s 6ms/step - loss: 0.0115 - accuracy: 0.9963 - val_loss: 0.6472 - val_accuracy: 0.8993\n"
     ]
    }
   ],
   "source": [
    "history = model.fit(X_train, y_train, epochs=20, validation_data=(X_valid, y_valid), callbacks=callbacks)"
   ]
  },
  {
   "cell_type": "code",
   "execution_count": 47,
   "metadata": {
    "execution": {
     "iopub.execute_input": "2022-03-22T00:02:52.384498Z",
     "iopub.status.busy": "2022-03-22T00:02:52.384217Z",
     "iopub.status.idle": "2022-03-22T00:02:52.391580Z",
     "shell.execute_reply": "2022-03-22T00:02:52.390731Z",
     "shell.execute_reply.started": "2022-03-22T00:02:52.384467Z"
    },
    "id": "u3aUzQJ57RKS"
   },
   "outputs": [],
   "source": [
    "def learning_curve(history):\n",
    "    loss = history.history['loss']\n",
    "    val_loss = history.history['val_loss']\n",
    "    \n",
    "    accuracy = history.history['accuracy']\n",
    "    val_accuracy = history.history['val_accuracy']\n",
    "\n",
    "    epochs = range(1, len(loss) + 1)\n",
    "\n",
    "    plt.figure()\n",
    "    plt.plot(epochs, loss, 'bo', label='Train Loss')\n",
    "    plt.plot(epochs, val_loss, 'b-', label='Validation Loss')\n",
    "    plt.title('Train and Validation Loss')\n",
    "    plt.legend()\n",
    "\n",
    "    plt.figure()\n",
    "    plt.plot(epochs, accuracy, 'bo', label='Train Accuracy')\n",
    "    plt.plot(epochs, val_accuracy, 'b-', label='Validation Accuracy')\n",
    "    plt.title('Train and Validation Accuracy')\n",
    "    plt.legend()\n",
    "\n",
    "    plt.show()"
   ]
  },
  {
   "cell_type": "code",
   "execution_count": 48,
   "metadata": {
    "execution": {
     "iopub.execute_input": "2022-03-22T00:03:23.755062Z",
     "iopub.status.busy": "2022-03-22T00:03:23.754272Z",
     "iopub.status.idle": "2022-03-22T00:04:15.504923Z",
     "shell.execute_reply": "2022-03-22T00:04:15.504250Z",
     "shell.execute_reply.started": "2022-03-22T00:03:23.755024Z"
    },
    "executionInfo": {
     "elapsed": 54173,
     "status": "ok",
     "timestamp": 1647292167197,
     "user": {
      "displayName": "Adewole Akorede",
      "photoUrl": "https://lh3.googleusercontent.com/a-/AOh14Gg03grqCyFQgax4UoMPg_gPqiuE8Jeq4oiFSV2x=s64",
      "userId": "08678817209531841234"
     },
     "user_tz": -60
    },
    "id": "Oi-6nG_yqZm0",
    "outputId": "04f1cfd7-cfc0-42f6-c6aa-9a347d7b8822"
   },
   "outputs": [
    {
     "data": {
      "image/png": "[encoded data removed]",
      "text/plain": [
       "<Figure size 432x288 with 1 Axes>"
      ]
     },
     "metadata": {
      "needs_background": "light"
     },
     "output_type": "display_data"
    },
    {
     "data": {
      "image/png": "[encoded data removed]",
      "text/plain": [
       "<Figure size 432x288 with 1 Axes>"
      ]
     },
     "metadata": {
      "needs_background": "light"
     },
     "output_type": "display_data"
    }
   ],
   "source": [
    "learning_curve(history)"
   ]
  },
  {
   "cell_type": "code",
   "execution_count": 49,
   "metadata": {
    "execution": {
     "iopub.execute_input": "2022-03-22T00:04:27.486424Z",
     "iopub.status.busy": "2022-03-22T00:04:27.486150Z",
     "iopub.status.idle": "2022-03-22T00:04:30.076953Z",
     "shell.execute_reply": "2022-03-22T00:04:30.076241Z",
     "shell.execute_reply.started": "2022-03-22T00:04:27.486377Z"
    },
    "executionInfo": {
     "elapsed": 10769,
     "status": "ok",
     "timestamp": 1647292190647,
     "user": {
      "displayName": "Adewole Akorede",
      "photoUrl": "https://lh3.googleusercontent.com/a-/AOh14Gg03grqCyFQgax4UoMPg_gPqiuE8Jeq4oiFSV2x=s64",
      "userId": "08678817209531841234"
     },
     "user_tz": -60
    },
    "id": "1M3srWotoo7l",
    "outputId": "98deb357-5c15-4a2a-b155-a89d89213d65"
   },
   "outputs": [
    {
     "name": "stdout",
     "output_type": "stream",
     "text": [
      "1250/1250 [==============================] - 3s 2ms/step - loss: 0.2100 - accuracy: 0.9166\n"
     ]
    },
    {
     "data": {
      "text/plain": [
       "(0.21000580489635468, 0.9166250228881836)"
      ]
     },
     "execution_count": 49,
     "metadata": {},
     "output_type": "execute_result"
    }
   ],
   "source": [
    "# let's evaluate the model's result on the test set\n",
    "\n",
    "loss_1, acc_1 = model.evaluate(test, test_labels)\n",
    "loss_1, acc_1"
   ]
  },
  {
   "cell_type": "markdown",
   "metadata": {
    "id": "5Ohh3eO1pB_u"
   },
   "source": [
    "## Baseline Model + BatchNorm & Higher Dropout"
   ]
  },
  {
   "cell_type": "code",
   "execution_count": 50,
   "metadata": {
    "execution": {
     "iopub.execute_input": "2022-03-22T00:05:08.993331Z",
     "iopub.status.busy": "2022-03-22T00:05:08.993085Z",
     "iopub.status.idle": "2022-03-22T00:05:09.094539Z",
     "shell.execute_reply": "2022-03-22T00:05:09.093846Z",
     "shell.execute_reply.started": "2022-03-22T00:05:08.993303Z"
    },
    "id": "-pIT8m9zpJBJ"
   },
   "outputs": [],
   "source": [
    "model = models.Sequential(name='baseline2_amazon')\n",
    "model.add(layers.Embedding(input_dim=num_words, output_dim=embedding_dim, input_length=maxlen))\n",
    "model.add(layers.BatchNormalization())\n",
    "model.add(layers.Conv1D(64, 7, padding='valid', use_bias=False))\n",
    "model.add(layers.BatchNormalization())\n",
    "model.add(layers.Activation('relu'))\n",
    "model.add(layers.Conv1D(128, 7, padding='valid', use_bias=False))\n",
    "model.add(layers.BatchNormalization())\n",
    "model.add(layers.Activation('relu'))\n",
    "model.add(layers.GlobalMaxPooling1D())\n",
    "model.add(layers.Dropout(0.4))\n",
    "model.add(layers.Dense(128, use_bias=False))\n",
    "model.add(layers.BatchNormalization())\n",
    "model.add(layers.Activation('relu'))\n",
    "model.add(layers.Dense(1, activation='sigmoid'))"
   ]
  },
  {
   "cell_type": "code",
   "execution_count": 51,
   "metadata": {
    "execution": {
     "iopub.execute_input": "2022-03-22T00:05:10.673310Z",
     "iopub.status.busy": "2022-03-22T00:05:10.672786Z",
     "iopub.status.idle": "2022-03-22T00:05:10.686730Z",
     "shell.execute_reply": "2022-03-22T00:05:10.686065Z",
     "shell.execute_reply.started": "2022-03-22T00:05:10.673266Z"
    },
    "executionInfo": {
     "elapsed": 14,
     "status": "ok",
     "timestamp": 1647292309736,
     "user": {
      "displayName": "Adewole Akorede",
      "photoUrl": "https://lh3.googleusercontent.com/a-/AOh14Gg03grqCyFQgax4UoMPg_gPqiuE8Jeq4oiFSV2x=s64",
      "userId": "08678817209531841234"
     },
     "user_tz": -60
    },
    "id": "C35JGEMRrfN7",
    "outputId": "6febd8bb-6de5-4f76-f9ab-c406a39ec6d6"
   },
   "outputs": [
    {
     "name": "stdout",
     "output_type": "stream",
     "text": [
      "Model: \"baseline2_amazon\"\n",
      "_________________________________________________________________\n",
      "Layer (type)                 Output Shape              Param #   \n",
      "=================================================================\n",
      "embedding_1 (Embedding)      (None, 100, 100)          7000000   \n",
      "_________________________________________________________________\n",
      "batch_normalization (BatchNo (None, 100, 100)          400       \n",
      "_________________________________________________________________\n",
      "conv1d_3 (Conv1D)            (None, 94, 64)            44800     \n",
      "_________________________________________________________________\n",
      "batch_normalization_1 (Batch (None, 94, 64)            256       \n",
      "_________________________________________________________________\n",
      "activation (Activation)      (None, 94, 64)            0         \n",
      "_________________________________________________________________\n",
      "conv1d_4 (Conv1D)            (None, 88, 128)           57344     \n",
      "_________________________________________________________________\n",
      "batch_normalization_2 (Batch (None, 88, 128)           512       \n",
      "_________________________________________________________________\n",
      "activation_1 (Activation)    (None, 88, 128)           0         \n",
      "_________________________________________________________________\n",
      "global_max_pooling1d_1 (Glob (None, 128)               0         \n",
      "_________________________________________________________________\n",
      "dropout_1 (Dropout)          (None, 128)               0         \n",
      "_________________________________________________________________\n",
      "dense_3 (Dense)              (None, 128)               16384     \n",
      "_________________________________________________________________\n",
      "batch_normalization_3 (Batch (None, 128)               512       \n",
      "_________________________________________________________________\n",
      "activation_2 (Activation)    (None, 128)               0         \n",
      "_________________________________________________________________\n",
      "dense_4 (Dense)              (None, 1)                 129       \n",
      "=================================================================\n",
      "Total params: 7,120,337\n",
      "Trainable params: 7,119,497\n",
      "Non-trainable params: 840\n",
      "_________________________________________________________________\n"
     ]
    }
   ],
   "source": [
    "model.summary()"
   ]
  },
  {
   "cell_type": "code",
   "execution_count": 52,
   "metadata": {
    "execution": {
     "iopub.execute_input": "2022-03-22T00:05:19.813356Z",
     "iopub.status.busy": "2022-03-22T00:05:19.813095Z",
     "iopub.status.idle": "2022-03-22T00:16:42.659746Z",
     "shell.execute_reply": "2022-03-22T00:16:42.658963Z",
     "shell.execute_reply.started": "2022-03-22T00:05:19.813325Z"
    },
    "executionInfo": {
     "elapsed": 1703678,
     "status": "ok",
     "timestamp": 1647294015759,
     "user": {
      "displayName": "Adewole Akorede",
      "photoUrl": "https://lh3.googleusercontent.com/a-/AOh14Gg03grqCyFQgax4UoMPg_gPqiuE8Jeq4oiFSV2x=s64",
      "userId": "08678817209531841234"
     },
     "user_tz": -60
    },
    "id": "B6lSvKk7riV9",
    "outputId": "befe310a-a49e-4544-dcd8-2da1144e7539"
   },
   "outputs": [
    {
     "name": "stdout",
     "output_type": "stream",
     "text": [
      "Epoch 1/10\n",
      "10000/10000 [==============================] - 63s 6ms/step - loss: 0.2818 - accuracy: 0.8805 - val_loss: 0.2191 - val_accuracy: 0.9140\n",
      "Epoch 2/10\n",
      "10000/10000 [==============================] - 62s 6ms/step - loss: 0.1939 - accuracy: 0.9255 - val_loss: 0.2009 - val_accuracy: 0.9211\n",
      "Epoch 3/10\n",
      "10000/10000 [==============================] - 63s 6ms/step - loss: 0.1396 - accuracy: 0.9490 - val_loss: 0.2099 - val_accuracy: 0.9176\n",
      "Epoch 4/10\n",
      "10000/10000 [==============================] - 62s 6ms/step - loss: 0.0962 - accuracy: 0.9666 - val_loss: 0.2258 - val_accuracy: 0.9140\n",
      "Epoch 5/10\n",
      "10000/10000 [==============================] - 62s 6ms/step - loss: 0.0691 - accuracy: 0.9767 - val_loss: 0.2635 - val_accuracy: 0.9079\n",
      "Epoch 6/10\n",
      "10000/10000 [==============================] - 62s 6ms/step - loss: 0.0518 - accuracy: 0.9826 - val_loss: 0.2688 - val_accuracy: 0.9056\n",
      "Epoch 7/10\n",
      "10000/10000 [==============================] - 63s 6ms/step - loss: 0.0419 - accuracy: 0.9862 - val_loss: 0.2983 - val_accuracy: 0.9053\n",
      "Epoch 8/10\n",
      "10000/10000 [==============================] - 63s 6ms/step - loss: 0.0348 - accuracy: 0.9886 - val_loss: 0.3187 - val_accuracy: 0.9039\n",
      "Epoch 9/10\n",
      "10000/10000 [==============================] - 63s 6ms/step - loss: 0.0304 - accuracy: 0.9900 - val_loss: 0.3445 - val_accuracy: 0.9026\n",
      "Epoch 10/10\n",
      "10000/10000 [==============================] - 63s 6ms/step - loss: 0.0261 - accuracy: 0.9914 - val_loss: 0.3568 - val_accuracy: 0.9025\n"
     ]
    }
   ],
   "source": [
    "model.compile(loss='binary_crossentropy', optimizer='adam', metrics=['accuracy'])\n",
    "callbacks = [keras.callbacks.EarlyStopping(patience=10, restore_best_weights=True), \n",
    "             keras.callbacks.ModelCheckpoint('baseline2.h5', save_best_only=True)]\n",
    "\n",
    "history = model.fit(X_train, y_train, epochs=10, validation_data=(X_valid, y_valid), callbacks=callbacks)"
   ]
  },
  {
   "cell_type": "code",
   "execution_count": 53,
   "metadata": {
    "execution": {
     "iopub.execute_input": "2022-03-22T00:16:42.662243Z",
     "iopub.status.busy": "2022-03-22T00:16:42.661914Z",
     "iopub.status.idle": "2022-03-22T00:16:43.028817Z",
     "shell.execute_reply": "2022-03-22T00:16:43.028156Z",
     "shell.execute_reply.started": "2022-03-22T00:16:42.662205Z"
    },
    "executionInfo": {
     "elapsed": 620,
     "status": "ok",
     "timestamp": 1647294028582,
     "user": {
      "displayName": "Adewole Akorede",
      "photoUrl": "https://lh3.googleusercontent.com/a-/AOh14Gg03grqCyFQgax4UoMPg_gPqiuE8Jeq4oiFSV2x=s64",
      "userId": "08678817209531841234"
     },
     "user_tz": -60
    },
    "id": "t0lTPevlrxQb",
    "outputId": "c3158ef5-5d05-49dd-b9ce-ba2c0f4f724a"
   },
   "outputs": [
    {
     "data": {
      "image/png": "[encoded data removed]",
      "text/plain": [
       "<Figure size 432x288 with 1 Axes>"
      ]
     },
     "metadata": {
      "needs_background": "light"
     },
     "output_type": "display_data"
    },
    {
     "data": {
      "image/png": "[encoded data removed]",
      "text/plain": [
       "<Figure size 432x288 with 1 Axes>"
      ]
     },
     "metadata": {
      "needs_background": "light"
     },
     "output_type": "display_data"
    }
   ],
   "source": [
    "learning_curve(history)"
   ]
  },
  {
   "cell_type": "code",
   "execution_count": 54,
   "metadata": {
    "execution": {
     "iopub.execute_input": "2022-03-22T00:16:43.030121Z",
     "iopub.status.busy": "2022-03-22T00:16:43.029895Z",
     "iopub.status.idle": "2022-03-22T00:16:48.179516Z",
     "shell.execute_reply": "2022-03-22T00:16:48.178051Z",
     "shell.execute_reply.started": "2022-03-22T00:16:43.030088Z"
    },
    "executionInfo": {
     "elapsed": 10780,
     "status": "ok",
     "timestamp": 1647294050829,
     "user": {
      "displayName": "Adewole Akorede",
      "photoUrl": "https://lh3.googleusercontent.com/a-/AOh14Gg03grqCyFQgax4UoMPg_gPqiuE8Jeq4oiFSV2x=s64",
      "userId": "08678817209531841234"
     },
     "user_tz": -60
    },
    "id": "N-Fmjm_dyQE9",
    "outputId": "779eabc1-cea0-4440-896f-9df4243cf599"
   },
   "outputs": [
    {
     "name": "stdout",
     "output_type": "stream",
     "text": [
      "1250/1250 [==============================] - 3s 2ms/step - loss: 0.3626 - accuracy: 0.9015\n"
     ]
    },
    {
     "data": {
      "text/plain": [
       "(0.36255812644958496, 0.9014999866485596)"
      ]
     },
     "execution_count": 54,
     "metadata": {},
     "output_type": "execute_result"
    }
   ],
   "source": [
    "loss_2, acc_2 = model.evaluate(test, test_labels)\n",
    "loss_2, acc_2"
   ]
  },
  {
   "cell_type": "markdown",
   "metadata": {
    "id": "pbNZIklgyfMF"
   },
   "source": [
    "### Model 3 - LSTM"
   ]
  },
  {
   "cell_type": "code",
   "execution_count": 55,
   "metadata": {
    "execution": {
     "iopub.execute_input": "2022-03-22T00:16:59.742456Z",
     "iopub.status.busy": "2022-03-22T00:16:59.742172Z",
     "iopub.status.idle": "2022-03-22T00:16:59.983396Z",
     "shell.execute_reply": "2022-03-22T00:16:59.982581Z",
     "shell.execute_reply.started": "2022-03-22T00:16:59.742417Z"
    },
    "id": "kFXCC3PXyXFb"
   },
   "outputs": [],
   "source": [
    "model = models.Sequential(name='lstm_amazon')\n",
    "model.add(layers.Embedding(input_dim=num_words, output_dim=embedding_dim, input_length=maxlen))\n",
    "model.add(layers.LSTM(64, dropout=0.2, return_sequences=False))\n",
    "model.add(layers.Dense(1, activation='sigmoid'))"
   ]
  },
  {
   "cell_type": "code",
   "execution_count": 56,
   "metadata": {
    "execution": {
     "iopub.execute_input": "2022-03-22T00:17:01.472456Z",
     "iopub.status.busy": "2022-03-22T00:17:01.472167Z",
     "iopub.status.idle": "2022-03-22T00:17:01.479333Z",
     "shell.execute_reply": "2022-03-22T00:17:01.478676Z",
     "shell.execute_reply.started": "2022-03-22T00:17:01.472419Z"
    },
    "executionInfo": {
     "elapsed": 5,
     "status": "ok",
     "timestamp": 1647294072137,
     "user": {
      "displayName": "Adewole Akorede",
      "photoUrl": "https://lh3.googleusercontent.com/a-/AOh14Gg03grqCyFQgax4UoMPg_gPqiuE8Jeq4oiFSV2x=s64",
      "userId": "08678817209531841234"
     },
     "user_tz": -60
    },
    "id": "WcOkVdhzztnP",
    "outputId": "7751992f-7c5a-4fa6-f6c7-d95e6e716c11"
   },
   "outputs": [
    {
     "name": "stdout",
     "output_type": "stream",
     "text": [
      "Model: \"lstm_amazon\"\n",
      "_________________________________________________________________\n",
      "Layer (type)                 Output Shape              Param #   \n",
      "=================================================================\n",
      "embedding_2 (Embedding)      (None, 100, 100)          7000000   \n",
      "_________________________________________________________________\n",
      "lstm (LSTM)                  (None, 64)                42240     \n",
      "_________________________________________________________________\n",
      "dense_5 (Dense)              (None, 1)                 65        \n",
      "=================================================================\n",
      "Total params: 7,042,305\n",
      "Trainable params: 7,042,305\n",
      "Non-trainable params: 0\n",
      "_________________________________________________________________\n"
     ]
    }
   ],
   "source": [
    "model.summary()"
   ]
  },
  {
   "cell_type": "code",
   "execution_count": 57,
   "metadata": {
    "execution": {
     "iopub.execute_input": "2022-03-22T00:17:04.022624Z",
     "iopub.status.busy": "2022-03-22T00:17:04.022216Z",
     "iopub.status.idle": "2022-03-22T00:30:33.585362Z",
     "shell.execute_reply": "2022-03-22T00:30:33.584671Z",
     "shell.execute_reply.started": "2022-03-22T00:17:04.022588Z"
    },
    "executionInfo": {
     "elapsed": 2530020,
     "status": "ok",
     "timestamp": 1647296604422,
     "user": {
      "displayName": "Adewole Akorede",
      "photoUrl": "https://lh3.googleusercontent.com/a-/AOh14Gg03grqCyFQgax4UoMPg_gPqiuE8Jeq4oiFSV2x=s64",
      "userId": "08678817209531841234"
     },
     "user_tz": -60
    },
    "id": "81m2q2nwzwKN",
    "outputId": "b56ba382-5bf3-4106-8807-590a6d83fd7b"
   },
   "outputs": [
    {
     "name": "stdout",
     "output_type": "stream",
     "text": [
      "Epoch 1/10\n",
      "10000/10000 [==============================] - 82s 8ms/step - loss: 0.2447 - accuracy: 0.9013 - val_loss: 0.1927 - val_accuracy: 0.9245\n",
      "Epoch 2/10\n",
      "10000/10000 [==============================] - 81s 8ms/step - loss: 0.1600 - accuracy: 0.9398 - val_loss: 0.1889 - val_accuracy: 0.9275\n",
      "Epoch 3/10\n",
      "10000/10000 [==============================] - 81s 8ms/step - loss: 0.1177 - accuracy: 0.9574 - val_loss: 0.2136 - val_accuracy: 0.9262\n",
      "Epoch 4/10\n",
      "10000/10000 [==============================] - 81s 8ms/step - loss: 0.0845 - accuracy: 0.9705 - val_loss: 0.2432 - val_accuracy: 0.9211\n",
      "Epoch 5/10\n",
      "10000/10000 [==============================] - 81s 8ms/step - loss: 0.0618 - accuracy: 0.9791 - val_loss: 0.2732 - val_accuracy: 0.9178\n",
      "Epoch 6/10\n",
      "10000/10000 [==============================] - 81s 8ms/step - loss: 0.0463 - accuracy: 0.9846 - val_loss: 0.3051 - val_accuracy: 0.9147\n",
      "Epoch 7/10\n",
      "10000/10000 [==============================] - 81s 8ms/step - loss: 0.0355 - accuracy: 0.9881 - val_loss: 0.3577 - val_accuracy: 0.9117\n",
      "Epoch 8/10\n",
      "10000/10000 [==============================] - 81s 8ms/step - loss: 0.0275 - accuracy: 0.9909 - val_loss: 0.3666 - val_accuracy: 0.9119\n",
      "Epoch 9/10\n",
      "10000/10000 [==============================] - 80s 8ms/step - loss: 0.0225 - accuracy: 0.9926 - val_loss: 0.4290 - val_accuracy: 0.9100\n",
      "Epoch 10/10\n",
      "10000/10000 [==============================] - 81s 8ms/step - loss: 0.0185 - accuracy: 0.9939 - val_loss: 0.4491 - val_accuracy: 0.9074\n"
     ]
    }
   ],
   "source": [
    "model.compile(loss='binary_crossentropy', optimizer='adam', metrics=['accuracy'])\n",
    "callbacks = [keras.callbacks.EarlyStopping(patience=10, restore_best_weights=False), \n",
    "             keras.callbacks.ModelCheckpoint('lstm_amazon.h5', save_best_only=True)]\n",
    "\n",
    "history = model.fit(X_train, y_train, epochs=10, validation_data=(X_valid, y_valid), callbacks=callbacks)"
   ]
  },
  {
   "cell_type": "code",
   "execution_count": 58,
   "metadata": {
    "execution": {
     "iopub.execute_input": "2022-03-22T00:32:34.855752Z",
     "iopub.status.busy": "2022-03-22T00:32:34.855454Z",
     "iopub.status.idle": "2022-03-22T00:32:35.266426Z",
     "shell.execute_reply": "2022-03-22T00:32:35.265619Z",
     "shell.execute_reply.started": "2022-03-22T00:32:34.855715Z"
    },
    "executionInfo": {
     "elapsed": 730,
     "status": "ok",
     "timestamp": 1647296719377,
     "user": {
      "displayName": "Adewole Akorede",
      "photoUrl": "https://lh3.googleusercontent.com/a-/AOh14Gg03grqCyFQgax4UoMPg_gPqiuE8Jeq4oiFSV2x=s64",
      "userId": "08678817209531841234"
     },
     "user_tz": -60
    },
    "id": "nGMc4inB0nWw",
    "outputId": "8cb1ddee-496a-4342-aa5f-57b3848fa2a0"
   },
   "outputs": [
    {
     "data": {
      "image/png": "[encoded data removed]",
      "text/plain": [
       "<Figure size 432x288 with 1 Axes>"
      ]
     },
     "metadata": {
      "needs_background": "light"
     },
     "output_type": "display_data"
    },
    {
     "data": {
      "image/png": "[encoded data removed]",
      "text/plain": [
       "<Figure size 432x288 with 1 Axes>"
      ]
     },
     "metadata": {
      "needs_background": "light"
     },
     "output_type": "display_data"
    }
   ],
   "source": [
    "learning_curve(history)"
   ]
  },
  {
   "cell_type": "code",
   "execution_count": 59,
   "metadata": {
    "execution": {
     "iopub.execute_input": "2022-03-22T00:32:43.314455Z",
     "iopub.status.busy": "2022-03-22T00:32:43.314166Z",
     "iopub.status.idle": "2022-03-22T00:32:47.550045Z",
     "shell.execute_reply": "2022-03-22T00:32:47.549237Z",
     "shell.execute_reply.started": "2022-03-22T00:32:43.314416Z"
    },
    "executionInfo": {
     "elapsed": 21074,
     "status": "ok",
     "timestamp": 1647296743884,
     "user": {
      "displayName": "Adewole Akorede",
      "photoUrl": "https://lh3.googleusercontent.com/a-/AOh14Gg03grqCyFQgax4UoMPg_gPqiuE8Jeq4oiFSV2x=s64",
      "userId": "08678817209531841234"
     },
     "user_tz": -60
    },
    "id": "bW9E8kjetBHZ",
    "outputId": "09d7ec7c-3992-4339-d3bb-1ff46172879b"
   },
   "outputs": [
    {
     "name": "stdout",
     "output_type": "stream",
     "text": [
      "1250/1250 [==============================] - 4s 3ms/step - loss: 0.4581 - accuracy: 0.9061\n"
     ]
    },
    {
     "data": {
      "text/plain": [
       "(0.4580770432949066, 0.9060999751091003)"
      ]
     },
     "execution_count": 59,
     "metadata": {},
     "output_type": "execute_result"
    }
   ],
   "source": [
    "loss_3, acc_3 = model.evaluate(test, test_labels)\n",
    "loss_3, acc_3"
   ]
  },
  {
   "cell_type": "markdown",
   "metadata": {
    "id": "CTg8n6Vqv6ON"
   },
   "source": [
    "### Bidirectional LSTM"
   ]
  },
  {
   "cell_type": "code",
   "execution_count": 60,
   "metadata": {
    "execution": {
     "iopub.execute_input": "2022-03-22T00:33:08.735744Z",
     "iopub.status.busy": "2022-03-22T00:33:08.735150Z",
     "iopub.status.idle": "2022-03-22T00:33:09.144920Z",
     "shell.execute_reply": "2022-03-22T00:33:09.144223Z",
     "shell.execute_reply.started": "2022-03-22T00:33:08.735705Z"
    },
    "id": "I0TCRpnWvRV4"
   },
   "outputs": [],
   "source": [
    "model = models.Sequential(name='bidirectional_lstm')\n",
    "model.add(layers.Embedding(input_dim=num_words, output_dim=embedding_dim, input_length=maxlen))\n",
    "model.add(layers.Bidirectional(layers.LSTM(64, dropout=0.2, return_sequences=False)))\n",
    "model.add(layers.Dropout(0.4))\n",
    "model.add(layers.Dense(64, activation='relu'))\n",
    "model.add(layers.Dense(1, activation='sigmoid'))"
   ]
  },
  {
   "cell_type": "code",
   "execution_count": 61,
   "metadata": {
    "execution": {
     "iopub.execute_input": "2022-03-22T00:33:10.324941Z",
     "iopub.status.busy": "2022-03-22T00:33:10.324264Z",
     "iopub.status.idle": "2022-03-22T00:33:10.334739Z",
     "shell.execute_reply": "2022-03-22T00:33:10.333847Z",
     "shell.execute_reply.started": "2022-03-22T00:33:10.324904Z"
    },
    "executionInfo": {
     "elapsed": 10,
     "status": "ok",
     "timestamp": 1647250267028,
     "user": {
      "displayName": "Adewole Akorede",
      "photoUrl": "https://lh3.googleusercontent.com/a-/AOh14GjYRLe4kkvsDBySSepcV1JB0322CPixVq3C5kP_oa0=s64",
      "userId": "16474677199734761810"
     },
     "user_tz": -60
    },
    "id": "L3XeKkuKw-Mc",
    "outputId": "d7a3c7c0-ce63-4339-baaf-317e429ffac9"
   },
   "outputs": [
    {
     "name": "stdout",
     "output_type": "stream",
     "text": [
      "Model: \"bidirectional_lstm\"\n",
      "_________________________________________________________________\n",
      "Layer (type)                 Output Shape              Param #   \n",
      "=================================================================\n",
      "embedding_3 (Embedding)      (None, 100, 100)          7000000   \n",
      "_________________________________________________________________\n",
      "bidirectional (Bidirectional (None, 128)               84480     \n",
      "_________________________________________________________________\n",
      "dropout_2 (Dropout)          (None, 128)               0         \n",
      "_________________________________________________________________\n",
      "dense_6 (Dense)              (None, 64)                8256      \n",
      "_________________________________________________________________\n",
      "dense_7 (Dense)              (None, 1)                 65        \n",
      "=================================================================\n",
      "Total params: 7,092,801\n",
      "Trainable params: 7,092,801\n",
      "Non-trainable params: 0\n",
      "_________________________________________________________________\n"
     ]
    }
   ],
   "source": [
    "model.summary()"
   ]
  },
  {
   "cell_type": "code",
   "execution_count": 62,
   "metadata": {
    "execution": {
     "iopub.execute_input": "2022-03-22T00:33:18.563872Z",
     "iopub.status.busy": "2022-03-22T00:33:18.563626Z",
     "iopub.status.idle": "2022-03-22T00:56:25.483705Z",
     "shell.execute_reply": "2022-03-22T00:56:25.482793Z",
     "shell.execute_reply.started": "2022-03-22T00:33:18.563843Z"
    },
    "id": "gz0aWm0GxFYE",
    "outputId": "df102a4f-36d7-4d19-82d0-2ba6616b6006"
   },
   "outputs": [
    {
     "name": "stdout",
     "output_type": "stream",
     "text": [
      "Epoch 1/20\n",
      "10000/10000 [==============================] - 129s 13ms/step - loss: 0.2494 - accuracy: 0.8996 - val_loss: 0.1951 - val_accuracy: 0.9237\n",
      "Epoch 2/20\n",
      "10000/10000 [==============================] - 126s 13ms/step - loss: 0.1648 - accuracy: 0.9387 - val_loss: 0.1997 - val_accuracy: 0.9255\n",
      "Epoch 3/20\n",
      "10000/10000 [==============================] - 126s 13ms/step - loss: 0.1221 - accuracy: 0.9562 - val_loss: 0.2041 - val_accuracy: 0.9253\n",
      "Epoch 4/20\n",
      "10000/10000 [==============================] - 126s 13ms/step - loss: 0.0880 - accuracy: 0.9696 - val_loss: 0.2360 - val_accuracy: 0.9204\n",
      "Epoch 5/20\n",
      "10000/10000 [==============================] - 125s 13ms/step - loss: 0.0626 - accuracy: 0.9789 - val_loss: 0.2974 - val_accuracy: 0.9146\n",
      "Epoch 6/20\n",
      "10000/10000 [==============================] - 126s 13ms/step - loss: 0.0468 - accuracy: 0.9845 - val_loss: 0.3102 - val_accuracy: 0.9142\n",
      "Epoch 7/20\n",
      "10000/10000 [==============================] - 126s 13ms/step - loss: 0.0362 - accuracy: 0.9881 - val_loss: 0.3678 - val_accuracy: 0.9111\n",
      "Epoch 8/20\n",
      "10000/10000 [==============================] - 126s 13ms/step - loss: 0.0286 - accuracy: 0.9904 - val_loss: 0.4241 - val_accuracy: 0.9128\n",
      "Epoch 9/20\n",
      "10000/10000 [==============================] - 126s 13ms/step - loss: 0.0232 - accuracy: 0.9923 - val_loss: 0.4494 - val_accuracy: 0.9104\n",
      "Epoch 10/20\n",
      "10000/10000 [==============================] - 126s 13ms/step - loss: 0.0190 - accuracy: 0.9936 - val_loss: 0.4584 - val_accuracy: 0.9070\n",
      "Epoch 11/20\n",
      "10000/10000 [==============================] - 126s 13ms/step - loss: 0.0165 - accuracy: 0.9944 - val_loss: 0.4608 - val_accuracy: 0.9077\n"
     ]
    }
   ],
   "source": [
    "model.compile(loss='binary_crossentropy', optimizer='adam', metrics=['accuracy'])\n",
    "callbacks = [keras.callbacks.EarlyStopping(patience=10, restore_best_weights=False), \n",
    "             keras.callbacks.ModelCheckpoint('bilstm_amazon.h5', save_best_only=True)]\n",
    "\n",
    "history = model.fit(X_train, y_train, epochs=20, validation_data=(X_valid, y_valid), callbacks=callbacks)"
   ]
  },
  {
   "cell_type": "code",
   "execution_count": 63,
   "metadata": {
    "execution": {
     "iopub.execute_input": "2022-03-22T00:59:07.041889Z",
     "iopub.status.busy": "2022-03-22T00:59:07.041381Z",
     "iopub.status.idle": "2022-03-22T00:59:43.611456Z",
     "shell.execute_reply": "2022-03-22T00:59:43.610609Z",
     "shell.execute_reply.started": "2022-03-22T00:59:07.041850Z"
    },
    "id": "WwEOjwSIxNN1"
   },
   "outputs": [
    {
     "data": {
      "image/png": "[encoded data removed]",
      "text/plain": [
       "<Figure size 432x288 with 1 Axes>"
      ]
     },
     "metadata": {
      "needs_background": "light"
     },
     "output_type": "display_data"
    },
    {
     "data": {
      "image/png": "[encoded data removed]",
      "text/plain": [
       "<Figure size 432x288 with 1 Axes>"
      ]
     },
     "metadata": {
      "needs_background": "light"
     },
     "output_type": "display_data"
    }
   ],
   "source": [
    "learning_curve(history)"
   ]
  },
  {
   "cell_type": "code",
   "execution_count": 64,
   "metadata": {
    "execution": {
     "iopub.execute_input": "2022-03-22T00:59:43.613225Z",
     "iopub.status.busy": "2022-03-22T00:59:43.612986Z",
     "iopub.status.idle": "2022-03-22T00:59:49.190768Z",
     "shell.execute_reply": "2022-03-22T00:59:49.190080Z",
     "shell.execute_reply.started": "2022-03-22T00:59:43.613192Z"
    },
    "id": "6z8xQAO7FWRw"
   },
   "outputs": [
    {
     "name": "stdout",
     "output_type": "stream",
     "text": [
      "1250/1250 [==============================] - 6s 4ms/step - loss: 0.4717 - accuracy: 0.9064\n"
     ]
    },
    {
     "data": {
      "text/plain": [
       "(0.4717457592487335, 0.906374990940094)"
      ]
     },
     "execution_count": 64,
     "metadata": {},
     "output_type": "execute_result"
    }
   ],
   "source": [
    "loss_4, acc_4 = model.evaluate(test, test_labels)\n",
    "loss_4, acc_4"
   ]
  },
  {
   "cell_type": "markdown",
   "metadata": {
    "id": "eujvFfP4lNEd"
   },
   "source": [
    "## Using Pretrained glove Embeddings"
   ]
  },
  {
   "cell_type": "code",
   "execution_count": 65,
   "metadata": {
    "execution": {
     "iopub.execute_input": "2022-03-22T00:59:58.722080Z",
     "iopub.status.busy": "2022-03-22T00:59:58.721827Z",
     "iopub.status.idle": "2022-03-22T00:59:58.956004Z",
     "shell.execute_reply": "2022-03-22T00:59:58.955183Z",
     "shell.execute_reply.started": "2022-03-22T00:59:58.722050Z"
    },
    "id": "slsiVoRKlaok"
   },
   "outputs": [],
   "source": [
    "model = models.Sequential(name='pretrained_embeddings')\n",
    "model.add(layers.Embedding(input_dim=num_words, output_dim=embedding_dim, input_length=maxlen))\n",
    "model.add(layers.LSTM(64, dropout=0.2, return_sequences=False))\n",
    "model.add(layers.Dense(1, activation='sigmoid'))"
   ]
  },
  {
   "cell_type": "code",
   "execution_count": 66,
   "metadata": {
    "execution": {
     "iopub.execute_input": "2022-03-22T01:00:05.106397Z",
     "iopub.status.busy": "2022-03-22T01:00:05.106138Z",
     "iopub.status.idle": "2022-03-22T01:00:05.115328Z",
     "shell.execute_reply": "2022-03-22T01:00:05.114440Z",
     "shell.execute_reply.started": "2022-03-22T01:00:05.106368Z"
    },
    "executionInfo": {
     "elapsed": 500,
     "status": "ok",
     "timestamp": 1647297843641,
     "user": {
      "displayName": "Adewole Akorede",
      "photoUrl": "https://lh3.googleusercontent.com/a-/AOh14Gg03grqCyFQgax4UoMPg_gPqiuE8Jeq4oiFSV2x=s64",
      "userId": "08678817209531841234"
     },
     "user_tz": -60
    },
    "id": "cEXfOf0Nmg9Z",
    "outputId": "4a011ab5-0d9c-41f9-c990-cd1c1918b06e"
   },
   "outputs": [
    {
     "name": "stdout",
     "output_type": "stream",
     "text": [
      "Model: \"pretrained_embeddings\"\n",
      "_________________________________________________________________\n",
      "Layer (type)                 Output Shape              Param #   \n",
      "=================================================================\n",
      "embedding_4 (Embedding)      (None, 100, 100)          7000000   \n",
      "_________________________________________________________________\n",
      "lstm_2 (LSTM)                (None, 64)                42240     \n",
      "_________________________________________________________________\n",
      "dense_8 (Dense)              (None, 1)                 65        \n",
      "=================================================================\n",
      "Total params: 7,042,305\n",
      "Trainable params: 7,042,305\n",
      "Non-trainable params: 0\n",
      "_________________________________________________________________\n"
     ]
    }
   ],
   "source": [
    "model.summary()"
   ]
  },
  {
   "cell_type": "code",
   "execution_count": 68,
   "metadata": {
    "execution": {
     "iopub.execute_input": "2022-03-22T01:01:33.289824Z",
     "iopub.status.busy": "2022-03-22T01:01:33.289516Z",
     "iopub.status.idle": "2022-03-22T01:01:46.232840Z",
     "shell.execute_reply": "2022-03-22T01:01:46.232084Z",
     "shell.execute_reply.started": "2022-03-22T01:01:33.289781Z"
    },
    "executionInfo": {
     "elapsed": 11778,
     "status": "ok",
     "timestamp": 1647298271645,
     "user": {
      "displayName": "Adewole Akorede",
      "photoUrl": "https://lh3.googleusercontent.com/a-/AOh14Gg03grqCyFQgax4UoMPg_gPqiuE8Jeq4oiFSV2x=s64",
      "userId": "08678817209531841234"
     },
     "user_tz": -60
    },
    "id": "c3BXrrkQmks4",
    "outputId": "3483621c-11f8-4e28-c7a1-905214dfb9d5"
   },
   "outputs": [
    {
     "name": "stdout",
     "output_type": "stream",
     "text": [
      "There are 400000 words found\n"
     ]
    }
   ],
   "source": [
    "# we need to use the glove embeddings to set the weights of the Embedding layer\n",
    "\n",
    "embedding_path = '../input/glove6b100dtxt/glove.6B.100d.txt'\n",
    "\n",
    "# create a dictionary to store the index\n",
    "embedding_index = {}\n",
    "f = open(embedding_path)\n",
    "\n",
    "for line in f:\n",
    "    values = line.split()\n",
    "    word = values[0]\n",
    "    coefs = np.array(values[1:], dtype='float32')\n",
    "    embedding_index[word] = coefs\n",
    "\n",
    "f.close()\n",
    "print(f'There are {len(embedding_index)} words found')"
   ]
  },
  {
   "cell_type": "code",
   "execution_count": 69,
   "metadata": {
    "execution": {
     "iopub.execute_input": "2022-03-22T01:02:29.462810Z",
     "iopub.status.busy": "2022-03-22T01:02:29.462262Z",
     "iopub.status.idle": "2022-03-22T01:02:29.772833Z",
     "shell.execute_reply": "2022-03-22T01:02:29.772046Z",
     "shell.execute_reply.started": "2022-03-22T01:02:29.462772Z"
    },
    "id": "McEyPzV5oKiY"
   },
   "outputs": [],
   "source": [
    "# initialize an zero matrix of shape (num_words, embedding_dim)\n",
    "\n",
    "embedding_matrix = np.zeros((num_words, embedding_dim))\n",
    "\n",
    "for word, index in word_index.items():\n",
    "    if index < num_words:\n",
    "        embedding_vector = embedding_index.get(word)\n",
    "        if embedding_vector is not None:\n",
    "            embedding_matrix[index] = embedding_vector # maps each index in our word_index to its glove embeddings"
   ]
  },
  {
   "cell_type": "code",
   "execution_count": 73,
   "metadata": {
    "execution": {
     "iopub.execute_input": "2022-03-22T01:03:40.851442Z",
     "iopub.status.busy": "2022-03-22T01:03:40.851026Z",
     "iopub.status.idle": "2022-03-22T01:03:40.856927Z",
     "shell.execute_reply": "2022-03-22T01:03:40.856215Z",
     "shell.execute_reply.started": "2022-03-22T01:03:40.851398Z"
    }
   },
   "outputs": [
    {
     "data": {
      "text/plain": [
       "(100,)"
      ]
     },
     "execution_count": 73,
     "metadata": {},
     "output_type": "execute_result"
    }
   ],
   "source": [
    "embedding_matrix[0].shape"
   ]
  },
  {
   "cell_type": "code",
   "execution_count": 74,
   "metadata": {
    "execution": {
     "iopub.execute_input": "2022-03-22T01:03:44.222649Z",
     "iopub.status.busy": "2022-03-22T01:03:44.222030Z",
     "iopub.status.idle": "2022-03-22T01:03:44.243115Z",
     "shell.execute_reply": "2022-03-22T01:03:44.242362Z",
     "shell.execute_reply.started": "2022-03-22T01:03:44.222606Z"
    },
    "id": "ePPvflCBpx3F"
   },
   "outputs": [],
   "source": [
    "model.layers[0].set_weights([embedding_matrix])\n",
    "model.layers[0].trainable = False"
   ]
  },
  {
   "cell_type": "code",
   "execution_count": 75,
   "metadata": {
    "execution": {
     "iopub.execute_input": "2022-03-22T01:03:50.362182Z",
     "iopub.status.busy": "2022-03-22T01:03:50.361929Z",
     "iopub.status.idle": "2022-03-22T01:33:57.236224Z",
     "shell.execute_reply": "2022-03-22T01:33:57.235549Z",
     "shell.execute_reply.started": "2022-03-22T01:03:50.362152Z"
    },
    "executionInfo": {
     "elapsed": 4640367,
     "status": "error",
     "timestamp": 1647303485076,
     "user": {
      "displayName": "Adewole Akorede",
      "photoUrl": "https://lh3.googleusercontent.com/a-/AOh14Gg03grqCyFQgax4UoMPg_gPqiuE8Jeq4oiFSV2x=s64",
      "userId": "08678817209531841234"
     },
     "user_tz": -60
    },
    "id": "QvWBDa85p2Y8",
    "outputId": "d713b4ba-b102-4fa3-8874-43a86005fffd"
   },
   "outputs": [
    {
     "name": "stdout",
     "output_type": "stream",
     "text": [
      "Epoch 1/30\n",
      "10000/10000 [==============================] - 61s 6ms/step - loss: 0.3495 - accuracy: 0.8445 - val_loss: 0.2812 - val_accuracy: 0.8810\n",
      "Epoch 2/30\n",
      "10000/10000 [==============================] - 60s 6ms/step - loss: 0.2685 - accuracy: 0.8874 - val_loss: 0.2318 - val_accuracy: 0.9049\n",
      "Epoch 3/30\n",
      "10000/10000 [==============================] - 60s 6ms/step - loss: 0.2442 - accuracy: 0.8988 - val_loss: 0.2198 - val_accuracy: 0.9105\n",
      "Epoch 4/30\n",
      "10000/10000 [==============================] - 60s 6ms/step - loss: 0.2313 - accuracy: 0.9051 - val_loss: 0.2132 - val_accuracy: 0.9139\n",
      "Epoch 5/30\n",
      "10000/10000 [==============================] - 60s 6ms/step - loss: 0.2227 - accuracy: 0.9094 - val_loss: 0.2073 - val_accuracy: 0.9167\n",
      "Epoch 6/30\n",
      "10000/10000 [==============================] - 60s 6ms/step - loss: 0.2165 - accuracy: 0.9129 - val_loss: 0.2061 - val_accuracy: 0.9168\n",
      "Epoch 7/30\n",
      "10000/10000 [==============================] - 60s 6ms/step - loss: 0.2109 - accuracy: 0.9147 - val_loss: 0.2077 - val_accuracy: 0.9176\n",
      "Epoch 8/30\n",
      "10000/10000 [==============================] - 63s 6ms/step - loss: 0.2073 - accuracy: 0.9166 - val_loss: 0.2026 - val_accuracy: 0.9198\n",
      "Epoch 9/30\n",
      "10000/10000 [==============================] - 59s 6ms/step - loss: 0.2042 - accuracy: 0.9178 - val_loss: 0.2030 - val_accuracy: 0.9192\n",
      "Epoch 10/30\n",
      "10000/10000 [==============================] - 64s 6ms/step - loss: 0.2016 - accuracy: 0.9190 - val_loss: 0.1980 - val_accuracy: 0.9218\n",
      "Epoch 11/30\n",
      "10000/10000 [==============================] - 60s 6ms/step - loss: 0.1995 - accuracy: 0.9202 - val_loss: 0.1957 - val_accuracy: 0.9226\n",
      "Epoch 12/30\n",
      "10000/10000 [==============================] - 64s 6ms/step - loss: 0.1980 - accuracy: 0.9206 - val_loss: 0.1952 - val_accuracy: 0.9229\n",
      "Epoch 13/30\n",
      "10000/10000 [==============================] - 60s 6ms/step - loss: 0.1966 - accuracy: 0.9217 - val_loss: 0.1961 - val_accuracy: 0.9232\n",
      "Epoch 14/30\n",
      "10000/10000 [==============================] - 59s 6ms/step - loss: 0.1952 - accuracy: 0.9218 - val_loss: 0.1956 - val_accuracy: 0.9228\n",
      "Epoch 15/30\n",
      "10000/10000 [==============================] - 60s 6ms/step - loss: 0.1935 - accuracy: 0.9227 - val_loss: 0.1992 - val_accuracy: 0.9225\n",
      "Epoch 16/30\n",
      "10000/10000 [==============================] - 60s 6ms/step - loss: 0.1919 - accuracy: 0.9237 - val_loss: 0.1959 - val_accuracy: 0.9242\n",
      "Epoch 17/30\n",
      "10000/10000 [==============================] - 60s 6ms/step - loss: 0.1914 - accuracy: 0.9241 - val_loss: 0.1956 - val_accuracy: 0.9246\n",
      "Epoch 18/30\n",
      "10000/10000 [==============================] - 60s 6ms/step - loss: 0.1907 - accuracy: 0.9242 - val_loss: 0.2045 - val_accuracy: 0.9193\n",
      "Epoch 19/30\n",
      "10000/10000 [==============================] - 60s 6ms/step - loss: 0.1899 - accuracy: 0.9243 - val_loss: 0.2014 - val_accuracy: 0.9216\n",
      "Epoch 20/30\n",
      "10000/10000 [==============================] - 60s 6ms/step - loss: 0.1897 - accuracy: 0.9244 - val_loss: 0.2008 - val_accuracy: 0.9228\n",
      "Epoch 21/30\n",
      "10000/10000 [==============================] - 60s 6ms/step - loss: 0.1881 - accuracy: 0.9252 - val_loss: 0.1946 - val_accuracy: 0.9241\n",
      "Epoch 22/30\n",
      "10000/10000 [==============================] - 59s 6ms/step - loss: 0.1884 - accuracy: 0.9246 - val_loss: 0.1950 - val_accuracy: 0.9249\n",
      "Epoch 23/30\n",
      "10000/10000 [==============================] - 60s 6ms/step - loss: 0.1874 - accuracy: 0.9256 - val_loss: 0.1926 - val_accuracy: 0.9247\n",
      "Epoch 24/30\n",
      "10000/10000 [==============================] - 60s 6ms/step - loss: 0.1861 - accuracy: 0.9265 - val_loss: 0.1968 - val_accuracy: 0.9235\n",
      "Epoch 25/30\n",
      "10000/10000 [==============================] - 60s 6ms/step - loss: 0.1860 - accuracy: 0.9259 - val_loss: 0.1910 - val_accuracy: 0.9259\n",
      "Epoch 26/30\n",
      "10000/10000 [==============================] - 60s 6ms/step - loss: 0.1853 - accuracy: 0.9262 - val_loss: 0.1931 - val_accuracy: 0.9257\n",
      "Epoch 27/30\n",
      "10000/10000 [==============================] - 60s 6ms/step - loss: 0.1847 - accuracy: 0.9266 - val_loss: 0.1929 - val_accuracy: 0.9258\n",
      "Epoch 28/30\n",
      "10000/10000 [==============================] - 59s 6ms/step - loss: 0.1852 - accuracy: 0.9267 - val_loss: 0.1945 - val_accuracy: 0.9240\n",
      "Epoch 29/30\n",
      "10000/10000 [==============================] - 60s 6ms/step - loss: 0.1841 - accuracy: 0.9273 - val_loss: 0.1938 - val_accuracy: 0.9254\n",
      "Epoch 30/30\n",
      "10000/10000 [==============================] - 60s 6ms/step - loss: 0.1834 - accuracy: 0.9273 - val_loss: 0.2011 - val_accuracy: 0.9226\n"
     ]
    }
   ],
   "source": [
    "model.compile(loss='binary_crossentropy', optimizer='adam', metrics=['accuracy'])\n",
    "callbacks = [keras.callbacks.EarlyStopping(patience=15, restore_best_weights=False), \n",
    "             keras.callbacks.ModelCheckpoint('glove_amazon.h5', save_best_only=True)]\n",
    "\n",
    "history = model.fit(X_train, y_train, epochs=30, validation_data=(X_valid, y_valid), callbacks=callbacks)"
   ]
  },
  {
   "cell_type": "code",
   "execution_count": 76,
   "metadata": {
    "execution": {
     "iopub.execute_input": "2022-03-22T01:42:20.474418Z",
     "iopub.status.busy": "2022-03-22T01:42:20.473464Z",
     "iopub.status.idle": "2022-03-22T01:42:20.483545Z",
     "shell.execute_reply": "2022-03-22T01:42:20.482447Z",
     "shell.execute_reply.started": "2022-03-22T01:42:20.474354Z"
    },
    "executionInfo": {
     "elapsed": 10,
     "status": "ok",
     "timestamp": 1647303549654,
     "user": {
      "displayName": "Adewole Akorede",
      "photoUrl": "https://lh3.googleusercontent.com/a-/AOh14Gg03grqCyFQgax4UoMPg_gPqiuE8Jeq4oiFSV2x=s64",
      "userId": "08678817209531841234"
     },
     "user_tz": -60
    },
    "id": "IjW_9udQ8KYq",
    "outputId": "3574139f-c131-4b18-90c9-5df052d84dd9"
   },
   "outputs": [
    {
     "name": "stdout",
     "output_type": "stream",
     "text": [
      "Model: \"pretrained_embeddings\"\n",
      "_________________________________________________________________\n",
      "Layer (type)                 Output Shape              Param #   \n",
      "=================================================================\n",
      "embedding_4 (Embedding)      (None, 100, 100)          7000000   \n",
      "_________________________________________________________________\n",
      "lstm_2 (LSTM)                (None, 64)                42240     \n",
      "_________________________________________________________________\n",
      "dense_8 (Dense)              (None, 1)                 65        \n",
      "=================================================================\n",
      "Total params: 7,042,305\n",
      "Trainable params: 42,305\n",
      "Non-trainable params: 7,000,000\n",
      "_________________________________________________________________\n"
     ]
    }
   ],
   "source": [
    "model.summary()"
   ]
  },
  {
   "cell_type": "code",
   "execution_count": 77,
   "metadata": {
    "execution": {
     "iopub.execute_input": "2022-03-22T01:42:30.454983Z",
     "iopub.status.busy": "2022-03-22T01:42:30.454739Z",
     "iopub.status.idle": "2022-03-22T01:42:34.119866Z",
     "shell.execute_reply": "2022-03-22T01:42:34.119219Z",
     "shell.execute_reply.started": "2022-03-22T01:42:30.454954Z"
    },
    "executionInfo": {
     "elapsed": 12491,
     "status": "ok",
     "timestamp": 1647303670962,
     "user": {
      "displayName": "Adewole Akorede",
      "photoUrl": "https://lh3.googleusercontent.com/a-/AOh14Gg03grqCyFQgax4UoMPg_gPqiuE8Jeq4oiFSV2x=s64",
      "userId": "08678817209531841234"
     },
     "user_tz": -60
    },
    "id": "5l2kYdQg8SPn",
    "outputId": "ddd81fef-1644-4dc9-a3b3-f4feefb52490"
   },
   "outputs": [
    {
     "name": "stdout",
     "output_type": "stream",
     "text": [
      "1250/1250 [==============================] - 4s 3ms/step - loss: 0.2077 - accuracy: 0.9197\n"
     ]
    },
    {
     "data": {
      "text/plain": [
       "(0.20765915513038635, 0.9196500182151794)"
      ]
     },
     "execution_count": 77,
     "metadata": {},
     "output_type": "execute_result"
    }
   ],
   "source": [
    "loss_5, acc_5 = model.evaluate(test, test_labels)\n",
    "loss_5, acc_5"
   ]
  },
  {
   "cell_type": "code",
   "execution_count": 79,
   "metadata": {
    "execution": {
     "iopub.execute_input": "2022-03-22T01:50:17.700721Z",
     "iopub.status.busy": "2022-03-22T01:50:17.700459Z",
     "iopub.status.idle": "2022-03-22T01:50:17.714250Z",
     "shell.execute_reply": "2022-03-22T01:50:17.713465Z",
     "shell.execute_reply.started": "2022-03-22T01:50:17.700693Z"
    }
   },
   "outputs": [
    {
     "data": {
      "text/html": [
       "<div>\n",
       "<style scoped>\n",
       "    .dataframe tbody tr th:only-of-type {\n",
       "        vertical-align: middle;\n",
       "    }\n",
       "\n",
       "    .dataframe tbody tr th {\n",
       "        vertical-align: top;\n",
       "    }\n",
       "\n",
       "    .dataframe thead th {\n",
       "        text-align: right;\n",
       "    }\n",
       "</style>\n",
       "<table border=\"1\" class=\"dataframe\">\n",
       "  <thead>\n",
       "    <tr style=\"text-align: right;\">\n",
       "      <th></th>\n",
       "      <th>loss</th>\n",
       "      <th>accuracy</th>\n",
       "    </tr>\n",
       "  </thead>\n",
       "  <tbody>\n",
       "    <tr>\n",
       "      <th>Baseline</th>\n",
       "      <td>0.210006</td>\n",
       "      <td>0.916625</td>\n",
       "    </tr>\n",
       "    <tr>\n",
       "      <th>Baseline with dropout</th>\n",
       "      <td>0.362558</td>\n",
       "      <td>0.901500</td>\n",
       "    </tr>\n",
       "    <tr>\n",
       "      <th>LSTM Model</th>\n",
       "      <td>0.458077</td>\n",
       "      <td>0.906100</td>\n",
       "    </tr>\n",
       "    <tr>\n",
       "      <th>Bidirectional LSTM</th>\n",
       "      <td>0.471746</td>\n",
       "      <td>0.906375</td>\n",
       "    </tr>\n",
       "    <tr>\n",
       "      <th>Pretrained Embeddings</th>\n",
       "      <td>0.207659</td>\n",
       "      <td>0.919650</td>\n",
       "    </tr>\n",
       "  </tbody>\n",
       "</table>\n",
       "</div>"
      ],
      "text/plain": [
       "                           loss  accuracy\n",
       "Baseline               0.210006  0.916625\n",
       "Baseline with dropout  0.362558  0.901500\n",
       "LSTM Model             0.458077  0.906100\n",
       "Bidirectional LSTM     0.471746  0.906375\n",
       "Pretrained Embeddings  0.207659  0.919650"
      ]
     },
     "execution_count": 79,
     "metadata": {},
     "output_type": "execute_result"
    }
   ],
   "source": [
    "result = pd.DataFrame({'loss': [loss_1, loss_2, loss_3, loss_4, loss_5], \n",
    "                      'accuracy': [acc_1, acc_2, acc_3, acc_4, acc_5], \n",
    "                      }, index = ['Baseline', 'Baseline with dropout', 'LSTM Model', 'Bidirectional LSTM',\n",
    "                                 'Pretrained Embeddings'])\n",
    "result"
   ]
  },
  {
   "cell_type": "code",
   "execution_count": null,
   "metadata": {},
   "outputs": [],
   "source": []
  }
 ],
 "metadata": {
  "kernelspec": {
   "display_name": "Python 3",
   "language": "python",
   "name": "python3"
  },
  "language_info": {
   "codemirror_mode": {
    "name": "ipython",
    "version": 3
   },
   "file_extension": ".py",
   "mimetype": "text/x-python",
   "name": "python",
   "nbconvert_exporter": "python",
   "pygments_lexer": "ipython3",
   "version": "3.9.2"
  }
 },
 "nbformat": 4,
 "nbformat_minor": 4
}

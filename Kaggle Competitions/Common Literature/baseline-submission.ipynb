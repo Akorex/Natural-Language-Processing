{
 "cells": [
  {
   "cell_type": "code",
   "execution_count": 1,
   "id": "2fe270e0",
   "metadata": {
    "execution": {
     "iopub.execute_input": "2023-09-30T05:33:59.642587Z",
     "iopub.status.busy": "2023-09-30T05:33:59.642266Z",
     "iopub.status.idle": "2023-09-30T05:34:04.047527Z",
     "shell.execute_reply": "2023-09-30T05:34:04.046635Z"
    },
    "papermill": {
     "duration": 4.414609,
     "end_time": "2023-09-30T05:34:04.049602",
     "exception": false,
     "start_time": "2023-09-30T05:33:59.634993",
     "status": "completed"
    },
    "tags": []
   },
   "outputs": [
    {
     "name": "stderr",
     "output_type": "stream",
     "text": [
      "/opt/conda/lib/python3.10/site-packages/scipy/__init__.py:146: UserWarning: A NumPy version >=1.16.5 and <1.23.0 is required for this version of SciPy (detected version 1.23.5\n",
      "  warnings.warn(f\"A NumPy version >={np_minversion} and <{np_maxversion}\"\n"
     ]
    }
   ],
   "source": [
    "import os\n",
    "import numpy as np\n",
    "import pandas as pd\n",
    "import seaborn as sns\n",
    "import matplotlib.pyplot as plt\n",
    "import torch \n",
    "from torch import nn"
   ]
  },
  {
   "cell_type": "markdown",
   "id": "6c6d0281",
   "metadata": {
    "papermill": {
     "duration": 0.005699,
     "end_time": "2023-09-30T05:34:04.062728",
     "exception": false,
     "start_time": "2023-09-30T05:34:04.057029",
     "status": "completed"
    },
    "tags": []
   },
   "source": [
    "## Possible Future Work\n",
    "\n",
    "1. [LGBM + Deberta](https://www.kaggle.com/code/siddhvr/commonlit-ess-lgbm-autocorrect-deberta-v3-tuned#Dataload)\n",
    "2. [LGBM + Deberta 2](https://www.kaggle.com/code/tsunotsuno/debertav3-lgbm-no-autocorrect)"
   ]
  },
  {
   "cell_type": "code",
   "execution_count": 2,
   "id": "3e42ead8",
   "metadata": {
    "execution": {
     "iopub.execute_input": "2023-09-30T05:34:04.074883Z",
     "iopub.status.busy": "2023-09-30T05:34:04.074507Z",
     "iopub.status.idle": "2023-09-30T05:34:04.142925Z",
     "shell.execute_reply": "2023-09-30T05:34:04.141971Z"
    },
    "papermill": {
     "duration": 0.076063,
     "end_time": "2023-09-30T05:34:04.144667",
     "exception": false,
     "start_time": "2023-09-30T05:34:04.068604",
     "status": "completed"
    },
    "tags": []
   },
   "outputs": [],
   "source": [
    "# parameters for training\n",
    "\n",
    "EPOCHS = 5\n",
    "model_name = '/kaggle/input/bert-base-uncased'\n",
    "num_labels = 2\n",
    "learning_rate = 0.01\n",
    "BATCH_SIZE = 20\n",
    "\n",
    "# If there are GPUs available, use the first one \n",
    "device = torch.device('cuda:0' if torch.cuda.is_available() else 'cpu')"
   ]
  },
  {
   "cell_type": "code",
   "execution_count": 3,
   "id": "9ed13f1c",
   "metadata": {
    "execution": {
     "iopub.execute_input": "2023-09-30T05:34:04.156191Z",
     "iopub.status.busy": "2023-09-30T05:34:04.155935Z",
     "iopub.status.idle": "2023-09-30T05:34:04.271491Z",
     "shell.execute_reply": "2023-09-30T05:34:04.270616Z"
    },
    "papermill": {
     "duration": 0.123341,
     "end_time": "2023-09-30T05:34:04.273349",
     "exception": false,
     "start_time": "2023-09-30T05:34:04.150008",
     "status": "completed"
    },
    "tags": []
   },
   "outputs": [
    {
     "data": {
      "text/plain": [
       "((7165, 5), (4, 4))"
      ]
     },
     "execution_count": 3,
     "metadata": {},
     "output_type": "execute_result"
    }
   ],
   "source": [
    "summaries = pd.read_csv('/kaggle/input/commonlit-evaluate-student-summaries/summaries_train.csv')\n",
    "prompts = pd.read_csv('/kaggle/input/commonlit-evaluate-student-summaries/prompts_train.csv')\n",
    "\n",
    "summaries.shape, prompts.shape"
   ]
  },
  {
   "cell_type": "code",
   "execution_count": 4,
   "id": "64ad2bf2",
   "metadata": {
    "execution": {
     "iopub.execute_input": "2023-09-30T05:34:04.285022Z",
     "iopub.status.busy": "2023-09-30T05:34:04.284761Z",
     "iopub.status.idle": "2023-09-30T05:34:04.309702Z",
     "shell.execute_reply": "2023-09-30T05:34:04.308862Z"
    },
    "papermill": {
     "duration": 0.032791,
     "end_time": "2023-09-30T05:34:04.311502",
     "exception": false,
     "start_time": "2023-09-30T05:34:04.278711",
     "status": "completed"
    },
    "tags": []
   },
   "outputs": [],
   "source": [
    "train = summaries.merge(prompts, on = 'prompt_id', how = 'inner')\n",
    "train.drop(['student_id', 'prompt_id'], axis = 1, inplace = True)"
   ]
  },
  {
   "cell_type": "code",
   "execution_count": 5,
   "id": "988f53d9",
   "metadata": {
    "execution": {
     "iopub.execute_input": "2023-09-30T05:34:04.323384Z",
     "iopub.status.busy": "2023-09-30T05:34:04.323154Z",
     "iopub.status.idle": "2023-09-30T05:34:04.590843Z",
     "shell.execute_reply": "2023-09-30T05:34:04.589922Z"
    },
    "papermill": {
     "duration": 0.276077,
     "end_time": "2023-09-30T05:34:04.592981",
     "exception": false,
     "start_time": "2023-09-30T05:34:04.316904",
     "status": "completed"
    },
    "tags": []
   },
   "outputs": [],
   "source": [
    "train['text_len'] = train['text'].apply(lambda x: len(x.split()))\n",
    "train['prompt_len'] = train['prompt_text'].apply(lambda x: len(x.split()))\n",
    "train['length_ratio'] = train['text_len'] / train['prompt_len']"
   ]
  },
  {
   "cell_type": "code",
   "execution_count": 6,
   "id": "e11ddbab",
   "metadata": {
    "execution": {
     "iopub.execute_input": "2023-09-30T05:34:04.605690Z",
     "iopub.status.busy": "2023-09-30T05:34:04.604802Z",
     "iopub.status.idle": "2023-09-30T05:34:04.609732Z",
     "shell.execute_reply": "2023-09-30T05:34:04.608860Z"
    },
    "papermill": {
     "duration": 0.012891,
     "end_time": "2023-09-30T05:34:04.611504",
     "exception": false,
     "start_time": "2023-09-30T05:34:04.598613",
     "status": "completed"
    },
    "tags": []
   },
   "outputs": [],
   "source": [
    "import re\n",
    "\n",
    "def preprocess_text(text):\n",
    "    text = text.lower()\n",
    "    text = re.sub(r\"[^a-zA-Z0-9]\", \" \", text)\n",
    "    \n",
    "    return text"
   ]
  },
  {
   "cell_type": "code",
   "execution_count": 7,
   "id": "667d5979",
   "metadata": {
    "execution": {
     "iopub.execute_input": "2023-09-30T05:34:04.623830Z",
     "iopub.status.busy": "2023-09-30T05:34:04.623007Z",
     "iopub.status.idle": "2023-09-30T05:34:06.675830Z",
     "shell.execute_reply": "2023-09-30T05:34:06.674914Z"
    },
    "papermill": {
     "duration": 2.061264,
     "end_time": "2023-09-30T05:34:06.677988",
     "exception": false,
     "start_time": "2023-09-30T05:34:04.616724",
     "status": "completed"
    },
    "tags": []
   },
   "outputs": [],
   "source": [
    "train['text'] = train['text'].apply(lambda x: preprocess_text(x))\n",
    "train['prompt_question'] = train['prompt_question'].apply(lambda x: preprocess_text(x))\n",
    "train['prompt_text'] = train['prompt_text'].apply(lambda x: preprocess_text(x))\n",
    "train['prompt_title'] = train['prompt_title'].apply(lambda x: preprocess_text(x))"
   ]
  },
  {
   "cell_type": "code",
   "execution_count": 8,
   "id": "97fb861b",
   "metadata": {
    "execution": {
     "iopub.execute_input": "2023-09-30T05:34:06.690315Z",
     "iopub.status.busy": "2023-09-30T05:34:06.690064Z",
     "iopub.status.idle": "2023-09-30T05:34:08.279326Z",
     "shell.execute_reply": "2023-09-30T05:34:08.278392Z"
    },
    "papermill": {
     "duration": 1.597863,
     "end_time": "2023-09-30T05:34:08.281382",
     "exception": false,
     "start_time": "2023-09-30T05:34:06.683519",
     "status": "completed"
    },
    "tags": []
   },
   "outputs": [],
   "source": [
    "from transformers import AutoTokenizer\n",
    "\n",
    "\n",
    "tokenizer = AutoTokenizer.from_pretrained(model_name)"
   ]
  },
  {
   "cell_type": "code",
   "execution_count": 9,
   "id": "84246683",
   "metadata": {
    "execution": {
     "iopub.execute_input": "2023-09-30T05:34:08.294017Z",
     "iopub.status.busy": "2023-09-30T05:34:08.293348Z",
     "iopub.status.idle": "2023-09-30T05:34:08.300128Z",
     "shell.execute_reply": "2023-09-30T05:34:08.299138Z"
    },
    "papermill": {
     "duration": 0.014903,
     "end_time": "2023-09-30T05:34:08.301824",
     "exception": false,
     "start_time": "2023-09-30T05:34:08.286921",
     "status": "completed"
    },
    "tags": []
   },
   "outputs": [],
   "source": [
    "from torch.utils.data import Dataset\n",
    "\n",
    "class TextDataset(Dataset):\n",
    "    def __init__(self, texts, feature_cols, targets, tokenizer, max_length):\n",
    "        self.texts = texts\n",
    "        self.feature_cols = feature_cols\n",
    "        self.targets = targets\n",
    "        self.tokenizer = tokenizer\n",
    "        self.max_length = max_length\n",
    "        \n",
    "    def __len__(self):\n",
    "        return len(self.texts)\n",
    "    \n",
    "    def __getitem__(self, idx):\n",
    "        text = self.texts[idx]\n",
    "        \n",
    "        encoding = self.tokenizer.encode_plus(text,\n",
    "                                             add_special_tokens = True,\n",
    "                                             max_length = self.max_length,\n",
    "                                             return_token_type_ids = False,\n",
    "                                             padding = 'max_length',\n",
    "                                             truncation = True,\n",
    "                                             return_attention_mask = True,\n",
    "                                             return_tensors = 'pt')\n",
    "        \n",
    "        item = {'input_ids': encoding['input_ids'].flatten(),\n",
    "               'attention_mask': encoding['attention_mask'].flatten(),\n",
    "               'feature_cols': torch.tensor(self.feature_cols[idx], dtype=torch.float), \n",
    "               'target': torch.tensor(self.targets[idx], dtype=torch.float)}\n",
    "        \n",
    "        return item"
   ]
  },
  {
   "cell_type": "code",
   "execution_count": 10,
   "id": "b27b4bd5",
   "metadata": {
    "execution": {
     "iopub.execute_input": "2023-09-30T05:34:08.313275Z",
     "iopub.status.busy": "2023-09-30T05:34:08.312738Z",
     "iopub.status.idle": "2023-09-30T05:34:08.319817Z",
     "shell.execute_reply": "2023-09-30T05:34:08.318911Z"
    },
    "papermill": {
     "duration": 0.014667,
     "end_time": "2023-09-30T05:34:08.321577",
     "exception": false,
     "start_time": "2023-09-30T05:34:08.306910",
     "status": "completed"
    },
    "tags": []
   },
   "outputs": [],
   "source": [
    "feature_cols = ['text_len', 'prompt_len', 'length_ratio']\n",
    "targets = ['content', 'wording']\n",
    "MAX_LENGTH = 512\n",
    "feature_col_size = len(feature_cols)\n",
    "\n",
    "dataset = TextDataset(texts = train['text'],\n",
    "                     feature_cols = train[feature_cols].values,\n",
    "                     targets = train[targets].values,\n",
    "                     tokenizer = tokenizer,\n",
    "                     max_length = MAX_LENGTH)"
   ]
  },
  {
   "cell_type": "markdown",
   "id": "f63f404d",
   "metadata": {
    "papermill": {
     "duration": 0.005115,
     "end_time": "2023-09-30T05:34:08.331776",
     "exception": false,
     "start_time": "2023-09-30T05:34:08.326661",
     "status": "completed"
    },
    "tags": []
   },
   "source": [
    "## Modelling"
   ]
  },
  {
   "cell_type": "code",
   "execution_count": 11,
   "id": "b8b68f20",
   "metadata": {
    "execution": {
     "iopub.execute_input": "2023-09-30T05:34:08.343358Z",
     "iopub.status.busy": "2023-09-30T05:34:08.342901Z",
     "iopub.status.idle": "2023-09-30T05:34:08.357065Z",
     "shell.execute_reply": "2023-09-30T05:34:08.356289Z"
    },
    "papermill": {
     "duration": 0.021878,
     "end_time": "2023-09-30T05:34:08.358705",
     "exception": false,
     "start_time": "2023-09-30T05:34:08.336827",
     "status": "completed"
    },
    "tags": []
   },
   "outputs": [],
   "source": [
    "from transformers import AutoModelForSequenceClassification"
   ]
  },
  {
   "cell_type": "code",
   "execution_count": 12,
   "id": "c31682bf",
   "metadata": {
    "execution": {
     "iopub.execute_input": "2023-09-30T05:34:08.370639Z",
     "iopub.status.busy": "2023-09-30T05:34:08.369826Z",
     "iopub.status.idle": "2023-09-30T05:34:08.375878Z",
     "shell.execute_reply": "2023-09-30T05:34:08.375142Z"
    },
    "papermill": {
     "duration": 0.013806,
     "end_time": "2023-09-30T05:34:08.377714",
     "exception": false,
     "start_time": "2023-09-30T05:34:08.363908",
     "status": "completed"
    },
    "tags": []
   },
   "outputs": [],
   "source": [
    "class CustomModel(nn.Module):\n",
    "    def __init__(self, model_name, num_labels, feature_col_size):\n",
    "        \"\"\"Instantiate a model that can fit on the dataset\"\"\"\n",
    "        \n",
    "        super().__init__()\n",
    "        self.model = AutoModelForSequenceClassification.from_pretrained(model_name, num_labels = num_labels)\n",
    "        self.numerics = nn.Linear(feature_col_size, 16)\n",
    "        self.final_layer = nn.Linear(16 + num_labels, num_labels)\n",
    "        \n",
    "    def forward(self, input_ids, attention_mask, feature_cols):\n",
    "        text_output = self.model(input_ids = input_ids, attention_mask = attention_mask)\n",
    "        numerics = self.numerics(feature_cols)\n",
    "        concat_features = torch.cat([text_output.logits, numerics], dim = 1)\n",
    "        \n",
    "        final_output = self.final_layer(concat_features)\n",
    "        \n",
    "        return final_output"
   ]
  },
  {
   "cell_type": "code",
   "execution_count": 13,
   "id": "8871a8bc",
   "metadata": {
    "execution": {
     "iopub.execute_input": "2023-09-30T05:34:08.389366Z",
     "iopub.status.busy": "2023-09-30T05:34:08.388685Z",
     "iopub.status.idle": "2023-09-30T05:34:24.898329Z",
     "shell.execute_reply": "2023-09-30T05:34:24.897213Z"
    },
    "papermill": {
     "duration": 16.517809,
     "end_time": "2023-09-30T05:34:24.900716",
     "exception": false,
     "start_time": "2023-09-30T05:34:08.382907",
     "status": "completed"
    },
    "tags": []
   },
   "outputs": [
    {
     "name": "stderr",
     "output_type": "stream",
     "text": [
      "Some weights of BertForSequenceClassification were not initialized from the model checkpoint at /kaggle/input/bert-base-uncased and are newly initialized: ['classifier.bias', 'classifier.weight']\n",
      "You should probably TRAIN this model on a down-stream task to be able to use it for predictions and inference.\n"
     ]
    },
    {
     "data": {
      "text/plain": [
       "CustomModel(\n",
       "  (model): BertForSequenceClassification(\n",
       "    (bert): BertModel(\n",
       "      (embeddings): BertEmbeddings(\n",
       "        (word_embeddings): Embedding(30522, 768, padding_idx=0)\n",
       "        (position_embeddings): Embedding(512, 768)\n",
       "        (token_type_embeddings): Embedding(2, 768)\n",
       "        (LayerNorm): LayerNorm((768,), eps=1e-12, elementwise_affine=True)\n",
       "        (dropout): Dropout(p=0.1, inplace=False)\n",
       "      )\n",
       "      (encoder): BertEncoder(\n",
       "        (layer): ModuleList(\n",
       "          (0-11): 12 x BertLayer(\n",
       "            (attention): BertAttention(\n",
       "              (self): BertSelfAttention(\n",
       "                (query): Linear(in_features=768, out_features=768, bias=True)\n",
       "                (key): Linear(in_features=768, out_features=768, bias=True)\n",
       "                (value): Linear(in_features=768, out_features=768, bias=True)\n",
       "                (dropout): Dropout(p=0.1, inplace=False)\n",
       "              )\n",
       "              (output): BertSelfOutput(\n",
       "                (dense): Linear(in_features=768, out_features=768, bias=True)\n",
       "                (LayerNorm): LayerNorm((768,), eps=1e-12, elementwise_affine=True)\n",
       "                (dropout): Dropout(p=0.1, inplace=False)\n",
       "              )\n",
       "            )\n",
       "            (intermediate): BertIntermediate(\n",
       "              (dense): Linear(in_features=768, out_features=3072, bias=True)\n",
       "              (intermediate_act_fn): GELUActivation()\n",
       "            )\n",
       "            (output): BertOutput(\n",
       "              (dense): Linear(in_features=3072, out_features=768, bias=True)\n",
       "              (LayerNorm): LayerNorm((768,), eps=1e-12, elementwise_affine=True)\n",
       "              (dropout): Dropout(p=0.1, inplace=False)\n",
       "            )\n",
       "          )\n",
       "        )\n",
       "      )\n",
       "      (pooler): BertPooler(\n",
       "        (dense): Linear(in_features=768, out_features=768, bias=True)\n",
       "        (activation): Tanh()\n",
       "      )\n",
       "    )\n",
       "    (dropout): Dropout(p=0.1, inplace=False)\n",
       "    (classifier): Linear(in_features=768, out_features=2, bias=True)\n",
       "  )\n",
       "  (numerics): Linear(in_features=3, out_features=16, bias=True)\n",
       "  (final_layer): Linear(in_features=18, out_features=2, bias=True)\n",
       ")"
      ]
     },
     "execution_count": 13,
     "metadata": {},
     "output_type": "execute_result"
    }
   ],
   "source": [
    "model = CustomModel(model_name, num_labels, feature_col_size)\n",
    "model.to(device)"
   ]
  },
  {
   "cell_type": "code",
   "execution_count": 14,
   "id": "ba3590e8",
   "metadata": {
    "execution": {
     "iopub.execute_input": "2023-09-30T05:34:24.914541Z",
     "iopub.status.busy": "2023-09-30T05:34:24.914259Z",
     "iopub.status.idle": "2023-09-30T05:34:24.919222Z",
     "shell.execute_reply": "2023-09-30T05:34:24.918311Z"
    },
    "papermill": {
     "duration": 0.013293,
     "end_time": "2023-09-30T05:34:24.920917",
     "exception": false,
     "start_time": "2023-09-30T05:34:24.907624",
     "status": "completed"
    },
    "tags": []
   },
   "outputs": [],
   "source": [
    "# loss and optimizer\n",
    "\n",
    "from torch.optim import Adam\n",
    "from torch.nn import MSELoss\n",
    "\n",
    "\n",
    "optimizer = Adam(model.parameters(), lr = learning_rate)\n",
    "loss_function = MSELoss()"
   ]
  },
  {
   "cell_type": "code",
   "execution_count": 15,
   "id": "4eb1fa13",
   "metadata": {
    "execution": {
     "iopub.execute_input": "2023-09-30T05:34:24.932519Z",
     "iopub.status.busy": "2023-09-30T05:34:24.931989Z",
     "iopub.status.idle": "2023-09-30T05:34:29.893554Z",
     "shell.execute_reply": "2023-09-30T05:34:29.892600Z"
    },
    "papermill": {
     "duration": 4.969598,
     "end_time": "2023-09-30T05:34:29.895609",
     "exception": false,
     "start_time": "2023-09-30T05:34:24.926011",
     "status": "completed"
    },
    "tags": []
   },
   "outputs": [],
   "source": [
    "# split the dataset to train and validation dataset\n",
    "\n",
    "from sklearn.model_selection import train_test_split\n",
    "\n",
    "train_dataset, val_dataset = train_test_split(dataset, test_size = 0.2, shuffle = True, random_state = 42)"
   ]
  },
  {
   "cell_type": "code",
   "execution_count": 16,
   "id": "40967b0f",
   "metadata": {
    "execution": {
     "iopub.execute_input": "2023-09-30T05:34:29.908767Z",
     "iopub.status.busy": "2023-09-30T05:34:29.908497Z",
     "iopub.status.idle": "2023-09-30T05:34:29.913477Z",
     "shell.execute_reply": "2023-09-30T05:34:29.912581Z"
    },
    "papermill": {
     "duration": 0.014181,
     "end_time": "2023-09-30T05:34:29.915443",
     "exception": false,
     "start_time": "2023-09-30T05:34:29.901262",
     "status": "completed"
    },
    "tags": []
   },
   "outputs": [
    {
     "name": "stdout",
     "output_type": "stream",
     "text": [
      "5732 1433\n"
     ]
    }
   ],
   "source": [
    "print(len(train_dataset), len(val_dataset))"
   ]
  },
  {
   "cell_type": "code",
   "execution_count": 17,
   "id": "061db075",
   "metadata": {
    "execution": {
     "iopub.execute_input": "2023-09-30T05:34:29.926940Z",
     "iopub.status.busy": "2023-09-30T05:34:29.926701Z",
     "iopub.status.idle": "2023-09-30T05:34:29.930947Z",
     "shell.execute_reply": "2023-09-30T05:34:29.930076Z"
    },
    "papermill": {
     "duration": 0.011903,
     "end_time": "2023-09-30T05:34:29.932583",
     "exception": false,
     "start_time": "2023-09-30T05:34:29.920680",
     "status": "completed"
    },
    "tags": []
   },
   "outputs": [],
   "source": [
    "# load the dataset using pytorch's dataloader tool\n",
    "\n",
    "from torch.utils.data import DataLoader\n",
    "\n",
    "train_loader = DataLoader(train_dataset, batch_size = BATCH_SIZE)\n",
    "val_loader = DataLoader(val_dataset, batch_size = BATCH_SIZE)"
   ]
  },
  {
   "cell_type": "code",
   "execution_count": 18,
   "id": "d43b4171",
   "metadata": {
    "execution": {
     "iopub.execute_input": "2023-09-30T05:34:29.944621Z",
     "iopub.status.busy": "2023-09-30T05:34:29.943892Z",
     "iopub.status.idle": "2023-09-30T05:34:29.949843Z",
     "shell.execute_reply": "2023-09-30T05:34:29.949066Z"
    },
    "papermill": {
     "duration": 0.013586,
     "end_time": "2023-09-30T05:34:29.951411",
     "exception": false,
     "start_time": "2023-09-30T05:34:29.937825",
     "status": "completed"
    },
    "tags": []
   },
   "outputs": [],
   "source": [
    "def train_step(train_loader):\n",
    "    \"\"\"The training loop for the dataset\"\"\"\n",
    "    \n",
    "    for step, batch in enumerate(train_loader):\n",
    "        epochal_loss = 0\n",
    "        \n",
    "        input_ids = batch['input_ids'].to(device)\n",
    "        attention_mask = batch['attention_mask'].to(device)\n",
    "        feature_cols = batch['feature_cols'].to(device)\n",
    "        targets = batch['target'].to(device)\n",
    "        \n",
    "        optimizer.zero_grad()\n",
    "        \n",
    "        outputs = model(input_ids, attention_mask, feature_cols)\n",
    "        loss = loss_function(outputs, targets)\n",
    "        epochal_loss += loss\n",
    "        loss.backward()\n",
    "        \n",
    "        optimizer.step()\n",
    "        \n",
    "        if step % 50 == 0:\n",
    "            print(f\"Epoch {epoch + 1} Step {step} Loss {loss.item()}\")\n",
    "            \n",
    "    print(f\"Epoch {epoch + 1} Train Loss: {epochal_loss/len(train_loader)}\")"
   ]
  },
  {
   "cell_type": "code",
   "execution_count": 19,
   "id": "0db13590",
   "metadata": {
    "execution": {
     "iopub.execute_input": "2023-09-30T05:34:29.963599Z",
     "iopub.status.busy": "2023-09-30T05:34:29.962768Z",
     "iopub.status.idle": "2023-09-30T05:34:29.968444Z",
     "shell.execute_reply": "2023-09-30T05:34:29.967387Z"
    },
    "papermill": {
     "duration": 0.013401,
     "end_time": "2023-09-30T05:34:29.970082",
     "exception": false,
     "start_time": "2023-09-30T05:34:29.956681",
     "status": "completed"
    },
    "tags": []
   },
   "outputs": [],
   "source": [
    "def val_step(val_loader):\n",
    "    \"\"\"The validation loop\"\"\"\n",
    "    \n",
    "    with torch.no_grad():\n",
    "        for step, batch in enumerate(val_loader):\n",
    "            epochal_loss = 0\n",
    "            \n",
    "            input_ids = batch['input_ids'].to(device)\n",
    "            attention_mask = batch['attention_mask'].to(device)\n",
    "            feature_cols = batch['feature_cols'].to(device)\n",
    "            targets = batch['target'].to(device)\n",
    "            \n",
    "            optimizer.zero_grad()\n",
    "            outputs = model(input_ids, attention_mask, feature_cols)\n",
    "            loss = loss_function(outputs, targets)\n",
    "            epochal_loss += loss\n",
    "        \n",
    "        print(f\"Epoch {epoch + 1} Validation Loss: {epochal_loss/len(val_loader)}\")"
   ]
  },
  {
   "cell_type": "code",
   "execution_count": 20,
   "id": "72e43fff",
   "metadata": {
    "execution": {
     "iopub.execute_input": "2023-09-30T05:34:29.981888Z",
     "iopub.status.busy": "2023-09-30T05:34:29.981529Z",
     "iopub.status.idle": "2023-09-30T06:00:15.123882Z",
     "shell.execute_reply": "2023-09-30T06:00:15.122692Z"
    },
    "papermill": {
     "duration": 1545.150455,
     "end_time": "2023-09-30T06:00:15.125851",
     "exception": false,
     "start_time": "2023-09-30T05:34:29.975396",
     "status": "completed"
    },
    "tags": []
   },
   "outputs": [
    {
     "name": "stdout",
     "output_type": "stream",
     "text": [
      "Epoch 1 Step 0 Loss 35007.8515625\n",
      "Epoch 1 Step 50 Loss 97.30899810791016\n",
      "Epoch 1 Step 100 Loss 32.684730529785156\n",
      "Epoch 1 Step 150 Loss 1.8288627862930298\n",
      "Epoch 1 Step 200 Loss 0.6277834177017212\n",
      "Epoch 1 Step 250 Loss 0.5309807658195496\n",
      "Epoch 1 Train Loss: 0.0021536957938224077\n",
      "Epoch 1 Validation Loss: 0.011408806778490543\n",
      "Total time for training epoch 1: 309.76351833343506s\n",
      "\n",
      "\n",
      "Epoch 2 Step 0 Loss 0.8010343909263611\n",
      "Epoch 2 Step 50 Loss 0.48241645097732544\n",
      "Epoch 2 Step 100 Loss 0.9379791617393494\n",
      "Epoch 2 Step 150 Loss 1.0201877355575562\n",
      "Epoch 2 Step 200 Loss 0.5293674468994141\n",
      "Epoch 2 Step 250 Loss 0.4820473790168762\n",
      "Epoch 2 Train Loss: 0.001962867099791765\n",
      "Epoch 2 Validation Loss: 0.011274609714746475\n",
      "Total time for training epoch 2: 308.59387969970703s\n",
      "\n",
      "\n",
      "Epoch 3 Step 0 Loss 0.8681197166442871\n",
      "Epoch 3 Step 50 Loss 0.36797699332237244\n",
      "Epoch 3 Step 100 Loss 0.8551939129829407\n",
      "Epoch 3 Step 150 Loss 1.224487066268921\n",
      "Epoch 3 Step 200 Loss 0.44947120547294617\n",
      "Epoch 3 Step 250 Loss 0.4987812936306\n",
      "Epoch 3 Train Loss: 0.002826835261657834\n",
      "Epoch 3 Validation Loss: 0.00956991408020258\n",
      "Total time for training epoch 3: 308.7704176902771s\n",
      "\n",
      "\n",
      "Epoch 4 Step 0 Loss 0.8031010031700134\n",
      "Epoch 4 Step 50 Loss 0.3672611713409424\n",
      "Epoch 4 Step 100 Loss 0.833117663860321\n",
      "Epoch 4 Step 150 Loss 1.3786505460739136\n",
      "Epoch 4 Step 200 Loss 0.46840283274650574\n",
      "Epoch 4 Step 250 Loss 0.373641699552536\n",
      "Epoch 4 Train Loss: 0.0033270877320319414\n",
      "Epoch 4 Validation Loss: 0.01315652672201395\n",
      "Total time for training epoch 4: 309.0235092639923s\n",
      "\n",
      "\n",
      "Epoch 5 Step 0 Loss 0.9546182751655579\n",
      "Epoch 5 Step 50 Loss 0.3177507817745209\n",
      "Epoch 5 Step 100 Loss 0.7997533082962036\n",
      "Epoch 5 Step 150 Loss 1.305498480796814\n",
      "Epoch 5 Step 200 Loss 0.4130363464355469\n",
      "Epoch 5 Step 250 Loss 0.3567182719707489\n",
      "Epoch 5 Train Loss: 0.002469358965754509\n",
      "Epoch 5 Validation Loss: 0.02712421491742134\n",
      "Total time for training epoch 5: 308.98622584342957s\n",
      "\n",
      "\n"
     ]
    }
   ],
   "source": [
    "import time\n",
    "\n",
    "for epoch in range(EPOCHS):\n",
    "    start = time.time()\n",
    "    \n",
    "    train_step(train_loader)\n",
    "    val_step(val_loader)\n",
    "    print(f\"Total time for training epoch {epoch + 1}: {time.time() - start}s\")\n",
    "    print('\\n')"
   ]
  },
  {
   "cell_type": "markdown",
   "id": "e081c8b3",
   "metadata": {
    "papermill": {
     "duration": 0.006786,
     "end_time": "2023-09-30T06:00:15.139996",
     "exception": false,
     "start_time": "2023-09-30T06:00:15.133210",
     "status": "completed"
    },
    "tags": []
   },
   "source": [
    "## Evaluation"
   ]
  },
  {
   "cell_type": "code",
   "execution_count": 21,
   "id": "59dd92aa",
   "metadata": {
    "execution": {
     "iopub.execute_input": "2023-09-30T06:00:15.155253Z",
     "iopub.status.busy": "2023-09-30T06:00:15.154635Z",
     "iopub.status.idle": "2023-09-30T06:00:15.180717Z",
     "shell.execute_reply": "2023-09-30T06:00:15.179904Z"
    },
    "papermill": {
     "duration": 0.035409,
     "end_time": "2023-09-30T06:00:15.182335",
     "exception": false,
     "start_time": "2023-09-30T06:00:15.146926",
     "status": "completed"
    },
    "tags": []
   },
   "outputs": [],
   "source": [
    "test_summaries = pd.read_csv('/kaggle/input/commonlit-evaluate-student-summaries/summaries_test.csv')\n",
    "test_prompt = pd.read_csv('/kaggle/input/commonlit-evaluate-student-summaries/prompts_test.csv')\n",
    "\n",
    "student_ids = test_summaries['student_id'].values.tolist()"
   ]
  },
  {
   "cell_type": "code",
   "execution_count": 22,
   "id": "44286722",
   "metadata": {
    "execution": {
     "iopub.execute_input": "2023-09-30T06:00:15.197035Z",
     "iopub.status.busy": "2023-09-30T06:00:15.196790Z",
     "iopub.status.idle": "2023-09-30T06:00:15.209411Z",
     "shell.execute_reply": "2023-09-30T06:00:15.208630Z"
    },
    "papermill": {
     "duration": 0.021899,
     "end_time": "2023-09-30T06:00:15.211097",
     "exception": false,
     "start_time": "2023-09-30T06:00:15.189198",
     "status": "completed"
    },
    "tags": []
   },
   "outputs": [],
   "source": [
    "# feature engineering on the test set\n",
    "\n",
    "test = test_summaries.merge(test_prompt, on = 'prompt_id', how = 'inner')\n",
    "test.drop(['student_id', 'prompt_id'], axis = 1, inplace = True)\n",
    "\n",
    "test['text_len'] = test['text'].apply(lambda x: len(x.split()))\n",
    "test['prompt_len'] = test['prompt_text'].apply(lambda x: len(x.split()))\n",
    "test['length_ratio'] = test['text_len'] / train['prompt_len']"
   ]
  },
  {
   "cell_type": "code",
   "execution_count": 23,
   "id": "9d77a6f6",
   "metadata": {
    "execution": {
     "iopub.execute_input": "2023-09-30T06:00:15.225847Z",
     "iopub.status.busy": "2023-09-30T06:00:15.225488Z",
     "iopub.status.idle": "2023-09-30T06:00:15.231957Z",
     "shell.execute_reply": "2023-09-30T06:00:15.231086Z"
    },
    "papermill": {
     "duration": 0.015647,
     "end_time": "2023-09-30T06:00:15.233559",
     "exception": false,
     "start_time": "2023-09-30T06:00:15.217912",
     "status": "completed"
    },
    "tags": []
   },
   "outputs": [],
   "source": [
    "test['text'] = test['text'].apply(lambda x: preprocess_text(x))\n",
    "test['prompt_question'] = test['prompt_question'].apply(lambda x: preprocess_text(x))\n",
    "test['prompt_text'] = test['prompt_text'].apply(lambda x: preprocess_text(x))\n",
    "test['prompt_title'] = test['prompt_title'].apply(lambda x: preprocess_text(x))"
   ]
  },
  {
   "cell_type": "code",
   "execution_count": 24,
   "id": "6fa01f86",
   "metadata": {
    "execution": {
     "iopub.execute_input": "2023-09-30T06:00:15.249770Z",
     "iopub.status.busy": "2023-09-30T06:00:15.248977Z",
     "iopub.status.idle": "2023-09-30T06:00:15.255277Z",
     "shell.execute_reply": "2023-09-30T06:00:15.254525Z"
    },
    "papermill": {
     "duration": 0.015709,
     "end_time": "2023-09-30T06:00:15.256973",
     "exception": false,
     "start_time": "2023-09-30T06:00:15.241264",
     "status": "completed"
    },
    "tags": []
   },
   "outputs": [],
   "source": [
    "class TestTextDataset(Dataset):\n",
    "    def __init__(self, texts, feature_cols, tokenizer, max_length):\n",
    "        self.texts = texts\n",
    "        self.feature_cols = feature_cols\n",
    "        self.tokenizer = tokenizer\n",
    "        self.max_length = max_length\n",
    "        \n",
    "    def __len__(self):\n",
    "        return len(self.texts)\n",
    "    \n",
    "    def __getitem__(self, idx):\n",
    "        text = self.texts[idx]\n",
    "        \n",
    "        encoding = self.tokenizer.encode_plus(text,\n",
    "                                             add_special_tokens = True,\n",
    "                                             max_length = self.max_length,\n",
    "                                             return_token_type_ids = False,\n",
    "                                             padding = 'max_length',\n",
    "                                             truncation = True,\n",
    "                                             return_attention_mask = True,\n",
    "                                             return_tensors = 'pt')\n",
    "        \n",
    "        item = {'input_ids': encoding['input_ids'].flatten(),\n",
    "               'attention_mask': encoding['attention_mask'].flatten(),\n",
    "               'feature_cols': torch.tensor(self.feature_cols[idx], dtype=torch.float)\n",
    "               }\n",
    "        \n",
    "        return item"
   ]
  },
  {
   "cell_type": "code",
   "execution_count": 25,
   "id": "6d438fbc",
   "metadata": {
    "execution": {
     "iopub.execute_input": "2023-09-30T06:00:15.271842Z",
     "iopub.status.busy": "2023-09-30T06:00:15.271268Z",
     "iopub.status.idle": "2023-09-30T06:00:15.276403Z",
     "shell.execute_reply": "2023-09-30T06:00:15.275614Z"
    },
    "papermill": {
     "duration": 0.014355,
     "end_time": "2023-09-30T06:00:15.278070",
     "exception": false,
     "start_time": "2023-09-30T06:00:15.263715",
     "status": "completed"
    },
    "tags": []
   },
   "outputs": [],
   "source": [
    "test_dataset = TestTextDataset(test['text'],\n",
    "                              test[feature_cols].values,\n",
    "                              tokenizer,\n",
    "                              MAX_LENGTH)\n",
    "test_loader = DataLoader(test_dataset)"
   ]
  },
  {
   "cell_type": "code",
   "execution_count": 26,
   "id": "0b869d5a",
   "metadata": {
    "execution": {
     "iopub.execute_input": "2023-09-30T06:00:15.295595Z",
     "iopub.status.busy": "2023-09-30T06:00:15.293809Z",
     "iopub.status.idle": "2023-09-30T06:00:15.388217Z",
     "shell.execute_reply": "2023-09-30T06:00:15.387330Z"
    },
    "papermill": {
     "duration": 0.105319,
     "end_time": "2023-09-30T06:00:15.390098",
     "exception": false,
     "start_time": "2023-09-30T06:00:15.284779",
     "status": "completed"
    },
    "tags": []
   },
   "outputs": [],
   "source": [
    "preds = []\n",
    "\n",
    "for batch in test_loader:\n",
    "    with torch.no_grad():\n",
    "        input_ids = batch['input_ids'].to(device)\n",
    "        attention_mask = batch['attention_mask'].to(device)\n",
    "        feature_cols = batch['feature_cols'].to(device)\n",
    "        \n",
    "        outputs = model(input_ids, attention_mask, feature_cols)\n",
    "        preds.extend(outputs.cpu().numpy())"
   ]
  },
  {
   "cell_type": "markdown",
   "id": "a3815cf4",
   "metadata": {
    "papermill": {
     "duration": 0.007041,
     "end_time": "2023-09-30T06:00:15.404341",
     "exception": false,
     "start_time": "2023-09-30T06:00:15.397300",
     "status": "completed"
    },
    "tags": []
   },
   "source": [
    "## Submission"
   ]
  },
  {
   "cell_type": "code",
   "execution_count": 27,
   "id": "e8287b80",
   "metadata": {
    "execution": {
     "iopub.execute_input": "2023-09-30T06:00:15.424831Z",
     "iopub.status.busy": "2023-09-30T06:00:15.422152Z",
     "iopub.status.idle": "2023-09-30T06:00:15.431804Z",
     "shell.execute_reply": "2023-09-30T06:00:15.430950Z"
    },
    "papermill": {
     "duration": 0.023352,
     "end_time": "2023-09-30T06:00:15.434822",
     "exception": false,
     "start_time": "2023-09-30T06:00:15.411470",
     "status": "completed"
    },
    "tags": []
   },
   "outputs": [],
   "source": [
    "submission = pd.DataFrame({\n",
    "    'student_id': student_ids,\n",
    "    'content': [pred[0] for pred in preds],\n",
    "    'wording': [pred[1] for pred in preds]\n",
    "})"
   ]
  },
  {
   "cell_type": "code",
   "execution_count": 28,
   "id": "d961789f",
   "metadata": {
    "execution": {
     "iopub.execute_input": "2023-09-30T06:00:15.473981Z",
     "iopub.status.busy": "2023-09-30T06:00:15.473571Z",
     "iopub.status.idle": "2023-09-30T06:00:15.485382Z",
     "shell.execute_reply": "2023-09-30T06:00:15.484197Z"
    },
    "papermill": {
     "duration": 0.032201,
     "end_time": "2023-09-30T06:00:15.487830",
     "exception": false,
     "start_time": "2023-09-30T06:00:15.455629",
     "status": "completed"
    },
    "tags": []
   },
   "outputs": [],
   "source": [
    "def is_valid_float(x):\n",
    "    return isinstance(x, float) and x == x  # This checks that x is not NaN since NaN != NaN in Python.\n",
    "\n",
    "cols_to_check = ['wording', 'content']\n",
    "submission[cols_to_check] = submission[cols_to_check].applymap(lambda x: x if is_valid_float(x) else 0.0)\n"
   ]
  },
  {
   "cell_type": "code",
   "execution_count": 29,
   "id": "df4db133",
   "metadata": {
    "execution": {
     "iopub.execute_input": "2023-09-30T06:00:15.516015Z",
     "iopub.status.busy": "2023-09-30T06:00:15.515755Z",
     "iopub.status.idle": "2023-09-30T06:00:15.527264Z",
     "shell.execute_reply": "2023-09-30T06:00:15.526316Z"
    },
    "papermill": {
     "duration": 0.022851,
     "end_time": "2023-09-30T06:00:15.529090",
     "exception": false,
     "start_time": "2023-09-30T06:00:15.506239",
     "status": "completed"
    },
    "tags": []
   },
   "outputs": [
    {
     "data": {
      "text/html": [
       "<div>\n",
       "<style scoped>\n",
       "    .dataframe tbody tr th:only-of-type {\n",
       "        vertical-align: middle;\n",
       "    }\n",
       "\n",
       "    .dataframe tbody tr th {\n",
       "        vertical-align: top;\n",
       "    }\n",
       "\n",
       "    .dataframe thead th {\n",
       "        text-align: right;\n",
       "    }\n",
       "</style>\n",
       "<table border=\"1\" class=\"dataframe\">\n",
       "  <thead>\n",
       "    <tr style=\"text-align: right;\">\n",
       "      <th></th>\n",
       "      <th>student_id</th>\n",
       "      <th>content</th>\n",
       "      <th>wording</th>\n",
       "    </tr>\n",
       "  </thead>\n",
       "  <tbody>\n",
       "    <tr>\n",
       "      <th>0</th>\n",
       "      <td>000000ffffff</td>\n",
       "      <td>-0.784851</td>\n",
       "      <td>-0.053023</td>\n",
       "    </tr>\n",
       "    <tr>\n",
       "      <th>1</th>\n",
       "      <td>111111eeeeee</td>\n",
       "      <td>-0.784851</td>\n",
       "      <td>-0.053023</td>\n",
       "    </tr>\n",
       "    <tr>\n",
       "      <th>2</th>\n",
       "      <td>222222cccccc</td>\n",
       "      <td>-0.784851</td>\n",
       "      <td>-0.053023</td>\n",
       "    </tr>\n",
       "    <tr>\n",
       "      <th>3</th>\n",
       "      <td>333333dddddd</td>\n",
       "      <td>-0.784851</td>\n",
       "      <td>-0.053023</td>\n",
       "    </tr>\n",
       "  </tbody>\n",
       "</table>\n",
       "</div>"
      ],
      "text/plain": [
       "     student_id   content   wording\n",
       "0  000000ffffff -0.784851 -0.053023\n",
       "1  111111eeeeee -0.784851 -0.053023\n",
       "2  222222cccccc -0.784851 -0.053023\n",
       "3  333333dddddd -0.784851 -0.053023"
      ]
     },
     "execution_count": 29,
     "metadata": {},
     "output_type": "execute_result"
    }
   ],
   "source": [
    "submission"
   ]
  },
  {
   "cell_type": "code",
   "execution_count": 30,
   "id": "47128939",
   "metadata": {
    "execution": {
     "iopub.execute_input": "2023-09-30T06:00:15.544883Z",
     "iopub.status.busy": "2023-09-30T06:00:15.544641Z",
     "iopub.status.idle": "2023-09-30T06:00:15.550807Z",
     "shell.execute_reply": "2023-09-30T06:00:15.550038Z"
    },
    "papermill": {
     "duration": 0.015767,
     "end_time": "2023-09-30T06:00:15.552406",
     "exception": false,
     "start_time": "2023-09-30T06:00:15.536639",
     "status": "completed"
    },
    "tags": []
   },
   "outputs": [],
   "source": [
    "submission.to_csv('submission.csv', index = False)"
   ]
  },
  {
   "cell_type": "code",
   "execution_count": null,
   "id": "4216595e",
   "metadata": {
    "papermill": {
     "duration": 0.006864,
     "end_time": "2023-09-30T06:00:15.566633",
     "exception": false,
     "start_time": "2023-09-30T06:00:15.559769",
     "status": "completed"
    },
    "tags": []
   },
   "outputs": [],
   "source": []
  }
 ],
 "metadata": {
  "kernelspec": {
   "display_name": "Python 3",
   "language": "python",
   "name": "python3"
  },
  "language_info": {
   "codemirror_mode": {
    "name": "ipython",
    "version": 3
   },
   "file_extension": ".py",
   "mimetype": "text/x-python",
   "name": "python",
   "nbconvert_exporter": "python",
   "pygments_lexer": "ipython3",
   "version": "3.10.12"
  },
  "papermill": {
   "default_parameters": {},
   "duration": 1582.045243,
   "end_time": "2023-09-30T06:00:18.806253",
   "environment_variables": {},
   "exception": null,
   "input_path": "__notebook__.ipynb",
   "output_path": "__notebook__.ipynb",
   "parameters": {},
   "start_time": "2023-09-30T05:33:56.761010",
   "version": "2.4.0"
  }
 },
 "nbformat": 4,
 "nbformat_minor": 5
}

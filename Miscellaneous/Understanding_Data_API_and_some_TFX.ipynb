{
  "nbformat": 4,
  "nbformat_minor": 0,
  "metadata": {
    "colab": {
      "name": "Understanding Data API and some TFX.ipynb",
      "provenance": [],
      "collapsed_sections": [
        "rfwAL4KC00_5"
      ]
    },
    "kernelspec": {
      "name": "python3",
      "display_name": "Python 3"
    },
    "language_info": {
      "name": "python"
    }
  },
  "cells": [
    {
      "cell_type": "markdown",
      "source": [
        "The goal of this notebook is to understand the TensorFlow's Data API, some part of the TFRecord format and an introduction to TensorFlow Extended (TFX) for end-to-end ML pipeline. "
      ],
      "metadata": {
        "id": "008iihJYbNN1"
      }
    },
    {
      "cell_type": "code",
      "source": [
        "try:\n",
        "  import colab\n",
        "  !pip install --upgrade pip\n",
        "except:\n",
        "  pass"
      ],
      "metadata": {
        "id": "5jEaAVmTj4Kf"
      },
      "execution_count": null,
      "outputs": []
    },
    {
      "cell_type": "code",
      "source": [
        "!pip install -U tfx"
      ],
      "metadata": {
        "id": "rK303dpvgKKA"
      },
      "execution_count": null,
      "outputs": []
    },
    {
      "cell_type": "markdown",
      "source": [
        "RESTART THE COLAB RUNTIME WHEN YOU GET TO THIS CELL"
      ],
      "metadata": {
        "id": "LbzSAuVo2tA-"
      }
    },
    {
      "cell_type": "code",
      "source": [
        "import tensorflow as tf\n",
        "print('TensorFlow version: {}'.format(tf.__version__))\n",
        "from tfx import v1 as tfx\n",
        "print('TFX version: {}'.format(tfx.__version__))"
      ],
      "metadata": {
        "colab": {
          "base_uri": "https://localhost:8080/"
        },
        "id": "7F0dD-NBj_-S",
        "outputId": "83c79e32-fe06-4cc0-d03d-3e67033de28a"
      },
      "execution_count": 1,
      "outputs": [
        {
          "output_type": "stream",
          "name": "stdout",
          "text": [
            "TensorFlow version: 2.9.1\n",
            "TFX version: 1.9.0\n"
          ]
        }
      ]
    },
    {
      "cell_type": "code",
      "execution_count": 2,
      "metadata": {
        "id": "HeKHnMjE-yjG"
      },
      "outputs": [],
      "source": [
        "import tensorflow as tf"
      ]
    },
    {
      "cell_type": "markdown",
      "source": [
        "## TensorFlow Data API"
      ],
      "metadata": {
        "id": "zwsCCdrldQdF"
      }
    },
    {
      "cell_type": "code",
      "source": [
        "list = range(10)\n",
        "list"
      ],
      "metadata": {
        "colab": {
          "base_uri": "https://localhost:8080/"
        },
        "id": "TJ3br4E_CH_X",
        "outputId": "f0f89f9e-f0c5-4ef8-fbda-5b35f658b718"
      },
      "execution_count": 3,
      "outputs": [
        {
          "output_type": "execute_result",
          "data": {
            "text/plain": [
              "range(0, 10)"
            ]
          },
          "metadata": {},
          "execution_count": 3
        }
      ]
    },
    {
      "cell_type": "code",
      "source": [
        "dataset = tf.data.Dataset.from_tensor_slices(range(10))\n",
        "dataset"
      ],
      "metadata": {
        "colab": {
          "base_uri": "https://localhost:8080/"
        },
        "id": "l6tn1a3gCKh-",
        "outputId": "8f5c15a4-0baf-42b5-a879-7a1d927813c9"
      },
      "execution_count": 4,
      "outputs": [
        {
          "output_type": "execute_result",
          "data": {
            "text/plain": [
              "<TensorSliceDataset element_spec=TensorSpec(shape=(), dtype=tf.int32, name=None)>"
            ]
          },
          "metadata": {},
          "execution_count": 4
        }
      ]
    },
    {
      "cell_type": "code",
      "source": [
        "for item in dataset:\n",
        "    print(item.numpy())"
      ],
      "metadata": {
        "colab": {
          "base_uri": "https://localhost:8080/"
        },
        "id": "bO6Snwi9CRSJ",
        "outputId": "bcb849dc-d2f0-4c2e-aa89-c7ab2a6531a6"
      },
      "execution_count": 5,
      "outputs": [
        {
          "output_type": "stream",
          "name": "stdout",
          "text": [
            "0\n",
            "1\n",
            "2\n",
            "3\n",
            "4\n",
            "5\n",
            "6\n",
            "7\n",
            "8\n",
            "9\n"
          ]
        }
      ]
    },
    {
      "cell_type": "code",
      "source": [
        "it = iter(dataset)\n",
        "next(it)"
      ],
      "metadata": {
        "colab": {
          "base_uri": "https://localhost:8080/"
        },
        "id": "4WeG15A3CYr0",
        "outputId": "2037a7a6-b470-4499-d17c-c189a55f6127"
      },
      "execution_count": 6,
      "outputs": [
        {
          "output_type": "execute_result",
          "data": {
            "text/plain": [
              "<tf.Tensor: shape=(), dtype=int32, numpy=0>"
            ]
          },
          "metadata": {},
          "execution_count": 6
        }
      ]
    },
    {
      "cell_type": "code",
      "source": [
        "next(it).numpy()"
      ],
      "metadata": {
        "colab": {
          "base_uri": "https://localhost:8080/"
        },
        "id": "8C4dIMyICchl",
        "outputId": "ce3f8d83-ee59-4a5d-8e00-f3e2ff65ae8c"
      },
      "execution_count": 7,
      "outputs": [
        {
          "output_type": "execute_result",
          "data": {
            "text/plain": [
              "1"
            ]
          },
          "metadata": {},
          "execution_count": 7
        }
      ]
    },
    {
      "cell_type": "code",
      "source": [
        "print(dataset.reduce(0, lambda state, value: state + value).numpy())"
      ],
      "metadata": {
        "colab": {
          "base_uri": "https://localhost:8080/"
        },
        "id": "5pb0x0DpCewO",
        "outputId": "a853731a-db85-4b5a-fd58-4cf5476fbc79"
      },
      "execution_count": 8,
      "outputs": [
        {
          "output_type": "stream",
          "name": "stdout",
          "text": [
            "45\n"
          ]
        }
      ]
    },
    {
      "cell_type": "code",
      "source": [
        "dataset = dataset.repeat(3).batch(7)\n",
        "for item in dataset:\n",
        "    print(item.numpy())"
      ],
      "metadata": {
        "colab": {
          "base_uri": "https://localhost:8080/"
        },
        "id": "ECAbCyXJFF9a",
        "outputId": "b6fe1c41-7022-492f-c089-cfa3c90ec433"
      },
      "execution_count": 9,
      "outputs": [
        {
          "output_type": "stream",
          "name": "stdout",
          "text": [
            "[0 1 2 3 4 5 6]\n",
            "[7 8 9 0 1 2 3]\n",
            "[4 5 6 7 8 9 0]\n",
            "[1 2 3 4 5 6 7]\n",
            "[8 9]\n"
          ]
        }
      ]
    },
    {
      "cell_type": "code",
      "source": [
        "dataset = tf.data.Dataset.from_tensor_slices([1, 2, 3, 4, 5])\n",
        "dataset = dataset.repeat(3)\n",
        "for item in dataset:\n",
        "    print(item.numpy())"
      ],
      "metadata": {
        "colab": {
          "base_uri": "https://localhost:8080/"
        },
        "id": "WL2JLBGSFgtD",
        "outputId": "aac7f3de-a318-4108-bda6-8cbe11ed6bfd"
      },
      "execution_count": 10,
      "outputs": [
        {
          "output_type": "stream",
          "name": "stdout",
          "text": [
            "1\n",
            "2\n",
            "3\n",
            "4\n",
            "5\n",
            "1\n",
            "2\n",
            "3\n",
            "4\n",
            "5\n",
            "1\n",
            "2\n",
            "3\n",
            "4\n",
            "5\n"
          ]
        }
      ]
    },
    {
      "cell_type": "code",
      "source": [
        "dataset = dataset.map(lambda x: x**2)\n",
        "for item in dataset:\n",
        "    print(item.numpy())"
      ],
      "metadata": {
        "colab": {
          "base_uri": "https://localhost:8080/"
        },
        "id": "ndnjFm4sF3De",
        "outputId": "8a0810dc-f45b-4827-9244-7301470aa9ec"
      },
      "execution_count": 11,
      "outputs": [
        {
          "output_type": "stream",
          "name": "stdout",
          "text": [
            "1\n",
            "4\n",
            "9\n",
            "16\n",
            "25\n",
            "1\n",
            "4\n",
            "9\n",
            "16\n",
            "25\n",
            "1\n",
            "4\n",
            "9\n",
            "16\n",
            "25\n"
          ]
        }
      ]
    },
    {
      "cell_type": "code",
      "source": [
        "del list"
      ],
      "metadata": {
        "id": "6JoohFHl-gNw"
      },
      "execution_count": 12,
      "outputs": []
    },
    {
      "cell_type": "code",
      "source": [
        "elements = [[1, 2, 3], [4, 5, 6], [7, 8, 9]]\n",
        "dataset = tf.data.Dataset.from_generator(lambda: elements, tf.int64)\n",
        "\n",
        "for batch in dataset:\n",
        "    print(batch.numpy())"
      ],
      "metadata": {
        "colab": {
          "base_uri": "https://localhost:8080/"
        },
        "id": "gt0vt9JgGSTe",
        "outputId": "b8b7a87b-6aa3-47d9-f7a5-b7290a25efd8"
      },
      "execution_count": 13,
      "outputs": [
        {
          "output_type": "stream",
          "name": "stdout",
          "text": [
            "[1 2 3]\n",
            "[4 5 6]\n",
            "[7 8 9]\n"
          ]
        }
      ]
    },
    {
      "cell_type": "code",
      "source": [
        "dataset = dataset.unbatch()\n",
        "list(dataset.as_numpy_iterator())"
      ],
      "metadata": {
        "colab": {
          "base_uri": "https://localhost:8080/"
        },
        "id": "0LVApNu5G3o0",
        "outputId": "1c077625-a13e-4f38-f261-b88a5b62196f"
      },
      "execution_count": 14,
      "outputs": [
        {
          "output_type": "execute_result",
          "data": {
            "text/plain": [
              "[1, 2, 3, 4, 5, 6, 7, 8, 9]"
            ]
          },
          "metadata": {},
          "execution_count": 14
        }
      ]
    },
    {
      "cell_type": "code",
      "source": [
        "for item in dataset:\n",
        "    print(item.numpy())"
      ],
      "metadata": {
        "colab": {
          "base_uri": "https://localhost:8080/"
        },
        "id": "PXCX4tJ5IW4a",
        "outputId": "143f871f-33b1-405c-90bb-6318be14d179"
      },
      "execution_count": 15,
      "outputs": [
        {
          "output_type": "stream",
          "name": "stdout",
          "text": [
            "1\n",
            "2\n",
            "3\n",
            "4\n",
            "5\n",
            "6\n",
            "7\n",
            "8\n",
            "9\n"
          ]
        }
      ]
    },
    {
      "cell_type": "code",
      "source": [
        "dataset.element_spec"
      ],
      "metadata": {
        "colab": {
          "base_uri": "https://localhost:8080/"
        },
        "id": "mPumuaCLJSNx",
        "outputId": "848a11a6-bbf6-4274-d372-b516bd024364"
      },
      "execution_count": 16,
      "outputs": [
        {
          "output_type": "execute_result",
          "data": {
            "text/plain": [
              "TensorSpec(shape=<unknown>, dtype=tf.int64, name=None)"
            ]
          },
          "metadata": {},
          "execution_count": 16
        }
      ]
    },
    {
      "cell_type": "code",
      "source": [
        "dataset1 = tf.data.Dataset.from_tensor_slices(tf.random.uniform([4, 10], minval=1, maxval=10, dtype=tf.int32))\n",
        "dataset1"
      ],
      "metadata": {
        "colab": {
          "base_uri": "https://localhost:8080/"
        },
        "id": "4ik8-XQgKVbO",
        "outputId": "a653f32f-22cb-414d-a281-9027cc7ba546"
      },
      "execution_count": 17,
      "outputs": [
        {
          "output_type": "execute_result",
          "data": {
            "text/plain": [
              "<TensorSliceDataset element_spec=TensorSpec(shape=(10,), dtype=tf.int32, name=None)>"
            ]
          },
          "metadata": {},
          "execution_count": 17
        }
      ]
    },
    {
      "cell_type": "code",
      "source": [
        "for item in dataset1:\n",
        "    print(item.numpy())"
      ],
      "metadata": {
        "colab": {
          "base_uri": "https://localhost:8080/"
        },
        "id": "wqST0_MMM6Wq",
        "outputId": "6026d861-ee11-4dbb-f51a-ae6ad7389f15"
      },
      "execution_count": 18,
      "outputs": [
        {
          "output_type": "stream",
          "name": "stdout",
          "text": [
            "[2 3 5 3 5 5 6 1 6 3]\n",
            "[1 4 9 7 6 1 3 1 4 9]\n",
            "[4 9 2 9 3 2 3 7 5 6]\n",
            "[9 9 8 9 9 8 2 5 7 2]\n"
          ]
        }
      ]
    },
    {
      "cell_type": "code",
      "source": [
        "dataset2 = tf.data.Dataset.from_tensor_slices((tf.random.uniform([4]), tf.random.uniform([4, 100], maxval=100, dtype=tf.int32)))\n",
        "for item in dataset2:\n",
        "    print(item)"
      ],
      "metadata": {
        "colab": {
          "base_uri": "https://localhost:8080/"
        },
        "id": "9ZxuiYB6NAT0",
        "outputId": "278786f0-f848-42db-8a7f-d43503f2bdf0"
      },
      "execution_count": 19,
      "outputs": [
        {
          "output_type": "stream",
          "name": "stdout",
          "text": [
            "(<tf.Tensor: shape=(), dtype=float32, numpy=0.888528>, <tf.Tensor: shape=(100,), dtype=int32, numpy=\n",
            "array([ 5,  1,  3, 18, 43, 36, 84, 10,  8, 80, 28, 32, 72, 39, 51, 38, 76,\n",
            "       14, 44, 32, 20, 35, 67, 18, 13, 70, 63, 80, 78, 49, 63, 87, 50, 51,\n",
            "       52, 76,  6, 42, 78,  6,  7, 72,  2, 22, 20,  5, 50, 75, 81, 47, 75,\n",
            "       27, 43, 11, 58,  4, 96, 43, 93, 73,  7, 12, 60, 83, 24,  0, 91, 44,\n",
            "       26, 64, 47, 87, 46, 52, 31, 93, 80, 44, 59, 53, 88, 79,  8, 37, 39,\n",
            "       43,  7, 44, 59, 86, 31,  4, 58, 17, 99, 32, 68, 67, 41,  5],\n",
            "      dtype=int32)>)\n",
            "(<tf.Tensor: shape=(), dtype=float32, numpy=0.07443571>, <tf.Tensor: shape=(100,), dtype=int32, numpy=\n",
            "array([14, 29, 23, 81, 27, 73,  2, 36, 76, 84, 27, 57, 50, 57, 79, 76, 45,\n",
            "       51, 97, 25, 39, 85, 50, 31, 39,  1, 11, 19, 59, 92, 51, 68, 54, 30,\n",
            "       69, 36, 18, 77, 85, 19, 41, 85, 26, 43, 67, 89, 33, 12, 79, 91, 47,\n",
            "       35, 54, 40, 13, 16, 27, 55, 19, 42, 52, 14,  1, 77, 22, 30, 17, 60,\n",
            "       41,  8, 42, 62, 73, 28, 44, 31, 76, 21, 90, 61, 44, 56, 43, 50, 19,\n",
            "       40, 23, 43,  2, 22, 85, 65, 54, 39, 50, 10, 56,  5, 51, 62],\n",
            "      dtype=int32)>)\n",
            "(<tf.Tensor: shape=(), dtype=float32, numpy=0.069034696>, <tf.Tensor: shape=(100,), dtype=int32, numpy=\n",
            "array([ 6, 23, 53, 42, 19, 56, 73, 59, 95, 94, 58, 71, 99, 40, 97, 79, 65,\n",
            "       78, 25, 24, 83, 13, 15, 29, 65, 18, 80, 20, 78,  4, 47, 77, 65,  1,\n",
            "       84, 73, 62, 70, 11, 41, 80, 23, 96, 99, 26, 77, 51,  6, 72, 10, 91,\n",
            "       68, 23, 21, 17, 87, 15, 40, 84, 81, 62, 85, 81, 74, 70, 81, 20, 48,\n",
            "       29, 63, 52, 34, 79, 13, 16, 15, 73, 30, 98, 38,  4, 62, 28, 40,  0,\n",
            "        7, 27, 47, 59, 69, 35, 32, 29, 67, 71, 58, 40, 79, 30, 86],\n",
            "      dtype=int32)>)\n",
            "(<tf.Tensor: shape=(), dtype=float32, numpy=0.6929159>, <tf.Tensor: shape=(100,), dtype=int32, numpy=\n",
            "array([27, 58, 66, 73, 29, 81, 37, 44, 89, 59, 58, 39, 32, 75, 84,  8, 99,\n",
            "       38, 99, 94, 20,  1, 84, 21, 19, 11, 53, 78, 10, 56, 12, 98, 43, 52,\n",
            "       75, 52, 77, 40, 87, 34,  7, 50, 24,  4, 20, 12, 40, 27, 63, 72, 32,\n",
            "        5, 56, 97, 41, 28, 80, 81, 40, 36, 40, 27, 71, 44, 24, 17, 27, 25,\n",
            "       12, 61,  1, 65, 48, 27, 28, 11, 83, 77, 79, 12, 54, 58, 82, 88, 28,\n",
            "       54, 61, 36, 37, 46, 18,  8, 17, 62, 11, 29, 74, 95, 71, 53],\n",
            "      dtype=int32)>)\n"
          ]
        }
      ]
    },
    {
      "cell_type": "code",
      "source": [
        "dataset3 = tf.data.Dataset.zip((dataset1, dataset2))\n",
        "\n",
        "dataset3.element_spec"
      ],
      "metadata": {
        "colab": {
          "base_uri": "https://localhost:8080/"
        },
        "id": "mzbXc7jaNY1s",
        "outputId": "4e65f454-9088-44a0-bd61-49146ef042fc"
      },
      "execution_count": 20,
      "outputs": [
        {
          "output_type": "execute_result",
          "data": {
            "text/plain": [
              "(TensorSpec(shape=(10,), dtype=tf.int32, name=None),\n",
              " (TensorSpec(shape=(), dtype=tf.float32, name=None),\n",
              "  TensorSpec(shape=(100,), dtype=tf.int32, name=None)))"
            ]
          },
          "metadata": {},
          "execution_count": 20
        }
      ]
    },
    {
      "cell_type": "code",
      "source": [
        "for a, (b, c) in dataset3:\n",
        "    print(f\"shapes: {a.shape} {b.shape} {c.shape}\")"
      ],
      "metadata": {
        "colab": {
          "base_uri": "https://localhost:8080/"
        },
        "id": "x4KJoxIFNvmU",
        "outputId": "c6dc23d8-a139-4f92-d4d3-24f6a40e2ed6"
      },
      "execution_count": 21,
      "outputs": [
        {
          "output_type": "stream",
          "name": "stdout",
          "text": [
            "shapes: (10,) () (100,)\n",
            "shapes: (10,) () (100,)\n",
            "shapes: (10,) () (100,)\n",
            "shapes: (10,) () (100,)\n"
          ]
        }
      ]
    },
    {
      "cell_type": "markdown",
      "source": [
        "### Using with generators"
      ],
      "metadata": {
        "id": "rKTb5MPTRcMg"
      }
    },
    {
      "cell_type": "code",
      "source": [
        "def count(stop):\n",
        "    i = 0\n",
        "    while i < stop:\n",
        "        yield i\n",
        "        i += 1"
      ],
      "metadata": {
        "id": "G_TxksCvOEYi"
      },
      "execution_count": 22,
      "outputs": []
    },
    {
      "cell_type": "code",
      "source": [
        "for i in count(6):\n",
        "    print(i)"
      ],
      "metadata": {
        "colab": {
          "base_uri": "https://localhost:8080/"
        },
        "id": "jUYctlSCSOqD",
        "outputId": "b6a30dec-6171-42f0-ab87-18754618b706"
      },
      "execution_count": 23,
      "outputs": [
        {
          "output_type": "stream",
          "name": "stdout",
          "text": [
            "0\n",
            "1\n",
            "2\n",
            "3\n",
            "4\n",
            "5\n"
          ]
        }
      ]
    },
    {
      "cell_type": "code",
      "source": [
        "ds_counter = tf.data.Dataset.from_generator(count, args=[25], output_types=tf.int32, output_shapes=(),)"
      ],
      "metadata": {
        "id": "f6yZQLwySpQo"
      },
      "execution_count": 24,
      "outputs": []
    },
    {
      "cell_type": "code",
      "source": [
        "for batch in ds_counter.batch(10):\n",
        "    print(batch.numpy())"
      ],
      "metadata": {
        "colab": {
          "base_uri": "https://localhost:8080/"
        },
        "id": "tQs5HijISQ9j",
        "outputId": "7d2b2bbb-1d05-486c-c703-fb00768ed7a0"
      },
      "execution_count": 25,
      "outputs": [
        {
          "output_type": "stream",
          "name": "stdout",
          "text": [
            "[0 1 2 3 4 5 6 7 8 9]\n",
            "[10 11 12 13 14 15 16 17 18 19]\n",
            "[20 21 22 23 24]\n"
          ]
        }
      ]
    },
    {
      "cell_type": "code",
      "source": [
        "flowers = tf.keras.utils.get_file(\n",
        "    'flower_photos',\n",
        "    'https://storage.googleapis.com/download.tensorflow.org/example_images/flower_photos.tgz',\n",
        "    untar=True)"
      ],
      "metadata": {
        "colab": {
          "base_uri": "https://localhost:8080/"
        },
        "id": "iOCZh8gaTTx4",
        "outputId": "a66f5d2d-026b-4fcf-9b19-f6f9189ce546"
      },
      "execution_count": 26,
      "outputs": [
        {
          "output_type": "stream",
          "name": "stdout",
          "text": [
            "Downloading data from https://storage.googleapis.com/download.tensorflow.org/example_images/flower_photos.tgz\n",
            "228813984/228813984 [==============================] - 9s 0us/step\n"
          ]
        }
      ]
    },
    {
      "cell_type": "code",
      "source": [
        "from tensorflow.keras.preprocessing.image import ImageDataGenerator\n",
        "\n",
        "img_gen = ImageDataGenerator(rescale=1./255, rotation_range=20)\n",
        "images, labels = next(img_gen.flow_from_directory(flowers))"
      ],
      "metadata": {
        "colab": {
          "base_uri": "https://localhost:8080/"
        },
        "id": "WfHAyiP9Tny0",
        "outputId": "de80e0ef-4c76-4b99-c974-fcca5c285884"
      },
      "execution_count": 27,
      "outputs": [
        {
          "output_type": "stream",
          "name": "stdout",
          "text": [
            "Found 3670 images belonging to 5 classes.\n"
          ]
        }
      ]
    },
    {
      "cell_type": "code",
      "source": [
        "images.shape"
      ],
      "metadata": {
        "colab": {
          "base_uri": "https://localhost:8080/"
        },
        "id": "eyBak274T0st",
        "outputId": "19d75208-4435-45ad-eb4c-176c5abf1425"
      },
      "execution_count": 28,
      "outputs": [
        {
          "output_type": "execute_result",
          "data": {
            "text/plain": [
              "(32, 256, 256, 3)"
            ]
          },
          "metadata": {},
          "execution_count": 28
        }
      ]
    },
    {
      "cell_type": "code",
      "source": [
        "labels[0]"
      ],
      "metadata": {
        "colab": {
          "base_uri": "https://localhost:8080/"
        },
        "id": "asQlP47VUE9e",
        "outputId": "69476ffe-f253-4ff4-8f54-1ea00729836e"
      },
      "execution_count": 29,
      "outputs": [
        {
          "output_type": "execute_result",
          "data": {
            "text/plain": [
              "array([1., 0., 0., 0., 0.], dtype=float32)"
            ]
          },
          "metadata": {},
          "execution_count": 29
        }
      ]
    },
    {
      "cell_type": "code",
      "source": [
        "dataset = tf.data.Dataset.from_generator(lambda: img_gen.flow_from_directory(flowers), output_types=(tf.float32, tf.float32), \n",
        "                                         output_shapes=(images.shape, labels.shape))"
      ],
      "metadata": {
        "id": "M_sgy0MJUJOY"
      },
      "execution_count": 30,
      "outputs": []
    },
    {
      "cell_type": "code",
      "source": [
        "for images, labels in dataset.take(1):\n",
        "    print(images.shape)\n",
        "    print(labels.shape)"
      ],
      "metadata": {
        "colab": {
          "base_uri": "https://localhost:8080/"
        },
        "id": "QzhozTgkUpnI",
        "outputId": "a8d28d84-eaad-4109-8622-6099fa10f515"
      },
      "execution_count": 31,
      "outputs": [
        {
          "output_type": "stream",
          "name": "stdout",
          "text": [
            "Found 3670 images belonging to 5 classes.\n",
            "(32, 256, 256, 3)\n",
            "(32, 5)\n"
          ]
        }
      ]
    },
    {
      "cell_type": "code",
      "source": [
        "x = [1, 2, 3, 4, 5, 6]\n",
        "\n",
        "dataset = tf.data.Dataset.from_tensor_slices(x)\n",
        "dataset = dataset.repeat(2).batch(5, drop_remainder=True)"
      ],
      "metadata": {
        "id": "gYVCYFwJVAjP"
      },
      "execution_count": 32,
      "outputs": []
    },
    {
      "cell_type": "code",
      "source": [
        "for item in dataset:\n",
        "    print(item.numpy())"
      ],
      "metadata": {
        "colab": {
          "base_uri": "https://localhost:8080/"
        },
        "id": "9W0_2hAoLVVL",
        "outputId": "f3b5effd-2afc-44da-be01-b73cdb162628"
      },
      "execution_count": 33,
      "outputs": [
        {
          "output_type": "stream",
          "name": "stdout",
          "text": [
            "[1 2 3 4 5]\n",
            "[6 1 2 3 4]\n"
          ]
        }
      ]
    },
    {
      "cell_type": "markdown",
      "source": [
        "## TFRecord Format"
      ],
      "metadata": {
        "id": "Iji-zfPTLzaX"
      }
    },
    {
      "cell_type": "code",
      "source": [
        "with tf.io.TFRecordWriter('my_data.tfrecord') as f:\n",
        "    f.write(b\"This is my first record.\")\n",
        "    f.write(b\"This is my second record.\")"
      ],
      "metadata": {
        "id": "LCnnc8uoMQUe"
      },
      "execution_count": 34,
      "outputs": []
    },
    {
      "cell_type": "code",
      "source": [
        "filepaths = ['my_data.tfrecord']\n",
        "dataset = tf.data.TFRecordDataset(filepaths)\n",
        "\n",
        "for item in dataset:\n",
        "    print(item.numpy())"
      ],
      "metadata": {
        "colab": {
          "base_uri": "https://localhost:8080/"
        },
        "id": "ZkgLlMAIRXps",
        "outputId": "12808d94-7423-4f48-d832-48edcc91aa25"
      },
      "execution_count": 35,
      "outputs": [
        {
          "output_type": "stream",
          "name": "stdout",
          "text": [
            "b'This is my first record.'\n",
            "b'This is my second record.'\n"
          ]
        }
      ]
    },
    {
      "cell_type": "code",
      "source": [
        "from tensorflow.train import Feature, Example, BytesList, Features, FloatList, Int64List\n",
        "\n",
        "person_example = Example(features = Features(feature={\n",
        "    'name': Feature(bytes_list=BytesList(value=[b'Alice'])), \n",
        "    'id': Feature(int64_list = Int64List(value=[123])), \n",
        "    'emails': Feature(bytes_list = BytesList(value=[b'akoredeadewole8@gmail.com']))\n",
        "}))"
      ],
      "metadata": {
        "id": "T_AFFQbwSOOh"
      },
      "execution_count": 36,
      "outputs": []
    },
    {
      "cell_type": "code",
      "source": [
        "with tf.io.TFRecordWriter('my_contacts.tfrecord') as f:\n",
        "    f.write(person_example.SerializeToString())"
      ],
      "metadata": {
        "id": "pOUg5RZUWiwI"
      },
      "execution_count": 37,
      "outputs": []
    },
    {
      "cell_type": "markdown",
      "source": [
        "## ExampleGen"
      ],
      "metadata": {
        "id": "lmQDHWVDfJli"
      }
    },
    {
      "cell_type": "markdown",
      "source": [
        "### Converting CSV to tf.Example data structure"
      ],
      "metadata": {
        "id": "_IOT5Vf0fX0x"
      }
    },
    {
      "cell_type": "code",
      "source": [
        "import os\n",
        "from tfx import v1 as tfx\n",
        "from tfx.components import CsvExampleGen"
      ],
      "metadata": {
        "id": "qcoarckTXT_w"
      },
      "execution_count": 38,
      "outputs": []
    },
    {
      "cell_type": "code",
      "source": [
        "from tfx.orchestration.experimental.interactive.interactive_context import InteractiveContext"
      ],
      "metadata": {
        "id": "gu4aqyiTtBm5"
      },
      "execution_count": 39,
      "outputs": []
    },
    {
      "cell_type": "code",
      "source": [
        "PIPELINE_NAME = 'AAPL'\n",
        "\n",
        "PIPELINE_ROOT = os.path.join('pipelines', PIPELINE_NAME)"
      ],
      "metadata": {
        "id": "zmlJ-vcslfcj"
      },
      "execution_count": 40,
      "outputs": []
    },
    {
      "cell_type": "code",
      "source": [
        "data_root = '/content/data_root/'\n",
        "\n",
        "data_path = os.path.join(data_root, 'AAPL.csv')"
      ],
      "metadata": {
        "id": "TmeZrqc9rUQk"
      },
      "execution_count": 45,
      "outputs": []
    },
    {
      "cell_type": "code",
      "source": [
        "!head {data_path}"
      ],
      "metadata": {
        "colab": {
          "base_uri": "https://localhost:8080/"
        },
        "id": "pThmdi2qq8pE",
        "outputId": "0490fd9a-7547-43fb-9723-ccb2207696a3"
      },
      "execution_count": 46,
      "outputs": [
        {
          "output_type": "stream",
          "name": "stdout",
          "text": [
            "Date,Open,High,Low,Close,Adj Close,Volume\n",
            "2015-10-29,29.674999,30.172501,29.567499,30.132500,27.667913,204909200\n",
            "2015-10-30,30.247499,30.305000,29.862499,29.875000,27.431473,197461200\n",
            "2015-11-02,30.200001,30.340000,29.902500,30.295000,27.817125,128813200\n",
            "2015-11-03,30.197500,30.872499,30.174999,30.642500,28.136196,182076000\n",
            "2015-11-04,30.782499,30.955000,30.405001,30.500000,28.005352,179544400\n",
            "2015-11-05,30.462500,30.672501,30.045000,30.230000,27.876257,158210800\n",
            "2015-11-06,30.277500,30.452499,30.155001,30.264999,27.908531,132169200\n",
            "2015-11-09,30.240000,30.452499,30.012501,30.142500,27.795572,135485600\n",
            "2015-11-10,29.225000,29.517500,29.014999,29.192499,26.919538,236511600\n"
          ]
        }
      ]
    },
    {
      "cell_type": "code",
      "source": [
        "# to run the contextx interactively\n",
        "\n",
        "context = InteractiveContext()"
      ],
      "metadata": {
        "colab": {
          "base_uri": "https://localhost:8080/"
        },
        "id": "4Wl_EkpnrcQJ",
        "outputId": "099b0d04-dadf-4fd3-a3bf-0c9a4ebd94a7"
      },
      "execution_count": 47,
      "outputs": [
        {
          "output_type": "stream",
          "name": "stderr",
          "text": [
            "WARNING:absl:InteractiveContext pipeline_root argument not provided: using temporary directory /tmp/tfx-interactive-2022-07-16T23_59_13.974616-ynrre88p as root for pipeline outputs.\n",
            "WARNING:absl:InteractiveContext metadata_connection_config not provided: using SQLite ML Metadata database at /tmp/tfx-interactive-2022-07-16T23_59_13.974616-ynrre88p/metadata.sqlite.\n"
          ]
        }
      ]
    },
    {
      "cell_type": "code",
      "source": [
        "# create the example gen\n",
        "\n",
        "example_gen = CsvExampleGen(input_base=data_root)\n",
        "context.run(example_gen, enable_cache=True)"
      ],
      "metadata": {
        "colab": {
          "base_uri": "https://localhost:8080/",
          "height": 177
        },
        "id": "EAkXoUrTtaSA",
        "outputId": "05803a21-1d07-4715-bf3e-e4fed3e3fdd1"
      },
      "execution_count": 48,
      "outputs": [
        {
          "output_type": "stream",
          "name": "stderr",
          "text": [
            "WARNING:apache_beam.io.tfrecordio:Couldn't find python-snappy so the implementation of _TFRecordUtil._masked_crc32c is not as fast as it could be.\n"
          ]
        },
        {
          "output_type": "execute_result",
          "data": {
            "text/plain": [
              "ExecutionResult(\n",
              "    component_id: CsvExampleGen\n",
              "    execution_id: 1\n",
              "    outputs:\n",
              "        examples: OutputChannel(artifact_type=Examples, producer_component_id=CsvExampleGen, output_key=examples, additional_properties={}, additional_custom_properties={}))"
            ],
            "text/html": [
              "<style>\n",
              ".tfx-object.expanded {\n",
              "  padding: 4px 8px 4px 8px;\n",
              "  background: white;\n",
              "  border: 1px solid #bbbbbb;\n",
              "  box-shadow: 4px 4px 2px rgba(0,0,0,0.05);\n",
              "}\n",
              "html[theme=dark] .tfx-object.expanded {\n",
              "  background: black;\n",
              "}\n",
              ".tfx-object, .tfx-object * {\n",
              "  font-size: 11pt;\n",
              "}\n",
              ".tfx-object > .title {\n",
              "  cursor: pointer;\n",
              "}\n",
              ".tfx-object .expansion-marker {\n",
              "  color: #999999;\n",
              "}\n",
              ".tfx-object.expanded > .title > .expansion-marker:before {\n",
              "  content: '▼';\n",
              "}\n",
              ".tfx-object.collapsed > .title > .expansion-marker:before {\n",
              "  content: '▶';\n",
              "}\n",
              ".tfx-object .class-name {\n",
              "  font-weight: bold;\n",
              "}\n",
              ".tfx-object .deemphasize {\n",
              "  opacity: 0.5;\n",
              "}\n",
              ".tfx-object.collapsed > table.attr-table {\n",
              "  display: none;\n",
              "}\n",
              ".tfx-object.expanded > table.attr-table {\n",
              "  display: block;\n",
              "}\n",
              ".tfx-object table.attr-table {\n",
              "  border: 2px solid white;\n",
              "  margin-top: 5px;\n",
              "}\n",
              "html[theme=dark] .tfx-object table.attr-table {\n",
              "  border: 2px solid black;\n",
              "}\n",
              ".tfx-object table.attr-table td.attr-name {\n",
              "  vertical-align: top;\n",
              "  font-weight: bold;\n",
              "}\n",
              ".tfx-object table.attr-table td.attrvalue {\n",
              "  text-align: left;\n",
              "}\n",
              "</style>\n",
              "<script>\n",
              "function toggleTfxObject(element) {\n",
              "  var objElement = element.parentElement;\n",
              "  if (objElement.classList.contains('collapsed')) {\n",
              "    objElement.classList.remove('collapsed');\n",
              "    objElement.classList.add('expanded');\n",
              "  } else {\n",
              "    objElement.classList.add('collapsed');\n",
              "    objElement.classList.remove('expanded');\n",
              "  }\n",
              "}\n",
              "</script>\n",
              "<div class=\"tfx-object expanded\"><div class = \"title\" onclick=\"toggleTfxObject(this)\"><span class=\"expansion-marker\"></span><span class=\"class-name\">ExecutionResult</span><span class=\"deemphasize\"> at 0x7fedf9a5a8d0</span></div><table class=\"attr-table\"><tr><td class=\"attr-name\">.execution_id</td><td class = \"attrvalue\">1</td></tr><tr><td class=\"attr-name\">.component</td><td class = \"attrvalue\"><style>\n",
              ".tfx-object.expanded {\n",
              "  padding: 4px 8px 4px 8px;\n",
              "  background: white;\n",
              "  border: 1px solid #bbbbbb;\n",
              "  box-shadow: 4px 4px 2px rgba(0,0,0,0.05);\n",
              "}\n",
              "html[theme=dark] .tfx-object.expanded {\n",
              "  background: black;\n",
              "}\n",
              ".tfx-object, .tfx-object * {\n",
              "  font-size: 11pt;\n",
              "}\n",
              ".tfx-object > .title {\n",
              "  cursor: pointer;\n",
              "}\n",
              ".tfx-object .expansion-marker {\n",
              "  color: #999999;\n",
              "}\n",
              ".tfx-object.expanded > .title > .expansion-marker:before {\n",
              "  content: '▼';\n",
              "}\n",
              ".tfx-object.collapsed > .title > .expansion-marker:before {\n",
              "  content: '▶';\n",
              "}\n",
              ".tfx-object .class-name {\n",
              "  font-weight: bold;\n",
              "}\n",
              ".tfx-object .deemphasize {\n",
              "  opacity: 0.5;\n",
              "}\n",
              ".tfx-object.collapsed > table.attr-table {\n",
              "  display: none;\n",
              "}\n",
              ".tfx-object.expanded > table.attr-table {\n",
              "  display: block;\n",
              "}\n",
              ".tfx-object table.attr-table {\n",
              "  border: 2px solid white;\n",
              "  margin-top: 5px;\n",
              "}\n",
              "html[theme=dark] .tfx-object table.attr-table {\n",
              "  border: 2px solid black;\n",
              "}\n",
              ".tfx-object table.attr-table td.attr-name {\n",
              "  vertical-align: top;\n",
              "  font-weight: bold;\n",
              "}\n",
              ".tfx-object table.attr-table td.attrvalue {\n",
              "  text-align: left;\n",
              "}\n",
              "</style>\n",
              "<script>\n",
              "function toggleTfxObject(element) {\n",
              "  var objElement = element.parentElement;\n",
              "  if (objElement.classList.contains('collapsed')) {\n",
              "    objElement.classList.remove('collapsed');\n",
              "    objElement.classList.add('expanded');\n",
              "  } else {\n",
              "    objElement.classList.add('collapsed');\n",
              "    objElement.classList.remove('expanded');\n",
              "  }\n",
              "}\n",
              "</script>\n",
              "<div class=\"tfx-object collapsed\"><div class = \"title\" onclick=\"toggleTfxObject(this)\"><span class=\"expansion-marker\"></span><span class=\"class-name\">CsvExampleGen</span><span class=\"deemphasize\"> at 0x7fedf9b37950</span></div><table class=\"attr-table\"><tr><td class=\"attr-name\">.inputs</td><td class = \"attrvalue\">{}</td></tr><tr><td class=\"attr-name\">.outputs</td><td class = \"attrvalue\"><table class=\"attr-table\"><tr><td class=\"attr-name\">['examples']</td><td class = \"attrvalue\"><style>\n",
              ".tfx-object.expanded {\n",
              "  padding: 4px 8px 4px 8px;\n",
              "  background: white;\n",
              "  border: 1px solid #bbbbbb;\n",
              "  box-shadow: 4px 4px 2px rgba(0,0,0,0.05);\n",
              "}\n",
              "html[theme=dark] .tfx-object.expanded {\n",
              "  background: black;\n",
              "}\n",
              ".tfx-object, .tfx-object * {\n",
              "  font-size: 11pt;\n",
              "}\n",
              ".tfx-object > .title {\n",
              "  cursor: pointer;\n",
              "}\n",
              ".tfx-object .expansion-marker {\n",
              "  color: #999999;\n",
              "}\n",
              ".tfx-object.expanded > .title > .expansion-marker:before {\n",
              "  content: '▼';\n",
              "}\n",
              ".tfx-object.collapsed > .title > .expansion-marker:before {\n",
              "  content: '▶';\n",
              "}\n",
              ".tfx-object .class-name {\n",
              "  font-weight: bold;\n",
              "}\n",
              ".tfx-object .deemphasize {\n",
              "  opacity: 0.5;\n",
              "}\n",
              ".tfx-object.collapsed > table.attr-table {\n",
              "  display: none;\n",
              "}\n",
              ".tfx-object.expanded > table.attr-table {\n",
              "  display: block;\n",
              "}\n",
              ".tfx-object table.attr-table {\n",
              "  border: 2px solid white;\n",
              "  margin-top: 5px;\n",
              "}\n",
              "html[theme=dark] .tfx-object table.attr-table {\n",
              "  border: 2px solid black;\n",
              "}\n",
              ".tfx-object table.attr-table td.attr-name {\n",
              "  vertical-align: top;\n",
              "  font-weight: bold;\n",
              "}\n",
              ".tfx-object table.attr-table td.attrvalue {\n",
              "  text-align: left;\n",
              "}\n",
              "</style>\n",
              "<script>\n",
              "function toggleTfxObject(element) {\n",
              "  var objElement = element.parentElement;\n",
              "  if (objElement.classList.contains('collapsed')) {\n",
              "    objElement.classList.remove('collapsed');\n",
              "    objElement.classList.add('expanded');\n",
              "  } else {\n",
              "    objElement.classList.add('collapsed');\n",
              "    objElement.classList.remove('expanded');\n",
              "  }\n",
              "}\n",
              "</script>\n",
              "<div class=\"tfx-object collapsed\"><div class = \"title\" onclick=\"toggleTfxObject(this)\"><span class=\"expansion-marker\"></span><span class=\"class-name\">Channel</span> of type <span class=\"class-name\">'Examples'</span> (1 artifact)<span class=\"deemphasize\"> at 0x7fedf99ddd50</span></div><table class=\"attr-table\"><tr><td class=\"attr-name\">.type_name</td><td class = \"attrvalue\">Examples</td></tr><tr><td class=\"attr-name\">._artifacts</td><td class = \"attrvalue\"><table class=\"attr-table\"><tr><td class=\"attr-name\">[0]</td><td class = \"attrvalue\"><style>\n",
              ".tfx-object.expanded {\n",
              "  padding: 4px 8px 4px 8px;\n",
              "  background: white;\n",
              "  border: 1px solid #bbbbbb;\n",
              "  box-shadow: 4px 4px 2px rgba(0,0,0,0.05);\n",
              "}\n",
              "html[theme=dark] .tfx-object.expanded {\n",
              "  background: black;\n",
              "}\n",
              ".tfx-object, .tfx-object * {\n",
              "  font-size: 11pt;\n",
              "}\n",
              ".tfx-object > .title {\n",
              "  cursor: pointer;\n",
              "}\n",
              ".tfx-object .expansion-marker {\n",
              "  color: #999999;\n",
              "}\n",
              ".tfx-object.expanded > .title > .expansion-marker:before {\n",
              "  content: '▼';\n",
              "}\n",
              ".tfx-object.collapsed > .title > .expansion-marker:before {\n",
              "  content: '▶';\n",
              "}\n",
              ".tfx-object .class-name {\n",
              "  font-weight: bold;\n",
              "}\n",
              ".tfx-object .deemphasize {\n",
              "  opacity: 0.5;\n",
              "}\n",
              ".tfx-object.collapsed > table.attr-table {\n",
              "  display: none;\n",
              "}\n",
              ".tfx-object.expanded > table.attr-table {\n",
              "  display: block;\n",
              "}\n",
              ".tfx-object table.attr-table {\n",
              "  border: 2px solid white;\n",
              "  margin-top: 5px;\n",
              "}\n",
              "html[theme=dark] .tfx-object table.attr-table {\n",
              "  border: 2px solid black;\n",
              "}\n",
              ".tfx-object table.attr-table td.attr-name {\n",
              "  vertical-align: top;\n",
              "  font-weight: bold;\n",
              "}\n",
              ".tfx-object table.attr-table td.attrvalue {\n",
              "  text-align: left;\n",
              "}\n",
              "</style>\n",
              "<script>\n",
              "function toggleTfxObject(element) {\n",
              "  var objElement = element.parentElement;\n",
              "  if (objElement.classList.contains('collapsed')) {\n",
              "    objElement.classList.remove('collapsed');\n",
              "    objElement.classList.add('expanded');\n",
              "  } else {\n",
              "    objElement.classList.add('collapsed');\n",
              "    objElement.classList.remove('expanded');\n",
              "  }\n",
              "}\n",
              "</script>\n",
              "<div class=\"tfx-object collapsed\"><div class = \"title\" onclick=\"toggleTfxObject(this)\"><span class=\"expansion-marker\"></span><span class=\"class-name\">Artifact</span> of type <span class=\"class-name\">'Examples'</span> (uri: /tmp/tfx-interactive-2022-07-16T23_59_13.974616-ynrre88p/CsvExampleGen/examples/1)<span class=\"deemphasize\"> at 0x7fedf9a5a450</span></div><table class=\"attr-table\"><tr><td class=\"attr-name\">.type</td><td class = \"attrvalue\">&lt;class &#x27;tfx.types.standard_artifacts.Examples&#x27;&gt;</td></tr><tr><td class=\"attr-name\">.uri</td><td class = \"attrvalue\">/tmp/tfx-interactive-2022-07-16T23_59_13.974616-ynrre88p/CsvExampleGen/examples/1</td></tr><tr><td class=\"attr-name\">.span</td><td class = \"attrvalue\">0</td></tr><tr><td class=\"attr-name\">.split_names</td><td class = \"attrvalue\">[&quot;train&quot;, &quot;eval&quot;]</td></tr><tr><td class=\"attr-name\">.version</td><td class = \"attrvalue\">0</td></tr></table></div></td></tr></table></td></tr></table></div></td></tr></table></td></tr><tr><td class=\"attr-name\">.exec_properties</td><td class = \"attrvalue\"><table class=\"attr-table\"><tr><td class=\"attr-name\">['input_base']</td><td class = \"attrvalue\">/content/data_root/</td></tr><tr><td class=\"attr-name\">['input_config']</td><td class = \"attrvalue\">{\n",
              "  &quot;splits&quot;: [\n",
              "    {\n",
              "      &quot;name&quot;: &quot;single_split&quot;,\n",
              "      &quot;pattern&quot;: &quot;*&quot;\n",
              "    }\n",
              "  ]\n",
              "}</td></tr><tr><td class=\"attr-name\">['output_config']</td><td class = \"attrvalue\">{\n",
              "  &quot;split_config&quot;: {\n",
              "    &quot;splits&quot;: [\n",
              "      {\n",
              "        &quot;hash_buckets&quot;: 2,\n",
              "        &quot;name&quot;: &quot;train&quot;\n",
              "      },\n",
              "      {\n",
              "        &quot;hash_buckets&quot;: 1,\n",
              "        &quot;name&quot;: &quot;eval&quot;\n",
              "      }\n",
              "    ]\n",
              "  }\n",
              "}</td></tr><tr><td class=\"attr-name\">['output_data_format']</td><td class = \"attrvalue\">6</td></tr><tr><td class=\"attr-name\">['output_file_format']</td><td class = \"attrvalue\">5</td></tr><tr><td class=\"attr-name\">['custom_config']</td><td class = \"attrvalue\">None</td></tr><tr><td class=\"attr-name\">['range_config']</td><td class = \"attrvalue\">None</td></tr><tr><td class=\"attr-name\">['span']</td><td class = \"attrvalue\">0</td></tr><tr><td class=\"attr-name\">['version']</td><td class = \"attrvalue\">None</td></tr><tr><td class=\"attr-name\">['input_fingerprint']</td><td class = \"attrvalue\">split:single_split,num_files:1,total_bytes:108268,xor_checksum:1658015919,sum_checksum:1658015919</td></tr></table></td></tr></table></div></td></tr><tr><td class=\"attr-name\">.component.inputs</td><td class = \"attrvalue\">{}</td></tr><tr><td class=\"attr-name\">.component.outputs</td><td class = \"attrvalue\"><table class=\"attr-table\"><tr><td class=\"attr-name\">['examples']</td><td class = \"attrvalue\"><style>\n",
              ".tfx-object.expanded {\n",
              "  padding: 4px 8px 4px 8px;\n",
              "  background: white;\n",
              "  border: 1px solid #bbbbbb;\n",
              "  box-shadow: 4px 4px 2px rgba(0,0,0,0.05);\n",
              "}\n",
              "html[theme=dark] .tfx-object.expanded {\n",
              "  background: black;\n",
              "}\n",
              ".tfx-object, .tfx-object * {\n",
              "  font-size: 11pt;\n",
              "}\n",
              ".tfx-object > .title {\n",
              "  cursor: pointer;\n",
              "}\n",
              ".tfx-object .expansion-marker {\n",
              "  color: #999999;\n",
              "}\n",
              ".tfx-object.expanded > .title > .expansion-marker:before {\n",
              "  content: '▼';\n",
              "}\n",
              ".tfx-object.collapsed > .title > .expansion-marker:before {\n",
              "  content: '▶';\n",
              "}\n",
              ".tfx-object .class-name {\n",
              "  font-weight: bold;\n",
              "}\n",
              ".tfx-object .deemphasize {\n",
              "  opacity: 0.5;\n",
              "}\n",
              ".tfx-object.collapsed > table.attr-table {\n",
              "  display: none;\n",
              "}\n",
              ".tfx-object.expanded > table.attr-table {\n",
              "  display: block;\n",
              "}\n",
              ".tfx-object table.attr-table {\n",
              "  border: 2px solid white;\n",
              "  margin-top: 5px;\n",
              "}\n",
              "html[theme=dark] .tfx-object table.attr-table {\n",
              "  border: 2px solid black;\n",
              "}\n",
              ".tfx-object table.attr-table td.attr-name {\n",
              "  vertical-align: top;\n",
              "  font-weight: bold;\n",
              "}\n",
              ".tfx-object table.attr-table td.attrvalue {\n",
              "  text-align: left;\n",
              "}\n",
              "</style>\n",
              "<script>\n",
              "function toggleTfxObject(element) {\n",
              "  var objElement = element.parentElement;\n",
              "  if (objElement.classList.contains('collapsed')) {\n",
              "    objElement.classList.remove('collapsed');\n",
              "    objElement.classList.add('expanded');\n",
              "  } else {\n",
              "    objElement.classList.add('collapsed');\n",
              "    objElement.classList.remove('expanded');\n",
              "  }\n",
              "}\n",
              "</script>\n",
              "<div class=\"tfx-object collapsed\"><div class = \"title\" onclick=\"toggleTfxObject(this)\"><span class=\"expansion-marker\"></span><span class=\"class-name\">Channel</span> of type <span class=\"class-name\">'Examples'</span> (1 artifact)<span class=\"deemphasize\"> at 0x7fedf99ddd50</span></div><table class=\"attr-table\"><tr><td class=\"attr-name\">.type_name</td><td class = \"attrvalue\">Examples</td></tr><tr><td class=\"attr-name\">._artifacts</td><td class = \"attrvalue\"><table class=\"attr-table\"><tr><td class=\"attr-name\">[0]</td><td class = \"attrvalue\"><style>\n",
              ".tfx-object.expanded {\n",
              "  padding: 4px 8px 4px 8px;\n",
              "  background: white;\n",
              "  border: 1px solid #bbbbbb;\n",
              "  box-shadow: 4px 4px 2px rgba(0,0,0,0.05);\n",
              "}\n",
              "html[theme=dark] .tfx-object.expanded {\n",
              "  background: black;\n",
              "}\n",
              ".tfx-object, .tfx-object * {\n",
              "  font-size: 11pt;\n",
              "}\n",
              ".tfx-object > .title {\n",
              "  cursor: pointer;\n",
              "}\n",
              ".tfx-object .expansion-marker {\n",
              "  color: #999999;\n",
              "}\n",
              ".tfx-object.expanded > .title > .expansion-marker:before {\n",
              "  content: '▼';\n",
              "}\n",
              ".tfx-object.collapsed > .title > .expansion-marker:before {\n",
              "  content: '▶';\n",
              "}\n",
              ".tfx-object .class-name {\n",
              "  font-weight: bold;\n",
              "}\n",
              ".tfx-object .deemphasize {\n",
              "  opacity: 0.5;\n",
              "}\n",
              ".tfx-object.collapsed > table.attr-table {\n",
              "  display: none;\n",
              "}\n",
              ".tfx-object.expanded > table.attr-table {\n",
              "  display: block;\n",
              "}\n",
              ".tfx-object table.attr-table {\n",
              "  border: 2px solid white;\n",
              "  margin-top: 5px;\n",
              "}\n",
              "html[theme=dark] .tfx-object table.attr-table {\n",
              "  border: 2px solid black;\n",
              "}\n",
              ".tfx-object table.attr-table td.attr-name {\n",
              "  vertical-align: top;\n",
              "  font-weight: bold;\n",
              "}\n",
              ".tfx-object table.attr-table td.attrvalue {\n",
              "  text-align: left;\n",
              "}\n",
              "</style>\n",
              "<script>\n",
              "function toggleTfxObject(element) {\n",
              "  var objElement = element.parentElement;\n",
              "  if (objElement.classList.contains('collapsed')) {\n",
              "    objElement.classList.remove('collapsed');\n",
              "    objElement.classList.add('expanded');\n",
              "  } else {\n",
              "    objElement.classList.add('collapsed');\n",
              "    objElement.classList.remove('expanded');\n",
              "  }\n",
              "}\n",
              "</script>\n",
              "<div class=\"tfx-object collapsed\"><div class = \"title\" onclick=\"toggleTfxObject(this)\"><span class=\"expansion-marker\"></span><span class=\"class-name\">Artifact</span> of type <span class=\"class-name\">'Examples'</span> (uri: /tmp/tfx-interactive-2022-07-16T23_59_13.974616-ynrre88p/CsvExampleGen/examples/1)<span class=\"deemphasize\"> at 0x7fedf9a5a450</span></div><table class=\"attr-table\"><tr><td class=\"attr-name\">.type</td><td class = \"attrvalue\">&lt;class &#x27;tfx.types.standard_artifacts.Examples&#x27;&gt;</td></tr><tr><td class=\"attr-name\">.uri</td><td class = \"attrvalue\">/tmp/tfx-interactive-2022-07-16T23_59_13.974616-ynrre88p/CsvExampleGen/examples/1</td></tr><tr><td class=\"attr-name\">.span</td><td class = \"attrvalue\">0</td></tr><tr><td class=\"attr-name\">.split_names</td><td class = \"attrvalue\">[&quot;train&quot;, &quot;eval&quot;]</td></tr><tr><td class=\"attr-name\">.version</td><td class = \"attrvalue\">0</td></tr></table></div></td></tr></table></td></tr></table></div></td></tr></table></td></tr></table></div>"
            ]
          },
          "metadata": {},
          "execution_count": 48
        }
      ]
    },
    {
      "cell_type": "markdown",
      "source": [
        "### Loading TFRecord files with ExampleGen"
      ],
      "metadata": {
        "id": "jCm2y0eaweOf"
      }
    },
    {
      "cell_type": "code",
      "source": [
        "DATA_ROOT = '/content/tfdata'"
      ],
      "metadata": {
        "id": "HqsXlAuytu-K"
      },
      "execution_count": 49,
      "outputs": []
    },
    {
      "cell_type": "code",
      "source": [
        "from tfx.components import ImportExampleGen\n",
        "\n",
        "example_gen2 = ImportExampleGen(input_base=DATA_ROOT)\n",
        "context.run(example_gen2)"
      ],
      "metadata": {
        "colab": {
          "base_uri": "https://localhost:8080/",
          "height": 195
        },
        "id": "HmZAoZ13w1I8",
        "outputId": "65ffc0dc-7d88-4900-ac9d-1633f9219774"
      },
      "execution_count": 50,
      "outputs": [
        {
          "output_type": "stream",
          "name": "stderr",
          "text": [
            "/usr/local/lib/python3.7/dist-packages/apache_beam/transforms/core.py:1843: RuntimeWarning: Unexpected end-group tag: Not all data was converted\n",
            "  wrapper = lambda x, *args, **kwargs: [fn(x, *args, **kwargs)]\n"
          ]
        },
        {
          "output_type": "execute_result",
          "data": {
            "text/plain": [
              "ExecutionResult(\n",
              "    component_id: ImportExampleGen\n",
              "    execution_id: 2\n",
              "    outputs:\n",
              "        examples: OutputChannel(artifact_type=Examples, producer_component_id=ImportExampleGen, output_key=examples, additional_properties={}, additional_custom_properties={}))"
            ],
            "text/html": [
              "<style>\n",
              ".tfx-object.expanded {\n",
              "  padding: 4px 8px 4px 8px;\n",
              "  background: white;\n",
              "  border: 1px solid #bbbbbb;\n",
              "  box-shadow: 4px 4px 2px rgba(0,0,0,0.05);\n",
              "}\n",
              "html[theme=dark] .tfx-object.expanded {\n",
              "  background: black;\n",
              "}\n",
              ".tfx-object, .tfx-object * {\n",
              "  font-size: 11pt;\n",
              "}\n",
              ".tfx-object > .title {\n",
              "  cursor: pointer;\n",
              "}\n",
              ".tfx-object .expansion-marker {\n",
              "  color: #999999;\n",
              "}\n",
              ".tfx-object.expanded > .title > .expansion-marker:before {\n",
              "  content: '▼';\n",
              "}\n",
              ".tfx-object.collapsed > .title > .expansion-marker:before {\n",
              "  content: '▶';\n",
              "}\n",
              ".tfx-object .class-name {\n",
              "  font-weight: bold;\n",
              "}\n",
              ".tfx-object .deemphasize {\n",
              "  opacity: 0.5;\n",
              "}\n",
              ".tfx-object.collapsed > table.attr-table {\n",
              "  display: none;\n",
              "}\n",
              ".tfx-object.expanded > table.attr-table {\n",
              "  display: block;\n",
              "}\n",
              ".tfx-object table.attr-table {\n",
              "  border: 2px solid white;\n",
              "  margin-top: 5px;\n",
              "}\n",
              "html[theme=dark] .tfx-object table.attr-table {\n",
              "  border: 2px solid black;\n",
              "}\n",
              ".tfx-object table.attr-table td.attr-name {\n",
              "  vertical-align: top;\n",
              "  font-weight: bold;\n",
              "}\n",
              ".tfx-object table.attr-table td.attrvalue {\n",
              "  text-align: left;\n",
              "}\n",
              "</style>\n",
              "<script>\n",
              "function toggleTfxObject(element) {\n",
              "  var objElement = element.parentElement;\n",
              "  if (objElement.classList.contains('collapsed')) {\n",
              "    objElement.classList.remove('collapsed');\n",
              "    objElement.classList.add('expanded');\n",
              "  } else {\n",
              "    objElement.classList.add('collapsed');\n",
              "    objElement.classList.remove('expanded');\n",
              "  }\n",
              "}\n",
              "</script>\n",
              "<div class=\"tfx-object expanded\"><div class = \"title\" onclick=\"toggleTfxObject(this)\"><span class=\"expansion-marker\"></span><span class=\"class-name\">ExecutionResult</span><span class=\"deemphasize\"> at 0x7fedf8c0f990</span></div><table class=\"attr-table\"><tr><td class=\"attr-name\">.execution_id</td><td class = \"attrvalue\">2</td></tr><tr><td class=\"attr-name\">.component</td><td class = \"attrvalue\"><style>\n",
              ".tfx-object.expanded {\n",
              "  padding: 4px 8px 4px 8px;\n",
              "  background: white;\n",
              "  border: 1px solid #bbbbbb;\n",
              "  box-shadow: 4px 4px 2px rgba(0,0,0,0.05);\n",
              "}\n",
              "html[theme=dark] .tfx-object.expanded {\n",
              "  background: black;\n",
              "}\n",
              ".tfx-object, .tfx-object * {\n",
              "  font-size: 11pt;\n",
              "}\n",
              ".tfx-object > .title {\n",
              "  cursor: pointer;\n",
              "}\n",
              ".tfx-object .expansion-marker {\n",
              "  color: #999999;\n",
              "}\n",
              ".tfx-object.expanded > .title > .expansion-marker:before {\n",
              "  content: '▼';\n",
              "}\n",
              ".tfx-object.collapsed > .title > .expansion-marker:before {\n",
              "  content: '▶';\n",
              "}\n",
              ".tfx-object .class-name {\n",
              "  font-weight: bold;\n",
              "}\n",
              ".tfx-object .deemphasize {\n",
              "  opacity: 0.5;\n",
              "}\n",
              ".tfx-object.collapsed > table.attr-table {\n",
              "  display: none;\n",
              "}\n",
              ".tfx-object.expanded > table.attr-table {\n",
              "  display: block;\n",
              "}\n",
              ".tfx-object table.attr-table {\n",
              "  border: 2px solid white;\n",
              "  margin-top: 5px;\n",
              "}\n",
              "html[theme=dark] .tfx-object table.attr-table {\n",
              "  border: 2px solid black;\n",
              "}\n",
              ".tfx-object table.attr-table td.attr-name {\n",
              "  vertical-align: top;\n",
              "  font-weight: bold;\n",
              "}\n",
              ".tfx-object table.attr-table td.attrvalue {\n",
              "  text-align: left;\n",
              "}\n",
              "</style>\n",
              "<script>\n",
              "function toggleTfxObject(element) {\n",
              "  var objElement = element.parentElement;\n",
              "  if (objElement.classList.contains('collapsed')) {\n",
              "    objElement.classList.remove('collapsed');\n",
              "    objElement.classList.add('expanded');\n",
              "  } else {\n",
              "    objElement.classList.add('collapsed');\n",
              "    objElement.classList.remove('expanded');\n",
              "  }\n",
              "}\n",
              "</script>\n",
              "<div class=\"tfx-object collapsed\"><div class = \"title\" onclick=\"toggleTfxObject(this)\"><span class=\"expansion-marker\"></span><span class=\"class-name\">ImportExampleGen</span><span class=\"deemphasize\"> at 0x7fedf8c0f390</span></div><table class=\"attr-table\"><tr><td class=\"attr-name\">.inputs</td><td class = \"attrvalue\">{}</td></tr><tr><td class=\"attr-name\">.outputs</td><td class = \"attrvalue\"><table class=\"attr-table\"><tr><td class=\"attr-name\">['examples']</td><td class = \"attrvalue\"><style>\n",
              ".tfx-object.expanded {\n",
              "  padding: 4px 8px 4px 8px;\n",
              "  background: white;\n",
              "  border: 1px solid #bbbbbb;\n",
              "  box-shadow: 4px 4px 2px rgba(0,0,0,0.05);\n",
              "}\n",
              "html[theme=dark] .tfx-object.expanded {\n",
              "  background: black;\n",
              "}\n",
              ".tfx-object, .tfx-object * {\n",
              "  font-size: 11pt;\n",
              "}\n",
              ".tfx-object > .title {\n",
              "  cursor: pointer;\n",
              "}\n",
              ".tfx-object .expansion-marker {\n",
              "  color: #999999;\n",
              "}\n",
              ".tfx-object.expanded > .title > .expansion-marker:before {\n",
              "  content: '▼';\n",
              "}\n",
              ".tfx-object.collapsed > .title > .expansion-marker:before {\n",
              "  content: '▶';\n",
              "}\n",
              ".tfx-object .class-name {\n",
              "  font-weight: bold;\n",
              "}\n",
              ".tfx-object .deemphasize {\n",
              "  opacity: 0.5;\n",
              "}\n",
              ".tfx-object.collapsed > table.attr-table {\n",
              "  display: none;\n",
              "}\n",
              ".tfx-object.expanded > table.attr-table {\n",
              "  display: block;\n",
              "}\n",
              ".tfx-object table.attr-table {\n",
              "  border: 2px solid white;\n",
              "  margin-top: 5px;\n",
              "}\n",
              "html[theme=dark] .tfx-object table.attr-table {\n",
              "  border: 2px solid black;\n",
              "}\n",
              ".tfx-object table.attr-table td.attr-name {\n",
              "  vertical-align: top;\n",
              "  font-weight: bold;\n",
              "}\n",
              ".tfx-object table.attr-table td.attrvalue {\n",
              "  text-align: left;\n",
              "}\n",
              "</style>\n",
              "<script>\n",
              "function toggleTfxObject(element) {\n",
              "  var objElement = element.parentElement;\n",
              "  if (objElement.classList.contains('collapsed')) {\n",
              "    objElement.classList.remove('collapsed');\n",
              "    objElement.classList.add('expanded');\n",
              "  } else {\n",
              "    objElement.classList.add('collapsed');\n",
              "    objElement.classList.remove('expanded');\n",
              "  }\n",
              "}\n",
              "</script>\n",
              "<div class=\"tfx-object collapsed\"><div class = \"title\" onclick=\"toggleTfxObject(this)\"><span class=\"expansion-marker\"></span><span class=\"class-name\">Channel</span> of type <span class=\"class-name\">'Examples'</span> (1 artifact)<span class=\"deemphasize\"> at 0x7fedf8c16810</span></div><table class=\"attr-table\"><tr><td class=\"attr-name\">.type_name</td><td class = \"attrvalue\">Examples</td></tr><tr><td class=\"attr-name\">._artifacts</td><td class = \"attrvalue\"><table class=\"attr-table\"><tr><td class=\"attr-name\">[0]</td><td class = \"attrvalue\"><style>\n",
              ".tfx-object.expanded {\n",
              "  padding: 4px 8px 4px 8px;\n",
              "  background: white;\n",
              "  border: 1px solid #bbbbbb;\n",
              "  box-shadow: 4px 4px 2px rgba(0,0,0,0.05);\n",
              "}\n",
              "html[theme=dark] .tfx-object.expanded {\n",
              "  background: black;\n",
              "}\n",
              ".tfx-object, .tfx-object * {\n",
              "  font-size: 11pt;\n",
              "}\n",
              ".tfx-object > .title {\n",
              "  cursor: pointer;\n",
              "}\n",
              ".tfx-object .expansion-marker {\n",
              "  color: #999999;\n",
              "}\n",
              ".tfx-object.expanded > .title > .expansion-marker:before {\n",
              "  content: '▼';\n",
              "}\n",
              ".tfx-object.collapsed > .title > .expansion-marker:before {\n",
              "  content: '▶';\n",
              "}\n",
              ".tfx-object .class-name {\n",
              "  font-weight: bold;\n",
              "}\n",
              ".tfx-object .deemphasize {\n",
              "  opacity: 0.5;\n",
              "}\n",
              ".tfx-object.collapsed > table.attr-table {\n",
              "  display: none;\n",
              "}\n",
              ".tfx-object.expanded > table.attr-table {\n",
              "  display: block;\n",
              "}\n",
              ".tfx-object table.attr-table {\n",
              "  border: 2px solid white;\n",
              "  margin-top: 5px;\n",
              "}\n",
              "html[theme=dark] .tfx-object table.attr-table {\n",
              "  border: 2px solid black;\n",
              "}\n",
              ".tfx-object table.attr-table td.attr-name {\n",
              "  vertical-align: top;\n",
              "  font-weight: bold;\n",
              "}\n",
              ".tfx-object table.attr-table td.attrvalue {\n",
              "  text-align: left;\n",
              "}\n",
              "</style>\n",
              "<script>\n",
              "function toggleTfxObject(element) {\n",
              "  var objElement = element.parentElement;\n",
              "  if (objElement.classList.contains('collapsed')) {\n",
              "    objElement.classList.remove('collapsed');\n",
              "    objElement.classList.add('expanded');\n",
              "  } else {\n",
              "    objElement.classList.add('collapsed');\n",
              "    objElement.classList.remove('expanded');\n",
              "  }\n",
              "}\n",
              "</script>\n",
              "<div class=\"tfx-object collapsed\"><div class = \"title\" onclick=\"toggleTfxObject(this)\"><span class=\"expansion-marker\"></span><span class=\"class-name\">Artifact</span> of type <span class=\"class-name\">'Examples'</span> (uri: /tmp/tfx-interactive-2022-07-16T23_59_13.974616-ynrre88p/ImportExampleGen/examples/2)<span class=\"deemphasize\"> at 0x7fedf8b9e210</span></div><table class=\"attr-table\"><tr><td class=\"attr-name\">.type</td><td class = \"attrvalue\">&lt;class &#x27;tfx.types.standard_artifacts.Examples&#x27;&gt;</td></tr><tr><td class=\"attr-name\">.uri</td><td class = \"attrvalue\">/tmp/tfx-interactive-2022-07-16T23_59_13.974616-ynrre88p/ImportExampleGen/examples/2</td></tr><tr><td class=\"attr-name\">.span</td><td class = \"attrvalue\">0</td></tr><tr><td class=\"attr-name\">.split_names</td><td class = \"attrvalue\">[&quot;train&quot;, &quot;eval&quot;]</td></tr><tr><td class=\"attr-name\">.version</td><td class = \"attrvalue\">0</td></tr></table></div></td></tr></table></td></tr></table></div></td></tr></table></td></tr><tr><td class=\"attr-name\">.exec_properties</td><td class = \"attrvalue\"><table class=\"attr-table\"><tr><td class=\"attr-name\">['input_base']</td><td class = \"attrvalue\">/content/tfdata</td></tr><tr><td class=\"attr-name\">['input_config']</td><td class = \"attrvalue\">{\n",
              "  &quot;splits&quot;: [\n",
              "    {\n",
              "      &quot;name&quot;: &quot;single_split&quot;,\n",
              "      &quot;pattern&quot;: &quot;*&quot;\n",
              "    }\n",
              "  ]\n",
              "}</td></tr><tr><td class=\"attr-name\">['output_config']</td><td class = \"attrvalue\">{\n",
              "  &quot;split_config&quot;: {\n",
              "    &quot;splits&quot;: [\n",
              "      {\n",
              "        &quot;hash_buckets&quot;: 2,\n",
              "        &quot;name&quot;: &quot;train&quot;\n",
              "      },\n",
              "      {\n",
              "        &quot;hash_buckets&quot;: 1,\n",
              "        &quot;name&quot;: &quot;eval&quot;\n",
              "      }\n",
              "    ]\n",
              "  }\n",
              "}</td></tr><tr><td class=\"attr-name\">['output_data_format']</td><td class = \"attrvalue\">6</td></tr><tr><td class=\"attr-name\">['output_file_format']</td><td class = \"attrvalue\">5</td></tr><tr><td class=\"attr-name\">['custom_config']</td><td class = \"attrvalue\">None</td></tr><tr><td class=\"attr-name\">['range_config']</td><td class = \"attrvalue\">None</td></tr><tr><td class=\"attr-name\">['span']</td><td class = \"attrvalue\">0</td></tr><tr><td class=\"attr-name\">['version']</td><td class = \"attrvalue\">None</td></tr><tr><td class=\"attr-name\">['input_fingerprint']</td><td class = \"attrvalue\">split:single_split,num_files:2,total_bytes:172,xor_checksum:0,sum_checksum:3316031734</td></tr></table></td></tr></table></div></td></tr><tr><td class=\"attr-name\">.component.inputs</td><td class = \"attrvalue\">{}</td></tr><tr><td class=\"attr-name\">.component.outputs</td><td class = \"attrvalue\"><table class=\"attr-table\"><tr><td class=\"attr-name\">['examples']</td><td class = \"attrvalue\"><style>\n",
              ".tfx-object.expanded {\n",
              "  padding: 4px 8px 4px 8px;\n",
              "  background: white;\n",
              "  border: 1px solid #bbbbbb;\n",
              "  box-shadow: 4px 4px 2px rgba(0,0,0,0.05);\n",
              "}\n",
              "html[theme=dark] .tfx-object.expanded {\n",
              "  background: black;\n",
              "}\n",
              ".tfx-object, .tfx-object * {\n",
              "  font-size: 11pt;\n",
              "}\n",
              ".tfx-object > .title {\n",
              "  cursor: pointer;\n",
              "}\n",
              ".tfx-object .expansion-marker {\n",
              "  color: #999999;\n",
              "}\n",
              ".tfx-object.expanded > .title > .expansion-marker:before {\n",
              "  content: '▼';\n",
              "}\n",
              ".tfx-object.collapsed > .title > .expansion-marker:before {\n",
              "  content: '▶';\n",
              "}\n",
              ".tfx-object .class-name {\n",
              "  font-weight: bold;\n",
              "}\n",
              ".tfx-object .deemphasize {\n",
              "  opacity: 0.5;\n",
              "}\n",
              ".tfx-object.collapsed > table.attr-table {\n",
              "  display: none;\n",
              "}\n",
              ".tfx-object.expanded > table.attr-table {\n",
              "  display: block;\n",
              "}\n",
              ".tfx-object table.attr-table {\n",
              "  border: 2px solid white;\n",
              "  margin-top: 5px;\n",
              "}\n",
              "html[theme=dark] .tfx-object table.attr-table {\n",
              "  border: 2px solid black;\n",
              "}\n",
              ".tfx-object table.attr-table td.attr-name {\n",
              "  vertical-align: top;\n",
              "  font-weight: bold;\n",
              "}\n",
              ".tfx-object table.attr-table td.attrvalue {\n",
              "  text-align: left;\n",
              "}\n",
              "</style>\n",
              "<script>\n",
              "function toggleTfxObject(element) {\n",
              "  var objElement = element.parentElement;\n",
              "  if (objElement.classList.contains('collapsed')) {\n",
              "    objElement.classList.remove('collapsed');\n",
              "    objElement.classList.add('expanded');\n",
              "  } else {\n",
              "    objElement.classList.add('collapsed');\n",
              "    objElement.classList.remove('expanded');\n",
              "  }\n",
              "}\n",
              "</script>\n",
              "<div class=\"tfx-object collapsed\"><div class = \"title\" onclick=\"toggleTfxObject(this)\"><span class=\"expansion-marker\"></span><span class=\"class-name\">Channel</span> of type <span class=\"class-name\">'Examples'</span> (1 artifact)<span class=\"deemphasize\"> at 0x7fedf8c16810</span></div><table class=\"attr-table\"><tr><td class=\"attr-name\">.type_name</td><td class = \"attrvalue\">Examples</td></tr><tr><td class=\"attr-name\">._artifacts</td><td class = \"attrvalue\"><table class=\"attr-table\"><tr><td class=\"attr-name\">[0]</td><td class = \"attrvalue\"><style>\n",
              ".tfx-object.expanded {\n",
              "  padding: 4px 8px 4px 8px;\n",
              "  background: white;\n",
              "  border: 1px solid #bbbbbb;\n",
              "  box-shadow: 4px 4px 2px rgba(0,0,0,0.05);\n",
              "}\n",
              "html[theme=dark] .tfx-object.expanded {\n",
              "  background: black;\n",
              "}\n",
              ".tfx-object, .tfx-object * {\n",
              "  font-size: 11pt;\n",
              "}\n",
              ".tfx-object > .title {\n",
              "  cursor: pointer;\n",
              "}\n",
              ".tfx-object .expansion-marker {\n",
              "  color: #999999;\n",
              "}\n",
              ".tfx-object.expanded > .title > .expansion-marker:before {\n",
              "  content: '▼';\n",
              "}\n",
              ".tfx-object.collapsed > .title > .expansion-marker:before {\n",
              "  content: '▶';\n",
              "}\n",
              ".tfx-object .class-name {\n",
              "  font-weight: bold;\n",
              "}\n",
              ".tfx-object .deemphasize {\n",
              "  opacity: 0.5;\n",
              "}\n",
              ".tfx-object.collapsed > table.attr-table {\n",
              "  display: none;\n",
              "}\n",
              ".tfx-object.expanded > table.attr-table {\n",
              "  display: block;\n",
              "}\n",
              ".tfx-object table.attr-table {\n",
              "  border: 2px solid white;\n",
              "  margin-top: 5px;\n",
              "}\n",
              "html[theme=dark] .tfx-object table.attr-table {\n",
              "  border: 2px solid black;\n",
              "}\n",
              ".tfx-object table.attr-table td.attr-name {\n",
              "  vertical-align: top;\n",
              "  font-weight: bold;\n",
              "}\n",
              ".tfx-object table.attr-table td.attrvalue {\n",
              "  text-align: left;\n",
              "}\n",
              "</style>\n",
              "<script>\n",
              "function toggleTfxObject(element) {\n",
              "  var objElement = element.parentElement;\n",
              "  if (objElement.classList.contains('collapsed')) {\n",
              "    objElement.classList.remove('collapsed');\n",
              "    objElement.classList.add('expanded');\n",
              "  } else {\n",
              "    objElement.classList.add('collapsed');\n",
              "    objElement.classList.remove('expanded');\n",
              "  }\n",
              "}\n",
              "</script>\n",
              "<div class=\"tfx-object collapsed\"><div class = \"title\" onclick=\"toggleTfxObject(this)\"><span class=\"expansion-marker\"></span><span class=\"class-name\">Artifact</span> of type <span class=\"class-name\">'Examples'</span> (uri: /tmp/tfx-interactive-2022-07-16T23_59_13.974616-ynrre88p/ImportExampleGen/examples/2)<span class=\"deemphasize\"> at 0x7fedf8b9e210</span></div><table class=\"attr-table\"><tr><td class=\"attr-name\">.type</td><td class = \"attrvalue\">&lt;class &#x27;tfx.types.standard_artifacts.Examples&#x27;&gt;</td></tr><tr><td class=\"attr-name\">.uri</td><td class = \"attrvalue\">/tmp/tfx-interactive-2022-07-16T23_59_13.974616-ynrre88p/ImportExampleGen/examples/2</td></tr><tr><td class=\"attr-name\">.span</td><td class = \"attrvalue\">0</td></tr><tr><td class=\"attr-name\">.split_names</td><td class = \"attrvalue\">[&quot;train&quot;, &quot;eval&quot;]</td></tr><tr><td class=\"attr-name\">.version</td><td class = \"attrvalue\">0</td></tr></table></div></td></tr></table></td></tr></table></div></td></tr></table></td></tr></table></div>"
            ]
          },
          "metadata": {},
          "execution_count": 50
        }
      ]
    },
    {
      "cell_type": "markdown",
      "source": [
        "### Splitting datasets"
      ],
      "metadata": {
        "id": "XxeD91-H0ie1"
      }
    },
    {
      "cell_type": "code",
      "source": [
        "from tfx.proto import example_gen_pb2\n",
        "\n",
        "output = example_gen_pb2.Output(\n",
        "    split_config=example_gen_pb2.SplitConfig(splits=[example_gen_pb2.SplitConfig.Split(name='train', hash_buckets=6),\n",
        " example_gen_pb2.SplitConfig.Split(name='eval', hash_buckets=2),\n",
        " example_gen_pb2.SplitConfig.Split(name='test', hash_buckets=2)]))"
      ],
      "metadata": {
        "id": "_6V2LUSixEz_"
      },
      "execution_count": 51,
      "outputs": []
    },
    {
      "cell_type": "code",
      "source": [
        "example_gen = CsvExampleGen(input_base=data_root, output_config=output)"
      ],
      "metadata": {
        "id": "C86jTASy1sZV"
      },
      "execution_count": 52,
      "outputs": []
    },
    {
      "cell_type": "code",
      "source": [
        "context.run(example_gen)"
      ],
      "metadata": {
        "colab": {
          "base_uri": "https://localhost:8080/",
          "height": 160
        },
        "id": "kqlXhF_y1-fU",
        "outputId": "9ca7d66d-c37c-4e36-c61d-5a4fe0c0b456"
      },
      "execution_count": 53,
      "outputs": [
        {
          "output_type": "execute_result",
          "data": {
            "text/plain": [
              "ExecutionResult(\n",
              "    component_id: CsvExampleGen\n",
              "    execution_id: 3\n",
              "    outputs:\n",
              "        examples: OutputChannel(artifact_type=Examples, producer_component_id=CsvExampleGen, output_key=examples, additional_properties={}, additional_custom_properties={}))"
            ],
            "text/html": [
              "<style>\n",
              ".tfx-object.expanded {\n",
              "  padding: 4px 8px 4px 8px;\n",
              "  background: white;\n",
              "  border: 1px solid #bbbbbb;\n",
              "  box-shadow: 4px 4px 2px rgba(0,0,0,0.05);\n",
              "}\n",
              "html[theme=dark] .tfx-object.expanded {\n",
              "  background: black;\n",
              "}\n",
              ".tfx-object, .tfx-object * {\n",
              "  font-size: 11pt;\n",
              "}\n",
              ".tfx-object > .title {\n",
              "  cursor: pointer;\n",
              "}\n",
              ".tfx-object .expansion-marker {\n",
              "  color: #999999;\n",
              "}\n",
              ".tfx-object.expanded > .title > .expansion-marker:before {\n",
              "  content: '▼';\n",
              "}\n",
              ".tfx-object.collapsed > .title > .expansion-marker:before {\n",
              "  content: '▶';\n",
              "}\n",
              ".tfx-object .class-name {\n",
              "  font-weight: bold;\n",
              "}\n",
              ".tfx-object .deemphasize {\n",
              "  opacity: 0.5;\n",
              "}\n",
              ".tfx-object.collapsed > table.attr-table {\n",
              "  display: none;\n",
              "}\n",
              ".tfx-object.expanded > table.attr-table {\n",
              "  display: block;\n",
              "}\n",
              ".tfx-object table.attr-table {\n",
              "  border: 2px solid white;\n",
              "  margin-top: 5px;\n",
              "}\n",
              "html[theme=dark] .tfx-object table.attr-table {\n",
              "  border: 2px solid black;\n",
              "}\n",
              ".tfx-object table.attr-table td.attr-name {\n",
              "  vertical-align: top;\n",
              "  font-weight: bold;\n",
              "}\n",
              ".tfx-object table.attr-table td.attrvalue {\n",
              "  text-align: left;\n",
              "}\n",
              "</style>\n",
              "<script>\n",
              "function toggleTfxObject(element) {\n",
              "  var objElement = element.parentElement;\n",
              "  if (objElement.classList.contains('collapsed')) {\n",
              "    objElement.classList.remove('collapsed');\n",
              "    objElement.classList.add('expanded');\n",
              "  } else {\n",
              "    objElement.classList.add('collapsed');\n",
              "    objElement.classList.remove('expanded');\n",
              "  }\n",
              "}\n",
              "</script>\n",
              "<div class=\"tfx-object expanded\"><div class = \"title\" onclick=\"toggleTfxObject(this)\"><span class=\"expansion-marker\"></span><span class=\"class-name\">ExecutionResult</span><span class=\"deemphasize\"> at 0x7fedfc3135d0</span></div><table class=\"attr-table\"><tr><td class=\"attr-name\">.execution_id</td><td class = \"attrvalue\">3</td></tr><tr><td class=\"attr-name\">.component</td><td class = \"attrvalue\"><style>\n",
              ".tfx-object.expanded {\n",
              "  padding: 4px 8px 4px 8px;\n",
              "  background: white;\n",
              "  border: 1px solid #bbbbbb;\n",
              "  box-shadow: 4px 4px 2px rgba(0,0,0,0.05);\n",
              "}\n",
              "html[theme=dark] .tfx-object.expanded {\n",
              "  background: black;\n",
              "}\n",
              ".tfx-object, .tfx-object * {\n",
              "  font-size: 11pt;\n",
              "}\n",
              ".tfx-object > .title {\n",
              "  cursor: pointer;\n",
              "}\n",
              ".tfx-object .expansion-marker {\n",
              "  color: #999999;\n",
              "}\n",
              ".tfx-object.expanded > .title > .expansion-marker:before {\n",
              "  content: '▼';\n",
              "}\n",
              ".tfx-object.collapsed > .title > .expansion-marker:before {\n",
              "  content: '▶';\n",
              "}\n",
              ".tfx-object .class-name {\n",
              "  font-weight: bold;\n",
              "}\n",
              ".tfx-object .deemphasize {\n",
              "  opacity: 0.5;\n",
              "}\n",
              ".tfx-object.collapsed > table.attr-table {\n",
              "  display: none;\n",
              "}\n",
              ".tfx-object.expanded > table.attr-table {\n",
              "  display: block;\n",
              "}\n",
              ".tfx-object table.attr-table {\n",
              "  border: 2px solid white;\n",
              "  margin-top: 5px;\n",
              "}\n",
              "html[theme=dark] .tfx-object table.attr-table {\n",
              "  border: 2px solid black;\n",
              "}\n",
              ".tfx-object table.attr-table td.attr-name {\n",
              "  vertical-align: top;\n",
              "  font-weight: bold;\n",
              "}\n",
              ".tfx-object table.attr-table td.attrvalue {\n",
              "  text-align: left;\n",
              "}\n",
              "</style>\n",
              "<script>\n",
              "function toggleTfxObject(element) {\n",
              "  var objElement = element.parentElement;\n",
              "  if (objElement.classList.contains('collapsed')) {\n",
              "    objElement.classList.remove('collapsed');\n",
              "    objElement.classList.add('expanded');\n",
              "  } else {\n",
              "    objElement.classList.add('collapsed');\n",
              "    objElement.classList.remove('expanded');\n",
              "  }\n",
              "}\n",
              "</script>\n",
              "<div class=\"tfx-object collapsed\"><div class = \"title\" onclick=\"toggleTfxObject(this)\"><span class=\"expansion-marker\"></span><span class=\"class-name\">CsvExampleGen</span><span class=\"deemphasize\"> at 0x7fedfc55f590</span></div><table class=\"attr-table\"><tr><td class=\"attr-name\">.inputs</td><td class = \"attrvalue\">{}</td></tr><tr><td class=\"attr-name\">.outputs</td><td class = \"attrvalue\"><table class=\"attr-table\"><tr><td class=\"attr-name\">['examples']</td><td class = \"attrvalue\"><style>\n",
              ".tfx-object.expanded {\n",
              "  padding: 4px 8px 4px 8px;\n",
              "  background: white;\n",
              "  border: 1px solid #bbbbbb;\n",
              "  box-shadow: 4px 4px 2px rgba(0,0,0,0.05);\n",
              "}\n",
              "html[theme=dark] .tfx-object.expanded {\n",
              "  background: black;\n",
              "}\n",
              ".tfx-object, .tfx-object * {\n",
              "  font-size: 11pt;\n",
              "}\n",
              ".tfx-object > .title {\n",
              "  cursor: pointer;\n",
              "}\n",
              ".tfx-object .expansion-marker {\n",
              "  color: #999999;\n",
              "}\n",
              ".tfx-object.expanded > .title > .expansion-marker:before {\n",
              "  content: '▼';\n",
              "}\n",
              ".tfx-object.collapsed > .title > .expansion-marker:before {\n",
              "  content: '▶';\n",
              "}\n",
              ".tfx-object .class-name {\n",
              "  font-weight: bold;\n",
              "}\n",
              ".tfx-object .deemphasize {\n",
              "  opacity: 0.5;\n",
              "}\n",
              ".tfx-object.collapsed > table.attr-table {\n",
              "  display: none;\n",
              "}\n",
              ".tfx-object.expanded > table.attr-table {\n",
              "  display: block;\n",
              "}\n",
              ".tfx-object table.attr-table {\n",
              "  border: 2px solid white;\n",
              "  margin-top: 5px;\n",
              "}\n",
              "html[theme=dark] .tfx-object table.attr-table {\n",
              "  border: 2px solid black;\n",
              "}\n",
              ".tfx-object table.attr-table td.attr-name {\n",
              "  vertical-align: top;\n",
              "  font-weight: bold;\n",
              "}\n",
              ".tfx-object table.attr-table td.attrvalue {\n",
              "  text-align: left;\n",
              "}\n",
              "</style>\n",
              "<script>\n",
              "function toggleTfxObject(element) {\n",
              "  var objElement = element.parentElement;\n",
              "  if (objElement.classList.contains('collapsed')) {\n",
              "    objElement.classList.remove('collapsed');\n",
              "    objElement.classList.add('expanded');\n",
              "  } else {\n",
              "    objElement.classList.add('collapsed');\n",
              "    objElement.classList.remove('expanded');\n",
              "  }\n",
              "}\n",
              "</script>\n",
              "<div class=\"tfx-object collapsed\"><div class = \"title\" onclick=\"toggleTfxObject(this)\"><span class=\"expansion-marker\"></span><span class=\"class-name\">Channel</span> of type <span class=\"class-name\">'Examples'</span> (1 artifact)<span class=\"deemphasize\"> at 0x7fedfc546350</span></div><table class=\"attr-table\"><tr><td class=\"attr-name\">.type_name</td><td class = \"attrvalue\">Examples</td></tr><tr><td class=\"attr-name\">._artifacts</td><td class = \"attrvalue\"><table class=\"attr-table\"><tr><td class=\"attr-name\">[0]</td><td class = \"attrvalue\"><style>\n",
              ".tfx-object.expanded {\n",
              "  padding: 4px 8px 4px 8px;\n",
              "  background: white;\n",
              "  border: 1px solid #bbbbbb;\n",
              "  box-shadow: 4px 4px 2px rgba(0,0,0,0.05);\n",
              "}\n",
              "html[theme=dark] .tfx-object.expanded {\n",
              "  background: black;\n",
              "}\n",
              ".tfx-object, .tfx-object * {\n",
              "  font-size: 11pt;\n",
              "}\n",
              ".tfx-object > .title {\n",
              "  cursor: pointer;\n",
              "}\n",
              ".tfx-object .expansion-marker {\n",
              "  color: #999999;\n",
              "}\n",
              ".tfx-object.expanded > .title > .expansion-marker:before {\n",
              "  content: '▼';\n",
              "}\n",
              ".tfx-object.collapsed > .title > .expansion-marker:before {\n",
              "  content: '▶';\n",
              "}\n",
              ".tfx-object .class-name {\n",
              "  font-weight: bold;\n",
              "}\n",
              ".tfx-object .deemphasize {\n",
              "  opacity: 0.5;\n",
              "}\n",
              ".tfx-object.collapsed > table.attr-table {\n",
              "  display: none;\n",
              "}\n",
              ".tfx-object.expanded > table.attr-table {\n",
              "  display: block;\n",
              "}\n",
              ".tfx-object table.attr-table {\n",
              "  border: 2px solid white;\n",
              "  margin-top: 5px;\n",
              "}\n",
              "html[theme=dark] .tfx-object table.attr-table {\n",
              "  border: 2px solid black;\n",
              "}\n",
              ".tfx-object table.attr-table td.attr-name {\n",
              "  vertical-align: top;\n",
              "  font-weight: bold;\n",
              "}\n",
              ".tfx-object table.attr-table td.attrvalue {\n",
              "  text-align: left;\n",
              "}\n",
              "</style>\n",
              "<script>\n",
              "function toggleTfxObject(element) {\n",
              "  var objElement = element.parentElement;\n",
              "  if (objElement.classList.contains('collapsed')) {\n",
              "    objElement.classList.remove('collapsed');\n",
              "    objElement.classList.add('expanded');\n",
              "  } else {\n",
              "    objElement.classList.add('collapsed');\n",
              "    objElement.classList.remove('expanded');\n",
              "  }\n",
              "}\n",
              "</script>\n",
              "<div class=\"tfx-object collapsed\"><div class = \"title\" onclick=\"toggleTfxObject(this)\"><span class=\"expansion-marker\"></span><span class=\"class-name\">Artifact</span> of type <span class=\"class-name\">'Examples'</span> (uri: /tmp/tfx-interactive-2022-07-16T23_59_13.974616-ynrre88p/CsvExampleGen/examples/3)<span class=\"deemphasize\"> at 0x7fedfc54f850</span></div><table class=\"attr-table\"><tr><td class=\"attr-name\">.type</td><td class = \"attrvalue\">&lt;class &#x27;tfx.types.standard_artifacts.Examples&#x27;&gt;</td></tr><tr><td class=\"attr-name\">.uri</td><td class = \"attrvalue\">/tmp/tfx-interactive-2022-07-16T23_59_13.974616-ynrre88p/CsvExampleGen/examples/3</td></tr><tr><td class=\"attr-name\">.span</td><td class = \"attrvalue\">0</td></tr><tr><td class=\"attr-name\">.split_names</td><td class = \"attrvalue\">[&quot;train&quot;, &quot;eval&quot;, &quot;test&quot;]</td></tr><tr><td class=\"attr-name\">.version</td><td class = \"attrvalue\">0</td></tr></table></div></td></tr></table></td></tr></table></div></td></tr></table></td></tr><tr><td class=\"attr-name\">.exec_properties</td><td class = \"attrvalue\"><table class=\"attr-table\"><tr><td class=\"attr-name\">['input_base']</td><td class = \"attrvalue\">/content/data_root/</td></tr><tr><td class=\"attr-name\">['input_config']</td><td class = \"attrvalue\">{\n",
              "  &quot;splits&quot;: [\n",
              "    {\n",
              "      &quot;name&quot;: &quot;single_split&quot;,\n",
              "      &quot;pattern&quot;: &quot;*&quot;\n",
              "    }\n",
              "  ]\n",
              "}</td></tr><tr><td class=\"attr-name\">['output_config']</td><td class = \"attrvalue\">{\n",
              "  &quot;split_config&quot;: {\n",
              "    &quot;splits&quot;: [\n",
              "      {\n",
              "        &quot;hash_buckets&quot;: 6,\n",
              "        &quot;name&quot;: &quot;train&quot;\n",
              "      },\n",
              "      {\n",
              "        &quot;hash_buckets&quot;: 2,\n",
              "        &quot;name&quot;: &quot;eval&quot;\n",
              "      },\n",
              "      {\n",
              "        &quot;hash_buckets&quot;: 2,\n",
              "        &quot;name&quot;: &quot;test&quot;\n",
              "      }\n",
              "    ]\n",
              "  }\n",
              "}</td></tr><tr><td class=\"attr-name\">['output_data_format']</td><td class = \"attrvalue\">6</td></tr><tr><td class=\"attr-name\">['output_file_format']</td><td class = \"attrvalue\">5</td></tr><tr><td class=\"attr-name\">['custom_config']</td><td class = \"attrvalue\">None</td></tr><tr><td class=\"attr-name\">['range_config']</td><td class = \"attrvalue\">None</td></tr><tr><td class=\"attr-name\">['span']</td><td class = \"attrvalue\">0</td></tr><tr><td class=\"attr-name\">['version']</td><td class = \"attrvalue\">None</td></tr><tr><td class=\"attr-name\">['input_fingerprint']</td><td class = \"attrvalue\">split:single_split,num_files:1,total_bytes:108268,xor_checksum:1658015919,sum_checksum:1658015919</td></tr></table></td></tr></table></div></td></tr><tr><td class=\"attr-name\">.component.inputs</td><td class = \"attrvalue\">{}</td></tr><tr><td class=\"attr-name\">.component.outputs</td><td class = \"attrvalue\"><table class=\"attr-table\"><tr><td class=\"attr-name\">['examples']</td><td class = \"attrvalue\"><style>\n",
              ".tfx-object.expanded {\n",
              "  padding: 4px 8px 4px 8px;\n",
              "  background: white;\n",
              "  border: 1px solid #bbbbbb;\n",
              "  box-shadow: 4px 4px 2px rgba(0,0,0,0.05);\n",
              "}\n",
              "html[theme=dark] .tfx-object.expanded {\n",
              "  background: black;\n",
              "}\n",
              ".tfx-object, .tfx-object * {\n",
              "  font-size: 11pt;\n",
              "}\n",
              ".tfx-object > .title {\n",
              "  cursor: pointer;\n",
              "}\n",
              ".tfx-object .expansion-marker {\n",
              "  color: #999999;\n",
              "}\n",
              ".tfx-object.expanded > .title > .expansion-marker:before {\n",
              "  content: '▼';\n",
              "}\n",
              ".tfx-object.collapsed > .title > .expansion-marker:before {\n",
              "  content: '▶';\n",
              "}\n",
              ".tfx-object .class-name {\n",
              "  font-weight: bold;\n",
              "}\n",
              ".tfx-object .deemphasize {\n",
              "  opacity: 0.5;\n",
              "}\n",
              ".tfx-object.collapsed > table.attr-table {\n",
              "  display: none;\n",
              "}\n",
              ".tfx-object.expanded > table.attr-table {\n",
              "  display: block;\n",
              "}\n",
              ".tfx-object table.attr-table {\n",
              "  border: 2px solid white;\n",
              "  margin-top: 5px;\n",
              "}\n",
              "html[theme=dark] .tfx-object table.attr-table {\n",
              "  border: 2px solid black;\n",
              "}\n",
              ".tfx-object table.attr-table td.attr-name {\n",
              "  vertical-align: top;\n",
              "  font-weight: bold;\n",
              "}\n",
              ".tfx-object table.attr-table td.attrvalue {\n",
              "  text-align: left;\n",
              "}\n",
              "</style>\n",
              "<script>\n",
              "function toggleTfxObject(element) {\n",
              "  var objElement = element.parentElement;\n",
              "  if (objElement.classList.contains('collapsed')) {\n",
              "    objElement.classList.remove('collapsed');\n",
              "    objElement.classList.add('expanded');\n",
              "  } else {\n",
              "    objElement.classList.add('collapsed');\n",
              "    objElement.classList.remove('expanded');\n",
              "  }\n",
              "}\n",
              "</script>\n",
              "<div class=\"tfx-object collapsed\"><div class = \"title\" onclick=\"toggleTfxObject(this)\"><span class=\"expansion-marker\"></span><span class=\"class-name\">Channel</span> of type <span class=\"class-name\">'Examples'</span> (1 artifact)<span class=\"deemphasize\"> at 0x7fedfc546350</span></div><table class=\"attr-table\"><tr><td class=\"attr-name\">.type_name</td><td class = \"attrvalue\">Examples</td></tr><tr><td class=\"attr-name\">._artifacts</td><td class = \"attrvalue\"><table class=\"attr-table\"><tr><td class=\"attr-name\">[0]</td><td class = \"attrvalue\"><style>\n",
              ".tfx-object.expanded {\n",
              "  padding: 4px 8px 4px 8px;\n",
              "  background: white;\n",
              "  border: 1px solid #bbbbbb;\n",
              "  box-shadow: 4px 4px 2px rgba(0,0,0,0.05);\n",
              "}\n",
              "html[theme=dark] .tfx-object.expanded {\n",
              "  background: black;\n",
              "}\n",
              ".tfx-object, .tfx-object * {\n",
              "  font-size: 11pt;\n",
              "}\n",
              ".tfx-object > .title {\n",
              "  cursor: pointer;\n",
              "}\n",
              ".tfx-object .expansion-marker {\n",
              "  color: #999999;\n",
              "}\n",
              ".tfx-object.expanded > .title > .expansion-marker:before {\n",
              "  content: '▼';\n",
              "}\n",
              ".tfx-object.collapsed > .title > .expansion-marker:before {\n",
              "  content: '▶';\n",
              "}\n",
              ".tfx-object .class-name {\n",
              "  font-weight: bold;\n",
              "}\n",
              ".tfx-object .deemphasize {\n",
              "  opacity: 0.5;\n",
              "}\n",
              ".tfx-object.collapsed > table.attr-table {\n",
              "  display: none;\n",
              "}\n",
              ".tfx-object.expanded > table.attr-table {\n",
              "  display: block;\n",
              "}\n",
              ".tfx-object table.attr-table {\n",
              "  border: 2px solid white;\n",
              "  margin-top: 5px;\n",
              "}\n",
              "html[theme=dark] .tfx-object table.attr-table {\n",
              "  border: 2px solid black;\n",
              "}\n",
              ".tfx-object table.attr-table td.attr-name {\n",
              "  vertical-align: top;\n",
              "  font-weight: bold;\n",
              "}\n",
              ".tfx-object table.attr-table td.attrvalue {\n",
              "  text-align: left;\n",
              "}\n",
              "</style>\n",
              "<script>\n",
              "function toggleTfxObject(element) {\n",
              "  var objElement = element.parentElement;\n",
              "  if (objElement.classList.contains('collapsed')) {\n",
              "    objElement.classList.remove('collapsed');\n",
              "    objElement.classList.add('expanded');\n",
              "  } else {\n",
              "    objElement.classList.add('collapsed');\n",
              "    objElement.classList.remove('expanded');\n",
              "  }\n",
              "}\n",
              "</script>\n",
              "<div class=\"tfx-object collapsed\"><div class = \"title\" onclick=\"toggleTfxObject(this)\"><span class=\"expansion-marker\"></span><span class=\"class-name\">Artifact</span> of type <span class=\"class-name\">'Examples'</span> (uri: /tmp/tfx-interactive-2022-07-16T23_59_13.974616-ynrre88p/CsvExampleGen/examples/3)<span class=\"deemphasize\"> at 0x7fedfc54f850</span></div><table class=\"attr-table\"><tr><td class=\"attr-name\">.type</td><td class = \"attrvalue\">&lt;class &#x27;tfx.types.standard_artifacts.Examples&#x27;&gt;</td></tr><tr><td class=\"attr-name\">.uri</td><td class = \"attrvalue\">/tmp/tfx-interactive-2022-07-16T23_59_13.974616-ynrre88p/CsvExampleGen/examples/3</td></tr><tr><td class=\"attr-name\">.span</td><td class = \"attrvalue\">0</td></tr><tr><td class=\"attr-name\">.split_names</td><td class = \"attrvalue\">[&quot;train&quot;, &quot;eval&quot;, &quot;test&quot;]</td></tr><tr><td class=\"attr-name\">.version</td><td class = \"attrvalue\">0</td></tr></table></div></td></tr></table></td></tr></table></div></td></tr></table></td></tr></table></div>"
            ]
          },
          "metadata": {},
          "execution_count": 53
        }
      ]
    },
    {
      "cell_type": "code",
      "source": [
        "for artifact in example_gen.outputs['examples'].get():\n",
        " print(artifact)\n"
      ],
      "metadata": {
        "colab": {
          "base_uri": "https://localhost:8080/"
        },
        "id": "R1HX0EK42QRE",
        "outputId": "70c39bfb-429e-4fab-c4f5-4ebde00e0c81"
      },
      "execution_count": 54,
      "outputs": [
        {
          "output_type": "stream",
          "name": "stdout",
          "text": [
            "Artifact(artifact: id: 3\n",
            "type_id: 14\n",
            "uri: \"/tmp/tfx-interactive-2022-07-16T23_59_13.974616-ynrre88p/CsvExampleGen/examples/3\"\n",
            "properties {\n",
            "  key: \"split_names\"\n",
            "  value {\n",
            "    string_value: \"[\\\"train\\\", \\\"eval\\\", \\\"test\\\"]\"\n",
            "  }\n",
            "}\n",
            "custom_properties {\n",
            "  key: \"file_format\"\n",
            "  value {\n",
            "    string_value: \"tfrecords_gzip\"\n",
            "  }\n",
            "}\n",
            "custom_properties {\n",
            "  key: \"input_fingerprint\"\n",
            "  value {\n",
            "    string_value: \"split:single_split,num_files:1,total_bytes:108268,xor_checksum:1658015919,sum_checksum:1658015919\"\n",
            "  }\n",
            "}\n",
            "custom_properties {\n",
            "  key: \"payload_format\"\n",
            "  value {\n",
            "    string_value: \"FORMAT_TF_EXAMPLE\"\n",
            "  }\n",
            "}\n",
            "custom_properties {\n",
            "  key: \"span\"\n",
            "  value {\n",
            "    int_value: 0\n",
            "  }\n",
            "}\n",
            "custom_properties {\n",
            "  key: \"state\"\n",
            "  value {\n",
            "    string_value: \"published\"\n",
            "  }\n",
            "}\n",
            "custom_properties {\n",
            "  key: \"tfx_version\"\n",
            "  value {\n",
            "    string_value: \"1.9.0\"\n",
            "  }\n",
            "}\n",
            "state: LIVE\n",
            ", artifact_type: id: 14\n",
            "name: \"Examples\"\n",
            "properties {\n",
            "  key: \"span\"\n",
            "  value: INT\n",
            "}\n",
            "properties {\n",
            "  key: \"split_names\"\n",
            "  value: STRING\n",
            "}\n",
            "properties {\n",
            "  key: \"version\"\n",
            "  value: INT\n",
            "}\n",
            "base_type: DATASET\n",
            ")\n"
          ]
        }
      ]
    },
    {
      "cell_type": "markdown",
      "source": [
        "## TensorFlow Data Validation"
      ],
      "metadata": {
        "id": "PCGS1B7KdeDP"
      }
    },
    {
      "cell_type": "code",
      "source": [
        "import tensorflow_data_validation as tfdv"
      ],
      "metadata": {
        "id": "141obbIndhjE"
      },
      "execution_count": 55,
      "outputs": []
    },
    {
      "cell_type": "code",
      "source": [
        "stats = tfdv.generate_statistics_from_csv(data_location='/content/data_root/AAPL.csv', delimiter=',')\n",
        "\n",
        "\n",
        "# for a TFRecord file it would be\n",
        "#stats = tfdv.generate_statistics_from_tfrecord(datalocation)"
      ],
      "metadata": {
        "colab": {
          "base_uri": "https://localhost:8080/"
        },
        "id": "hPxwRdKpeW8x",
        "outputId": "2c4c4919-6918-44b2-a0af-8e9cab3343d2"
      },
      "execution_count": 56,
      "outputs": [
        {
          "output_type": "stream",
          "name": "stdout",
          "text": [
            "WARNING:tensorflow:From /usr/local/lib/python3.7/dist-packages/tensorflow_data_validation/utils/statistics_io_impl.py:91: tf_record_iterator (from tensorflow.python.lib.io.tf_record) is deprecated and will be removed in a future version.\n",
            "Instructions for updating:\n",
            "Use eager execution and: \n",
            "`tf.data.TFRecordDataset(path)`\n"
          ]
        },
        {
          "output_type": "stream",
          "name": "stderr",
          "text": [
            "WARNING:tensorflow:From /usr/local/lib/python3.7/dist-packages/tensorflow_data_validation/utils/statistics_io_impl.py:91: tf_record_iterator (from tensorflow.python.lib.io.tf_record) is deprecated and will be removed in a future version.\n",
            "Instructions for updating:\n",
            "Use eager execution and: \n",
            "`tf.data.TFRecordDataset(path)`\n"
          ]
        }
      ]
    },
    {
      "cell_type": "code",
      "source": [
        "type(stats)"
      ],
      "metadata": {
        "colab": {
          "base_uri": "https://localhost:8080/"
        },
        "id": "_oV26HAue0il",
        "outputId": "c1cb1d5d-264a-4e80-b6b4-52e0be4505ed"
      },
      "execution_count": 58,
      "outputs": [
        {
          "output_type": "execute_result",
          "data": {
            "text/plain": [
              "tensorflow_metadata.proto.v0.statistics_pb2.DatasetFeatureStatisticsList"
            ]
          },
          "metadata": {},
          "execution_count": 58
        }
      ]
    },
    {
      "cell_type": "code",
      "source": [
        "# generate schema from the stats\n",
        "schema = tfdv.infer_schema(stats)\n",
        "tfdv.display_schema(schema)"
      ],
      "metadata": {
        "colab": {
          "base_uri": "https://localhost:8080/",
          "height": 300
        },
        "id": "VWgq17rwevsH",
        "outputId": "6b853a95-3fa8-411a-9321-c95c161b7953"
      },
      "execution_count": 60,
      "outputs": [
        {
          "output_type": "display_data",
          "data": {
            "text/plain": [
              "               Type  Presence Valency Domain\n",
              "Feature name                                \n",
              "'Date'        BYTES  required              -\n",
              "'Open'        FLOAT  required              -\n",
              "'High'        FLOAT  required              -\n",
              "'Low'         FLOAT  required              -\n",
              "'Close'       FLOAT  required              -\n",
              "'Adj Close'   FLOAT  required              -\n",
              "'Volume'        INT  required              -"
            ],
            "text/html": [
              "\n",
              "  <div id=\"df-3da2ee3b-b080-4a60-9f46-134237922e6c\">\n",
              "    <div class=\"colab-df-container\">\n",
              "      <div>\n",
              "<style scoped>\n",
              "    .dataframe tbody tr th:only-of-type {\n",
              "        vertical-align: middle;\n",
              "    }\n",
              "\n",
              "    .dataframe tbody tr th {\n",
              "        vertical-align: top;\n",
              "    }\n",
              "\n",
              "    .dataframe thead th {\n",
              "        text-align: right;\n",
              "    }\n",
              "</style>\n",
              "<table border=\"1\" class=\"dataframe\">\n",
              "  <thead>\n",
              "    <tr style=\"text-align: right;\">\n",
              "      <th></th>\n",
              "      <th>Type</th>\n",
              "      <th>Presence</th>\n",
              "      <th>Valency</th>\n",
              "      <th>Domain</th>\n",
              "    </tr>\n",
              "    <tr>\n",
              "      <th>Feature name</th>\n",
              "      <th></th>\n",
              "      <th></th>\n",
              "      <th></th>\n",
              "      <th></th>\n",
              "    </tr>\n",
              "  </thead>\n",
              "  <tbody>\n",
              "    <tr>\n",
              "      <th>'Date'</th>\n",
              "      <td>BYTES</td>\n",
              "      <td>required</td>\n",
              "      <td></td>\n",
              "      <td>-</td>\n",
              "    </tr>\n",
              "    <tr>\n",
              "      <th>'Open'</th>\n",
              "      <td>FLOAT</td>\n",
              "      <td>required</td>\n",
              "      <td></td>\n",
              "      <td>-</td>\n",
              "    </tr>\n",
              "    <tr>\n",
              "      <th>'High'</th>\n",
              "      <td>FLOAT</td>\n",
              "      <td>required</td>\n",
              "      <td></td>\n",
              "      <td>-</td>\n",
              "    </tr>\n",
              "    <tr>\n",
              "      <th>'Low'</th>\n",
              "      <td>FLOAT</td>\n",
              "      <td>required</td>\n",
              "      <td></td>\n",
              "      <td>-</td>\n",
              "    </tr>\n",
              "    <tr>\n",
              "      <th>'Close'</th>\n",
              "      <td>FLOAT</td>\n",
              "      <td>required</td>\n",
              "      <td></td>\n",
              "      <td>-</td>\n",
              "    </tr>\n",
              "    <tr>\n",
              "      <th>'Adj Close'</th>\n",
              "      <td>FLOAT</td>\n",
              "      <td>required</td>\n",
              "      <td></td>\n",
              "      <td>-</td>\n",
              "    </tr>\n",
              "    <tr>\n",
              "      <th>'Volume'</th>\n",
              "      <td>INT</td>\n",
              "      <td>required</td>\n",
              "      <td></td>\n",
              "      <td>-</td>\n",
              "    </tr>\n",
              "  </tbody>\n",
              "</table>\n",
              "</div>\n",
              "      <button class=\"colab-df-convert\" onclick=\"convertToInteractive('df-3da2ee3b-b080-4a60-9f46-134237922e6c')\"\n",
              "              title=\"Convert this dataframe to an interactive table.\"\n",
              "              style=\"display:none;\">\n",
              "        \n",
              "  <svg xmlns=\"http://www.w3.org/2000/svg\" height=\"24px\"viewBox=\"0 0 24 24\"\n",
              "       width=\"24px\">\n",
              "    <path d=\"M0 0h24v24H0V0z\" fill=\"none\"/>\n",
              "    <path d=\"M18.56 5.44l.94 2.06.94-2.06 2.06-.94-2.06-.94-.94-2.06-.94 2.06-2.06.94zm-11 1L8.5 8.5l.94-2.06 2.06-.94-2.06-.94L8.5 2.5l-.94 2.06-2.06.94zm10 10l.94 2.06.94-2.06 2.06-.94-2.06-.94-.94-2.06-.94 2.06-2.06.94z\"/><path d=\"M17.41 7.96l-1.37-1.37c-.4-.4-.92-.59-1.43-.59-.52 0-1.04.2-1.43.59L10.3 9.45l-7.72 7.72c-.78.78-.78 2.05 0 2.83L4 21.41c.39.39.9.59 1.41.59.51 0 1.02-.2 1.41-.59l7.78-7.78 2.81-2.81c.8-.78.8-2.07 0-2.86zM5.41 20L4 18.59l7.72-7.72 1.47 1.35L5.41 20z\"/>\n",
              "  </svg>\n",
              "      </button>\n",
              "      \n",
              "  <style>\n",
              "    .colab-df-container {\n",
              "      display:flex;\n",
              "      flex-wrap:wrap;\n",
              "      gap: 12px;\n",
              "    }\n",
              "\n",
              "    .colab-df-convert {\n",
              "      background-color: #E8F0FE;\n",
              "      border: none;\n",
              "      border-radius: 50%;\n",
              "      cursor: pointer;\n",
              "      display: none;\n",
              "      fill: #1967D2;\n",
              "      height: 32px;\n",
              "      padding: 0 0 0 0;\n",
              "      width: 32px;\n",
              "    }\n",
              "\n",
              "    .colab-df-convert:hover {\n",
              "      background-color: #E2EBFA;\n",
              "      box-shadow: 0px 1px 2px rgba(60, 64, 67, 0.3), 0px 1px 3px 1px rgba(60, 64, 67, 0.15);\n",
              "      fill: #174EA6;\n",
              "    }\n",
              "\n",
              "    [theme=dark] .colab-df-convert {\n",
              "      background-color: #3B4455;\n",
              "      fill: #D2E3FC;\n",
              "    }\n",
              "\n",
              "    [theme=dark] .colab-df-convert:hover {\n",
              "      background-color: #434B5C;\n",
              "      box-shadow: 0px 1px 3px 1px rgba(0, 0, 0, 0.15);\n",
              "      filter: drop-shadow(0px 1px 2px rgba(0, 0, 0, 0.3));\n",
              "      fill: #FFFFFF;\n",
              "    }\n",
              "  </style>\n",
              "\n",
              "      <script>\n",
              "        const buttonEl =\n",
              "          document.querySelector('#df-3da2ee3b-b080-4a60-9f46-134237922e6c button.colab-df-convert');\n",
              "        buttonEl.style.display =\n",
              "          google.colab.kernel.accessAllowed ? 'block' : 'none';\n",
              "\n",
              "        async function convertToInteractive(key) {\n",
              "          const element = document.querySelector('#df-3da2ee3b-b080-4a60-9f46-134237922e6c');\n",
              "          const dataTable =\n",
              "            await google.colab.kernel.invokeFunction('convertToInteractive',\n",
              "                                                     [key], {});\n",
              "          if (!dataTable) return;\n",
              "\n",
              "          const docLinkHtml = 'Like what you see? Visit the ' +\n",
              "            '<a target=\"_blank\" href=https://colab.research.google.com/notebooks/data_table.ipynb>data table notebook</a>'\n",
              "            + ' to learn more about interactive tables.';\n",
              "          element.innerHTML = '';\n",
              "          dataTable['output_type'] = 'display_data';\n",
              "          await google.colab.output.renderOutput(dataTable, element);\n",
              "          const docLink = document.createElement('div');\n",
              "          docLink.innerHTML = docLinkHtml;\n",
              "          element.appendChild(docLink);\n",
              "        }\n",
              "      </script>\n",
              "    </div>\n",
              "  </div>\n",
              "  "
            ]
          },
          "metadata": {}
        }
      ]
    },
    {
      "cell_type": "code",
      "source": [
        "# compare datasets\n",
        "\n",
        "train_stats = tfdv.generate_statistics_from_csv(data_location='/content/data_root/AAPL.csv')\n",
        "val_stats = tfdv.generate_statistics_from_csv(data_location='/content/data_root/GOOG.csv')"
      ],
      "metadata": {
        "id": "_pKhrKuSfkfh"
      },
      "execution_count": 64,
      "outputs": []
    },
    {
      "cell_type": "code",
      "source": [
        "tfdv.visualize_statistics(lhs_statistics=train_stats, rhs_statistics=val_stats, lhs_name='TRAIN_SET', rhs_name='VAL_SET')"
      ],
      "metadata": {
        "colab": {
          "base_uri": "https://localhost:8080/",
          "height": 1000
        },
        "id": "cC7s7zHXgN_R",
        "outputId": "38b8bbe4-643f-4ec1-8a4c-a76d39524246"
      },
      "execution_count": 67,
      "outputs": [
        {
          "output_type": "display_data",
          "data": {
            "text/plain": [
              "<IPython.core.display.HTML object>"
            ],
            "text/html": [
              "<iframe id='facets-iframe' width=\"100%\" height=\"500px\"></iframe>\n",
              "        <script>\n",
              "        facets_iframe = document.getElementById('facets-iframe');\n",
              "        facets_html = '<script src=\"https://cdnjs.cloudflare.com/ajax/libs/webcomponentsjs/1.3.3/webcomponents-lite.js\"><\\/script><link rel=\"import\" href=\"https://raw.githubusercontent.com/PAIR-code/facets/master/facets-dist/facets-jupyter.html\"><facets-overview proto-input=\"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\"></facets-overview>';\n",
              "        facets_iframe.srcdoc = facets_html;\n",
              "         facets_iframe.id = \"\";\n",
              "         setTimeout(() => {\n",
              "           facets_iframe.setAttribute('height', facets_iframe.contentWindow.document.body.offsetHeight + 'px')\n",
              "         }, 1500)\n",
              "         </script>"
            ]
          },
          "metadata": {}
        }
      ]
    },
    {
      "cell_type": "code",
      "source": [
        "# checking anomalies\n",
        "anomalies = tfdv.validate_statistics(statistics=val_stats, schema=schema)"
      ],
      "metadata": {
        "id": "57EB9aZ-g-eM"
      },
      "execution_count": 68,
      "outputs": []
    },
    {
      "cell_type": "code",
      "source": [
        "tfdv.display_anomalies(anomalies)"
      ],
      "metadata": {
        "colab": {
          "base_uri": "https://localhost:8080/",
          "height": 57
        },
        "id": "8AfplE_AhLOq",
        "outputId": "99b7d715-1d13-4749-fa74-6b0651b47bee"
      },
      "execution_count": 69,
      "outputs": [
        {
          "output_type": "display_data",
          "data": {
            "text/plain": [
              "<IPython.core.display.HTML object>"
            ],
            "text/html": [
              "<h4 style=\"color:green;\">No anomalies found.</h4>"
            ]
          },
          "metadata": {}
        }
      ]
    },
    {
      "cell_type": "markdown",
      "source": [
        "## References\n",
        "\n",
        "1. https://colab.research.google.com/drive/1kj65CT3d4ninQhJT_NXj5yI5t6vuZ5fa?usp=sharing#scrollTo=kUSUAEqpcV2A\n",
        "2. https://www.tensorflow.org/tfx/guide/examplegen"
      ],
      "metadata": {
        "id": "rfwAL4KC00_5"
      }
    },
    {
      "cell_type": "code",
      "source": [
        ""
      ],
      "metadata": {
        "id": "5OqObNOW09-A"
      },
      "execution_count": null,
      "outputs": []
    }
  ]
}
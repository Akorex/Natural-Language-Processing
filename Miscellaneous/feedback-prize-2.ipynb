{
 "cells": [
  {
   "cell_type": "code",
   "execution_count": 1,
   "id": "53ff9db2",
   "metadata": {
    "execution": {
     "iopub.execute_input": "2022-12-22T04:52:10.993084Z",
     "iopub.status.busy": "2022-12-22T04:52:10.992139Z",
     "iopub.status.idle": "2022-12-22T04:52:18.359091Z",
     "shell.execute_reply": "2022-12-22T04:52:18.358036Z"
    },
    "papermill": {
     "duration": 7.379386,
     "end_time": "2022-12-22T04:52:18.362214",
     "exception": false,
     "start_time": "2022-12-22T04:52:10.982828",
     "status": "completed"
    },
    "tags": []
   },
   "outputs": [],
   "source": [
    "import numpy as np\n",
    "import os\n",
    "import tensorflow as tf\n",
    "from tensorflow import keras\n",
    "from keras import layers, models\n",
    "import seaborn as sns\n",
    "import pandas as pd\n",
    "import matplotlib.pyplot as plt\n",
    "from tqdm import tqdm\n",
    "import string"
   ]
  },
  {
   "cell_type": "code",
   "execution_count": 2,
   "id": "a0792250",
   "metadata": {
    "execution": {
     "iopub.execute_input": "2022-12-22T04:52:18.376466Z",
     "iopub.status.busy": "2022-12-22T04:52:18.375814Z",
     "iopub.status.idle": "2022-12-22T04:52:18.663244Z",
     "shell.execute_reply": "2022-12-22T04:52:18.661797Z"
    },
    "papermill": {
     "duration": 0.297341,
     "end_time": "2022-12-22T04:52:18.665782",
     "exception": false,
     "start_time": "2022-12-22T04:52:18.368441",
     "status": "completed"
    },
    "tags": []
   },
   "outputs": [
    {
     "name": "stdout",
     "output_type": "stream",
     "text": [
      "3911\n"
     ]
    },
    {
     "data": {
      "text/html": [
       "<div>\n",
       "<style scoped>\n",
       "    .dataframe tbody tr th:only-of-type {\n",
       "        vertical-align: middle;\n",
       "    }\n",
       "\n",
       "    .dataframe tbody tr th {\n",
       "        vertical-align: top;\n",
       "    }\n",
       "\n",
       "    .dataframe thead th {\n",
       "        text-align: right;\n",
       "    }\n",
       "</style>\n",
       "<table border=\"1\" class=\"dataframe\">\n",
       "  <thead>\n",
       "    <tr style=\"text-align: right;\">\n",
       "      <th></th>\n",
       "      <th>text_id</th>\n",
       "      <th>full_text</th>\n",
       "      <th>cohesion</th>\n",
       "      <th>syntax</th>\n",
       "      <th>vocabulary</th>\n",
       "      <th>phraseology</th>\n",
       "      <th>grammar</th>\n",
       "      <th>conventions</th>\n",
       "    </tr>\n",
       "  </thead>\n",
       "  <tbody>\n",
       "    <tr>\n",
       "      <th>0</th>\n",
       "      <td>0016926B079C</td>\n",
       "      <td>I think that students would benefit from learn...</td>\n",
       "      <td>3.5</td>\n",
       "      <td>3.5</td>\n",
       "      <td>3.0</td>\n",
       "      <td>3.0</td>\n",
       "      <td>4.0</td>\n",
       "      <td>3.0</td>\n",
       "    </tr>\n",
       "    <tr>\n",
       "      <th>1</th>\n",
       "      <td>0022683E9EA5</td>\n",
       "      <td>When a problem is a change you have to let it ...</td>\n",
       "      <td>2.5</td>\n",
       "      <td>2.5</td>\n",
       "      <td>3.0</td>\n",
       "      <td>2.0</td>\n",
       "      <td>2.0</td>\n",
       "      <td>2.5</td>\n",
       "    </tr>\n",
       "    <tr>\n",
       "      <th>2</th>\n",
       "      <td>00299B378633</td>\n",
       "      <td>Dear, Principal\\n\\nIf u change the school poli...</td>\n",
       "      <td>3.0</td>\n",
       "      <td>3.5</td>\n",
       "      <td>3.0</td>\n",
       "      <td>3.0</td>\n",
       "      <td>3.0</td>\n",
       "      <td>2.5</td>\n",
       "    </tr>\n",
       "    <tr>\n",
       "      <th>3</th>\n",
       "      <td>003885A45F42</td>\n",
       "      <td>The best time in life is when you become yours...</td>\n",
       "      <td>4.5</td>\n",
       "      <td>4.5</td>\n",
       "      <td>4.5</td>\n",
       "      <td>4.5</td>\n",
       "      <td>4.0</td>\n",
       "      <td>5.0</td>\n",
       "    </tr>\n",
       "    <tr>\n",
       "      <th>4</th>\n",
       "      <td>0049B1DF5CCC</td>\n",
       "      <td>Small act of kindness can impact in other peop...</td>\n",
       "      <td>2.5</td>\n",
       "      <td>3.0</td>\n",
       "      <td>3.0</td>\n",
       "      <td>3.0</td>\n",
       "      <td>2.5</td>\n",
       "      <td>2.5</td>\n",
       "    </tr>\n",
       "  </tbody>\n",
       "</table>\n",
       "</div>"
      ],
      "text/plain": [
       "        text_id                                          full_text  cohesion  \\\n",
       "0  0016926B079C  I think that students would benefit from learn...       3.5   \n",
       "1  0022683E9EA5  When a problem is a change you have to let it ...       2.5   \n",
       "2  00299B378633  Dear, Principal\\n\\nIf u change the school poli...       3.0   \n",
       "3  003885A45F42  The best time in life is when you become yours...       4.5   \n",
       "4  0049B1DF5CCC  Small act of kindness can impact in other peop...       2.5   \n",
       "\n",
       "   syntax  vocabulary  phraseology  grammar  conventions  \n",
       "0     3.5         3.0          3.0      4.0          3.0  \n",
       "1     2.5         3.0          2.0      2.0          2.5  \n",
       "2     3.5         3.0          3.0      3.0          2.5  \n",
       "3     4.5         4.5          4.5      4.0          5.0  \n",
       "4     3.0         3.0          3.0      2.5          2.5  "
      ]
     },
     "metadata": {},
     "output_type": "display_data"
    }
   ],
   "source": [
    "train = pd.read_csv('/kaggle/input/feedback-prize-english-language-learning/train.csv')\n",
    "print(len(train))\n",
    "display(train.head())"
   ]
  },
  {
   "cell_type": "code",
   "execution_count": 3,
   "id": "9d3ad219",
   "metadata": {
    "execution": {
     "iopub.execute_input": "2022-12-22T04:52:18.680255Z",
     "iopub.status.busy": "2022-12-22T04:52:18.679831Z",
     "iopub.status.idle": "2022-12-22T04:52:18.696899Z",
     "shell.execute_reply": "2022-12-22T04:52:18.695841Z"
    },
    "papermill": {
     "duration": 0.02739,
     "end_time": "2022-12-22T04:52:18.699675",
     "exception": false,
     "start_time": "2022-12-22T04:52:18.672285",
     "status": "completed"
    },
    "tags": []
   },
   "outputs": [],
   "source": [
    "targets = train[['cohesion', 'syntax', 'vocabulary', 'phraseology', 'grammar', 'conventions']].values.tolist()\n",
    "inputs = train['full_text'].values.tolist()"
   ]
  },
  {
   "cell_type": "code",
   "execution_count": 4,
   "id": "b3402632",
   "metadata": {
    "execution": {
     "iopub.execute_input": "2022-12-22T04:52:18.714230Z",
     "iopub.status.busy": "2022-12-22T04:52:18.713831Z",
     "iopub.status.idle": "2022-12-22T04:52:18.721274Z",
     "shell.execute_reply": "2022-12-22T04:52:18.720001Z"
    },
    "papermill": {
     "duration": 0.0177,
     "end_time": "2022-12-22T04:52:18.723788",
     "exception": false,
     "start_time": "2022-12-22T04:52:18.706088",
     "status": "completed"
    },
    "tags": []
   },
   "outputs": [
    {
     "data": {
      "text/plain": [
       "(\"When a problem is a change you have to let it do the best on you no matter what is happening it can change your mind. sometimes you need to wake up and look what is around you because problems are the best way to change what you want to change along time ago. A\\n\\nproblem is a change for you because it can make you see different and help you to understand how tings wok.\\n\\nFirst of all it can make you see different then the others. For example i remember that when i came to the United States i think that nothing was going to change me because i think that nothing was going to change me because everything was different that my country and then i realist that wrong because a problem may change you but sometimes can not change the way it is, but i remember that i was really shy but i think that change a lot because sometimes my problems make me think that there is more thing that i never see in my life but i just need to see it from a different way and dont let nothing happened and ruing the change that i want to make because of just a problem. For example i think that nothing was going to change me and that i dont need to be shy anymore became i need to start seeing everything in a different ways because you can get mad at every one but you need to know what is going to happened after,\\n\\npeople may see you different but the only way that you know how to change is to do the best and don't let nothing or not body to change nothing about you. The way you want to change not one have that and can't do nothing about it because is your choice and your problems and you can decide what to do with it.\\n\\nsecond of all can help you to understand how things work. For instance my mom have a lot of problems but she have faith when she is around people, my mom is scare of high and i'm not scare of high i did not understand why my mos is scare of high and in not scare of high and every time i see my mom in a airplane it make me laugh because she is scare and is funny, but i see it from a different way and i like the high but also she have to understand that hoe things work in other people because it can no be the same as you. For example i think that my mom and me are different because we are and i have to understand that she does not like high and i need to understand that. to help someone to understand how things work you need to start to see how things work in that persons life.\\n\\nA problem is a change for you and can make you a different and help you to understand. Everyone has a different opinion and a different was to understand then others. everyone can see the different opinion and what other people think.\",\n",
       " [2.5, 2.5, 3.0, 2.0, 2.0, 2.5])"
      ]
     },
     "execution_count": 4,
     "metadata": {},
     "output_type": "execute_result"
    }
   ],
   "source": [
    "inputs[1], targets[1]"
   ]
  },
  {
   "cell_type": "markdown",
   "id": "e0b101b0",
   "metadata": {
    "papermill": {
     "duration": 0.005997,
     "end_time": "2022-12-22T04:52:18.736157",
     "exception": false,
     "start_time": "2022-12-22T04:52:18.730160",
     "status": "completed"
    },
    "tags": []
   },
   "source": [
    "### Feature Engineering"
   ]
  },
  {
   "cell_type": "code",
   "execution_count": 5,
   "id": "2ab8e318",
   "metadata": {
    "execution": {
     "iopub.execute_input": "2022-12-22T04:52:18.750484Z",
     "iopub.status.busy": "2022-12-22T04:52:18.750107Z",
     "iopub.status.idle": "2022-12-22T04:52:29.729156Z",
     "shell.execute_reply": "2022-12-22T04:52:29.727923Z"
    },
    "papermill": {
     "duration": 10.989183,
     "end_time": "2022-12-22T04:52:29.731592",
     "exception": false,
     "start_time": "2022-12-22T04:52:18.742409",
     "status": "completed"
    },
    "tags": []
   },
   "outputs": [
    {
     "data": {
      "text/plain": [
       "TfidfVectorizer(analyzer='char', max_features=2000, ngram_range=(1, 3),\n",
       "                sublinear_tf=True)"
      ]
     },
     "execution_count": 5,
     "metadata": {},
     "output_type": "execute_result"
    }
   ],
   "source": [
    "from sklearn.feature_extraction.text import TfidfVectorizer \n",
    "\n",
    "vectorizer = TfidfVectorizer(smooth_idf = True, sublinear_tf = True, analyzer='char',ngram_range=(1, 3),\n",
    "                             max_features=2000)\n",
    "\n",
    "vectorizer.fit(inputs)"
   ]
  },
  {
   "cell_type": "code",
   "execution_count": 6,
   "id": "945f9384",
   "metadata": {
    "execution": {
     "iopub.execute_input": "2022-12-22T04:52:29.746411Z",
     "iopub.status.busy": "2022-12-22T04:52:29.745994Z",
     "iopub.status.idle": "2022-12-22T04:52:46.266680Z",
     "shell.execute_reply": "2022-12-22T04:52:46.265204Z"
    },
    "papermill": {
     "duration": 16.531641,
     "end_time": "2022-12-22T04:52:46.269773",
     "exception": false,
     "start_time": "2022-12-22T04:52:29.738132",
     "status": "completed"
    },
    "tags": []
   },
   "outputs": [],
   "source": [
    "def extract_vectors(x):\n",
    "    vecs = vectorizer.transform(x)\n",
    "    return vecs.toarray().flatten()\n",
    "\n",
    "train['vecs'] = train['full_text'].apply(lambda x: extract_vectors([x]))"
   ]
  },
  {
   "cell_type": "markdown",
   "id": "e4fd4ad8",
   "metadata": {
    "papermill": {
     "duration": 0.007799,
     "end_time": "2022-12-22T04:52:46.287082",
     "exception": false,
     "start_time": "2022-12-22T04:52:46.279283",
     "status": "completed"
    },
    "tags": []
   },
   "source": [
    "The [Flesch–Kincaid readability tests](https://en.wikipedia.org/wiki/Flesch%E2%80%93Kincaid_readability_tests) are readability tests designed to indicate how difficult a passage in English is to understand. "
   ]
  },
  {
   "cell_type": "code",
   "execution_count": 7,
   "id": "701ef53d",
   "metadata": {
    "execution": {
     "iopub.execute_input": "2022-12-22T04:52:46.304183Z",
     "iopub.status.busy": "2022-12-22T04:52:46.303748Z",
     "iopub.status.idle": "2022-12-22T04:52:46.310866Z",
     "shell.execute_reply": "2022-12-22T04:52:46.309869Z"
    },
    "papermill": {
     "duration": 0.017964,
     "end_time": "2022-12-22T04:52:46.313557",
     "exception": false,
     "start_time": "2022-12-22T04:52:46.295593",
     "status": "completed"
    },
    "tags": []
   },
   "outputs": [],
   "source": [
    "def syllable_count(word):\n",
    "    word = word.lower()\n",
    "    count = 0\n",
    "    vowels = \"aeiouy\"\n",
    "    if word[0] in vowels:\n",
    "        count += 1\n",
    "    for index in range(1, len(word)):\n",
    "        if word[index] in vowels and word[index - 1] not in vowels:\n",
    "            count += 1\n",
    "    if word.endswith(\"e\"):\n",
    "        count -= 1\n",
    "    if count == 0:\n",
    "        count += 1\n",
    "    return count"
   ]
  },
  {
   "cell_type": "code",
   "execution_count": 8,
   "id": "effe9c60",
   "metadata": {
    "execution": {
     "iopub.execute_input": "2022-12-22T04:52:46.330189Z",
     "iopub.status.busy": "2022-12-22T04:52:46.329763Z",
     "iopub.status.idle": "2022-12-22T04:52:46.337362Z",
     "shell.execute_reply": "2022-12-22T04:52:46.335934Z"
    },
    "papermill": {
     "duration": 0.01896,
     "end_time": "2022-12-22T04:52:46.339842",
     "exception": false,
     "start_time": "2022-12-22T04:52:46.320882",
     "status": "completed"
    },
    "tags": []
   },
   "outputs": [],
   "source": [
    "def flesch_kincaid_score(x):\n",
    "    \"\"\"\n",
    "    The score is given by 206.835 - 1.015 × (total words ÷ total sentences) - 84.6 × (total syllables ÷ total words)\n",
    "    \"\"\"\n",
    "    total_words = len(x.split())\n",
    "    total_sentences = (len(x.split('.')))\n",
    "    syllables = sum([syllable_count(w) for w in x.split()])\n",
    "    return 206.835 - 1.015 * (total_words / total_sentences) - 84.6 * (syllables / total_words)"
   ]
  },
  {
   "cell_type": "code",
   "execution_count": 9,
   "id": "b7fa553c",
   "metadata": {
    "execution": {
     "iopub.execute_input": "2022-12-22T04:52:46.355442Z",
     "iopub.status.busy": "2022-12-22T04:52:46.355003Z",
     "iopub.status.idle": "2022-12-22T04:52:49.518771Z",
     "shell.execute_reply": "2022-12-22T04:52:49.517678Z"
    },
    "papermill": {
     "duration": 3.174841,
     "end_time": "2022-12-22T04:52:49.521415",
     "exception": false,
     "start_time": "2022-12-22T04:52:46.346574",
     "status": "completed"
    },
    "tags": []
   },
   "outputs": [],
   "source": [
    "# some more features\n",
    "train.drop(['cohesion', 'syntax', 'vocabulary', 'phraseology', 'grammar', 'conventions'], axis=1, inplace = True)\n",
    "train['char_count'] = train['full_text'].apply(len)\n",
    "train['word_count'] = train['full_text'].apply(lambda x: len(x.split()))\n",
    "train['word_density'] = train['char_count'] / (train['word_count'] + 1)\n",
    "train['punctuation_count'] = train['full_text'].apply(lambda x: len(\"\".join(_ for _ in x if _ in string.punctuation)))\n",
    "train['flesch_kincaid'] = train['full_text'].apply(lambda x: flesch_kincaid_score(x))"
   ]
  },
  {
   "cell_type": "code",
   "execution_count": 10,
   "id": "28b3887b",
   "metadata": {
    "execution": {
     "iopub.execute_input": "2022-12-22T04:52:49.536155Z",
     "iopub.status.busy": "2022-12-22T04:52:49.535770Z",
     "iopub.status.idle": "2022-12-22T04:52:52.085033Z",
     "shell.execute_reply": "2022-12-22T04:52:52.083892Z"
    },
    "papermill": {
     "duration": 2.559553,
     "end_time": "2022-12-22T04:52:52.087632",
     "exception": false,
     "start_time": "2022-12-22T04:52:49.528079",
     "status": "completed"
    },
    "tags": []
   },
   "outputs": [],
   "source": [
    "eng_features = ['char_count', 'word_count', 'word_density', 'punctuation_count', 'flesch_kincaid']\n",
    "feature_set = []\n",
    "for i, row in train.iterrows():\n",
    "    vecs = row['vecs']\n",
    "    vals = row[eng_features].astype(float)\n",
    "    features = np.hstack([vecs, vals]).flatten()\n",
    "    feature_set.append(features)\n",
    "inputs = np.array(feature_set)\n",
    "targets = np.array(targets)"
   ]
  },
  {
   "cell_type": "markdown",
   "id": "86a36415",
   "metadata": {
    "papermill": {
     "duration": 0.006157,
     "end_time": "2022-12-22T04:52:52.100593",
     "exception": false,
     "start_time": "2022-12-22T04:52:52.094436",
     "status": "completed"
    },
    "tags": []
   },
   "source": [
    "### ML Model"
   ]
  },
  {
   "cell_type": "code",
   "execution_count": 11,
   "id": "86156a30",
   "metadata": {
    "execution": {
     "iopub.execute_input": "2022-12-22T04:52:52.115287Z",
     "iopub.status.busy": "2022-12-22T04:52:52.114896Z",
     "iopub.status.idle": "2022-12-22T04:52:52.180587Z",
     "shell.execute_reply": "2022-12-22T04:52:52.179335Z"
    },
    "papermill": {
     "duration": 0.076225,
     "end_time": "2022-12-22T04:52:52.183296",
     "exception": false,
     "start_time": "2022-12-22T04:52:52.107071",
     "status": "completed"
    },
    "tags": []
   },
   "outputs": [
    {
     "name": "stderr",
     "output_type": "stream",
     "text": [
      "2022-12-22 04:52:52.152482: I tensorflow/core/common_runtime/process_util.cc:146] Creating new thread pool with default inter op setting: 2. Tune using inter_op_parallelism_threads for best performance.\n"
     ]
    }
   ],
   "source": [
    "model = models.Sequential(name='baseline')\n",
    "model.add(layers.Dense(32, activation='relu'))\n",
    "model.add(layers.Dense(64, activation='relu'))\n",
    "model.add(layers.Dense(6))"
   ]
  },
  {
   "cell_type": "code",
   "execution_count": 12,
   "id": "51b4a0a6",
   "metadata": {
    "execution": {
     "iopub.execute_input": "2022-12-22T04:52:52.198673Z",
     "iopub.status.busy": "2022-12-22T04:52:52.197726Z",
     "iopub.status.idle": "2022-12-22T04:52:52.219220Z",
     "shell.execute_reply": "2022-12-22T04:52:52.218180Z"
    },
    "papermill": {
     "duration": 0.032023,
     "end_time": "2022-12-22T04:52:52.221888",
     "exception": false,
     "start_time": "2022-12-22T04:52:52.189865",
     "status": "completed"
    },
    "tags": []
   },
   "outputs": [],
   "source": [
    "model.compile(loss='mse', optimizer='adam', metrics='acc')"
   ]
  },
  {
   "cell_type": "code",
   "execution_count": 13,
   "id": "32eda8f6",
   "metadata": {
    "execution": {
     "iopub.execute_input": "2022-12-22T04:52:52.237319Z",
     "iopub.status.busy": "2022-12-22T04:52:52.236605Z",
     "iopub.status.idle": "2022-12-22T04:53:03.217327Z",
     "shell.execute_reply": "2022-12-22T04:53:03.216074Z"
    },
    "papermill": {
     "duration": 10.991692,
     "end_time": "2022-12-22T04:53:03.220278",
     "exception": false,
     "start_time": "2022-12-22T04:52:52.228586",
     "status": "completed"
    },
    "tags": []
   },
   "outputs": [
    {
     "name": "stderr",
     "output_type": "stream",
     "text": [
      "2022-12-22 04:52:52.380714: I tensorflow/compiler/mlir/mlir_graph_optimization_pass.cc:185] None of the MLIR Optimization Passes are enabled (registered 2)\n"
     ]
    },
    {
     "name": "stdout",
     "output_type": "stream",
     "text": [
      "Epoch 1/20\n",
      "123/123 [==============================] - 1s 3ms/step - loss: 41.4716 - acc: 0.1741\n",
      "Epoch 2/20\n",
      "123/123 [==============================] - 0s 2ms/step - loss: 0.8791 - acc: 0.1874\n",
      "Epoch 3/20\n",
      "123/123 [==============================] - 0s 3ms/step - loss: 0.6166 - acc: 0.2178\n",
      "Epoch 4/20\n",
      "123/123 [==============================] - 0s 3ms/step - loss: 0.5554 - acc: 0.2201\n",
      "Epoch 5/20\n",
      "123/123 [==============================] - 0s 2ms/step - loss: 0.5185 - acc: 0.2235\n",
      "Epoch 6/20\n",
      "123/123 [==============================] - 0s 3ms/step - loss: 0.5059 - acc: 0.2178\n",
      "Epoch 7/20\n",
      "123/123 [==============================] - 0s 3ms/step - loss: 0.4659 - acc: 0.2547\n",
      "Epoch 8/20\n",
      "123/123 [==============================] - 0s 2ms/step - loss: 0.4152 - acc: 0.2628\n",
      "Epoch 9/20\n",
      "123/123 [==============================] - 0s 3ms/step - loss: 0.4022 - acc: 0.2613\n",
      "Epoch 10/20\n",
      "123/123 [==============================] - 0s 2ms/step - loss: 0.3816 - acc: 0.2756\n",
      "Epoch 11/20\n",
      "123/123 [==============================] - 0s 3ms/step - loss: 0.3828 - acc: 0.2838\n",
      "Epoch 12/20\n",
      "123/123 [==============================] - 0s 3ms/step - loss: 0.3517 - acc: 0.2935\n",
      "Epoch 13/20\n",
      "123/123 [==============================] - 0s 3ms/step - loss: 0.3992 - acc: 0.3009\n",
      "Epoch 14/20\n",
      "123/123 [==============================] - 0s 3ms/step - loss: 0.3696 - acc: 0.2877\n",
      "Epoch 15/20\n",
      "123/123 [==============================] - 0s 3ms/step - loss: 0.3691 - acc: 0.3027\n",
      "Epoch 16/20\n",
      "123/123 [==============================] - 0s 3ms/step - loss: 0.3839 - acc: 0.2869\n",
      "Epoch 17/20\n",
      "123/123 [==============================] - 0s 3ms/step - loss: 0.4049 - acc: 0.2907\n",
      "Epoch 18/20\n",
      "123/123 [==============================] - 0s 3ms/step - loss: 0.4197 - acc: 0.2856\n",
      "Epoch 19/20\n",
      "123/123 [==============================] - 0s 3ms/step - loss: 0.3203 - acc: 0.2853\n",
      "Epoch 20/20\n",
      "123/123 [==============================] - 0s 3ms/step - loss: 0.3494 - acc: 0.3004\n"
     ]
    }
   ],
   "source": [
    "history = model.fit(x=inputs, y=targets, epochs=20)"
   ]
  },
  {
   "cell_type": "markdown",
   "id": "50c756b3",
   "metadata": {
    "papermill": {
     "duration": 0.01732,
     "end_time": "2022-12-22T04:53:03.256143",
     "exception": false,
     "start_time": "2022-12-22T04:53:03.238823",
     "status": "completed"
    },
    "tags": []
   },
   "source": [
    "### Evaluation"
   ]
  },
  {
   "cell_type": "code",
   "execution_count": 14,
   "id": "87a9e80c",
   "metadata": {
    "execution": {
     "iopub.execute_input": "2022-12-22T04:53:03.293719Z",
     "iopub.status.busy": "2022-12-22T04:53:03.292468Z",
     "iopub.status.idle": "2022-12-22T04:53:03.314378Z",
     "shell.execute_reply": "2022-12-22T04:53:03.313138Z"
    },
    "papermill": {
     "duration": 0.043497,
     "end_time": "2022-12-22T04:53:03.317048",
     "exception": false,
     "start_time": "2022-12-22T04:53:03.273551",
     "status": "completed"
    },
    "tags": []
   },
   "outputs": [
    {
     "data": {
      "text/html": [
       "<div>\n",
       "<style scoped>\n",
       "    .dataframe tbody tr th:only-of-type {\n",
       "        vertical-align: middle;\n",
       "    }\n",
       "\n",
       "    .dataframe tbody tr th {\n",
       "        vertical-align: top;\n",
       "    }\n",
       "\n",
       "    .dataframe thead th {\n",
       "        text-align: right;\n",
       "    }\n",
       "</style>\n",
       "<table border=\"1\" class=\"dataframe\">\n",
       "  <thead>\n",
       "    <tr style=\"text-align: right;\">\n",
       "      <th></th>\n",
       "      <th>text_id</th>\n",
       "      <th>full_text</th>\n",
       "    </tr>\n",
       "  </thead>\n",
       "  <tbody>\n",
       "    <tr>\n",
       "      <th>0</th>\n",
       "      <td>0000C359D63E</td>\n",
       "      <td>when a person has no experience on a job their...</td>\n",
       "    </tr>\n",
       "    <tr>\n",
       "      <th>1</th>\n",
       "      <td>000BAD50D026</td>\n",
       "      <td>Do you think students would benefit from being...</td>\n",
       "    </tr>\n",
       "    <tr>\n",
       "      <th>2</th>\n",
       "      <td>00367BB2546B</td>\n",
       "      <td>Thomas Jefferson once states that \"it is wonde...</td>\n",
       "    </tr>\n",
       "  </tbody>\n",
       "</table>\n",
       "</div>"
      ],
      "text/plain": [
       "        text_id                                          full_text\n",
       "0  0000C359D63E  when a person has no experience on a job their...\n",
       "1  000BAD50D026  Do you think students would benefit from being...\n",
       "2  00367BB2546B  Thomas Jefferson once states that \"it is wonde..."
      ]
     },
     "execution_count": 14,
     "metadata": {},
     "output_type": "execute_result"
    }
   ],
   "source": [
    "test = pd.read_csv('../input/feedback-prize-english-language-learning/test.csv')\n",
    "test.head()"
   ]
  },
  {
   "cell_type": "code",
   "execution_count": 15,
   "id": "dbc7aec1",
   "metadata": {
    "execution": {
     "iopub.execute_input": "2022-12-22T04:53:03.352950Z",
     "iopub.status.busy": "2022-12-22T04:53:03.351845Z",
     "iopub.status.idle": "2022-12-22T04:53:03.384697Z",
     "shell.execute_reply": "2022-12-22T04:53:03.383403Z"
    },
    "papermill": {
     "duration": 0.05354,
     "end_time": "2022-12-22T04:53:03.387372",
     "exception": false,
     "start_time": "2022-12-22T04:53:03.333832",
     "status": "completed"
    },
    "tags": []
   },
   "outputs": [],
   "source": [
    "test['vecs'] = test['full_text'].apply(lambda x: extract_vectors([x]))\n",
    "test['char_count'] = test['full_text'].apply(len)\n",
    "test['word_count'] = test['full_text'].apply(lambda x: len(x.split()))\n",
    "test['word_density'] = test['char_count'] / (test['word_count'] + 1)\n",
    "test['punctuation_count'] = test['full_text'].apply(lambda x: len(\"\".join(_ for _ in x if _ in string.punctuation)))\n",
    "test['flesch_kincaid'] = test['full_text'].apply(lambda x: flesch_kincaid_score(x))"
   ]
  },
  {
   "cell_type": "code",
   "execution_count": 16,
   "id": "188d497f",
   "metadata": {
    "execution": {
     "iopub.execute_input": "2022-12-22T04:53:03.423842Z",
     "iopub.status.busy": "2022-12-22T04:53:03.423418Z",
     "iopub.status.idle": "2022-12-22T04:53:03.437103Z",
     "shell.execute_reply": "2022-12-22T04:53:03.436018Z"
    },
    "papermill": {
     "duration": 0.035083,
     "end_time": "2022-12-22T04:53:03.439690",
     "exception": false,
     "start_time": "2022-12-22T04:53:03.404607",
     "status": "completed"
    },
    "tags": []
   },
   "outputs": [],
   "source": [
    "eng_features = ['char_count', 'word_count', 'word_density', 'punctuation_count', 'flesch_kincaid']\n",
    "feature_set = []\n",
    "for i, row in test.iterrows():\n",
    "    vecs = row['vecs']\n",
    "    vals = row[eng_features].astype(float)\n",
    "    features = np.hstack([vecs, vals]).flatten()\n",
    "    feature_set.append(features)\n",
    "inputs = np.array(feature_set)"
   ]
  },
  {
   "cell_type": "code",
   "execution_count": 17,
   "id": "a3cac709",
   "metadata": {
    "execution": {
     "iopub.execute_input": "2022-12-22T04:53:03.474806Z",
     "iopub.status.busy": "2022-12-22T04:53:03.474359Z",
     "iopub.status.idle": "2022-12-22T04:53:03.619019Z",
     "shell.execute_reply": "2022-12-22T04:53:03.617651Z"
    },
    "papermill": {
     "duration": 0.165706,
     "end_time": "2022-12-22T04:53:03.622082",
     "exception": false,
     "start_time": "2022-12-22T04:53:03.456376",
     "status": "completed"
    },
    "tags": []
   },
   "outputs": [
    {
     "data": {
      "text/plain": [
       "[3.04675030708313,\n",
       " 2.552311658859253,\n",
       " 2.7769510746002197,\n",
       " 2.758589267730713,\n",
       " 2.456598997116089,\n",
       " 2.524026393890381]"
      ]
     },
     "execution_count": 17,
     "metadata": {},
     "output_type": "execute_result"
    }
   ],
   "source": [
    "predictions = model.predict(inputs)\n",
    "predictions = predictions.tolist()\n",
    "predictions[0]"
   ]
  },
  {
   "cell_type": "code",
   "execution_count": 18,
   "id": "cf4d1d2e",
   "metadata": {
    "execution": {
     "iopub.execute_input": "2022-12-22T04:53:03.657991Z",
     "iopub.status.busy": "2022-12-22T04:53:03.657206Z",
     "iopub.status.idle": "2022-12-22T04:53:03.674195Z",
     "shell.execute_reply": "2022-12-22T04:53:03.672966Z"
    },
    "papermill": {
     "duration": 0.03765,
     "end_time": "2022-12-22T04:53:03.676662",
     "exception": false,
     "start_time": "2022-12-22T04:53:03.639012",
     "status": "completed"
    },
    "tags": []
   },
   "outputs": [
    {
     "data": {
      "text/html": [
       "<div>\n",
       "<style scoped>\n",
       "    .dataframe tbody tr th:only-of-type {\n",
       "        vertical-align: middle;\n",
       "    }\n",
       "\n",
       "    .dataframe tbody tr th {\n",
       "        vertical-align: top;\n",
       "    }\n",
       "\n",
       "    .dataframe thead th {\n",
       "        text-align: right;\n",
       "    }\n",
       "</style>\n",
       "<table border=\"1\" class=\"dataframe\">\n",
       "  <thead>\n",
       "    <tr style=\"text-align: right;\">\n",
       "      <th></th>\n",
       "      <th>text_id</th>\n",
       "      <th>cohesion</th>\n",
       "      <th>syntax</th>\n",
       "      <th>vocabulary</th>\n",
       "      <th>phraseology</th>\n",
       "      <th>grammar</th>\n",
       "      <th>conventions</th>\n",
       "    </tr>\n",
       "  </thead>\n",
       "  <tbody>\n",
       "    <tr>\n",
       "      <th>0</th>\n",
       "      <td>0000C359D63E</td>\n",
       "      <td>3.046750</td>\n",
       "      <td>2.552312</td>\n",
       "      <td>2.776951</td>\n",
       "      <td>2.758589</td>\n",
       "      <td>2.456599</td>\n",
       "      <td>2.524026</td>\n",
       "    </tr>\n",
       "    <tr>\n",
       "      <th>1</th>\n",
       "      <td>000BAD50D026</td>\n",
       "      <td>2.998186</td>\n",
       "      <td>2.739042</td>\n",
       "      <td>2.883553</td>\n",
       "      <td>2.842175</td>\n",
       "      <td>2.651947</td>\n",
       "      <td>2.797789</td>\n",
       "    </tr>\n",
       "    <tr>\n",
       "      <th>2</th>\n",
       "      <td>00367BB2546B</td>\n",
       "      <td>3.282906</td>\n",
       "      <td>2.896102</td>\n",
       "      <td>3.002149</td>\n",
       "      <td>2.991028</td>\n",
       "      <td>2.836655</td>\n",
       "      <td>2.905456</td>\n",
       "    </tr>\n",
       "  </tbody>\n",
       "</table>\n",
       "</div>"
      ],
      "text/plain": [
       "        text_id  cohesion    syntax  vocabulary  phraseology   grammar  \\\n",
       "0  0000C359D63E  3.046750  2.552312    2.776951     2.758589  2.456599   \n",
       "1  000BAD50D026  2.998186  2.739042    2.883553     2.842175  2.651947   \n",
       "2  00367BB2546B  3.282906  2.896102    3.002149     2.991028  2.836655   \n",
       "\n",
       "   conventions  \n",
       "0     2.524026  \n",
       "1     2.797789  \n",
       "2     2.905456  "
      ]
     },
     "execution_count": 18,
     "metadata": {},
     "output_type": "execute_result"
    }
   ],
   "source": [
    "submission = pd.DataFrame(predictions, columns=['cohesion', 'syntax', 'vocabulary', 'phraseology', 'grammar', 'conventions'])\n",
    "submission = pd.concat([test['text_id'], submission], axis=1)\n",
    "submission"
   ]
  },
  {
   "cell_type": "code",
   "execution_count": 19,
   "id": "3cc40a3c",
   "metadata": {
    "execution": {
     "iopub.execute_input": "2022-12-22T04:53:03.713182Z",
     "iopub.status.busy": "2022-12-22T04:53:03.712220Z",
     "iopub.status.idle": "2022-12-22T04:53:03.720267Z",
     "shell.execute_reply": "2022-12-22T04:53:03.719464Z"
    },
    "papermill": {
     "duration": 0.028769,
     "end_time": "2022-12-22T04:53:03.722741",
     "exception": false,
     "start_time": "2022-12-22T04:53:03.693972",
     "status": "completed"
    },
    "tags": []
   },
   "outputs": [],
   "source": [
    "submission.to_csv('submission.csv', index=False)"
   ]
  },
  {
   "cell_type": "code",
   "execution_count": null,
   "id": "64711e50",
   "metadata": {
    "papermill": {
     "duration": 0.01693,
     "end_time": "2022-12-22T04:53:03.757999",
     "exception": false,
     "start_time": "2022-12-22T04:53:03.741069",
     "status": "completed"
    },
    "tags": []
   },
   "outputs": [],
   "source": []
  }
 ],
 "metadata": {
  "kernelspec": {
   "display_name": "Python 3",
   "language": "python",
   "name": "python3"
  },
  "language_info": {
   "codemirror_mode": {
    "name": "ipython",
    "version": 3
   },
   "file_extension": ".py",
   "mimetype": "text/x-python",
   "name": "python",
   "nbconvert_exporter": "python",
   "pygments_lexer": "ipython3",
   "version": "3.7.12"
  },
  "papermill": {
   "default_parameters": {},
   "duration": 65.226613,
   "end_time": "2022-12-22T04:53:07.387119",
   "environment_variables": {},
   "exception": null,
   "input_path": "__notebook__.ipynb",
   "output_path": "__notebook__.ipynb",
   "parameters": {},
   "start_time": "2022-12-22T04:52:02.160506",
   "version": "2.3.4"
  }
 },
 "nbformat": 4,
 "nbformat_minor": 5
}

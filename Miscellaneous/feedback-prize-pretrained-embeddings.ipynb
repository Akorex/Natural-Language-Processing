{
 "cells": [
  {
   "cell_type": "code",
   "execution_count": 1,
   "id": "0009c04a",
   "metadata": {
    "execution": {
     "iopub.execute_input": "2022-09-01T20:38:33.993160Z",
     "iopub.status.busy": "2022-09-01T20:38:33.992613Z",
     "iopub.status.idle": "2022-09-01T20:38:39.753376Z",
     "shell.execute_reply": "2022-09-01T20:38:39.752383Z"
    },
    "papermill": {
     "duration": 5.770375,
     "end_time": "2022-09-01T20:38:39.755816",
     "exception": false,
     "start_time": "2022-09-01T20:38:33.985441",
     "status": "completed"
    },
    "tags": []
   },
   "outputs": [],
   "source": [
    "import numpy as np\n",
    "import os\n",
    "import tensorflow as tf\n",
    "from tensorflow import keras\n",
    "from keras import layers, models\n",
    "import seaborn as sns\n",
    "import pandas as pd\n",
    "import matplotlib.pyplot as plt"
   ]
  },
  {
   "cell_type": "markdown",
   "id": "1cbb5569",
   "metadata": {
    "papermill": {
     "duration": 0.004655,
     "end_time": "2022-09-01T20:38:39.765533",
     "exception": false,
     "start_time": "2022-09-01T20:38:39.760878",
     "status": "completed"
    },
    "tags": []
   },
   "source": [
    "This notebook is a followup on the approach on the baseline model submitted for the competition. Necessary EDA work has already been done on [that notebook](https://www.kaggle.com/code/adewoleakorede/feedback-prize-baseline1), so this and any future ones will simply go to making more sophisticated models."
   ]
  },
  {
   "cell_type": "code",
   "execution_count": 2,
   "id": "263717e3",
   "metadata": {
    "execution": {
     "iopub.execute_input": "2022-09-01T20:38:39.777391Z",
     "iopub.status.busy": "2022-09-01T20:38:39.775332Z",
     "iopub.status.idle": "2022-09-01T20:38:39.988512Z",
     "shell.execute_reply": "2022-09-01T20:38:39.987561Z"
    },
    "papermill": {
     "duration": 0.220881,
     "end_time": "2022-09-01T20:38:39.990985",
     "exception": false,
     "start_time": "2022-09-01T20:38:39.770104",
     "status": "completed"
    },
    "tags": []
   },
   "outputs": [],
   "source": [
    "train = pd.read_csv('../input/feedback-prize-english-language-learning/train.csv')\n",
    "test = pd.read_csv('../input/feedback-prize-english-language-learning/test.csv')"
   ]
  },
  {
   "cell_type": "code",
   "execution_count": 3,
   "id": "89e5d02a",
   "metadata": {
    "execution": {
     "iopub.execute_input": "2022-09-01T20:38:40.001587Z",
     "iopub.status.busy": "2022-09-01T20:38:40.001305Z",
     "iopub.status.idle": "2022-09-01T20:38:40.383015Z",
     "shell.execute_reply": "2022-09-01T20:38:40.381917Z"
    },
    "papermill": {
     "duration": 0.389869,
     "end_time": "2022-09-01T20:38:40.385549",
     "exception": false,
     "start_time": "2022-09-01T20:38:39.995680",
     "status": "completed"
    },
    "tags": []
   },
   "outputs": [],
   "source": [
    "from tensorflow.keras.preprocessing.text import Tokenizer\n",
    "from tensorflow.keras.preprocessing.sequence import pad_sequences\n",
    "\n",
    "def preprocess_dataset(dataset, train = True):\n",
    "    \"\"\"Utility function to preprocess dataset to expected tensors by the model\"\"\"\n",
    "    inputs = dataset['full_text'].values.tolist()\n",
    "    \n",
    "    num_words = 20000\n",
    "    tokenizer = Tokenizer(num_words = num_words)\n",
    "    tokenizer.fit_on_texts(inputs)\n",
    "    word_index = tokenizer.word_index # required for embedding\n",
    "    \n",
    "    sequences = tokenizer.texts_to_sequences(inputs)\n",
    "    maxlen = 512\n",
    "    inputs = pad_sequences(sequences, maxlen=maxlen, padding='post', truncating='post')\n",
    "    inputs = np.array(inputs)\n",
    "    \n",
    "    if train:\n",
    "        targets = dataset[['cohesion', 'syntax', 'vocabulary', 'phraseology', 'grammar', 'conventions']].values.tolist()\n",
    "        targets = np.array(targets)\n",
    "        return inputs, targets, word_index\n",
    "    else:\n",
    "        return inputs # test does not have targets"
   ]
  },
  {
   "cell_type": "code",
   "execution_count": 4,
   "id": "84138073",
   "metadata": {
    "execution": {
     "iopub.execute_input": "2022-09-01T20:38:40.396413Z",
     "iopub.status.busy": "2022-09-01T20:38:40.395665Z",
     "iopub.status.idle": "2022-09-01T20:38:42.149738Z",
     "shell.execute_reply": "2022-09-01T20:38:42.148671Z"
    },
    "papermill": {
     "duration": 1.762327,
     "end_time": "2022-09-01T20:38:42.152659",
     "exception": false,
     "start_time": "2022-09-01T20:38:40.390332",
     "status": "completed"
    },
    "tags": []
   },
   "outputs": [],
   "source": [
    "inputs, targets, word_index = preprocess_dataset(train)"
   ]
  },
  {
   "cell_type": "code",
   "execution_count": 5,
   "id": "96bbe916",
   "metadata": {
    "execution": {
     "iopub.execute_input": "2022-09-01T20:38:42.164434Z",
     "iopub.status.busy": "2022-09-01T20:38:42.163671Z",
     "iopub.status.idle": "2022-09-01T20:38:42.171927Z",
     "shell.execute_reply": "2022-09-01T20:38:42.171026Z"
    },
    "papermill": {
     "duration": 0.016536,
     "end_time": "2022-09-01T20:38:42.174017",
     "exception": false,
     "start_time": "2022-09-01T20:38:42.157481",
     "status": "completed"
    },
    "tags": []
   },
   "outputs": [
    {
     "data": {
      "text/plain": [
       "((3911, 512), (3911, 6))"
      ]
     },
     "execution_count": 5,
     "metadata": {},
     "output_type": "execute_result"
    }
   ],
   "source": [
    "inputs.shape, targets.shape"
   ]
  },
  {
   "cell_type": "code",
   "execution_count": 6,
   "id": "e3557141",
   "metadata": {
    "execution": {
     "iopub.execute_input": "2022-09-01T20:38:42.185041Z",
     "iopub.status.busy": "2022-09-01T20:38:42.184148Z",
     "iopub.status.idle": "2022-09-01T20:38:42.192580Z",
     "shell.execute_reply": "2022-09-01T20:38:42.191727Z"
    },
    "papermill": {
     "duration": 0.015856,
     "end_time": "2022-09-01T20:38:42.194474",
     "exception": false,
     "start_time": "2022-09-01T20:38:42.178618",
     "status": "completed"
    },
    "tags": []
   },
   "outputs": [],
   "source": [
    "test = preprocess_dataset(test, train=False)"
   ]
  },
  {
   "cell_type": "markdown",
   "id": "3f35d14b",
   "metadata": {
    "papermill": {
     "duration": 0.004715,
     "end_time": "2022-09-01T20:38:42.203692",
     "exception": false,
     "start_time": "2022-09-01T20:38:42.198977",
     "status": "completed"
    },
    "tags": []
   },
   "source": [
    "## ML Models"
   ]
  },
  {
   "cell_type": "markdown",
   "id": "e652d47a",
   "metadata": {
    "papermill": {
     "duration": 0.00451,
     "end_time": "2022-09-01T20:38:42.212716",
     "exception": false,
     "start_time": "2022-09-01T20:38:42.208206",
     "status": "completed"
    },
    "tags": []
   },
   "source": [
    "The approach of this notebook is to use the glove pretrained embeddings on the task for a higher score."
   ]
  },
  {
   "cell_type": "code",
   "execution_count": 7,
   "id": "6a0ff708",
   "metadata": {
    "execution": {
     "iopub.execute_input": "2022-09-01T20:38:42.223103Z",
     "iopub.status.busy": "2022-09-01T20:38:42.222823Z",
     "iopub.status.idle": "2022-09-01T20:38:42.227185Z",
     "shell.execute_reply": "2022-09-01T20:38:42.225932Z"
    },
    "papermill": {
     "duration": 0.011892,
     "end_time": "2022-09-01T20:38:42.229191",
     "exception": false,
     "start_time": "2022-09-01T20:38:42.217299",
     "status": "completed"
    },
    "tags": []
   },
   "outputs": [],
   "source": [
    "num_words = 20000"
   ]
  },
  {
   "cell_type": "code",
   "execution_count": 8,
   "id": "1135ba85",
   "metadata": {
    "execution": {
     "iopub.execute_input": "2022-09-01T20:38:42.242062Z",
     "iopub.status.busy": "2022-09-01T20:38:42.240451Z",
     "iopub.status.idle": "2022-09-01T20:38:45.446520Z",
     "shell.execute_reply": "2022-09-01T20:38:45.445316Z"
    },
    "papermill": {
     "duration": 3.21554,
     "end_time": "2022-09-01T20:38:45.449432",
     "exception": false,
     "start_time": "2022-09-01T20:38:42.233892",
     "status": "completed"
    },
    "tags": []
   },
   "outputs": [
    {
     "name": "stderr",
     "output_type": "stream",
     "text": [
      "2022-09-01 20:38:42.321385: I tensorflow/stream_executor/cuda/cuda_gpu_executor.cc:937] successful NUMA node read from SysFS had negative value (-1), but there must be at least one NUMA node, so returning NUMA node zero\n",
      "2022-09-01 20:38:42.437250: I tensorflow/stream_executor/cuda/cuda_gpu_executor.cc:937] successful NUMA node read from SysFS had negative value (-1), but there must be at least one NUMA node, so returning NUMA node zero\n",
      "2022-09-01 20:38:42.438034: I tensorflow/stream_executor/cuda/cuda_gpu_executor.cc:937] successful NUMA node read from SysFS had negative value (-1), but there must be at least one NUMA node, so returning NUMA node zero\n",
      "2022-09-01 20:38:42.439236: I tensorflow/core/platform/cpu_feature_guard.cc:142] This TensorFlow binary is optimized with oneAPI Deep Neural Network Library (oneDNN) to use the following CPU instructions in performance-critical operations:  AVX2 AVX512F FMA\n",
      "To enable them in other operations, rebuild TensorFlow with the appropriate compiler flags.\n",
      "2022-09-01 20:38:42.445999: I tensorflow/stream_executor/cuda/cuda_gpu_executor.cc:937] successful NUMA node read from SysFS had negative value (-1), but there must be at least one NUMA node, so returning NUMA node zero\n",
      "2022-09-01 20:38:42.446701: I tensorflow/stream_executor/cuda/cuda_gpu_executor.cc:937] successful NUMA node read from SysFS had negative value (-1), but there must be at least one NUMA node, so returning NUMA node zero\n",
      "2022-09-01 20:38:42.447395: I tensorflow/stream_executor/cuda/cuda_gpu_executor.cc:937] successful NUMA node read from SysFS had negative value (-1), but there must be at least one NUMA node, so returning NUMA node zero\n",
      "2022-09-01 20:38:44.725914: I tensorflow/stream_executor/cuda/cuda_gpu_executor.cc:937] successful NUMA node read from SysFS had negative value (-1), but there must be at least one NUMA node, so returning NUMA node zero\n",
      "2022-09-01 20:38:44.726800: I tensorflow/stream_executor/cuda/cuda_gpu_executor.cc:937] successful NUMA node read from SysFS had negative value (-1), but there must be at least one NUMA node, so returning NUMA node zero\n",
      "2022-09-01 20:38:44.727517: I tensorflow/stream_executor/cuda/cuda_gpu_executor.cc:937] successful NUMA node read from SysFS had negative value (-1), but there must be at least one NUMA node, so returning NUMA node zero\n",
      "2022-09-01 20:38:44.728156: I tensorflow/core/common_runtime/gpu/gpu_device.cc:1510] Created device /job:localhost/replica:0/task:0/device:GPU:0 with 15401 MB memory:  -> device: 0, name: Tesla P100-PCIE-16GB, pci bus id: 0000:00:04.0, compute capability: 6.0\n"
     ]
    }
   ],
   "source": [
    "model = models.Sequential(name='pretrained')\n",
    "model.add(layers.Embedding(input_dim=num_words, output_dim=200, input_length=512))\n",
    "model.add(layers.LSTM(64, dropout=0.2, return_sequences=False))\n",
    "model.add(layers.Dense(6))"
   ]
  },
  {
   "cell_type": "code",
   "execution_count": 9,
   "id": "8e0f2464",
   "metadata": {
    "execution": {
     "iopub.execute_input": "2022-09-01T20:38:45.462358Z",
     "iopub.status.busy": "2022-09-01T20:38:45.461870Z",
     "iopub.status.idle": "2022-09-01T20:38:45.468451Z",
     "shell.execute_reply": "2022-09-01T20:38:45.467368Z"
    },
    "papermill": {
     "duration": 0.016214,
     "end_time": "2022-09-01T20:38:45.471610",
     "exception": false,
     "start_time": "2022-09-01T20:38:45.455396",
     "status": "completed"
    },
    "tags": []
   },
   "outputs": [
    {
     "name": "stdout",
     "output_type": "stream",
     "text": [
      "Model: \"pretrained\"\n",
      "_________________________________________________________________\n",
      "Layer (type)                 Output Shape              Param #   \n",
      "=================================================================\n",
      "embedding (Embedding)        (None, 512, 200)          4000000   \n",
      "_________________________________________________________________\n",
      "lstm (LSTM)                  (None, 64)                67840     \n",
      "_________________________________________________________________\n",
      "dense (Dense)                (None, 6)                 390       \n",
      "=================================================================\n",
      "Total params: 4,068,230\n",
      "Trainable params: 4,068,230\n",
      "Non-trainable params: 0\n",
      "_________________________________________________________________\n"
     ]
    }
   ],
   "source": [
    "model.summary()"
   ]
  },
  {
   "cell_type": "code",
   "execution_count": 10,
   "id": "31ea0a44",
   "metadata": {
    "execution": {
     "iopub.execute_input": "2022-09-01T20:38:45.483592Z",
     "iopub.status.busy": "2022-09-01T20:38:45.483334Z",
     "iopub.status.idle": "2022-09-01T20:39:03.008746Z",
     "shell.execute_reply": "2022-09-01T20:39:03.007511Z"
    },
    "papermill": {
     "duration": 17.534833,
     "end_time": "2022-09-01T20:39:03.011651",
     "exception": false,
     "start_time": "2022-09-01T20:38:45.476818",
     "status": "completed"
    },
    "tags": []
   },
   "outputs": [
    {
     "name": "stdout",
     "output_type": "stream",
     "text": [
      "400000\n"
     ]
    }
   ],
   "source": [
    "path_to_embedding = '../input/glove-embeddings/glove.6B.200d.txt'\n",
    "\n",
    "embedding_index = {} # create a dictionary to store the index\n",
    "f = open(path_to_embedding)\n",
    "\n",
    "for line in f:\n",
    "    values = line.split()\n",
    "    words = values[0]\n",
    "    coefs = np.array(values[1:], dtype='float32')\n",
    "    embedding_index[words] = coefs\n",
    "f.close()  \n",
    "print(len(embedding_index))"
   ]
  },
  {
   "cell_type": "code",
   "execution_count": 11,
   "id": "19e510d4",
   "metadata": {
    "execution": {
     "iopub.execute_input": "2022-09-01T20:39:03.023799Z",
     "iopub.status.busy": "2022-09-01T20:39:03.023517Z",
     "iopub.status.idle": "2022-09-01T20:39:03.072673Z",
     "shell.execute_reply": "2022-09-01T20:39:03.071585Z"
    },
    "papermill": {
     "duration": 0.057555,
     "end_time": "2022-09-01T20:39:03.074876",
     "exception": false,
     "start_time": "2022-09-01T20:39:03.017321",
     "status": "completed"
    },
    "tags": []
   },
   "outputs": [],
   "source": [
    "embedding_dim = 200\n",
    "embedding_matrix = np.zeros((num_words, embedding_dim))\n",
    "\n",
    "for word, index in word_index.items():\n",
    "    if index < num_words:\n",
    "        embedding_vector = embedding_index.get(word)\n",
    "        if embedding_vector is not None:\n",
    "            embedding_matrix[index] = embedding_vector"
   ]
  },
  {
   "cell_type": "code",
   "execution_count": 12,
   "id": "95da58a8",
   "metadata": {
    "execution": {
     "iopub.execute_input": "2022-09-01T20:39:03.086835Z",
     "iopub.status.busy": "2022-09-01T20:39:03.086041Z",
     "iopub.status.idle": "2022-09-01T20:39:03.092529Z",
     "shell.execute_reply": "2022-09-01T20:39:03.091541Z"
    },
    "papermill": {
     "duration": 0.014416,
     "end_time": "2022-09-01T20:39:03.094447",
     "exception": false,
     "start_time": "2022-09-01T20:39:03.080031",
     "status": "completed"
    },
    "tags": []
   },
   "outputs": [
    {
     "data": {
      "text/plain": [
       "(20000, 200)"
      ]
     },
     "execution_count": 12,
     "metadata": {},
     "output_type": "execute_result"
    }
   ],
   "source": [
    "embedding_matrix.shape"
   ]
  },
  {
   "cell_type": "code",
   "execution_count": 13,
   "id": "018e35ad",
   "metadata": {
    "execution": {
     "iopub.execute_input": "2022-09-01T20:39:03.106116Z",
     "iopub.status.busy": "2022-09-01T20:39:03.105242Z",
     "iopub.status.idle": "2022-09-01T20:39:03.136704Z",
     "shell.execute_reply": "2022-09-01T20:39:03.135778Z"
    },
    "papermill": {
     "duration": 0.039654,
     "end_time": "2022-09-01T20:39:03.138914",
     "exception": false,
     "start_time": "2022-09-01T20:39:03.099260",
     "status": "completed"
    },
    "tags": []
   },
   "outputs": [],
   "source": [
    "model.layers[0].set_weights([embedding_matrix])\n",
    "model.layers[0].trainable = False"
   ]
  },
  {
   "cell_type": "code",
   "execution_count": 14,
   "id": "a42625be",
   "metadata": {
    "execution": {
     "iopub.execute_input": "2022-09-01T20:39:03.150749Z",
     "iopub.status.busy": "2022-09-01T20:39:03.149918Z",
     "iopub.status.idle": "2022-09-01T20:39:03.156263Z",
     "shell.execute_reply": "2022-09-01T20:39:03.155211Z"
    },
    "papermill": {
     "duration": 0.01548,
     "end_time": "2022-09-01T20:39:03.159673",
     "exception": false,
     "start_time": "2022-09-01T20:39:03.144193",
     "status": "completed"
    },
    "tags": []
   },
   "outputs": [
    {
     "name": "stdout",
     "output_type": "stream",
     "text": [
      "Model: \"pretrained\"\n",
      "_________________________________________________________________\n",
      "Layer (type)                 Output Shape              Param #   \n",
      "=================================================================\n",
      "embedding (Embedding)        (None, 512, 200)          4000000   \n",
      "_________________________________________________________________\n",
      "lstm (LSTM)                  (None, 64)                67840     \n",
      "_________________________________________________________________\n",
      "dense (Dense)                (None, 6)                 390       \n",
      "=================================================================\n",
      "Total params: 4,068,230\n",
      "Trainable params: 68,230\n",
      "Non-trainable params: 4,000,000\n",
      "_________________________________________________________________\n"
     ]
    }
   ],
   "source": [
    "model.summary()"
   ]
  },
  {
   "cell_type": "code",
   "execution_count": 15,
   "id": "4fba995c",
   "metadata": {
    "execution": {
     "iopub.execute_input": "2022-09-01T20:39:03.172131Z",
     "iopub.status.busy": "2022-09-01T20:39:03.171807Z",
     "iopub.status.idle": "2022-09-01T20:40:26.514458Z",
     "shell.execute_reply": "2022-09-01T20:40:26.513361Z"
    },
    "papermill": {
     "duration": 83.351256,
     "end_time": "2022-09-01T20:40:26.517205",
     "exception": false,
     "start_time": "2022-09-01T20:39:03.165949",
     "status": "completed"
    },
    "tags": []
   },
   "outputs": [
    {
     "name": "stdout",
     "output_type": "stream",
     "text": [
      "Epoch 1/20\n"
     ]
    },
    {
     "name": "stderr",
     "output_type": "stream",
     "text": [
      "2022-09-01 20:39:03.235997: I tensorflow/compiler/mlir/mlir_graph_optimization_pass.cc:185] None of the MLIR Optimization Passes are enabled (registered 2)\n",
      "2022-09-01 20:39:05.466030: I tensorflow/stream_executor/cuda/cuda_dnn.cc:369] Loaded cuDNN version 8005\n"
     ]
    },
    {
     "name": "stdout",
     "output_type": "stream",
     "text": [
      "123/123 [==============================] - 6s 20ms/step - loss: 1.5975 - acc: 0.2549\n",
      "Epoch 2/20\n",
      "123/123 [==============================] - 3s 21ms/step - loss: 0.4189 - acc: 0.2314\n",
      "Epoch 3/20\n",
      "123/123 [==============================] - 2s 20ms/step - loss: 0.4196 - acc: 0.2334\n",
      "Epoch 4/20\n",
      "123/123 [==============================] - 3s 21ms/step - loss: 0.4160 - acc: 0.2470\n",
      "Epoch 5/20\n",
      "123/123 [==============================] - 2s 20ms/step - loss: 0.4203 - acc: 0.2411\n",
      "Epoch 6/20\n",
      "123/123 [==============================] - 3s 21ms/step - loss: 0.4146 - acc: 0.2337\n",
      "Epoch 7/20\n",
      "123/123 [==============================] - 2s 20ms/step - loss: 0.4138 - acc: 0.2455\n",
      "Epoch 8/20\n",
      "123/123 [==============================] - 2s 20ms/step - loss: 0.4149 - acc: 0.2539\n",
      "Epoch 9/20\n",
      "123/123 [==============================] - 2s 20ms/step - loss: 0.4134 - acc: 0.2447\n",
      "Epoch 10/20\n",
      "123/123 [==============================] - 2s 20ms/step - loss: 0.4050 - acc: 0.2585\n",
      "Epoch 11/20\n",
      "123/123 [==============================] - 3s 21ms/step - loss: 0.3779 - acc: 0.2393\n",
      "Epoch 12/20\n",
      "123/123 [==============================] - 2s 20ms/step - loss: 0.3582 - acc: 0.2355\n",
      "Epoch 13/20\n",
      "123/123 [==============================] - 2s 20ms/step - loss: 0.3497 - acc: 0.2444\n",
      "Epoch 14/20\n",
      "123/123 [==============================] - 2s 20ms/step - loss: 0.3349 - acc: 0.2552\n",
      "Epoch 15/20\n",
      "123/123 [==============================] - 3s 21ms/step - loss: 0.3274 - acc: 0.2411\n",
      "Epoch 16/20\n",
      "123/123 [==============================] - 2s 20ms/step - loss: 0.3194 - acc: 0.2299\n",
      "Epoch 17/20\n",
      "123/123 [==============================] - 3s 21ms/step - loss: 0.3117 - acc: 0.2460\n",
      "Epoch 18/20\n",
      "123/123 [==============================] - 2s 20ms/step - loss: 0.3075 - acc: 0.2403\n",
      "Epoch 19/20\n",
      "123/123 [==============================] - 2s 20ms/step - loss: 0.2988 - acc: 0.2419\n",
      "Epoch 20/20\n",
      "123/123 [==============================] - 2s 20ms/step - loss: 0.2974 - acc: 0.2503\n"
     ]
    }
   ],
   "source": [
    "model.compile(loss='mse', optimizer='adam', metrics='acc')\n",
    "history = model.fit(x=inputs, y=targets, epochs=20)"
   ]
  },
  {
   "cell_type": "code",
   "execution_count": 16,
   "id": "2bc20d2e",
   "metadata": {
    "execution": {
     "iopub.execute_input": "2022-09-01T20:40:26.618076Z",
     "iopub.status.busy": "2022-09-01T20:40:26.617183Z",
     "iopub.status.idle": "2022-09-01T20:40:27.026689Z",
     "shell.execute_reply": "2022-09-01T20:40:27.025030Z"
    },
    "papermill": {
     "duration": 0.462741,
     "end_time": "2022-09-01T20:40:27.030093",
     "exception": false,
     "start_time": "2022-09-01T20:40:26.567352",
     "status": "completed"
    },
    "tags": []
   },
   "outputs": [],
   "source": [
    "# evaluate\n",
    "\n",
    "preds = model.predict(test)\n",
    "predictions = preds.tolist()"
   ]
  },
  {
   "cell_type": "code",
   "execution_count": 17,
   "id": "13a3065f",
   "metadata": {
    "execution": {
     "iopub.execute_input": "2022-09-01T20:40:27.205679Z",
     "iopub.status.busy": "2022-09-01T20:40:27.205290Z",
     "iopub.status.idle": "2022-09-01T20:40:27.216882Z",
     "shell.execute_reply": "2022-09-01T20:40:27.215906Z"
    },
    "papermill": {
     "duration": 0.089458,
     "end_time": "2022-09-01T20:40:27.219249",
     "exception": false,
     "start_time": "2022-09-01T20:40:27.129791",
     "status": "completed"
    },
    "tags": []
   },
   "outputs": [],
   "source": [
    "test = pd.read_csv('../input/feedback-prize-english-language-learning/test.csv')"
   ]
  },
  {
   "cell_type": "code",
   "execution_count": 18,
   "id": "4261494d",
   "metadata": {
    "execution": {
     "iopub.execute_input": "2022-09-01T20:40:27.367182Z",
     "iopub.status.busy": "2022-09-01T20:40:27.366742Z",
     "iopub.status.idle": "2022-09-01T20:40:27.389355Z",
     "shell.execute_reply": "2022-09-01T20:40:27.388238Z"
    },
    "papermill": {
     "duration": 0.099804,
     "end_time": "2022-09-01T20:40:27.391738",
     "exception": false,
     "start_time": "2022-09-01T20:40:27.291934",
     "status": "completed"
    },
    "tags": []
   },
   "outputs": [
    {
     "data": {
      "text/html": [
       "<div>\n",
       "<style scoped>\n",
       "    .dataframe tbody tr th:only-of-type {\n",
       "        vertical-align: middle;\n",
       "    }\n",
       "\n",
       "    .dataframe tbody tr th {\n",
       "        vertical-align: top;\n",
       "    }\n",
       "\n",
       "    .dataframe thead th {\n",
       "        text-align: right;\n",
       "    }\n",
       "</style>\n",
       "<table border=\"1\" class=\"dataframe\">\n",
       "  <thead>\n",
       "    <tr style=\"text-align: right;\">\n",
       "      <th></th>\n",
       "      <th>text_id</th>\n",
       "      <th>cohesion</th>\n",
       "      <th>syntax</th>\n",
       "      <th>vocabulary</th>\n",
       "      <th>phraseology</th>\n",
       "      <th>grammar</th>\n",
       "      <th>conventions</th>\n",
       "    </tr>\n",
       "  </thead>\n",
       "  <tbody>\n",
       "    <tr>\n",
       "      <th>0</th>\n",
       "      <td>0000C359D63E</td>\n",
       "      <td>2.970589</td>\n",
       "      <td>2.750278</td>\n",
       "      <td>3.039046</td>\n",
       "      <td>2.731361</td>\n",
       "      <td>2.644364</td>\n",
       "      <td>2.960699</td>\n",
       "    </tr>\n",
       "    <tr>\n",
       "      <th>1</th>\n",
       "      <td>000BAD50D026</td>\n",
       "      <td>3.158048</td>\n",
       "      <td>3.109138</td>\n",
       "      <td>3.244158</td>\n",
       "      <td>3.164521</td>\n",
       "      <td>3.161529</td>\n",
       "      <td>3.186002</td>\n",
       "    </tr>\n",
       "    <tr>\n",
       "      <th>2</th>\n",
       "      <td>00367BB2546B</td>\n",
       "      <td>3.482982</td>\n",
       "      <td>3.441391</td>\n",
       "      <td>3.539438</td>\n",
       "      <td>3.520582</td>\n",
       "      <td>3.522839</td>\n",
       "      <td>3.571836</td>\n",
       "    </tr>\n",
       "  </tbody>\n",
       "</table>\n",
       "</div>"
      ],
      "text/plain": [
       "        text_id  cohesion    syntax  vocabulary  phraseology   grammar  \\\n",
       "0  0000C359D63E  2.970589  2.750278    3.039046     2.731361  2.644364   \n",
       "1  000BAD50D026  3.158048  3.109138    3.244158     3.164521  3.161529   \n",
       "2  00367BB2546B  3.482982  3.441391    3.539438     3.520582  3.522839   \n",
       "\n",
       "   conventions  \n",
       "0     2.960699  \n",
       "1     3.186002  \n",
       "2     3.571836  "
      ]
     },
     "execution_count": 18,
     "metadata": {},
     "output_type": "execute_result"
    }
   ],
   "source": [
    "submission = pd.DataFrame(predictions, columns=['cohesion', 'syntax', 'vocabulary', 'phraseology', 'grammar', 'conventions'])\n",
    "submission = pd.concat([test['text_id'], submission], axis=1)\n",
    "submission"
   ]
  },
  {
   "cell_type": "code",
   "execution_count": 19,
   "id": "576b97a5",
   "metadata": {
    "execution": {
     "iopub.execute_input": "2022-09-01T20:40:27.538517Z",
     "iopub.status.busy": "2022-09-01T20:40:27.538145Z",
     "iopub.status.idle": "2022-09-01T20:40:27.546486Z",
     "shell.execute_reply": "2022-09-01T20:40:27.545545Z"
    },
    "papermill": {
     "duration": 0.082635,
     "end_time": "2022-09-01T20:40:27.548837",
     "exception": false,
     "start_time": "2022-09-01T20:40:27.466202",
     "status": "completed"
    },
    "tags": []
   },
   "outputs": [],
   "source": [
    "submission.to_csv('submission.csv', index=False)"
   ]
  },
  {
   "cell_type": "code",
   "execution_count": null,
   "id": "073d9db1",
   "metadata": {
    "papermill": {
     "duration": 0.049658,
     "end_time": "2022-09-01T20:40:27.651709",
     "exception": false,
     "start_time": "2022-09-01T20:40:27.602051",
     "status": "completed"
    },
    "tags": []
   },
   "outputs": [],
   "source": []
  }
 ],
 "metadata": {
  "kernelspec": {
   "display_name": "Python 3",
   "language": "python",
   "name": "python3"
  },
  "language_info": {
   "codemirror_mode": {
    "name": "ipython",
    "version": 3
   },
   "file_extension": ".py",
   "mimetype": "text/x-python",
   "name": "python",
   "nbconvert_exporter": "python",
   "pygments_lexer": "ipython3",
   "version": "3.7.12"
  },
  "papermill": {
   "default_parameters": {},
   "duration": 124.404328,
   "end_time": "2022-09-01T20:40:30.584436",
   "environment_variables": {},
   "exception": null,
   "input_path": "__notebook__.ipynb",
   "output_path": "__notebook__.ipynb",
   "parameters": {},
   "start_time": "2022-09-01T20:38:26.180108",
   "version": "2.3.4"
  }
 },
 "nbformat": 4,
 "nbformat_minor": 5
}

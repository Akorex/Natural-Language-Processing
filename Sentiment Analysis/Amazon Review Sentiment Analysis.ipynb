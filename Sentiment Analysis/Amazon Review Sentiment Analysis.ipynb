{
 "cells": [
  {
   "cell_type": "code",
   "execution_count": 1,
   "metadata": {
    "execution": {
     "iopub.execute_input": "2022-04-06T22:46:40.790636Z",
     "iopub.status.busy": "2022-04-06T22:46:40.790298Z",
     "iopub.status.idle": "2022-04-06T22:46:46.342515Z",
     "shell.execute_reply": "2022-04-06T22:46:46.341718Z",
     "shell.execute_reply.started": "2022-04-06T22:46:40.790545Z"
    },
    "id": "jSxjOYkGkFr4"
   },
   "outputs": [],
   "source": [
    "import numpy as np\n",
    "import os\n",
    "import pandas as pd\n",
    "import matplotlib.pyplot as plt\n",
    "import seaborn as sns\n",
    "import tensorflow as tf\n",
    "from tensorflow import keras\n",
    "from keras import models, layers\n",
    "import gc # garbage collections\n",
    "import bz2 # to open zipped files"
   ]
  },
  {
   "cell_type": "markdown",
   "metadata": {
    "id": "vKj8lAH2lZaN"
   },
   "source": [
    "# Loading the dataset"
   ]
  },
  {
   "cell_type": "code",
   "execution_count": 4,
   "metadata": {
    "execution": {
     "iopub.execute_input": "2022-04-06T22:46:49.794844Z",
     "iopub.status.busy": "2022-04-06T22:46:49.794552Z",
     "iopub.status.idle": "2022-04-06T22:46:49.801585Z",
     "shell.execute_reply": "2022-04-06T22:46:49.800830Z",
     "shell.execute_reply.started": "2022-04-06T22:46:49.794804Z"
    },
    "id": "VdMqAnWumVbx"
   },
   "outputs": [],
   "source": [
    "train = bz2.BZ2File('../input/amazonreviews/train.ft.txt.bz2')\n",
    "test = bz2.BZ2File('../input/amazonreviews/test.ft.txt.bz2')"
   ]
  },
  {
   "cell_type": "code",
   "execution_count": 5,
   "metadata": {
    "execution": {
     "iopub.execute_input": "2022-04-06T22:46:56.521869Z",
     "iopub.status.busy": "2022-04-06T22:46:56.521588Z",
     "iopub.status.idle": "2022-04-06T22:48:32.638334Z",
     "shell.execute_reply": "2022-04-06T22:48:32.637640Z",
     "shell.execute_reply.started": "2022-04-06T22:46:56.521838Z"
    },
    "executionInfo": {
     "elapsed": 105842,
     "status": "ok",
     "timestamp": 1647289219116,
     "user": {
      "displayName": "Adewole Akorede",
      "photoUrl": "https://lh3.googleusercontent.com/a-/AOh14Gg03grqCyFQgax4UoMPg_gPqiuE8Jeq4oiFSV2x=s64",
      "userId": "08678817209531841234"
     },
     "user_tz": -60
    },
    "id": "3j7dxTQ8nC-4",
    "outputId": "13855432-5929-4cc8-b024-db8babe86f43"
   },
   "outputs": [
    {
     "data": {
      "text/plain": [
       "b'__label__2 Stuning even for the non-gamer: This sound track was beautiful! It paints the senery in your mind so well I would recomend it even to people who hate vid. game music! I have played the game Chrono Cross but out of all of the games I have ever played it has the best music! It backs away from crude keyboarding and takes a fresher step with grate guitars and soulful orchestras. It would impress anyone who cares to listen! ^_^\\n'"
      ]
     },
     "execution_count": 5,
     "metadata": {},
     "output_type": "execute_result"
    }
   ],
   "source": [
    "train = train.readlines()\n",
    "test = test.readlines()\n",
    "\n",
    "train[0]"
   ]
  },
  {
   "cell_type": "code",
   "execution_count": 6,
   "metadata": {
    "execution": {
     "iopub.execute_input": "2022-04-06T22:48:32.640203Z",
     "iopub.status.busy": "2022-04-06T22:48:32.639885Z",
     "iopub.status.idle": "2022-04-06T22:48:34.896538Z",
     "shell.execute_reply": "2022-04-06T22:48:34.895816Z",
     "shell.execute_reply.started": "2022-04-06T22:48:32.640166Z"
    },
    "id": "h_DcWktfnuEb"
   },
   "outputs": [],
   "source": [
    "# convert from raw binary strings into text files that can be parsed\n",
    "\n",
    "train = [x.decode('utf-8') for x in train]\n",
    "test = [x.decode('utf-8') for x in test]"
   ]
  },
  {
   "cell_type": "code",
   "execution_count": 7,
   "metadata": {
    "execution": {
     "iopub.execute_input": "2022-04-06T22:48:34.897997Z",
     "iopub.status.busy": "2022-04-06T22:48:34.897727Z",
     "iopub.status.idle": "2022-04-06T22:48:34.905441Z",
     "shell.execute_reply": "2022-04-06T22:48:34.904712Z",
     "shell.execute_reply.started": "2022-04-06T22:48:34.897962Z"
    },
    "executionInfo": {
     "elapsed": 14,
     "status": "ok",
     "timestamp": 1647289223295,
     "user": {
      "displayName": "Adewole Akorede",
      "photoUrl": "https://lh3.googleusercontent.com/a-/AOh14Gg03grqCyFQgax4UoMPg_gPqiuE8Jeq4oiFSV2x=s64",
      "userId": "08678817209531841234"
     },
     "user_tz": -60
    },
    "id": "J3nJdk23oTn8",
    "outputId": "579fb88d-36d5-4dca-a4b5-04273888a8ee"
   },
   "outputs": [
    {
     "data": {
      "text/plain": [
       "'__label__2 Stuning even for the non-gamer: This sound track was beautiful! It paints the senery in your mind so well I would recomend it even to people who hate vid. game music! I have played the game Chrono Cross but out of all of the games I have ever played it has the best music! It backs away from crude keyboarding and takes a fresher step with grate guitars and soulful orchestras. It would impress anyone who cares to listen! ^_^\\n'"
      ]
     },
     "execution_count": 7,
     "metadata": {},
     "output_type": "execute_result"
    }
   ],
   "source": [
    "train[0]"
   ]
  },
  {
   "cell_type": "code",
   "execution_count": 8,
   "metadata": {
    "execution": {
     "iopub.execute_input": "2022-04-06T22:48:34.908356Z",
     "iopub.status.busy": "2022-04-06T22:48:34.907917Z",
     "iopub.status.idle": "2022-04-06T22:48:34.917529Z",
     "shell.execute_reply": "2022-04-06T22:48:34.916673Z",
     "shell.execute_reply.started": "2022-04-06T22:48:34.908320Z"
    },
    "executionInfo": {
     "elapsed": 13,
     "status": "ok",
     "timestamp": 1647289223297,
     "user": {
      "displayName": "Adewole Akorede",
      "photoUrl": "https://lh3.googleusercontent.com/a-/AOh14Gg03grqCyFQgax4UoMPg_gPqiuE8Jeq4oiFSV2x=s64",
      "userId": "08678817209531841234"
     },
     "user_tz": -60
    },
    "id": "-c3Nw1evoWes",
    "outputId": "e2e1570c-0d35-4c9a-e260-b7eb94495f5a"
   },
   "outputs": [
    {
     "name": "stdout",
     "output_type": "stream",
     "text": [
      "<class 'list'> <class 'list'> \n",
      "\n",
      "Train Data Volume: 3600000\n",
      "\n",
      "Test Data Volume: 400000\n",
      "\n",
      "\n",
      "Demo:  \n",
      "\n",
      "__label__2 Stuning even for the non-gamer: This sound track was beautiful! It paints the senery in your mind so well I would recomend it even to people who hate vid. game music! I have played the game Chrono Cross but out of all of the games I have ever played it has the best music! It backs away from crude keyboarding and takes a fresher step with grate guitars and soulful orchestras. It would impress anyone who cares to listen! ^_^\n",
      " \n",
      "\n",
      "__label__2 The best soundtrack ever to anything.: I'm reading a lot of reviews saying that this is the best 'game soundtrack' and I figured that I'd write a review to disagree a bit. This in my opinino is Yasunori Mitsuda's ultimate masterpiece. The music is timeless and I'm been listening to it for years now and its beauty simply refuses to fade.The price tag on this is pretty staggering I must say, but if you are going to buy any cd for this much money, this is the only one that I feel would be worth every penny.\n",
      " \n",
      "\n",
      "__label__2 Amazing!: This soundtrack is my favorite music of all time, hands down. The intense sadness of \"Prisoners of Fate\" (which means all the more if you've played the game) and the hope in \"A Distant Promise\" and \"Girl who Stole the Star\" have been an important inspiration to me personally throughout my teen years. The higher energy tracks like \"Chrono Cross ~ Time's Scar~\", \"Time of the Dreamwatch\", and \"Chronomantique\" (indefinably remeniscent of Chrono Trigger) are all absolutely superb as well.This soundtrack is amazing music, probably the best of this composer's work (I haven't heard the Xenogears soundtrack, so I can't say for sure), and even if you've never played the game, it would be worth twice the price to buy it.I wish I could give it 6 stars.\n",
      " \n",
      "\n",
      "__label__2 Excellent Soundtrack: I truly like this soundtrack and I enjoy video game music. I have played this game and most of the music on here I enjoy and it's truly relaxing and peaceful.On disk one. my favorites are Scars Of Time, Between Life and Death, Forest Of Illusion, Fortress of Ancient Dragons, Lost Fragment, and Drowned Valley.Disk Two: The Draggons, Galdorb - Home, Chronomantique, Prisoners of Fate, Gale, and my girlfriend likes ZelbessDisk Three: The best of the three. Garden Of God, Chronopolis, Fates, Jellyfish sea, Burning Orphange, Dragon's Prayer, Tower Of Stars, Dragon God, and Radical Dreamers - Unstealable Jewel.Overall, this is a excellent soundtrack and should be brought by those that like video game music.Xander Cross\n",
      " \n",
      "\n",
      "__label__2 Remember, Pull Your Jaw Off The Floor After Hearing it: If you've played the game, you know how divine the music is! Every single song tells a story of the game, it's that good! The greatest songs are without a doubt, Chrono Cross: Time's Scar, Magical Dreamers: The Wind, The Stars, and the Sea and Radical Dreamers: Unstolen Jewel. (Translation varies) This music is perfect if you ask me, the best it can be. Yasunori Mitsuda just poured his heart on and wrote it down on paper.\n",
      " \n",
      "\n"
     ]
    }
   ],
   "source": [
    "print(type(train), type(test), \"\\n\")\n",
    "\n",
    "print(f\"Train Data Volume: {len(train)}\\n\")\n",
    "print(f\"Test Data Volume: {len(test)}\\n\\n\")\n",
    "\n",
    "print(\"Demo: \", \"\\n\")\n",
    "for x in train[:5]:\n",
    "    print(x, \"\\n\")"
   ]
  },
  {
   "cell_type": "code",
   "execution_count": 9,
   "metadata": {
    "execution": {
     "iopub.execute_input": "2022-04-06T22:48:34.919704Z",
     "iopub.status.busy": "2022-04-06T22:48:34.918810Z",
     "iopub.status.idle": "2022-04-06T22:48:51.950611Z",
     "shell.execute_reply": "2022-04-06T22:48:51.949832Z",
     "shell.execute_reply.started": "2022-04-06T22:48:34.919667Z"
    },
    "id": "S-2MBfOhpNQb"
   },
   "outputs": [],
   "source": [
    "# extract labels from the dataset\n",
    "# judging from the dataset, let's set 0 for negative sentiment and 1 for positive sentiment\n",
    "\n",
    "train_labels = [0 if x.split(' ')[0] == '__label__1' else 1 for x in train] \n",
    "test_labels = [0 if x.split(' ')[0] =='__label__1' else 1 for x in test]"
   ]
  },
  {
   "cell_type": "code",
   "execution_count": 10,
   "metadata": {
    "execution": {
     "iopub.execute_input": "2022-04-06T22:48:51.953164Z",
     "iopub.status.busy": "2022-04-06T22:48:51.951775Z",
     "iopub.status.idle": "2022-04-06T22:48:59.947679Z",
     "shell.execute_reply": "2022-04-06T22:48:59.946890Z",
     "shell.execute_reply.started": "2022-04-06T22:48:51.953120Z"
    },
    "executionInfo": {
     "elapsed": 6525,
     "status": "ok",
     "timestamp": 1647289246349,
     "user": {
      "displayName": "Adewole Akorede",
      "photoUrl": "https://lh3.googleusercontent.com/a-/AOh14Gg03grqCyFQgax4UoMPg_gPqiuE8Jeq4oiFSV2x=s64",
      "userId": "08678817209531841234"
     },
     "user_tz": -60
    },
    "id": "Cekaua_Ps0FG",
    "outputId": "7d16beda-9597-486d-edd4-b8ea8aba1da8"
   },
   "outputs": [
    {
     "name": "stderr",
     "output_type": "stream",
     "text": [
      "/opt/conda/lib/python3.7/site-packages/seaborn/_decorators.py:43: FutureWarning: Pass the following variable as a keyword arg: x. From version 0.12, the only valid positional argument will be `data`, and passing other arguments without an explicit keyword will result in an error or misinterpretation.\n",
      "  FutureWarning\n"
     ]
    },
    {
     "data": {
      "text/plain": [
       "Text(0.5, 1.0, 'Train Labels Distribution')"
      ]
     },
     "execution_count": 10,
     "metadata": {},
     "output_type": "execute_result"
    },
    {
     "data": {
      "image/png": "[encoded data removed]",
      "text/plain": [
       "<Figure size 432x288 with 1 Axes>"
      ]
     },
     "metadata": {
      "needs_background": "light"
     },
     "output_type": "display_data"
    }
   ],
   "source": [
    "sns.countplot(train_labels)\n",
    "plt.title('Train Labels Distribution')"
   ]
  },
  {
   "cell_type": "code",
   "execution_count": 11,
   "metadata": {
    "execution": {
     "iopub.execute_input": "2022-04-06T22:48:59.949318Z",
     "iopub.status.busy": "2022-04-06T22:48:59.949041Z",
     "iopub.status.idle": "2022-04-06T22:49:00.939473Z",
     "shell.execute_reply": "2022-04-06T22:49:00.938675Z",
     "shell.execute_reply.started": "2022-04-06T22:48:59.949282Z"
    },
    "executionInfo": {
     "elapsed": 763,
     "status": "ok",
     "timestamp": 1647289247099,
     "user": {
      "displayName": "Adewole Akorede",
      "photoUrl": "https://lh3.googleusercontent.com/a-/AOh14Gg03grqCyFQgax4UoMPg_gPqiuE8Jeq4oiFSV2x=s64",
      "userId": "08678817209531841234"
     },
     "user_tz": -60
    },
    "id": "-lvzUiwgs_DK",
    "outputId": "6768f1cf-e54b-4dba-9655-8e6f7c946b45"
   },
   "outputs": [
    {
     "name": "stderr",
     "output_type": "stream",
     "text": [
      "/opt/conda/lib/python3.7/site-packages/seaborn/_decorators.py:43: FutureWarning: Pass the following variable as a keyword arg: x. From version 0.12, the only valid positional argument will be `data`, and passing other arguments without an explicit keyword will result in an error or misinterpretation.\n",
      "  FutureWarning\n"
     ]
    },
    {
     "data": {
      "text/plain": [
       "Text(0.5, 1.0, 'Test Labels Distribution')"
      ]
     },
     "execution_count": 11,
     "metadata": {},
     "output_type": "execute_result"
    },
    {
     "data": {
      "image/png": "[encoded data removed]",
      "text/plain": [
       "<Figure size 432x288 with 1 Axes>"
      ]
     },
     "metadata": {
      "needs_background": "light"
     },
     "output_type": "display_data"
    }
   ],
   "source": [
    "sns.countplot(test_labels)\n",
    "plt.title('Test Labels Distribution')"
   ]
  },
  {
   "cell_type": "code",
   "execution_count": 12,
   "metadata": {
    "execution": {
     "iopub.execute_input": "2022-04-06T22:49:00.940879Z",
     "iopub.status.busy": "2022-04-06T22:49:00.940624Z",
     "iopub.status.idle": "2022-04-06T22:49:03.705590Z",
     "shell.execute_reply": "2022-04-06T22:49:03.704856Z",
     "shell.execute_reply.started": "2022-04-06T22:49:00.940842Z"
    },
    "executionInfo": {
     "elapsed": 3553,
     "status": "ok",
     "timestamp": 1647289250645,
     "user": {
      "displayName": "Adewole Akorede",
      "photoUrl": "https://lh3.googleusercontent.com/a-/AOh14Gg03grqCyFQgax4UoMPg_gPqiuE8Jeq4oiFSV2x=s64",
      "userId": "08678817209531841234"
     },
     "user_tz": -60
    },
    "id": "fhZ3FfmitOJT",
    "outputId": "ff19100e-9c8d-485b-9d40-b3989b80ef00"
   },
   "outputs": [
    {
     "data": {
      "text/plain": [
       "'Stuning even for the non-gamer: This sound track was beautiful! It paints the senery in your mind so well I would recomend it even to people who hate vid. game music! I have played the game Chrono Cross but out of all of the games I have ever played it has the best music! It backs away from crude keyboarding and takes a fresher step with grate guitars and soulful orchestras. It would impress anyone who cares to listen! ^_^'"
      ]
     },
     "execution_count": 12,
     "metadata": {},
     "output_type": "execute_result"
    }
   ],
   "source": [
    "# let's extract the texts\n",
    "\n",
    "train_texts = [x.split(' ', maxsplit=1)[1][:-1] for x in train]\n",
    "test_texts = [x.split(' ', maxsplit=1)[1][:-1] for x in test]\n",
    "\n",
    "train_texts[0]"
   ]
  },
  {
   "cell_type": "code",
   "execution_count": 13,
   "metadata": {
    "execution": {
     "iopub.execute_input": "2022-04-06T22:49:03.707407Z",
     "iopub.status.busy": "2022-04-06T22:49:03.706982Z",
     "iopub.status.idle": "2022-04-06T22:49:04.364452Z",
     "shell.execute_reply": "2022-04-06T22:49:04.363672Z",
     "shell.execute_reply.started": "2022-04-06T22:49:03.707366Z"
    },
    "executionInfo": {
     "elapsed": 499,
     "status": "ok",
     "timestamp": 1647289253014,
     "user": {
      "displayName": "Adewole Akorede",
      "photoUrl": "https://lh3.googleusercontent.com/a-/AOh14Gg03grqCyFQgax4UoMPg_gPqiuE8Jeq4oiFSV2x=s64",
      "userId": "08678817209531841234"
     },
     "user_tz": -60
    },
    "id": "cqlooqAeuMzX",
    "outputId": "d5c33c66-df6b-410c-cbef-10c266d99d09"
   },
   "outputs": [
    {
     "data": {
      "text/plain": [
       "70"
      ]
     },
     "execution_count": 13,
     "metadata": {},
     "output_type": "execute_result"
    }
   ],
   "source": [
    "del train, test\n",
    "\n",
    "gc.collect()"
   ]
  },
  {
   "cell_type": "markdown",
   "metadata": {
    "id": "PIIRugaDvD3b"
   },
   "source": [
    "## Exploratory Data Analysis"
   ]
  },
  {
   "cell_type": "markdown",
   "metadata": {
    "id": "PdxBLF_G1TPS"
   },
   "source": [
    "### Word Cloud"
   ]
  },
  {
   "cell_type": "code",
   "execution_count": 14,
   "metadata": {
    "execution": {
     "iopub.execute_input": "2022-04-06T22:49:04.368390Z",
     "iopub.status.busy": "2022-04-06T22:49:04.367994Z",
     "iopub.status.idle": "2022-04-06T22:49:04.407663Z",
     "shell.execute_reply": "2022-04-06T22:49:04.407052Z",
     "shell.execute_reply.started": "2022-04-06T22:49:04.368350Z"
    },
    "id": "l7GRmz-lvCRC"
   },
   "outputs": [],
   "source": [
    "from wordcloud import WordCloud"
   ]
  },
  {
   "cell_type": "code",
   "execution_count": 15,
   "metadata": {
    "execution": {
     "iopub.execute_input": "2022-04-06T22:49:04.409198Z",
     "iopub.status.busy": "2022-04-06T22:49:04.408957Z",
     "iopub.status.idle": "2022-04-06T22:49:04.502677Z",
     "shell.execute_reply": "2022-04-06T22:49:04.501835Z",
     "shell.execute_reply.started": "2022-04-06T22:49:04.409164Z"
    },
    "executionInfo": {
     "elapsed": 1894,
     "status": "ok",
     "timestamp": 1647289254902,
     "user": {
      "displayName": "Adewole Akorede",
      "photoUrl": "https://lh3.googleusercontent.com/a-/AOh14Gg03grqCyFQgax4UoMPg_gPqiuE8Jeq4oiFSV2x=s64",
      "userId": "08678817209531841234"
     },
     "user_tz": -60
    },
    "id": "rsU-gWKsyNmf",
    "outputId": "0431650c-a548-4cdd-c4cc-fa9dd867bf33"
   },
   "outputs": [
    {
     "name": "stdout",
     "output_type": "stream",
     "text": [
      "There are 44053838 words in the corpus\n"
     ]
    }
   ],
   "source": [
    "# let's have a corpus for all the texts in train_text\n",
    "\n",
    "corpus = ' '.join(text for text in train_texts[:100000])\n",
    "print(f'There are {len(corpus)} words in the corpus')"
   ]
  },
  {
   "cell_type": "code",
   "execution_count": 16,
   "metadata": {
    "execution": {
     "iopub.execute_input": "2022-04-06T22:49:04.504420Z",
     "iopub.status.busy": "2022-04-06T22:49:04.504117Z",
     "iopub.status.idle": "2022-04-06T22:49:31.727281Z",
     "shell.execute_reply": "2022-04-06T22:49:31.725436Z",
     "shell.execute_reply.started": "2022-04-06T22:49:04.504379Z"
    },
    "executionInfo": {
     "elapsed": 31165,
     "status": "ok",
     "timestamp": 1647289286546,
     "user": {
      "displayName": "Adewole Akorede",
      "photoUrl": "https://lh3.googleusercontent.com/a-/AOh14Gg03grqCyFQgax4UoMPg_gPqiuE8Jeq4oiFSV2x=s64",
      "userId": "08678817209531841234"
     },
     "user_tz": -60
    },
    "id": "yAXbeewUu8D7",
    "outputId": "883ae7f1-979c-47ef-8049-0124beb42828"
   },
   "outputs": [
    {
     "data": {
      "image/png": "[encoded data removed]",
      "text/plain": [
       "<Figure size 720x576 with 1 Axes>"
      ]
     },
     "metadata": {
      "needs_background": "light"
     },
     "output_type": "display_data"
    }
   ],
   "source": [
    "wordcloud = WordCloud(max_font_size=50, max_words=100, background_color='white')\n",
    "wordcloud = wordcloud.generate(corpus)\n",
    "\n",
    "\n",
    "plt.figure(figsize=(10, 8))\n",
    "plt.imshow(wordcloud, interpolation='bilinear')\n",
    "plt.axis('off')\n",
    "\n",
    "plt.show()"
   ]
  },
  {
   "cell_type": "code",
   "execution_count": 17,
   "metadata": {
    "execution": {
     "iopub.execute_input": "2022-04-06T22:49:31.728449Z",
     "iopub.status.busy": "2022-04-06T22:49:31.728223Z",
     "iopub.status.idle": "2022-04-06T22:49:32.039567Z",
     "shell.execute_reply": "2022-04-06T22:49:32.038852Z",
     "shell.execute_reply.started": "2022-04-06T22:49:31.728418Z"
    },
    "executionInfo": {
     "elapsed": 7,
     "status": "ok",
     "timestamp": 1647289286547,
     "user": {
      "displayName": "Adewole Akorede",
      "photoUrl": "https://lh3.googleusercontent.com/a-/AOh14Gg03grqCyFQgax4UoMPg_gPqiuE8Jeq4oiFSV2x=s64",
      "userId": "08678817209531841234"
     },
     "user_tz": -60
    },
    "id": "F6fvT87AHBr9",
    "outputId": "bb2dee4e-1abb-4e6b-c2dc-99dff95752a0"
   },
   "outputs": [
    {
     "data": {
      "text/plain": [
       "3202"
      ]
     },
     "execution_count": 17,
     "metadata": {},
     "output_type": "execute_result"
    }
   ],
   "source": [
    "del wordcloud\n",
    "\n",
    "gc.collect()"
   ]
  },
  {
   "cell_type": "markdown",
   "metadata": {
    "id": "fuYL6dKt3BHZ"
   },
   "source": [
    "### Distribution of word count"
   ]
  },
  {
   "cell_type": "code",
   "execution_count": 18,
   "metadata": {
    "execution": {
     "iopub.execute_input": "2022-04-06T22:49:32.041626Z",
     "iopub.status.busy": "2022-04-06T22:49:32.041100Z",
     "iopub.status.idle": "2022-04-06T22:49:53.694837Z",
     "shell.execute_reply": "2022-04-06T22:49:53.693127Z",
     "shell.execute_reply.started": "2022-04-06T22:49:32.041587Z"
    },
    "executionInfo": {
     "elapsed": 41172,
     "status": "ok",
     "timestamp": 1647289327713,
     "user": {
      "displayName": "Adewole Akorede",
      "photoUrl": "https://lh3.googleusercontent.com/a-/AOh14Gg03grqCyFQgax4UoMPg_gPqiuE8Jeq4oiFSV2x=s64",
      "userId": "08678817209531841234"
     },
     "user_tz": -60
    },
    "id": "wuVsvjen1kiP",
    "outputId": "dfb7d878-e851-4d55-b40f-71ea09916d0c"
   },
   "outputs": [
    {
     "data": {
      "text/plain": [
       "Text(0.5, 1.0, 'Word Frequency Distribution in Reviews')"
      ]
     },
     "execution_count": 18,
     "metadata": {},
     "output_type": "execute_result"
    },
    {
     "data": {
      "image/png": "[encoded data removed]",
      "text/plain": [
       "<Figure size 360x360 with 1 Axes>"
      ]
     },
     "metadata": {
      "needs_background": "light"
     },
     "output_type": "display_data"
    }
   ],
   "source": [
    "# let's count the number of words in the review and see the distribution\n",
    "\n",
    "train_texts_size = list(map(lambda x: len(x.split()), train_texts))\n",
    "sns.displot(train_texts_size)\n",
    "plt.xlabel('No. of words in review')\n",
    "plt.ylabel('Frequency')\n",
    "plt.title('Word Frequency Distribution in Reviews')"
   ]
  },
  {
   "cell_type": "code",
   "execution_count": 19,
   "metadata": {
    "execution": {
     "iopub.execute_input": "2022-04-06T22:49:53.696475Z",
     "iopub.status.busy": "2022-04-06T22:49:53.696221Z",
     "iopub.status.idle": "2022-04-06T22:49:56.466190Z",
     "shell.execute_reply": "2022-04-06T22:49:56.465506Z",
     "shell.execute_reply.started": "2022-04-06T22:49:53.696440Z"
    },
    "executionInfo": {
     "elapsed": 1937,
     "status": "ok",
     "timestamp": 1647289329636,
     "user": {
      "displayName": "Adewole Akorede",
      "photoUrl": "https://lh3.googleusercontent.com/a-/AOh14Gg03grqCyFQgax4UoMPg_gPqiuE8Jeq4oiFSV2x=s64",
      "userId": "08678817209531841234"
     },
     "user_tz": -60
    },
    "id": "9L5LhBMf3ix2",
    "outputId": "ff49aaf3-db09-4297-fd4c-b88ffec07f69"
   },
   "outputs": [
    {
     "data": {
      "text/html": [
       "<div>\n",
       "<style scoped>\n",
       "    .dataframe tbody tr th:only-of-type {\n",
       "        vertical-align: middle;\n",
       "    }\n",
       "\n",
       "    .dataframe tbody tr th {\n",
       "        vertical-align: top;\n",
       "    }\n",
       "\n",
       "    .dataframe thead th {\n",
       "        text-align: right;\n",
       "    }\n",
       "</style>\n",
       "<table border=\"1\" class=\"dataframe\">\n",
       "  <thead>\n",
       "    <tr style=\"text-align: right;\">\n",
       "      <th></th>\n",
       "      <th>len</th>\n",
       "      <th>labels</th>\n",
       "    </tr>\n",
       "  </thead>\n",
       "  <tbody>\n",
       "    <tr>\n",
       "      <th>0</th>\n",
       "      <td>80</td>\n",
       "      <td>1</td>\n",
       "    </tr>\n",
       "    <tr>\n",
       "      <th>1</th>\n",
       "      <td>97</td>\n",
       "      <td>1</td>\n",
       "    </tr>\n",
       "    <tr>\n",
       "      <th>2</th>\n",
       "      <td>129</td>\n",
       "      <td>1</td>\n",
       "    </tr>\n",
       "    <tr>\n",
       "      <th>3</th>\n",
       "      <td>118</td>\n",
       "      <td>1</td>\n",
       "    </tr>\n",
       "    <tr>\n",
       "      <th>4</th>\n",
       "      <td>87</td>\n",
       "      <td>1</td>\n",
       "    </tr>\n",
       "    <tr>\n",
       "      <th>5</th>\n",
       "      <td>142</td>\n",
       "      <td>1</td>\n",
       "    </tr>\n",
       "    <tr>\n",
       "      <th>6</th>\n",
       "      <td>139</td>\n",
       "      <td>0</td>\n",
       "    </tr>\n",
       "    <tr>\n",
       "      <th>7</th>\n",
       "      <td>105</td>\n",
       "      <td>1</td>\n",
       "    </tr>\n",
       "    <tr>\n",
       "      <th>8</th>\n",
       "      <td>103</td>\n",
       "      <td>1</td>\n",
       "    </tr>\n",
       "    <tr>\n",
       "      <th>9</th>\n",
       "      <td>63</td>\n",
       "      <td>1</td>\n",
       "    </tr>\n",
       "  </tbody>\n",
       "</table>\n",
       "</div>"
      ],
      "text/plain": [
       "   len  labels\n",
       "0   80       1\n",
       "1   97       1\n",
       "2  129       1\n",
       "3  118       1\n",
       "4   87       1\n",
       "5  142       1\n",
       "6  139       0\n",
       "7  105       1\n",
       "8  103       1\n",
       "9   63       1"
      ]
     },
     "execution_count": 19,
     "metadata": {},
     "output_type": "execute_result"
    }
   ],
   "source": [
    "train_size_df = pd.DataFrame({'len': train_texts_size, 'labels': train_labels})\n",
    "train_size_df.head(10)"
   ]
  },
  {
   "cell_type": "code",
   "execution_count": 20,
   "metadata": {
    "execution": {
     "iopub.execute_input": "2022-04-06T22:49:56.467762Z",
     "iopub.status.busy": "2022-04-06T22:49:56.467507Z",
     "iopub.status.idle": "2022-04-06T22:49:57.496684Z",
     "shell.execute_reply": "2022-04-06T22:49:57.495250Z",
     "shell.execute_reply.started": "2022-04-06T22:49:56.467728Z"
    },
    "executionInfo": {
     "elapsed": 1252,
     "status": "ok",
     "timestamp": 1647289330878,
     "user": {
      "displayName": "Adewole Akorede",
      "photoUrl": "https://lh3.googleusercontent.com/a-/AOh14Gg03grqCyFQgax4UoMPg_gPqiuE8Jeq4oiFSV2x=s64",
      "userId": "08678817209531841234"
     },
     "user_tz": -60
    },
    "id": "DsPWDWSv4xd0",
    "outputId": "8ac7a1d9-dbac-4448-9b1f-9baeb8f62fae"
   },
   "outputs": [
    {
     "name": "stdout",
     "output_type": "stream",
     "text": [
      "Negative mean length: 81.50\n",
      "Positive mean length:  75.46\n",
      "Mean difference: 6.04\n"
     ]
    },
    {
     "data": {
      "text/plain": [
       "Text(0.5, 6.79999999999999, 'Label -> 0 for Negative and 1 for Positive')"
      ]
     },
     "execution_count": 20,
     "metadata": {},
     "output_type": "execute_result"
    },
    {
     "data": {
      "image/png": "[encoded data removed]",
      "text/plain": [
       "<Figure size 360x360 with 1 Axes>"
      ]
     },
     "metadata": {
      "needs_background": "light"
     },
     "output_type": "display_data"
    }
   ],
   "source": [
    "neg_mean_len = train_size_df[train_size_df['labels'] == 0]['len'].mean()\n",
    "pos_mean_len = train_size_df[train_size_df['labels'] == 1]['len'].mean()\n",
    "\n",
    "print(f'Negative mean length: {neg_mean_len:.2f}')\n",
    "print(f'Positive mean length: {pos_mean_len: .2f}')\n",
    "print(f'Mean difference: {neg_mean_len - pos_mean_len:.2f}')\n",
    "\n",
    "sns.catplot(x='labels', y='len', data=train_size_df, kind='box')\n",
    "plt.title('Review length by Sentiment')\n",
    "plt.ylabel('No. words in review')\n",
    "plt.xlabel('Label -> 0 for Negative and 1 for Positive')"
   ]
  },
  {
   "cell_type": "code",
   "execution_count": 21,
   "metadata": {
    "execution": {
     "iopub.execute_input": "2022-04-06T22:49:57.498365Z",
     "iopub.status.busy": "2022-04-06T22:49:57.498089Z",
     "iopub.status.idle": "2022-04-06T22:49:57.826634Z",
     "shell.execute_reply": "2022-04-06T22:49:57.825947Z",
     "shell.execute_reply.started": "2022-04-06T22:49:57.498326Z"
    },
    "executionInfo": {
     "elapsed": 10,
     "status": "ok",
     "timestamp": 1647289330879,
     "user": {
      "displayName": "Adewole Akorede",
      "photoUrl": "https://lh3.googleusercontent.com/a-/AOh14Gg03grqCyFQgax4UoMPg_gPqiuE8Jeq4oiFSV2x=s64",
      "userId": "08678817209531841234"
     },
     "user_tz": -60
    },
    "id": "UhCb_f2YHMh6",
    "outputId": "b74f0984-9a0e-4dbb-f0ac-b9ca9b0c3fe0"
   },
   "outputs": [
    {
     "data": {
      "text/plain": [
       "107"
      ]
     },
     "execution_count": 21,
     "metadata": {},
     "output_type": "execute_result"
    }
   ],
   "source": [
    "del train_size_df\n",
    "\n",
    "gc.collect()"
   ]
  },
  {
   "cell_type": "markdown",
   "metadata": {
    "id": "AlF9R4NA_jr-"
   },
   "source": [
    "## Tokenizing and Vectorizing"
   ]
  },
  {
   "cell_type": "code",
   "execution_count": 22,
   "metadata": {
    "execution": {
     "iopub.execute_input": "2022-04-06T22:49:57.828984Z",
     "iopub.status.busy": "2022-04-06T22:49:57.828002Z",
     "iopub.status.idle": "2022-04-06T22:49:57.837012Z",
     "shell.execute_reply": "2022-04-06T22:49:57.836121Z",
     "shell.execute_reply.started": "2022-04-06T22:49:57.828939Z"
    },
    "executionInfo": {
     "elapsed": 560,
     "status": "ok",
     "timestamp": 1647289348969,
     "user": {
      "displayName": "Adewole Akorede",
      "photoUrl": "https://lh3.googleusercontent.com/a-/AOh14Gg03grqCyFQgax4UoMPg_gPqiuE8Jeq4oiFSV2x=s64",
      "userId": "08678817209531841234"
     },
     "user_tz": -60
    },
    "id": "qphcYXRUApD6",
    "outputId": "3f323545-e723-44b8-96ca-2ff3ff393571"
   },
   "outputs": [
    {
     "data": {
      "text/plain": [
       "(3600000, 400000)"
      ]
     },
     "execution_count": 22,
     "metadata": {},
     "output_type": "execute_result"
    }
   ],
   "source": [
    "len(train_texts), len(test_texts)"
   ]
  },
  {
   "cell_type": "code",
   "execution_count": 23,
   "metadata": {
    "execution": {
     "iopub.execute_input": "2022-04-06T22:49:57.839202Z",
     "iopub.status.busy": "2022-04-06T22:49:57.838723Z",
     "iopub.status.idle": "2022-04-06T22:53:56.926655Z",
     "shell.execute_reply": "2022-04-06T22:53:56.925973Z",
     "shell.execute_reply.started": "2022-04-06T22:49:57.839164Z"
    },
    "executionInfo": {
     "elapsed": 254487,
     "status": "ok",
     "timestamp": 1647289605025,
     "user": {
      "displayName": "Adewole Akorede",
      "photoUrl": "https://lh3.googleusercontent.com/a-/AOh14Gg03grqCyFQgax4UoMPg_gPqiuE8Jeq4oiFSV2x=s64",
      "userId": "08678817209531841234"
     },
     "user_tz": -60
    },
    "id": "Wk34eYqU_mr3",
    "outputId": "95013284-9d91-4604-f87e-23a524df689b"
   },
   "outputs": [
    {
     "name": "stdout",
     "output_type": "stream",
     "text": [
      "The size of the vocabulary: 1103003\n"
     ]
    },
    {
     "data": {
      "text/plain": [
       "{'the': 1,\n",
       " 'and': 2,\n",
       " 'i': 3,\n",
       " 'a': 4,\n",
       " 'to': 5,\n",
       " 'it': 6,\n",
       " 'of': 7,\n",
       " 'this': 8,\n",
       " 'is': 9,\n",
       " 'in': 10,\n",
       " 'for': 11,\n",
       " 'that': 12,\n",
       " 'was': 13,\n",
       " 'not': 14,\n",
       " 'you': 15,\n",
       " 'but': 16,\n",
       " 'with': 17,\n",
       " 'on': 18,\n",
       " 'book': 19,\n",
       " 'have': 20,\n",
       " 'my': 21,\n",
       " 'as': 22,\n",
       " 'are': 23,\n",
       " 'one': 24,\n",
       " 'be': 25,\n",
       " 'so': 26,\n",
       " 'all': 27,\n",
       " 'if': 28,\n",
       " 'great': 29,\n",
       " 'very': 30,\n",
       " 'good': 31,\n",
       " 'like': 32,\n",
       " 'they': 33,\n",
       " 'at': 34,\n",
       " 'just': 35,\n",
       " 'from': 36,\n",
       " 'or': 37,\n",
       " 'would': 38,\n",
       " 'out': 39,\n",
       " 'about': 40,\n",
       " 'an': 41,\n",
       " 'me': 42,\n",
       " 'has': 43,\n",
       " 'what': 44,\n",
       " 'more': 45,\n",
       " 'had': 46,\n",
       " 'will': 47,\n",
       " 'read': 48,\n",
       " 'when': 49,\n",
       " \"it's\": 50,\n",
       " 'get': 51,\n",
       " 'no': 52,\n",
       " 'up': 53,\n",
       " 'by': 54,\n",
       " 'time': 55,\n",
       " 'there': 56,\n",
       " 'only': 57,\n",
       " 'your': 58,\n",
       " 'can': 59,\n",
       " 'movie': 60,\n",
       " 'he': 61,\n",
       " 'his': 62,\n",
       " \"don't\": 63,\n",
       " 'really': 64,\n",
       " 'some': 65,\n",
       " 'do': 66,\n",
       " 'well': 67,\n",
       " 'than': 68,\n",
       " 'them': 69,\n",
       " 'who': 70,\n",
       " 'much': 71,\n",
       " 'even': 72,\n",
       " 'first': 73,\n",
       " 'other': 74,\n",
       " 'we': 75,\n",
       " 'these': 76,\n",
       " 'her': 77,\n",
       " 'after': 78,\n",
       " 'love': 79,\n",
       " 'because': 80,\n",
       " 'buy': 81,\n",
       " 'too': 82,\n",
       " 'were': 83,\n",
       " 'product': 84,\n",
       " 'how': 85,\n",
       " 'best': 86,\n",
       " 'been': 87,\n",
       " 'which': 88,\n",
       " 'better': 89,\n",
       " 'use': 90,\n",
       " 'work': 91,\n",
       " 'their': 92,\n",
       " 'cd': 93,\n",
       " 'any': 94,\n",
       " 'she': 95,\n",
       " 'also': 96,\n",
       " 'am': 97,\n",
       " 'bought': 98,\n",
       " 'did': 99,\n",
       " 'could': 100,\n",
       " 'then': 101,\n",
       " 'new': 102,\n",
       " 'album': 103,\n",
       " 'story': 104,\n",
       " 'way': 105,\n",
       " 'little': 106,\n",
       " 'now': 107,\n",
       " \"i'm\": 108,\n",
       " 'does': 109,\n",
       " 'many': 110,\n",
       " 'over': 111,\n",
       " 'back': 112,\n",
       " 'money': 113,\n",
       " 'into': 114,\n",
       " 'think': 115,\n",
       " 'most': 116,\n",
       " 'music': 117,\n",
       " 'make': 118,\n",
       " 'off': 119,\n",
       " '2': 120,\n",
       " 'never': 121,\n",
       " 'its': 122,\n",
       " 'know': 123,\n",
       " 'two': 124,\n",
       " 'got': 125,\n",
       " 'still': 126,\n",
       " 'bad': 127,\n",
       " 'made': 128,\n",
       " 'see': 129,\n",
       " 'should': 130,\n",
       " 'ever': 131,\n",
       " 'want': 132,\n",
       " 'old': 133,\n",
       " 'people': 134,\n",
       " 'books': 135,\n",
       " 'find': 136,\n",
       " 'years': 137,\n",
       " \"i've\": 138,\n",
       " 'recommend': 139,\n",
       " 'quality': 140,\n",
       " 'used': 141,\n",
       " \"didn't\": 142,\n",
       " 'go': 143,\n",
       " 'game': 144,\n",
       " 'another': 145,\n",
       " 'again': 146,\n",
       " 'reading': 147,\n",
       " 'dvd': 148,\n",
       " 'same': 149,\n",
       " 'found': 150,\n",
       " 'through': 151,\n",
       " 'say': 152,\n",
       " 'life': 153,\n",
       " 'before': 154,\n",
       " 'put': 155,\n",
       " \"can't\": 156,\n",
       " 'while': 157,\n",
       " 'songs': 158,\n",
       " 'every': 159,\n",
       " 'few': 160,\n",
       " 'thing': 161,\n",
       " 'worth': 162,\n",
       " 'down': 163,\n",
       " 'thought': 164,\n",
       " 'something': 165,\n",
       " \"doesn't\": 166,\n",
       " '3': 167,\n",
       " 'easy': 168,\n",
       " 'price': 169,\n",
       " '1': 170,\n",
       " 'our': 171,\n",
       " 'long': 172,\n",
       " 'film': 173,\n",
       " 'works': 174,\n",
       " 'sound': 175,\n",
       " 'lot': 176,\n",
       " '5': 177,\n",
       " 'year': 178,\n",
       " 'must': 179,\n",
       " 'however': 180,\n",
       " 'amazon': 181,\n",
       " 'hard': 182,\n",
       " 'why': 183,\n",
       " 'give': 184,\n",
       " 'those': 185,\n",
       " 'right': 186,\n",
       " 'need': 187,\n",
       " 'going': 188,\n",
       " 'looking': 189,\n",
       " 'excellent': 190,\n",
       " 'since': 191,\n",
       " 'nice': 192,\n",
       " 'being': 193,\n",
       " 'characters': 194,\n",
       " 'waste': 195,\n",
       " 'enough': 196,\n",
       " 'set': 197,\n",
       " 'nothing': 198,\n",
       " 'real': 199,\n",
       " 'look': 200,\n",
       " 'here': 201,\n",
       " 'day': 202,\n",
       " 'where': 203,\n",
       " 'last': 204,\n",
       " 'disappointed': 205,\n",
       " 'times': 206,\n",
       " 'anyone': 207,\n",
       " 'series': 208,\n",
       " 'makes': 209,\n",
       " 'take': 210,\n",
       " 'different': 211,\n",
       " 'own': 212,\n",
       " 'without': 213,\n",
       " 'though': 214,\n",
       " 'fun': 215,\n",
       " 'such': 216,\n",
       " '4': 217,\n",
       " 'written': 218,\n",
       " 'end': 219,\n",
       " 'fan': 220,\n",
       " 'big': 221,\n",
       " 'watch': 222,\n",
       " 'far': 223,\n",
       " 'author': 224,\n",
       " 'song': 225,\n",
       " 'purchased': 226,\n",
       " 'him': 227,\n",
       " 'around': 228,\n",
       " 'both': 229,\n",
       " 'feel': 230,\n",
       " 'reviews': 231,\n",
       " 'sure': 232,\n",
       " 'pretty': 233,\n",
       " 'come': 234,\n",
       " 'us': 235,\n",
       " 'using': 236,\n",
       " 'play': 237,\n",
       " 'problem': 238,\n",
       " 'actually': 239,\n",
       " 'may': 240,\n",
       " 'away': 241,\n",
       " 'things': 242,\n",
       " 'keep': 243,\n",
       " 'always': 244,\n",
       " 'interesting': 245,\n",
       " 'bit': 246,\n",
       " 'version': 247,\n",
       " 'small': 248,\n",
       " 'each': 249,\n",
       " 'anything': 250,\n",
       " 'show': 251,\n",
       " 'try': 252,\n",
       " 'part': 253,\n",
       " 'world': 254,\n",
       " 'stars': 255,\n",
       " 'loved': 256,\n",
       " 'review': 257,\n",
       " 'wonderful': 258,\n",
       " 'seems': 259,\n",
       " 'tried': 260,\n",
       " 'item': 261,\n",
       " 'came': 262,\n",
       " 'almost': 263,\n",
       " 'poor': 264,\n",
       " 'original': 265,\n",
       " 'months': 266,\n",
       " 'quite': 267,\n",
       " 'yet': 268,\n",
       " 'said': 269,\n",
       " 'once': 270,\n",
       " 'help': 271,\n",
       " 'perfect': 272,\n",
       " 'video': 273,\n",
       " 'high': 274,\n",
       " 'done': 275,\n",
       " 'highly': 276,\n",
       " 'purchase': 277,\n",
       " 'getting': 278,\n",
       " 'less': 279,\n",
       " 'enjoy': 280,\n",
       " 'next': 281,\n",
       " 'seen': 282,\n",
       " 'second': 283,\n",
       " 'writing': 284,\n",
       " 'instead': 285,\n",
       " 'everything': 286,\n",
       " 'having': 287,\n",
       " 'boring': 288,\n",
       " 'plot': 289,\n",
       " 'information': 290,\n",
       " 'whole': 291,\n",
       " 'worst': 292,\n",
       " \"you're\": 293,\n",
       " 'wanted': 294,\n",
       " 'fine': 295,\n",
       " '10': 296,\n",
       " 'favorite': 297,\n",
       " 'several': 298,\n",
       " 'days': 299,\n",
       " 'three': 300,\n",
       " 'might': 301,\n",
       " 'believe': 302,\n",
       " 'star': 303,\n",
       " 'maybe': 304,\n",
       " \"that's\": 305,\n",
       " 'trying': 306,\n",
       " 'buying': 307,\n",
       " 'live': 308,\n",
       " 'received': 309,\n",
       " 'wrong': 310,\n",
       " 'probably': 311,\n",
       " \"isn't\": 312,\n",
       " 'movies': 313,\n",
       " 'heard': 314,\n",
       " 'worked': 315,\n",
       " 'band': 316,\n",
       " 'full': 317,\n",
       " 'box': 318,\n",
       " 'true': 319,\n",
       " 'least': 320,\n",
       " 'light': 321,\n",
       " 'able': 322,\n",
       " 'fit': 323,\n",
       " 'man': 324,\n",
       " 'until': 325,\n",
       " 'others': 326,\n",
       " \"won't\": 327,\n",
       " 'short': 328,\n",
       " \"couldn't\": 329,\n",
       " 'someone': 330,\n",
       " 'top': 331,\n",
       " 'happy': 332,\n",
       " 'job': 333,\n",
       " 'together': 334,\n",
       " 'ordered': 335,\n",
       " 'ago': 336,\n",
       " 'definitely': 337,\n",
       " 'listen': 338,\n",
       " 'order': 339,\n",
       " 'wish': 340,\n",
       " 'fact': 341,\n",
       " 'home': 342,\n",
       " 'cover': 343,\n",
       " 'point': 344,\n",
       " 'kids': 345,\n",
       " 'took': 346,\n",
       " 'character': 347,\n",
       " 'already': 348,\n",
       " 'case': 349,\n",
       " 'amazing': 350,\n",
       " 'although': 351,\n",
       " 'especially': 352,\n",
       " 'looks': 353,\n",
       " 'funny': 354,\n",
       " 'family': 355,\n",
       " 'went': 356,\n",
       " 'else': 357,\n",
       " 'stuff': 358,\n",
       " 'understand': 359,\n",
       " 'novel': 360,\n",
       " 'enjoyed': 361,\n",
       " 'piece': 362,\n",
       " 'started': 363,\n",
       " 'minutes': 364,\n",
       " 'history': 365,\n",
       " 'beautiful': 366,\n",
       " 'place': 367,\n",
       " 'let': 368,\n",
       " 'problems': 369,\n",
       " 'collection': 370,\n",
       " 'water': 371,\n",
       " 'gave': 372,\n",
       " \"wasn't\": 373,\n",
       " 'style': 374,\n",
       " 'half': 375,\n",
       " 'cheap': 376,\n",
       " 'comes': 377,\n",
       " 'gets': 378,\n",
       " 'liked': 379,\n",
       " 'pages': 380,\n",
       " 'saw': 381,\n",
       " 'line': 382,\n",
       " 'kind': 383,\n",
       " 'unit': 384,\n",
       " 'return': 385,\n",
       " 'start': 386,\n",
       " 'between': 387,\n",
       " 'left': 388,\n",
       " 'size': 389,\n",
       " 'working': 390,\n",
       " \"i'd\": 391,\n",
       " 'terrible': 392,\n",
       " 'making': 393,\n",
       " 'myself': 394,\n",
       " 'picture': 395,\n",
       " 'classic': 396,\n",
       " 'hope': 397,\n",
       " '6': 398,\n",
       " 'save': 399,\n",
       " 'awesome': 400,\n",
       " 'rather': 401,\n",
       " 'ok': 402,\n",
       " 'tell': 403,\n",
       " 'either': 404,\n",
       " 'reason': 405,\n",
       " 'overall': 406,\n",
       " 'side': 407,\n",
       " 'voice': 408,\n",
       " 'son': 409,\n",
       " 'everyone': 410,\n",
       " 'rock': 411,\n",
       " 'simply': 412,\n",
       " 'hear': 413,\n",
       " 'horrible': 414,\n",
       " 'couple': 415,\n",
       " 'etc': 416,\n",
       " 'gift': 417,\n",
       " 'tv': 418,\n",
       " 'stories': 419,\n",
       " 'please': 420,\n",
       " 'children': 421,\n",
       " 'idea': 422,\n",
       " \"you'll\": 423,\n",
       " 'christmas': 424,\n",
       " 'page': 425,\n",
       " 'takes': 426,\n",
       " 'completely': 427,\n",
       " 'plastic': 428,\n",
       " 'expected': 429,\n",
       " 'fast': 430,\n",
       " 'sounds': 431,\n",
       " 'black': 432,\n",
       " 'finally': 433,\n",
       " 'player': 434,\n",
       " 'person': 435,\n",
       " 'simple': 436,\n",
       " 'camera': 437,\n",
       " 'power': 438,\n",
       " 'phone': 439,\n",
       " 'battery': 440,\n",
       " 'mind': 441,\n",
       " 'seem': 442,\n",
       " 'absolutely': 443,\n",
       " 'watching': 444,\n",
       " 'along': 445,\n",
       " 'service': 446,\n",
       " 'daughter': 447,\n",
       " 'needed': 448,\n",
       " 'wait': 449,\n",
       " 'loves': 450,\n",
       " 'easily': 451,\n",
       " 'fans': 452,\n",
       " 'experience': 453,\n",
       " 'goes': 454,\n",
       " 'learn': 455,\n",
       " \"wouldn't\": 456,\n",
       " 'cannot': 457,\n",
       " 'playing': 458,\n",
       " 'reader': 459,\n",
       " 'difficult': 460,\n",
       " 'under': 461,\n",
       " 'young': 462,\n",
       " 'hours': 463,\n",
       " 'copy': 464,\n",
       " 'lost': 465,\n",
       " 'shows': 466,\n",
       " 'friends': 467,\n",
       " 'needs': 468,\n",
       " 'low': 469,\n",
       " 'night': 470,\n",
       " 'house': 471,\n",
       " 'hold': 472,\n",
       " 'school': 473,\n",
       " 'felt': 474,\n",
       " 'company': 475,\n",
       " 'truly': 476,\n",
       " \"i'll\": 477,\n",
       " 'rest': 478,\n",
       " 'action': 479,\n",
       " 'guess': 480,\n",
       " 'disappointing': 481,\n",
       " 'words': 482,\n",
       " 'complete': 483,\n",
       " 'past': 484,\n",
       " 'turn': 485,\n",
       " 'toy': 486,\n",
       " 'title': 487,\n",
       " 'store': 488,\n",
       " 'track': 489,\n",
       " 'thinking': 490,\n",
       " 'doing': 491,\n",
       " 'called': 492,\n",
       " 'extremely': 493,\n",
       " 'recommended': 494,\n",
       " 'ones': 495,\n",
       " 'course': 496,\n",
       " 'weeks': 497,\n",
       " 'computer': 498,\n",
       " 'free': 499,\n",
       " 'support': 500,\n",
       " 'says': 501,\n",
       " 'child': 502,\n",
       " 'during': 503,\n",
       " 'itself': 504,\n",
       " 'system': 505,\n",
       " 'given': 506,\n",
       " \"there's\": 507,\n",
       " 'name': 508,\n",
       " 'cool': 509,\n",
       " 'pay': 510,\n",
       " 'yourself': 511,\n",
       " 'write': 512,\n",
       " 'baby': 513,\n",
       " 'material': 514,\n",
       " 'month': 515,\n",
       " 'week': 516,\n",
       " 'unfortunately': 517,\n",
       " 'clear': 518,\n",
       " 'stay': 519,\n",
       " 'gives': 520,\n",
       " 'later': 521,\n",
       " 'dont': 522,\n",
       " 'parts': 523,\n",
       " 'god': 524,\n",
       " 'mr': 525,\n",
       " 'hand': 526,\n",
       " '20': 527,\n",
       " 'played': 528,\n",
       " 'care': 529,\n",
       " 'type': 530,\n",
       " 'tracks': 531,\n",
       " 'pictures': 532,\n",
       " 'yes': 533,\n",
       " 'longer': 534,\n",
       " 'season': 535,\n",
       " 'main': 536,\n",
       " 'head': 537,\n",
       " '8': 538,\n",
       " 'american': 539,\n",
       " 'totally': 540,\n",
       " 'car': 541,\n",
       " 'deal': 542,\n",
       " 'change': 543,\n",
       " 'design': 544,\n",
       " 'stop': 545,\n",
       " 'run': 546,\n",
       " 'based': 547,\n",
       " 'often': 548,\n",
       " 'sense': 549,\n",
       " 'friend': 550,\n",
       " 'within': 551,\n",
       " 'told': 552,\n",
       " 'color': 553,\n",
       " 'coffee': 554,\n",
       " 'quickly': 555,\n",
       " 'single': 556,\n",
       " 'release': 557,\n",
       " 'acting': 558,\n",
       " 'broke': 559,\n",
       " 'disc': 560,\n",
       " 'expect': 561,\n",
       " 'machine': 562,\n",
       " 'hot': 563,\n",
       " 'close': 564,\n",
       " 'cut': 565,\n",
       " 'today': 566,\n",
       " 'entire': 567,\n",
       " 'ending': 568,\n",
       " 'large': 569,\n",
       " 'hair': 570,\n",
       " 'clean': 571,\n",
       " 'listening': 572,\n",
       " 'albums': 573,\n",
       " 'slow': 574,\n",
       " 'guy': 575,\n",
       " 'special': 576,\n",
       " 'shipping': 577,\n",
       " 'available': 578,\n",
       " 'open': 579,\n",
       " 'white': 580,\n",
       " 'metal': 581,\n",
       " 'self': 582,\n",
       " 'awful': 583,\n",
       " 'seemed': 584,\n",
       " \"haven't\": 585,\n",
       " 'huge': 586,\n",
       " 'lots': 587,\n",
       " 'kept': 588,\n",
       " 'sometimes': 589,\n",
       " 'unless': 590,\n",
       " 'arrived': 591,\n",
       " 'four': 592,\n",
       " 'heart': 593,\n",
       " 'brand': 594,\n",
       " 'sorry': 595,\n",
       " 'products': 596,\n",
       " 'sent': 597,\n",
       " 'girl': 598,\n",
       " 'heavy': 599,\n",
       " 'games': 600,\n",
       " 'check': 601,\n",
       " 'interested': 602,\n",
       " 'room': 603,\n",
       " 'screen': 604,\n",
       " 'junk': 605,\n",
       " 'decided': 606,\n",
       " 'disappointment': 607,\n",
       " 'looked': 608,\n",
       " 'useful': 609,\n",
       " 'follow': 610,\n",
       " 'level': 611,\n",
       " 's': 612,\n",
       " 'replacement': 613,\n",
       " 'non': 614,\n",
       " 'inside': 615,\n",
       " '7': 616,\n",
       " 'finish': 617,\n",
       " 'dog': 618,\n",
       " 'word': 619,\n",
       " 'matter': 620,\n",
       " 'exactly': 621,\n",
       " '30': 622,\n",
       " 'customer': 623,\n",
       " 'strong': 624,\n",
       " 'cost': 625,\n",
       " 'plus': 626,\n",
       " 'glad': 627,\n",
       " 'fantastic': 628,\n",
       " 'husband': 629,\n",
       " 'edition': 630,\n",
       " 'war': 631,\n",
       " 'returned': 632,\n",
       " 'guide': 633,\n",
       " 'scenes': 634,\n",
       " 'value': 635,\n",
       " 'number': 636,\n",
       " 'software': 637,\n",
       " 'five': 638,\n",
       " 'poorly': 639,\n",
       " 'call': 640,\n",
       " 'add': 641,\n",
       " 'pop': 642,\n",
       " 'early': 643,\n",
       " 'opinion': 644,\n",
       " 'oh': 645,\n",
       " 'remember': 646,\n",
       " 'previous': 647,\n",
       " 'mine': 648,\n",
       " 'women': 649,\n",
       " 'b': 650,\n",
       " 'lyrics': 651,\n",
       " 'forward': 652,\n",
       " 'stand': 653,\n",
       " 'age': 654,\n",
       " 'bag': 655,\n",
       " 'mean': 656,\n",
       " 'expensive': 657,\n",
       " 'e': 658,\n",
       " 'thank': 659,\n",
       " 'perhaps': 660,\n",
       " 'soon': 661,\n",
       " 'helpful': 662,\n",
       " 'happened': 663,\n",
       " 'entertaining': 664,\n",
       " \"he's\": 665,\n",
       " 'pick': 666,\n",
       " 'text': 667,\n",
       " 'guys': 668,\n",
       " 'worse': 669,\n",
       " 'beginning': 670,\n",
       " 'radio': 671,\n",
       " 'spend': 672,\n",
       " 'extra': 673,\n",
       " 'important': 674,\n",
       " 'record': 675,\n",
       " 'class': 676,\n",
       " 'woman': 677,\n",
       " 'hit': 678,\n",
       " 'certainly': 679,\n",
       " 'batteries': 680,\n",
       " 'model': 681,\n",
       " 'paper': 682,\n",
       " 'hate': 683,\n",
       " 'performance': 684,\n",
       " 'dark': 685,\n",
       " 'stick': 686,\n",
       " 'taking': 687,\n",
       " 'turned': 688,\n",
       " 'become': 689,\n",
       " 'missing': 690,\n",
       " 'quick': 691,\n",
       " 'bottom': 692,\n",
       " 'food': 693,\n",
       " 'card': 694,\n",
       " 'wife': 695,\n",
       " 'guitar': 696,\n",
       " 'description': 697,\n",
       " 'sad': 698,\n",
       " 'except': 699,\n",
       " 'john': 700,\n",
       " 're': 701,\n",
       " 'thanks': 702,\n",
       " 'paid': 703,\n",
       " 'recording': 704,\n",
       " 'pieces': 705,\n",
       " 'cable': 706,\n",
       " 'agree': 707,\n",
       " 'coming': 708,\n",
       " 'usually': 709,\n",
       " 'stopped': 710,\n",
       " '15': 711,\n",
       " \"they're\": 712,\n",
       " 'decent': 713,\n",
       " 'issues': 714,\n",
       " 'basic': 715,\n",
       " 'features': 716,\n",
       " 'dead': 717,\n",
       " 'useless': 718,\n",
       " 'face': 719,\n",
       " 'boy': 720,\n",
       " 'stupid': 721,\n",
       " 'example': 722,\n",
       " 'spent': 723,\n",
       " 'supposed': 724,\n",
       " '12': 725,\n",
       " 'business': 726,\n",
       " 'art': 727,\n",
       " 'english': 728,\n",
       " 'view': 729,\n",
       " 'chapter': 730,\n",
       " 'watched': 731,\n",
       " 'knew': 732,\n",
       " 'due': 733,\n",
       " 'broken': 734,\n",
       " 'move': 735,\n",
       " 'subject': 736,\n",
       " 'seller': 737,\n",
       " 'country': 738,\n",
       " 'garbage': 739,\n",
       " 'leave': 740,\n",
       " 'annoying': 741,\n",
       " 'ideas': 742,\n",
       " 'greatest': 743,\n",
       " 'tape': 744,\n",
       " 'older': 745,\n",
       " 'language': 746,\n",
       " 'otherwise': 747,\n",
       " 'cute': 748,\n",
       " 'u': 749,\n",
       " 'volume': 750,\n",
       " 'personal': 751,\n",
       " 'tool': 752,\n",
       " 'included': 753,\n",
       " 'group': 754,\n",
       " 'anyway': 755,\n",
       " 'control': 756,\n",
       " 'gone': 757,\n",
       " 'air': 758,\n",
       " 'drive': 759,\n",
       " 'fiction': 760,\n",
       " '9': 761,\n",
       " '100': 762,\n",
       " 'interest': 763,\n",
       " 'known': 764,\n",
       " 'pleased': 765,\n",
       " 'total': 766,\n",
       " 'scene': 767,\n",
       " 'replace': 768,\n",
       " 'c': 769,\n",
       " 'print': 770,\n",
       " 'writer': 771,\n",
       " 'taste': 772,\n",
       " 'space': 773,\n",
       " 'handle': 774,\n",
       " 'hoping': 775,\n",
       " 'wants': 776,\n",
       " 'against': 777,\n",
       " 'third': 778,\n",
       " 'giving': 779,\n",
       " 'keeps': 780,\n",
       " 'future': 781,\n",
       " 'fall': 782,\n",
       " 'program': 783,\n",
       " 'films': 784,\n",
       " 'uses': 785,\n",
       " 'break': 786,\n",
       " 'issue': 787,\n",
       " 'released': 788,\n",
       " 'twice': 789,\n",
       " 'weight': 790,\n",
       " 'feeling': 791,\n",
       " 'hour': 792,\n",
       " 'comfortable': 793,\n",
       " '50': 794,\n",
       " 'behind': 795,\n",
       " 'instructions': 796,\n",
       " 'major': 797,\n",
       " 'waiting': 798,\n",
       " 'solid': 799,\n",
       " 'hands': 800,\n",
       " 'taken': 801,\n",
       " 'super': 802,\n",
       " 'apart': 803,\n",
       " 'send': 804,\n",
       " 'men': 805,\n",
       " 'death': 806,\n",
       " 'enjoyable': 807,\n",
       " 'weak': 808,\n",
       " 'loud': 809,\n",
       " 'recently': 810,\n",
       " 'serious': 811,\n",
       " 'advice': 812,\n",
       " 'okay': 813,\n",
       " 'list': 814,\n",
       " 'seeing': 815,\n",
       " 'middle': 816,\n",
       " 'library': 817,\n",
       " 'avoid': 818,\n",
       " 'body': 819,\n",
       " 'audio': 820,\n",
       " 'authors': 821,\n",
       " 'wonder': 822,\n",
       " 'none': 823,\n",
       " 'online': 824,\n",
       " 'humor': 825,\n",
       " 'd': 826,\n",
       " 'attention': 827,\n",
       " 'de': 828,\n",
       " 'local': 829,\n",
       " 'similar': 830,\n",
       " 'wow': 831,\n",
       " 'lives': 832,\n",
       " 'red': 833,\n",
       " 'mother': 834,\n",
       " 'saying': 835,\n",
       " 'alone': 836,\n",
       " 'beware': 837,\n",
       " 'package': 838,\n",
       " 'including': 839,\n",
       " \"aren't\": 840,\n",
       " 'running': 841,\n",
       " 'front': 842,\n",
       " 'surprised': 843,\n",
       " 'effort': 844,\n",
       " 'blue': 845,\n",
       " 'ended': 846,\n",
       " 'perfectly': 847,\n",
       " 'figure': 848,\n",
       " 'research': 849,\n",
       " 'suggest': 850,\n",
       " 'finished': 851,\n",
       " 'crap': 852,\n",
       " 'condition': 853,\n",
       " 'com': 854,\n",
       " 'production': 855,\n",
       " 'amount': 856,\n",
       " 'reference': 857,\n",
       " 'learning': 858,\n",
       " 'human': 859,\n",
       " 'reviewers': 860,\n",
       " 'content': 861,\n",
       " 'step': 862,\n",
       " 'rate': 863,\n",
       " 'lack': 864,\n",
       " 'wrote': 865,\n",
       " 'device': 866,\n",
       " 'happen': 867,\n",
       " 'actual': 868,\n",
       " 'bother': 869,\n",
       " 'wear': 870,\n",
       " 'clearly': 871,\n",
       " 'beyond': 872,\n",
       " 'cast': 873,\n",
       " 'throughout': 874,\n",
       " 'himself': 875,\n",
       " 'excited': 876,\n",
       " 'date': 877,\n",
       " 'modern': 878,\n",
       " 'chance': 879,\n",
       " 'mystery': 880,\n",
       " 'expecting': 881,\n",
       " 'charge': 882,\n",
       " 'deep': 883,\n",
       " 'living': 884,\n",
       " 'readers': 885,\n",
       " 'dry': 886,\n",
       " 'ray': 887,\n",
       " 'area': 888,\n",
       " 'alot': 889,\n",
       " 't': 890,\n",
       " 'choice': 891,\n",
       " 'addition': 892,\n",
       " 'beat': 893,\n",
       " 'impressed': 894,\n",
       " 'means': 895,\n",
       " 'noise': 896,\n",
       " 'detail': 897,\n",
       " 'changed': 898,\n",
       " 'moving': 899,\n",
       " 'r': 900,\n",
       " 'possible': 901,\n",
       " 'bible': 902,\n",
       " 'ms': 903,\n",
       " 'mostly': 904,\n",
       " 'eyes': 905,\n",
       " 'talent': 906,\n",
       " 'basically': 907,\n",
       " 'across': 908,\n",
       " 'fell': 909,\n",
       " 'questions': 910,\n",
       " 'obviously': 911,\n",
       " 'mix': 912,\n",
       " 'knows': 913,\n",
       " 'sex': 914,\n",
       " 'rating': 915,\n",
       " 'sort': 916,\n",
       " 'trash': 917,\n",
       " 'digital': 918,\n",
       " 'parents': 919,\n",
       " 'trouble': 920,\n",
       " 'singing': 921,\n",
       " 'setting': 922,\n",
       " 'straight': 923,\n",
       " 'miss': 924,\n",
       " 'romance': 925,\n",
       " 'musical': 926,\n",
       " 'nearly': 927,\n",
       " 'horror': 928,\n",
       " 'themselves': 929,\n",
       " 'flat': 930,\n",
       " 'standard': 931,\n",
       " 'unique': 932,\n",
       " 'refund': 933,\n",
       " 'talk': 934,\n",
       " 'dance': 935,\n",
       " 'graphics': 936,\n",
       " 'message': 937,\n",
       " 'bring': 938,\n",
       " 'soft': 939,\n",
       " 'thin': 940,\n",
       " 'regular': 941,\n",
       " 'feature': 942,\n",
       " 'actors': 943,\n",
       " 'kid': 944,\n",
       " 'general': 945,\n",
       " 'effects': 946,\n",
       " 'pain': 947,\n",
       " 'shame': 948,\n",
       " 'girls': 949,\n",
       " 'talking': 950,\n",
       " 'details': 951,\n",
       " 'late': 952,\n",
       " 'seat': 953,\n",
       " 'kindle': 954,\n",
       " 'somewhat': 955,\n",
       " 'recipes': 956,\n",
       " 'difference': 957,\n",
       " 'stuck': 958,\n",
       " 'present': 959,\n",
       " 'truth': 960,\n",
       " 'plan': 961,\n",
       " 'immediately': 962,\n",
       " 'install': 963,\n",
       " \"you've\": 964,\n",
       " 'science': 965,\n",
       " 'learned': 966,\n",
       " 'purchasing': 967,\n",
       " 'historical': 968,\n",
       " 'incredible': 969,\n",
       " 'period': 970,\n",
       " 'form': 971,\n",
       " 'putting': 972,\n",
       " 'impossible': 973,\n",
       " 'forget': 974,\n",
       " 'note': 975,\n",
       " 'depth': 976,\n",
       " \"she's\": 977,\n",
       " 'fits': 978,\n",
       " 'picked': 979,\n",
       " 'covers': 980,\n",
       " 'compared': 981,\n",
       " 'plays': 982,\n",
       " 'powerful': 983,\n",
       " 'upon': 984,\n",
       " 'touch': 985,\n",
       " 'background': 986,\n",
       " 'sweet': 987,\n",
       " 'examples': 988,\n",
       " 'warranty': 989,\n",
       " 'feels': 990,\n",
       " 'windows': 991,\n",
       " 'workout': 992,\n",
       " 'bands': 993,\n",
       " 'test': 994,\n",
       " 'range': 995,\n",
       " 'chapters': 996,\n",
       " 'seriously': 997,\n",
       " 'feet': 998,\n",
       " 'contains': 999,\n",
       " 'christian': 1000,\n",
       " ...}"
      ]
     },
     "execution_count": 23,
     "metadata": {},
     "output_type": "execute_result"
    }
   ],
   "source": [
    "from tensorflow.keras.preprocessing.text import Tokenizer\n",
    "from tensorflow.keras.preprocessing.sequence import pad_sequences\n",
    "\n",
    "num_words = 70000 # number of words from the train_text to tokenize by frequency\n",
    "tokenizer = Tokenizer(num_words = num_words)\n",
    "tokenizer.fit_on_texts(train_texts)\n",
    "\n",
    "# let's see the dictionary of words tokenized\n",
    "\n",
    "word_index = tokenizer.word_index\n",
    "print(f'The size of the vocabulary: {len(word_index)}')\n",
    "word_index"
   ]
  },
  {
   "cell_type": "code",
   "execution_count": 24,
   "metadata": {
    "execution": {
     "iopub.execute_input": "2022-04-06T22:53:56.928420Z",
     "iopub.status.busy": "2022-04-06T22:53:56.928019Z",
     "iopub.status.idle": "2022-04-06T22:53:58.646847Z",
     "shell.execute_reply": "2022-04-06T22:53:58.646104Z",
     "shell.execute_reply.started": "2022-04-06T22:53:56.928384Z"
    },
    "id": "P9_WrLG5TiWd"
   },
   "outputs": [],
   "source": [
    "# let's save the tokenizer for future use\n",
    "\n",
    "import pickle\n",
    "\n",
    "# saving\n",
    "with open('tokenizer.pickle', 'wb') as handle:\n",
    "    pickle.dump(tokenizer, handle, protocol=pickle.HIGHEST_PROTOCOL)\n",
    "\n",
    "# loading\n",
    "#with open('tokenizer.pickle', 'rb') as handle:\n",
    "   # tokenizer = pickle.load(handle)"
   ]
  },
  {
   "cell_type": "code",
   "execution_count": 25,
   "metadata": {
    "execution": {
     "iopub.execute_input": "2022-04-06T22:53:58.648406Z",
     "iopub.status.busy": "2022-04-06T22:53:58.648177Z",
     "iopub.status.idle": "2022-04-06T22:57:47.959645Z",
     "shell.execute_reply": "2022-04-06T22:57:47.958916Z",
     "shell.execute_reply.started": "2022-04-06T22:53:58.648374Z"
    },
    "executionInfo": {
     "elapsed": 227238,
     "status": "ok",
     "timestamp": 1647289918247,
     "user": {
      "displayName": "Adewole Akorede",
      "photoUrl": "https://lh3.googleusercontent.com/a-/AOh14Gg03grqCyFQgax4UoMPg_gPqiuE8Jeq4oiFSV2x=s64",
      "userId": "08678817209531841234"
     },
     "user_tz": -60
    },
    "id": "Sbi7roFXBD8P",
    "outputId": "b189f035-0165-47a6-921e-fd2e9d773dfa"
   },
   "outputs": [
    {
     "name": "stdout",
     "output_type": "stream",
     "text": [
      "3600000\n"
     ]
    }
   ],
   "source": [
    "sequences = tokenizer.texts_to_sequences(train_texts)\n",
    "print(len(sequences))\n",
    "\n",
    "# pad sequences to the same shape\n",
    "maxlen = 100\n",
    "sequences = pad_sequences(sequences, maxlen=maxlen)"
   ]
  },
  {
   "cell_type": "code",
   "execution_count": 26,
   "metadata": {
    "execution": {
     "iopub.execute_input": "2022-04-06T22:57:47.961245Z",
     "iopub.status.busy": "2022-04-06T22:57:47.960994Z",
     "iopub.status.idle": "2022-04-06T22:57:47.966493Z",
     "shell.execute_reply": "2022-04-06T22:57:47.965838Z",
     "shell.execute_reply.started": "2022-04-06T22:57:47.961201Z"
    },
    "executionInfo": {
     "elapsed": 28,
     "status": "ok",
     "timestamp": 1647289918253,
     "user": {
      "displayName": "Adewole Akorede",
      "photoUrl": "https://lh3.googleusercontent.com/a-/AOh14Gg03grqCyFQgax4UoMPg_gPqiuE8Jeq4oiFSV2x=s64",
      "userId": "08678817209531841234"
     },
     "user_tz": -60
    },
    "id": "du58vS5CDdas",
    "outputId": "c24c53cd-81e2-4a50-c823-ca18cccbc206"
   },
   "outputs": [
    {
     "data": {
      "text/plain": [
       "(100,)"
      ]
     },
     "execution_count": 26,
     "metadata": {},
     "output_type": "execute_result"
    }
   ],
   "source": [
    "sequences[0].shape"
   ]
  },
  {
   "cell_type": "code",
   "execution_count": 27,
   "metadata": {
    "execution": {
     "iopub.execute_input": "2022-04-06T22:57:47.968251Z",
     "iopub.status.busy": "2022-04-06T22:57:47.967520Z",
     "iopub.status.idle": "2022-04-06T22:57:47.977567Z",
     "shell.execute_reply": "2022-04-06T22:57:47.976816Z",
     "shell.execute_reply.started": "2022-04-06T22:57:47.968216Z"
    },
    "executionInfo": {
     "elapsed": 19,
     "status": "ok",
     "timestamp": 1647289918254,
     "user": {
      "displayName": "Adewole Akorede",
      "photoUrl": "https://lh3.googleusercontent.com/a-/AOh14Gg03grqCyFQgax4UoMPg_gPqiuE8Jeq4oiFSV2x=s64",
      "userId": "08678817209531841234"
     },
     "user_tz": -60
    },
    "id": "1TtW6-JPEeDY",
    "outputId": "da8376f2-db67-46ee-a654-d887181fa79e"
   },
   "outputs": [
    {
     "data": {
      "text/plain": [
       "'Stuning even for the non-gamer: This sound track was beautiful! It paints the senery in your mind so well I would recomend it even to people who hate vid. game music! I have played the game Chrono Cross but out of all of the games I have ever played it has the best music! It backs away from crude keyboarding and takes a fresher step with grate guitars and soulful orchestras. It would impress anyone who cares to listen! ^_^'"
      ]
     },
     "execution_count": 27,
     "metadata": {},
     "output_type": "execute_result"
    }
   ],
   "source": [
    "train_texts[0]"
   ]
  },
  {
   "cell_type": "code",
   "execution_count": 28,
   "metadata": {
    "execution": {
     "iopub.execute_input": "2022-04-06T22:57:47.979027Z",
     "iopub.status.busy": "2022-04-06T22:57:47.978640Z",
     "iopub.status.idle": "2022-04-06T22:57:47.987759Z",
     "shell.execute_reply": "2022-04-06T22:57:47.986812Z",
     "shell.execute_reply.started": "2022-04-06T22:57:47.978991Z"
    },
    "executionInfo": {
     "elapsed": 20,
     "status": "ok",
     "timestamp": 1647289918256,
     "user": {
      "displayName": "Adewole Akorede",
      "photoUrl": "https://lh3.googleusercontent.com/a-/AOh14Gg03grqCyFQgax4UoMPg_gPqiuE8Jeq4oiFSV2x=s64",
      "userId": "08678817209531841234"
     },
     "user_tz": -60
    },
    "id": "OqbNmOxpKD1Z",
    "outputId": "8e3c3dc8-853c-41d9-8f19-d925b5ef97d7"
   },
   "outputs": [
    {
     "data": {
      "text/plain": [
       "3600000"
      ]
     },
     "execution_count": 28,
     "metadata": {},
     "output_type": "execute_result"
    }
   ],
   "source": [
    "len(train_labels)"
   ]
  },
  {
   "cell_type": "code",
   "execution_count": 29,
   "metadata": {
    "execution": {
     "iopub.execute_input": "2022-04-06T22:57:47.989386Z",
     "iopub.status.busy": "2022-04-06T22:57:47.989124Z",
     "iopub.status.idle": "2022-04-06T22:57:48.418766Z",
     "shell.execute_reply": "2022-04-06T22:57:48.417993Z",
     "shell.execute_reply.started": "2022-04-06T22:57:47.989353Z"
    },
    "id": "xtcwk8vfE7sb"
   },
   "outputs": [],
   "source": [
    "# let's convert to numpy array\n",
    "import numpy as np\n",
    "\n",
    "labels = np.array(train_labels)"
   ]
  },
  {
   "cell_type": "code",
   "execution_count": 30,
   "metadata": {
    "execution": {
     "iopub.execute_input": "2022-04-06T22:57:48.420832Z",
     "iopub.status.busy": "2022-04-06T22:57:48.420028Z",
     "iopub.status.idle": "2022-04-06T22:57:49.190510Z",
     "shell.execute_reply": "2022-04-06T22:57:49.189798Z",
     "shell.execute_reply.started": "2022-04-06T22:57:48.420776Z"
    },
    "id": "hYFu2VerFN8_"
   },
   "outputs": [],
   "source": [
    "# let's reduce the dataset size...\n",
    "# train_texts should be 400,000 and test_text should be 20,000\n",
    "\n",
    "# first we shuffle numbers from & 400000\n",
    "\n",
    "indices = np.arange(len(train_texts))\n",
    "np.random.shuffle(indices)\n",
    "train_data = sequences[indices]\n",
    "train_labels = labels[indices]"
   ]
  },
  {
   "cell_type": "code",
   "execution_count": 31,
   "metadata": {
    "execution": {
     "iopub.execute_input": "2022-04-06T22:57:49.192159Z",
     "iopub.status.busy": "2022-04-06T22:57:49.191916Z",
     "iopub.status.idle": "2022-04-06T22:57:49.197182Z",
     "shell.execute_reply": "2022-04-06T22:57:49.196437Z",
     "shell.execute_reply.started": "2022-04-06T22:57:49.192127Z"
    },
    "id": "FDRzbCUFfw3-"
   },
   "outputs": [],
   "source": [
    "train_size = 600000\n",
    "train_data = train_data[:train_size]\n",
    "train_labels = train_labels[:train_size]"
   ]
  },
  {
   "cell_type": "code",
   "execution_count": 32,
   "metadata": {
    "execution": {
     "iopub.execute_input": "2022-04-06T22:57:49.202184Z",
     "iopub.status.busy": "2022-04-06T22:57:49.201972Z",
     "iopub.status.idle": "2022-04-06T22:57:49.454391Z",
     "shell.execute_reply": "2022-04-06T22:57:49.453621Z",
     "shell.execute_reply.started": "2022-04-06T22:57:49.202154Z"
    },
    "id": "z6Y9oxwVKj7b"
   },
   "outputs": [],
   "source": [
    "# let's split the dataset\n",
    "from sklearn.model_selection import train_test_split\n",
    "\n",
    "X_train, X_valid, y_train, y_valid = train_test_split(train_data, train_labels, random_state=42, test_size=0.2)"
   ]
  },
  {
   "cell_type": "code",
   "execution_count": 33,
   "metadata": {
    "execution": {
     "iopub.execute_input": "2022-04-06T22:57:49.456053Z",
     "iopub.status.busy": "2022-04-06T22:57:49.455802Z",
     "iopub.status.idle": "2022-04-06T22:57:49.462190Z",
     "shell.execute_reply": "2022-04-06T22:57:49.461355Z",
     "shell.execute_reply.started": "2022-04-06T22:57:49.456020Z"
    },
    "executionInfo": {
     "elapsed": 23,
     "status": "ok",
     "timestamp": 1647289923701,
     "user": {
      "displayName": "Adewole Akorede",
      "photoUrl": "https://lh3.googleusercontent.com/a-/AOh14Gg03grqCyFQgax4UoMPg_gPqiuE8Jeq4oiFSV2x=s64",
      "userId": "08678817209531841234"
     },
     "user_tz": -60
    },
    "id": "Zh2TelnULP4J",
    "outputId": "56768c77-2780-4fbf-abb7-11135e790c33"
   },
   "outputs": [
    {
     "data": {
      "text/plain": [
       "(480000, 120000)"
      ]
     },
     "execution_count": 33,
     "metadata": {},
     "output_type": "execute_result"
    }
   ],
   "source": [
    "len(X_train), len(X_valid)"
   ]
  },
  {
   "cell_type": "code",
   "execution_count": 34,
   "metadata": {
    "execution": {
     "iopub.execute_input": "2022-04-06T22:57:49.464157Z",
     "iopub.status.busy": "2022-04-06T22:57:49.463903Z",
     "iopub.status.idle": "2022-04-06T22:57:49.473604Z",
     "shell.execute_reply": "2022-04-06T22:57:49.472698Z",
     "shell.execute_reply.started": "2022-04-06T22:57:49.464124Z"
    },
    "executionInfo": {
     "elapsed": 24,
     "status": "ok",
     "timestamp": 1647289923703,
     "user": {
      "displayName": "Adewole Akorede",
      "photoUrl": "https://lh3.googleusercontent.com/a-/AOh14Gg03grqCyFQgax4UoMPg_gPqiuE8Jeq4oiFSV2x=s64",
      "userId": "08678817209531841234"
     },
     "user_tz": -60
    },
    "id": "VjLDuJVQLgDy",
    "outputId": "1c6d8d98-a032-4f2c-a83f-d1d827fd0df4"
   },
   "outputs": [
    {
     "data": {
      "text/plain": [
       "(480000, 100)"
      ]
     },
     "execution_count": 34,
     "metadata": {},
     "output_type": "execute_result"
    }
   ],
   "source": [
    "X_train.shape"
   ]
  },
  {
   "cell_type": "code",
   "execution_count": 35,
   "metadata": {
    "execution": {
     "iopub.execute_input": "2022-04-06T22:57:49.475189Z",
     "iopub.status.busy": "2022-04-06T22:57:49.474908Z",
     "iopub.status.idle": "2022-04-06T22:57:49.483932Z",
     "shell.execute_reply": "2022-04-06T22:57:49.483235Z",
     "shell.execute_reply.started": "2022-04-06T22:57:49.475155Z"
    },
    "executionInfo": {
     "elapsed": 22,
     "status": "ok",
     "timestamp": 1647289923704,
     "user": {
      "displayName": "Adewole Akorede",
      "photoUrl": "https://lh3.googleusercontent.com/a-/AOh14Gg03grqCyFQgax4UoMPg_gPqiuE8Jeq4oiFSV2x=s64",
      "userId": "08678817209531841234"
     },
     "user_tz": -60
    },
    "id": "tPDRgDzILU6J",
    "outputId": "c2573876-bbc5-4501-f6cb-64f79a12635b"
   },
   "outputs": [
    {
     "data": {
      "text/plain": [
       "['even for the non gamer this sound track was beautiful it paints the in your mind so well i would recomend it even to people who hate vid game music i have played the game chrono cross but out of all of the games i have ever played it has the best music it backs away from crude keyboarding and takes a fresher step with grate guitars and soulful orchestras it would impress anyone who cares to listen',\n",
       " \"the best soundtrack ever to anything i'm reading a lot of reviews saying that this is the best and i figured that i'd write a review to disagree a bit this in my is ultimate masterpiece the music is timeless and i'm been listening to it for years now and its beauty simply refuses to fade the price tag on this is pretty staggering i must say but if you are going to buy any cd for this much money this is the only one that i feel would be worth every penny\",\n",
       " \"the game and the hope in a distant promise and girl who stole the star have been an important inspiration to me personally throughout my teen years the higher energy tracks like chrono cross time's scar time of the and remeniscent of chrono trigger are all absolutely superb as well this soundtrack is amazing music probably the best of this composer's work i haven't heard the xenogears soundtrack so i can't say for sure and even if you've never played the game it would be worth twice the price to buy it i wish i could give it 6 stars\"]"
      ]
     },
     "execution_count": 35,
     "metadata": {},
     "output_type": "execute_result"
    }
   ],
   "source": [
    "# sanity check\n",
    "\n",
    "sanity_text = tokenizer.sequences_to_texts(sequences[:3])\n",
    "sanity_text"
   ]
  },
  {
   "cell_type": "code",
   "execution_count": 36,
   "metadata": {
    "execution": {
     "iopub.execute_input": "2022-04-06T22:57:49.485601Z",
     "iopub.status.busy": "2022-04-06T22:57:49.485421Z",
     "iopub.status.idle": "2022-04-06T22:57:49.495150Z",
     "shell.execute_reply": "2022-04-06T22:57:49.494503Z",
     "shell.execute_reply.started": "2022-04-06T22:57:49.485579Z"
    },
    "executionInfo": {
     "elapsed": 20,
     "status": "ok",
     "timestamp": 1647289923705,
     "user": {
      "displayName": "Adewole Akorede",
      "photoUrl": "https://lh3.googleusercontent.com/a-/AOh14Gg03grqCyFQgax4UoMPg_gPqiuE8Jeq4oiFSV2x=s64",
      "userId": "08678817209531841234"
     },
     "user_tz": -60
    },
    "id": "rxZp3FElLxzZ",
    "outputId": "1c5eb87f-9af2-413c-e738-bd75831ef47b"
   },
   "outputs": [
    {
     "data": {
      "text/plain": [
       "['Stuning even for the non-gamer: This sound track was beautiful! It paints the senery in your mind so well I would recomend it even to people who hate vid. game music! I have played the game Chrono Cross but out of all of the games I have ever played it has the best music! It backs away from crude keyboarding and takes a fresher step with grate guitars and soulful orchestras. It would impress anyone who cares to listen! ^_^',\n",
       " \"The best soundtrack ever to anything.: I'm reading a lot of reviews saying that this is the best 'game soundtrack' and I figured that I'd write a review to disagree a bit. This in my opinino is Yasunori Mitsuda's ultimate masterpiece. The music is timeless and I'm been listening to it for years now and its beauty simply refuses to fade.The price tag on this is pretty staggering I must say, but if you are going to buy any cd for this much money, this is the only one that I feel would be worth every penny.\",\n",
       " 'Amazing!: This soundtrack is my favorite music of all time, hands down. The intense sadness of \"Prisoners of Fate\" (which means all the more if you\\'ve played the game) and the hope in \"A Distant Promise\" and \"Girl who Stole the Star\" have been an important inspiration to me personally throughout my teen years. The higher energy tracks like \"Chrono Cross ~ Time\\'s Scar~\", \"Time of the Dreamwatch\", and \"Chronomantique\" (indefinably remeniscent of Chrono Trigger) are all absolutely superb as well.This soundtrack is amazing music, probably the best of this composer\\'s work (I haven\\'t heard the Xenogears soundtrack, so I can\\'t say for sure), and even if you\\'ve never played the game, it would be worth twice the price to buy it.I wish I could give it 6 stars.']"
      ]
     },
     "execution_count": 36,
     "metadata": {},
     "output_type": "execute_result"
    }
   ],
   "source": [
    "train_texts[:3]"
   ]
  },
  {
   "cell_type": "code",
   "execution_count": 37,
   "metadata": {
    "execution": {
     "iopub.execute_input": "2022-04-06T22:57:49.497051Z",
     "iopub.status.busy": "2022-04-06T22:57:49.496511Z",
     "iopub.status.idle": "2022-04-06T22:57:49.504389Z",
     "shell.execute_reply": "2022-04-06T22:57:49.503649Z",
     "shell.execute_reply.started": "2022-04-06T22:57:49.497014Z"
    },
    "executionInfo": {
     "elapsed": 18,
     "status": "ok",
     "timestamp": 1647289923706,
     "user": {
      "displayName": "Adewole Akorede",
      "photoUrl": "https://lh3.googleusercontent.com/a-/AOh14Gg03grqCyFQgax4UoMPg_gPqiuE8Jeq4oiFSV2x=s64",
      "userId": "08678817209531841234"
     },
     "user_tz": -60
    },
    "id": "Goka8by-gaD9",
    "outputId": "62aed1c6-e50e-45f5-fccb-8144eaf4e986"
   },
   "outputs": [
    {
     "data": {
      "text/plain": [
       "['jeeves and wooster dvds this season is as enjoyable as the first two wooster geat into even more trouble as jeeves gets him out of it again a wonderfull comedy combo',\n",
       " \"meh 1 2 stars the noisy beginings of jimmy eat world here the bands major label debut showcases the begining stages but here they dont sound anything like what they've become here the band dabbles in noisey emotive punk and some dabbles in post hardcore the songs arent particularly tuneful but the is defiently evident here in this of songs jim adkins voice here is virtually to his signature tenor of late a similar case with silverchair getting more and more tuneful as time went on this is probablly not something you should start off with this band\",\n",
       " \"gps cobra dont work gps cobra did not work high pitch sound and screen didn't come on they didnt check to be shere it worked before they shipped it\"]"
      ]
     },
     "execution_count": 37,
     "metadata": {},
     "output_type": "execute_result"
    }
   ],
   "source": [
    "sanity_text = tokenizer.sequences_to_texts(X_train[:3])\n",
    "sanity_text"
   ]
  },
  {
   "cell_type": "markdown",
   "metadata": {
    "id": "-UezP-Bhz0cE"
   },
   "source": [
    "All works and we can see most of the texts from each review is kept"
   ]
  },
  {
   "cell_type": "code",
   "execution_count": 38,
   "metadata": {
    "execution": {
     "iopub.execute_input": "2022-04-06T22:57:49.505838Z",
     "iopub.status.busy": "2022-04-06T22:57:49.505575Z",
     "iopub.status.idle": "2022-04-06T22:57:49.701461Z",
     "shell.execute_reply": "2022-04-06T22:57:49.700673Z",
     "shell.execute_reply.started": "2022-04-06T22:57:49.505805Z"
    },
    "executionInfo": {
     "elapsed": 16,
     "status": "ok",
     "timestamp": 1647289923707,
     "user": {
      "displayName": "Adewole Akorede",
      "photoUrl": "https://lh3.googleusercontent.com/a-/AOh14Gg03grqCyFQgax4UoMPg_gPqiuE8Jeq4oiFSV2x=s64",
      "userId": "08678817209531841234"
     },
     "user_tz": -60
    },
    "id": "BAeinG2BgrlD",
    "outputId": "36630606-2046-4e49-b776-dd34bd387a9c"
   },
   "outputs": [
    {
     "name": "stderr",
     "output_type": "stream",
     "text": [
      "/opt/conda/lib/python3.7/site-packages/seaborn/_decorators.py:43: FutureWarning: Pass the following variable as a keyword arg: x. From version 0.12, the only valid positional argument will be `data`, and passing other arguments without an explicit keyword will result in an error or misinterpretation.\n",
      "  FutureWarning\n"
     ]
    },
    {
     "data": {
      "text/plain": [
       "Text(0.5, 1.0, 'Test Labels Distribution')"
      ]
     },
     "execution_count": 38,
     "metadata": {},
     "output_type": "execute_result"
    },
    {
     "data": {
      "image/png": "[encoded data removed]",
      "text/plain": [
       "<Figure size 432x288 with 1 Axes>"
      ]
     },
     "metadata": {
      "needs_background": "light"
     },
     "output_type": "display_data"
    }
   ],
   "source": [
    "sns.countplot(train_labels)\n",
    "plt.title('Test Labels Distribution')"
   ]
  },
  {
   "cell_type": "code",
   "execution_count": 39,
   "metadata": {
    "execution": {
     "iopub.execute_input": "2022-04-06T22:57:49.706118Z",
     "iopub.status.busy": "2022-04-06T22:57:49.705626Z",
     "iopub.status.idle": "2022-04-06T22:57:50.412759Z",
     "shell.execute_reply": "2022-04-06T22:57:50.411920Z",
     "shell.execute_reply.started": "2022-04-06T22:57:49.706073Z"
    },
    "executionInfo": {
     "elapsed": 489,
     "status": "ok",
     "timestamp": 1647289925402,
     "user": {
      "displayName": "Adewole Akorede",
      "photoUrl": "https://lh3.googleusercontent.com/a-/AOh14Gg03grqCyFQgax4UoMPg_gPqiuE8Jeq4oiFSV2x=s64",
      "userId": "08678817209531841234"
     },
     "user_tz": -60
    },
    "id": "MXN-c5JWLmjI",
    "outputId": "c8382fdc-c3f8-43a3-e0de-9e259fe1ba25"
   },
   "outputs": [
    {
     "data": {
      "text/plain": [
       "24"
      ]
     },
     "execution_count": 39,
     "metadata": {},
     "output_type": "execute_result"
    }
   ],
   "source": [
    "del sequences, train_texts, train_data\n",
    "\n",
    "gc.collect()"
   ]
  },
  {
   "cell_type": "markdown",
   "metadata": {
    "id": "rr7dd_1H0hj2"
   },
   "source": [
    "### Preprocessing the Test set"
   ]
  },
  {
   "cell_type": "code",
   "execution_count": 40,
   "metadata": {
    "execution": {
     "iopub.execute_input": "2022-04-06T22:57:50.414741Z",
     "iopub.status.busy": "2022-04-06T22:57:50.414491Z",
     "iopub.status.idle": "2022-04-06T22:57:50.423453Z",
     "shell.execute_reply": "2022-04-06T22:57:50.422810Z",
     "shell.execute_reply.started": "2022-04-06T22:57:50.414707Z"
    },
    "executionInfo": {
     "elapsed": 7,
     "status": "ok",
     "timestamp": 1647289925403,
     "user": {
      "displayName": "Adewole Akorede",
      "photoUrl": "https://lh3.googleusercontent.com/a-/AOh14Gg03grqCyFQgax4UoMPg_gPqiuE8Jeq4oiFSV2x=s64",
      "userId": "08678817209531841234"
     },
     "user_tz": -60
    },
    "id": "D_zxfBMB067p",
    "outputId": "4efac883-2ccd-44ce-a6b2-8c64d1a254bf"
   },
   "outputs": [
    {
     "data": {
      "text/plain": [
       "400000"
      ]
     },
     "execution_count": 40,
     "metadata": {},
     "output_type": "execute_result"
    }
   ],
   "source": [
    "len(test_texts)"
   ]
  },
  {
   "cell_type": "code",
   "execution_count": 41,
   "metadata": {
    "execution": {
     "iopub.execute_input": "2022-04-06T22:57:50.424719Z",
     "iopub.status.busy": "2022-04-06T22:57:50.424533Z",
     "iopub.status.idle": "2022-04-06T22:58:15.877134Z",
     "shell.execute_reply": "2022-04-06T22:58:15.876390Z",
     "shell.execute_reply.started": "2022-04-06T22:57:50.424697Z"
    },
    "id": "_5TcWFZF0aN1"
   },
   "outputs": [],
   "source": [
    "# convert test_labels to numpy arrays\n",
    "test_labels = np.array(test_labels)\n",
    "\n",
    "# vectorize the test set\n",
    "test = tokenizer.texts_to_sequences(test_texts)\n",
    "\n",
    "# pad the sequence \n",
    "test = pad_sequences(test, maxlen=maxlen)"
   ]
  },
  {
   "cell_type": "code",
   "execution_count": 42,
   "metadata": {
    "execution": {
     "iopub.execute_input": "2022-04-06T22:58:15.878626Z",
     "iopub.status.busy": "2022-04-06T22:58:15.878403Z",
     "iopub.status.idle": "2022-04-06T22:58:15.960017Z",
     "shell.execute_reply": "2022-04-06T22:58:15.959277Z",
     "shell.execute_reply.started": "2022-04-06T22:58:15.878596Z"
    },
    "id": "NMRESOCMhMqU"
   },
   "outputs": [],
   "source": [
    "# let's reduce the dataset size\n",
    "indices = np.arange(len(test_texts))\n",
    "np.random.shuffle(indices)\n",
    "test = test[indices]\n",
    "test_labels = test_labels[indices]\n",
    "\n",
    "test_size = 50000\n",
    "test = test[:test_size]\n",
    "test_labels = test_labels[:test_size]"
   ]
  },
  {
   "cell_type": "code",
   "execution_count": 43,
   "metadata": {
    "execution": {
     "iopub.execute_input": "2022-04-06T22:58:15.961520Z",
     "iopub.status.busy": "2022-04-06T22:58:15.961290Z",
     "iopub.status.idle": "2022-04-06T22:58:15.967697Z",
     "shell.execute_reply": "2022-04-06T22:58:15.966847Z",
     "shell.execute_reply.started": "2022-04-06T22:58:15.961488Z"
    },
    "executionInfo": {
     "elapsed": 17,
     "status": "ok",
     "timestamp": 1647289979802,
     "user": {
      "displayName": "Adewole Akorede",
      "photoUrl": "https://lh3.googleusercontent.com/a-/AOh14Gg03grqCyFQgax4UoMPg_gPqiuE8Jeq4oiFSV2x=s64",
      "userId": "08678817209531841234"
     },
     "user_tz": -60
    },
    "id": "KGgIrXpV2uM-",
    "outputId": "f8a64d7b-0a12-43b1-b655-3e71e1d9e2d4"
   },
   "outputs": [
    {
     "name": "stdout",
     "output_type": "stream",
     "text": [
      "['Great CD: My lovely Pat has one of the GREAT voices of her generation. I have listened to this CD for YEARS and I still LOVE IT. When I\\'m in a good mood it makes me feel better. A bad mood just evaporates like sugar in the rain. This CD just oozes LIFE. Vocals are jusat STUUNNING and lyrics just kill. One of life\\'s hidden gems. This is a desert isle CD in my book. Why she never made it big is just beyond me. Everytime I play this, no matter black, white, young, old, male, female EVERYBODY says one thing \"Who was that singing ?\"', \"One of the best game music soundtracks - for a game I didn't really play: Despite the fact that I have only played a small portion of the game, the music I heard (plus the connection to Chrono Trigger which was great as well) led me to purchase the soundtrack, and it remains one of my favorite albums. There is an incredible mix of fun, epic, and emotional songs. Those sad and beautiful tracks I especially like, as there's not too many of those kinds of songs in my other video game soundtracks. I must admit that one of the songs (Life-A Distant Promise) has brought tears to my eyes on many occasions.My one complaint about this soundtrack is that they use guitar fretting effects in many of the songs, which I find distracting. But even if those weren't included I would still consider the collection worth it.\", 'Batteries died within a year ...: I bought this charger in Jul 2003 and it worked OK for a while. The design is nice and convenient. However, after about a year, the batteries would not hold a charge. Might as well just get alkaline disposables, or look elsewhere for a charger that comes with batteries that have better staying power.']\n",
      "\n",
      "\n",
      "[\"fiona's review to tell the truth it is very fragile and frustrating if you keep on doing leg kick action fiona's leg will snap in not time it is smaller for than the other figures and is just borderline for having fun\", \"vivid colors i'm amazed at how my pictures turned out with the use of this film the colors are so vivid and vibrant the images come out sharp definitely the film i'll be using from now on\", \"good product but there are better sheet feeders i bought this as an upgrade for my 1 person office i went from an hp that did a great job with printing and scanning but lacked a flatbed copy function to this generally i'm pleased with the product but the scanning function is a bit cumbersome and the for the bypass tray does not always do a good job with envelopes\"]\n"
     ]
    }
   ],
   "source": [
    "# sanity check\n",
    "\n",
    "print(test_texts[:3])\n",
    "print('\\n')\n",
    "print(tokenizer.sequences_to_texts(test[:3]))"
   ]
  },
  {
   "cell_type": "markdown",
   "metadata": {
    "id": "7rQj6lhfMvsc"
   },
   "source": [
    "# ML Models"
   ]
  },
  {
   "cell_type": "markdown",
   "metadata": {
    "id": "RXxUXagi0Gak"
   },
   "source": [
    "## Baseline Model"
   ]
  },
  {
   "cell_type": "code",
   "execution_count": 44,
   "metadata": {
    "execution": {
     "iopub.execute_input": "2022-04-06T22:58:36.839413Z",
     "iopub.status.busy": "2022-04-06T22:58:36.839157Z",
     "iopub.status.idle": "2022-04-06T22:58:36.843496Z",
     "shell.execute_reply": "2022-04-06T22:58:36.842828Z",
     "shell.execute_reply.started": "2022-04-06T22:58:36.839385Z"
    },
    "id": "2QvI4xTI3w6m"
   },
   "outputs": [],
   "source": [
    "embedding_dim = 100"
   ]
  },
  {
   "cell_type": "code",
   "execution_count": 45,
   "metadata": {
    "execution": {
     "iopub.execute_input": "2022-04-06T22:58:46.537854Z",
     "iopub.status.busy": "2022-04-06T22:58:46.537570Z",
     "iopub.status.idle": "2022-04-06T22:58:48.855809Z",
     "shell.execute_reply": "2022-04-06T22:58:48.855005Z",
     "shell.execute_reply.started": "2022-04-06T22:58:46.537820Z"
    },
    "id": "eauWzRlAL6WM"
   },
   "outputs": [
    {
     "name": "stderr",
     "output_type": "stream",
     "text": [
      "2022-04-06 22:58:46.611999: I tensorflow/stream_executor/cuda/cuda_gpu_executor.cc:937] successful NUMA node read from SysFS had negative value (-1), but there must be at least one NUMA node, so returning NUMA node zero\n",
      "2022-04-06 22:58:46.700639: I tensorflow/stream_executor/cuda/cuda_gpu_executor.cc:937] successful NUMA node read from SysFS had negative value (-1), but there must be at least one NUMA node, so returning NUMA node zero\n",
      "2022-04-06 22:58:46.701366: I tensorflow/stream_executor/cuda/cuda_gpu_executor.cc:937] successful NUMA node read from SysFS had negative value (-1), but there must be at least one NUMA node, so returning NUMA node zero\n",
      "2022-04-06 22:58:46.702542: I tensorflow/core/platform/cpu_feature_guard.cc:142] This TensorFlow binary is optimized with oneAPI Deep Neural Network Library (oneDNN) to use the following CPU instructions in performance-critical operations:  AVX2 AVX512F FMA\n",
      "To enable them in other operations, rebuild TensorFlow with the appropriate compiler flags.\n",
      "2022-04-06 22:58:46.703677: I tensorflow/stream_executor/cuda/cuda_gpu_executor.cc:937] successful NUMA node read from SysFS had negative value (-1), but there must be at least one NUMA node, so returning NUMA node zero\n",
      "2022-04-06 22:58:46.704340: I tensorflow/stream_executor/cuda/cuda_gpu_executor.cc:937] successful NUMA node read from SysFS had negative value (-1), but there must be at least one NUMA node, so returning NUMA node zero\n",
      "2022-04-06 22:58:46.704954: I tensorflow/stream_executor/cuda/cuda_gpu_executor.cc:937] successful NUMA node read from SysFS had negative value (-1), but there must be at least one NUMA node, so returning NUMA node zero\n",
      "2022-04-06 22:58:48.435648: I tensorflow/stream_executor/cuda/cuda_gpu_executor.cc:937] successful NUMA node read from SysFS had negative value (-1), but there must be at least one NUMA node, so returning NUMA node zero\n",
      "2022-04-06 22:58:48.436461: I tensorflow/stream_executor/cuda/cuda_gpu_executor.cc:937] successful NUMA node read from SysFS had negative value (-1), but there must be at least one NUMA node, so returning NUMA node zero\n",
      "2022-04-06 22:58:48.437178: I tensorflow/stream_executor/cuda/cuda_gpu_executor.cc:937] successful NUMA node read from SysFS had negative value (-1), but there must be at least one NUMA node, so returning NUMA node zero\n",
      "2022-04-06 22:58:48.437868: I tensorflow/core/common_runtime/gpu/gpu_device.cc:1510] Created device /job:localhost/replica:0/task:0/device:GPU:0 with 15403 MB memory:  -> device: 0, name: Tesla P100-PCIE-16GB, pci bus id: 0000:00:04.0, compute capability: 6.0\n"
     ]
    }
   ],
   "source": [
    "model = models.Sequential(name='baseline_amazon')\n",
    "model.add(layers.Embedding(input_dim=num_words, output_dim=embedding_dim, input_length=maxlen))\n",
    "model.add(layers.Conv1D(64, 7, padding='valid', activation='relu'))\n",
    "model.add(layers.Conv1D(128, 7, padding='valid', activation='relu'))\n",
    "model.add(layers.Conv1D(256, 7, padding='valid', activation='relu'))\n",
    "model.add(layers.GlobalMaxPooling1D())\n",
    "model.add(layers.Dropout(0.2))\n",
    "model.add(layers.Dense(128, activation='relu'))\n",
    "model.add(layers.Dense(64, activation='relu'))\n",
    "model.add(layers.Dense(1, activation='sigmoid'))"
   ]
  },
  {
   "cell_type": "code",
   "execution_count": 46,
   "metadata": {
    "execution": {
     "iopub.execute_input": "2022-04-06T22:58:48.858113Z",
     "iopub.status.busy": "2022-04-06T22:58:48.857350Z",
     "iopub.status.idle": "2022-04-06T22:58:48.869407Z",
     "shell.execute_reply": "2022-04-06T22:58:48.868744Z",
     "shell.execute_reply.started": "2022-04-06T22:58:48.858058Z"
    },
    "executionInfo": {
     "elapsed": 25,
     "status": "ok",
     "timestamp": 1647289982814,
     "user": {
      "displayName": "Adewole Akorede",
      "photoUrl": "https://lh3.googleusercontent.com/a-/AOh14Gg03grqCyFQgax4UoMPg_gPqiuE8Jeq4oiFSV2x=s64",
      "userId": "08678817209531841234"
     },
     "user_tz": -60
    },
    "id": "xNgZKvA35WUn",
    "outputId": "cbc7d702-35d5-4691-9d30-5b86d8a4aef6"
   },
   "outputs": [
    {
     "name": "stdout",
     "output_type": "stream",
     "text": [
      "Model: \"baseline_amazon\"\n",
      "_________________________________________________________________\n",
      "Layer (type)                 Output Shape              Param #   \n",
      "=================================================================\n",
      "embedding (Embedding)        (None, 100, 100)          7000000   \n",
      "_________________________________________________________________\n",
      "conv1d (Conv1D)              (None, 94, 64)            44864     \n",
      "_________________________________________________________________\n",
      "conv1d_1 (Conv1D)            (None, 88, 128)           57472     \n",
      "_________________________________________________________________\n",
      "conv1d_2 (Conv1D)            (None, 82, 256)           229632    \n",
      "_________________________________________________________________\n",
      "global_max_pooling1d (Global (None, 256)               0         \n",
      "_________________________________________________________________\n",
      "dropout (Dropout)            (None, 256)               0         \n",
      "_________________________________________________________________\n",
      "dense (Dense)                (None, 128)               32896     \n",
      "_________________________________________________________________\n",
      "dense_1 (Dense)              (None, 64)                8256      \n",
      "_________________________________________________________________\n",
      "dense_2 (Dense)              (None, 1)                 65        \n",
      "=================================================================\n",
      "Total params: 7,373,185\n",
      "Trainable params: 7,373,185\n",
      "Non-trainable params: 0\n",
      "_________________________________________________________________\n"
     ]
    }
   ],
   "source": [
    "model.summary()"
   ]
  },
  {
   "cell_type": "code",
   "execution_count": 47,
   "metadata": {
    "execution": {
     "iopub.execute_input": "2022-04-06T22:59:01.485161Z",
     "iopub.status.busy": "2022-04-06T22:59:01.484898Z",
     "iopub.status.idle": "2022-04-06T22:59:01.500154Z",
     "shell.execute_reply": "2022-04-06T22:59:01.499256Z",
     "shell.execute_reply.started": "2022-04-06T22:59:01.485132Z"
    },
    "id": "SI8mgsKd5X9g"
   },
   "outputs": [],
   "source": [
    "model.compile(loss='binary_crossentropy', optimizer='adam', metrics=['accuracy'])\n",
    "callbacks = [keras.callbacks.EarlyStopping(patience=10, restore_best_weights=True), \n",
    "             keras.callbacks.ModelCheckpoint('baseline.h5', save_best_only=True)]"
   ]
  },
  {
   "cell_type": "code",
   "execution_count": 48,
   "metadata": {
    "execution": {
     "iopub.execute_input": "2022-04-06T22:59:12.900918Z",
     "iopub.status.busy": "2022-04-06T22:59:12.900230Z",
     "iopub.status.idle": "2022-04-06T23:18:47.256314Z",
     "shell.execute_reply": "2022-04-06T23:18:47.255597Z",
     "shell.execute_reply.started": "2022-04-06T22:59:12.900879Z"
    },
    "executionInfo": {
     "elapsed": 2130231,
     "status": "ok",
     "timestamp": 1647292113029,
     "user": {
      "displayName": "Adewole Akorede",
      "photoUrl": "https://lh3.googleusercontent.com/a-/AOh14Gg03grqCyFQgax4UoMPg_gPqiuE8Jeq4oiFSV2x=s64",
      "userId": "08678817209531841234"
     },
     "user_tz": -60
    },
    "id": "DWl-p9-L6-Oz",
    "outputId": "363a9698-8f70-4176-d48d-0729ddbfe54b"
   },
   "outputs": [
    {
     "name": "stderr",
     "output_type": "stream",
     "text": [
      "2022-04-06 22:59:13.009733: I tensorflow/compiler/mlir/mlir_graph_optimization_pass.cc:185] None of the MLIR Optimization Passes are enabled (registered 2)\n"
     ]
    },
    {
     "name": "stdout",
     "output_type": "stream",
     "text": [
      "Epoch 1/30\n"
     ]
    },
    {
     "name": "stderr",
     "output_type": "stream",
     "text": [
      "2022-04-06 22:59:14.488262: I tensorflow/stream_executor/cuda/cuda_dnn.cc:369] Loaded cuDNN version 8005\n"
     ]
    },
    {
     "name": "stdout",
     "output_type": "stream",
     "text": [
      "15000/15000 [==============================] - 106s 7ms/step - loss: 0.2392 - accuracy: 0.9011 - val_loss: 0.2035 - val_accuracy: 0.9220\n",
      "Epoch 2/30\n",
      "15000/15000 [==============================] - 99s 7ms/step - loss: 0.1629 - accuracy: 0.9387 - val_loss: 0.1972 - val_accuracy: 0.9227\n",
      "Epoch 3/30\n",
      "15000/15000 [==============================] - 99s 7ms/step - loss: 0.1163 - accuracy: 0.9583 - val_loss: 0.2208 - val_accuracy: 0.9178\n",
      "Epoch 4/30\n",
      "15000/15000 [==============================] - 99s 7ms/step - loss: 0.0773 - accuracy: 0.9736 - val_loss: 0.2351 - val_accuracy: 0.9156\n",
      "Epoch 5/30\n",
      "15000/15000 [==============================] - 95s 6ms/step - loss: 0.0510 - accuracy: 0.9834 - val_loss: 0.2784 - val_accuracy: 0.9056\n",
      "Epoch 6/30\n",
      "15000/15000 [==============================] - 94s 6ms/step - loss: 0.0349 - accuracy: 0.9888 - val_loss: 0.3303 - val_accuracy: 0.9083\n",
      "Epoch 7/30\n",
      "15000/15000 [==============================] - 95s 6ms/step - loss: 0.0269 - accuracy: 0.9913 - val_loss: 0.4569 - val_accuracy: 0.9077\n",
      "Epoch 8/30\n",
      "15000/15000 [==============================] - 95s 6ms/step - loss: 0.0205 - accuracy: 0.9935 - val_loss: 0.6156 - val_accuracy: 0.9064\n",
      "Epoch 9/30\n",
      "15000/15000 [==============================] - 99s 7ms/step - loss: 0.0168 - accuracy: 0.9948 - val_loss: 0.3963 - val_accuracy: 0.9016\n",
      "Epoch 10/30\n",
      "15000/15000 [==============================] - 95s 6ms/step - loss: 0.0153 - accuracy: 0.9952 - val_loss: 0.5206 - val_accuracy: 0.9027\n",
      "Epoch 11/30\n",
      "15000/15000 [==============================] - 99s 7ms/step - loss: 0.0145 - accuracy: 0.9956 - val_loss: 0.6115 - val_accuracy: 0.9065\n",
      "Epoch 12/30\n",
      "15000/15000 [==============================] - 99s 7ms/step - loss: 0.0122 - accuracy: 0.9960 - val_loss: 0.5699 - val_accuracy: 0.9049\n"
     ]
    }
   ],
   "source": [
    "history = model.fit(X_train, y_train, epochs=30, validation_data=(X_valid, y_valid), callbacks=callbacks)"
   ]
  },
  {
   "cell_type": "code",
   "execution_count": 49,
   "metadata": {
    "execution": {
     "iopub.execute_input": "2022-04-06T23:19:21.840737Z",
     "iopub.status.busy": "2022-04-06T23:19:21.840465Z",
     "iopub.status.idle": "2022-04-06T23:19:21.847490Z",
     "shell.execute_reply": "2022-04-06T23:19:21.846827Z",
     "shell.execute_reply.started": "2022-04-06T23:19:21.840707Z"
    },
    "id": "u3aUzQJ57RKS"
   },
   "outputs": [],
   "source": [
    "def learning_curve(history):\n",
    "    loss = history.history['loss']\n",
    "    val_loss = history.history['val_loss']\n",
    "    \n",
    "    accuracy = history.history['accuracy']\n",
    "    val_accuracy = history.history['val_accuracy']\n",
    "\n",
    "    epochs = range(1, len(loss) + 1)\n",
    "\n",
    "    plt.figure()\n",
    "    plt.plot(epochs, loss, 'bo', label='Train Loss')\n",
    "    plt.plot(epochs, val_loss, 'b-', label='Validation Loss')\n",
    "    plt.title('Train and Validation Loss')\n",
    "    plt.legend()\n",
    "\n",
    "    plt.figure()\n",
    "    plt.plot(epochs, accuracy, 'bo', label='Train Accuracy')\n",
    "    plt.plot(epochs, val_accuracy, 'b-', label='Validation Accuracy')\n",
    "    plt.title('Train and Validation Accuracy')\n",
    "    plt.legend()\n",
    "\n",
    "    plt.show()"
   ]
  },
  {
   "cell_type": "code",
   "execution_count": 50,
   "metadata": {
    "execution": {
     "iopub.execute_input": "2022-04-06T23:19:23.454987Z",
     "iopub.status.busy": "2022-04-06T23:19:23.454438Z",
     "iopub.status.idle": "2022-04-06T23:19:35.962307Z",
     "shell.execute_reply": "2022-04-06T23:19:35.961532Z",
     "shell.execute_reply.started": "2022-04-06T23:19:23.454949Z"
    },
    "executionInfo": {
     "elapsed": 54173,
     "status": "ok",
     "timestamp": 1647292167197,
     "user": {
      "displayName": "Adewole Akorede",
      "photoUrl": "https://lh3.googleusercontent.com/a-/AOh14Gg03grqCyFQgax4UoMPg_gPqiuE8Jeq4oiFSV2x=s64",
      "userId": "08678817209531841234"
     },
     "user_tz": -60
    },
    "id": "Oi-6nG_yqZm0",
    "outputId": "04f1cfd7-cfc0-42f6-c6aa-9a347d7b8822"
   },
   "outputs": [
    {
     "data": {
      "image/png": "[encoded data removed]",
      "text/plain": [
       "<Figure size 432x288 with 1 Axes>"
      ]
     },
     "metadata": {
      "needs_background": "light"
     },
     "output_type": "display_data"
    },
    {
     "data": {
      "image/png": "[encoded data removed]",
      "text/plain": [
       "<Figure size 432x288 with 1 Axes>"
      ]
     },
     "metadata": {
      "needs_background": "light"
     },
     "output_type": "display_data"
    }
   ],
   "source": [
    "learning_curve(history)"
   ]
  },
  {
   "cell_type": "code",
   "execution_count": 51,
   "metadata": {
    "execution": {
     "iopub.execute_input": "2022-04-06T23:19:44.782431Z",
     "iopub.status.busy": "2022-04-06T23:19:44.782160Z",
     "iopub.status.idle": "2022-04-06T23:19:49.445438Z",
     "shell.execute_reply": "2022-04-06T23:19:49.444603Z",
     "shell.execute_reply.started": "2022-04-06T23:19:44.782400Z"
    },
    "executionInfo": {
     "elapsed": 10769,
     "status": "ok",
     "timestamp": 1647292190647,
     "user": {
      "displayName": "Adewole Akorede",
      "photoUrl": "https://lh3.googleusercontent.com/a-/AOh14Gg03grqCyFQgax4UoMPg_gPqiuE8Jeq4oiFSV2x=s64",
      "userId": "08678817209531841234"
     },
     "user_tz": -60
    },
    "id": "1M3srWotoo7l",
    "outputId": "98deb357-5c15-4a2a-b155-a89d89213d65"
   },
   "outputs": [
    {
     "name": "stdout",
     "output_type": "stream",
     "text": [
      "1563/1563 [==============================] - 5s 3ms/step - loss: 0.1994 - accuracy: 0.9220\n"
     ]
    },
    {
     "data": {
      "text/plain": [
       "(0.19938941299915314, 0.9220399856567383)"
      ]
     },
     "execution_count": 51,
     "metadata": {},
     "output_type": "execute_result"
    }
   ],
   "source": [
    "# let's evaluate the model's result on the test set\n",
    "\n",
    "loss_1, acc_1 = model.evaluate(test, test_labels)\n",
    "loss_1, acc_1"
   ]
  },
  {
   "cell_type": "markdown",
   "metadata": {
    "id": "5Ohh3eO1pB_u"
   },
   "source": [
    "## Baseline Model + BatchNorm & Higher Dropout"
   ]
  },
  {
   "cell_type": "code",
   "execution_count": 52,
   "metadata": {
    "execution": {
     "iopub.execute_input": "2022-04-06T23:20:12.667736Z",
     "iopub.status.busy": "2022-04-06T23:20:12.667266Z",
     "iopub.status.idle": "2022-04-06T23:20:13.132913Z",
     "shell.execute_reply": "2022-04-06T23:20:13.132209Z",
     "shell.execute_reply.started": "2022-04-06T23:20:12.667699Z"
    },
    "id": "-pIT8m9zpJBJ"
   },
   "outputs": [],
   "source": [
    "model = models.Sequential(name='baseline2_amazon')\n",
    "model.add(layers.Embedding(input_dim=num_words, output_dim=embedding_dim, input_length=maxlen))\n",
    "model.add(layers.BatchNormalization())\n",
    "model.add(layers.Conv1D(64, 7, padding='valid', use_bias=False))\n",
    "model.add(layers.Dropout(0.2))\n",
    "model.add(layers.BatchNormalization())\n",
    "model.add(layers.Activation('relu'))\n",
    "model.add(layers.Conv1D(128, 7, padding='valid', use_bias=False))\n",
    "model.add(layers.Dropout(0.2))\n",
    "model.add(layers.BatchNormalization())\n",
    "model.add(layers.Activation('relu'))\n",
    "model.add(layers.GlobalMaxPooling1D())\n",
    "model.add(layers.Dropout(0.4))\n",
    "model.add(layers.Dense(128, use_bias=False))\n",
    "model.add(layers.BatchNormalization())\n",
    "model.add(layers.Activation('relu'))\n",
    "model.add(layers.Dense(1, activation='sigmoid'))"
   ]
  },
  {
   "cell_type": "code",
   "execution_count": 53,
   "metadata": {
    "execution": {
     "iopub.execute_input": "2022-04-06T23:20:19.937107Z",
     "iopub.status.busy": "2022-04-06T23:20:19.936462Z",
     "iopub.status.idle": "2022-04-06T23:20:19.951157Z",
     "shell.execute_reply": "2022-04-06T23:20:19.950445Z",
     "shell.execute_reply.started": "2022-04-06T23:20:19.937067Z"
    },
    "executionInfo": {
     "elapsed": 14,
     "status": "ok",
     "timestamp": 1647292309736,
     "user": {
      "displayName": "Adewole Akorede",
      "photoUrl": "https://lh3.googleusercontent.com/a-/AOh14Gg03grqCyFQgax4UoMPg_gPqiuE8Jeq4oiFSV2x=s64",
      "userId": "08678817209531841234"
     },
     "user_tz": -60
    },
    "id": "C35JGEMRrfN7",
    "outputId": "6febd8bb-6de5-4f76-f9ab-c406a39ec6d6"
   },
   "outputs": [
    {
     "name": "stdout",
     "output_type": "stream",
     "text": [
      "Model: \"baseline2_amazon\"\n",
      "_________________________________________________________________\n",
      "Layer (type)                 Output Shape              Param #   \n",
      "=================================================================\n",
      "embedding_1 (Embedding)      (None, 100, 100)          7000000   \n",
      "_________________________________________________________________\n",
      "batch_normalization (BatchNo (None, 100, 100)          400       \n",
      "_________________________________________________________________\n",
      "conv1d_3 (Conv1D)            (None, 94, 64)            44800     \n",
      "_________________________________________________________________\n",
      "dropout_1 (Dropout)          (None, 94, 64)            0         \n",
      "_________________________________________________________________\n",
      "batch_normalization_1 (Batch (None, 94, 64)            256       \n",
      "_________________________________________________________________\n",
      "activation (Activation)      (None, 94, 64)            0         \n",
      "_________________________________________________________________\n",
      "conv1d_4 (Conv1D)            (None, 88, 128)           57344     \n",
      "_________________________________________________________________\n",
      "dropout_2 (Dropout)          (None, 88, 128)           0         \n",
      "_________________________________________________________________\n",
      "batch_normalization_2 (Batch (None, 88, 128)           512       \n",
      "_________________________________________________________________\n",
      "activation_1 (Activation)    (None, 88, 128)           0         \n",
      "_________________________________________________________________\n",
      "global_max_pooling1d_1 (Glob (None, 128)               0         \n",
      "_________________________________________________________________\n",
      "dropout_3 (Dropout)          (None, 128)               0         \n",
      "_________________________________________________________________\n",
      "dense_3 (Dense)              (None, 128)               16384     \n",
      "_________________________________________________________________\n",
      "batch_normalization_3 (Batch (None, 128)               512       \n",
      "_________________________________________________________________\n",
      "activation_2 (Activation)    (None, 128)               0         \n",
      "_________________________________________________________________\n",
      "dense_4 (Dense)              (None, 1)                 129       \n",
      "=================================================================\n",
      "Total params: 7,120,337\n",
      "Trainable params: 7,119,497\n",
      "Non-trainable params: 840\n",
      "_________________________________________________________________\n"
     ]
    }
   ],
   "source": [
    "model.summary()"
   ]
  },
  {
   "cell_type": "code",
   "execution_count": 55,
   "metadata": {
    "execution": {
     "iopub.execute_input": "2022-04-06T23:20:41.815569Z",
     "iopub.status.busy": "2022-04-06T23:20:41.815310Z",
     "iopub.status.idle": "2022-04-06T23:42:21.498288Z",
     "shell.execute_reply": "2022-04-06T23:42:21.497532Z",
     "shell.execute_reply.started": "2022-04-06T23:20:41.815539Z"
    },
    "executionInfo": {
     "elapsed": 1703678,
     "status": "ok",
     "timestamp": 1647294015759,
     "user": {
      "displayName": "Adewole Akorede",
      "photoUrl": "https://lh3.googleusercontent.com/a-/AOh14Gg03grqCyFQgax4UoMPg_gPqiuE8Jeq4oiFSV2x=s64",
      "userId": "08678817209531841234"
     },
     "user_tz": -60
    },
    "id": "B6lSvKk7riV9",
    "outputId": "befe310a-a49e-4544-dcd8-2da1144e7539"
   },
   "outputs": [
    {
     "name": "stdout",
     "output_type": "stream",
     "text": [
      "Epoch 1/30\n",
      "15000/15000 [==============================] - 99s 6ms/step - loss: 0.2613 - accuracy: 0.8930 - val_loss: 0.2115 - val_accuracy: 0.9173\n",
      "Epoch 2/30\n",
      "15000/15000 [==============================] - 101s 7ms/step - loss: 0.1942 - accuracy: 0.9249 - val_loss: 0.2034 - val_accuracy: 0.9236\n",
      "Epoch 3/30\n",
      "15000/15000 [==============================] - 102s 7ms/step - loss: 0.1550 - accuracy: 0.9428 - val_loss: 0.2011 - val_accuracy: 0.9211\n",
      "Epoch 4/30\n",
      "15000/15000 [==============================] - 98s 7ms/step - loss: 0.1242 - accuracy: 0.9556 - val_loss: 0.2111 - val_accuracy: 0.9169\n",
      "Epoch 5/30\n",
      "15000/15000 [==============================] - 98s 7ms/step - loss: 0.1005 - accuracy: 0.9650 - val_loss: 0.2174 - val_accuracy: 0.9146\n",
      "Epoch 6/30\n",
      "15000/15000 [==============================] - 102s 7ms/step - loss: 0.0815 - accuracy: 0.9723 - val_loss: 0.2402 - val_accuracy: 0.9106\n",
      "Epoch 7/30\n",
      "15000/15000 [==============================] - 102s 7ms/step - loss: 0.0699 - accuracy: 0.9765 - val_loss: 0.2564 - val_accuracy: 0.9062\n",
      "Epoch 8/30\n",
      "15000/15000 [==============================] - 98s 7ms/step - loss: 0.0604 - accuracy: 0.9796 - val_loss: 0.2550 - val_accuracy: 0.9101\n",
      "Epoch 9/30\n",
      "15000/15000 [==============================] - 102s 7ms/step - loss: 0.0521 - accuracy: 0.9826 - val_loss: 0.2681 - val_accuracy: 0.9072\n",
      "Epoch 10/30\n",
      "15000/15000 [==============================] - 102s 7ms/step - loss: 0.0471 - accuracy: 0.9844 - val_loss: 0.2807 - val_accuracy: 0.9061\n",
      "Epoch 11/30\n",
      "15000/15000 [==============================] - 97s 6ms/step - loss: 0.0420 - accuracy: 0.9860 - val_loss: 0.2952 - val_accuracy: 0.9064\n",
      "Epoch 12/30\n",
      "15000/15000 [==============================] - 102s 7ms/step - loss: 0.0382 - accuracy: 0.9873 - val_loss: 0.3025 - val_accuracy: 0.9039\n",
      "Epoch 13/30\n",
      "15000/15000 [==============================] - 98s 7ms/step - loss: 0.0354 - accuracy: 0.9882 - val_loss: 0.3312 - val_accuracy: 0.8983\n"
     ]
    }
   ],
   "source": [
    "model.compile(loss='binary_crossentropy', optimizer='adam', metrics=['accuracy'])\n",
    "callbacks = [keras.callbacks.EarlyStopping(patience=10, restore_best_weights=True), \n",
    "             keras.callbacks.ModelCheckpoint('baseline2.h5', save_best_only=True)]\n",
    "\n",
    "history = model.fit(X_train, y_train, epochs=30, validation_data=(X_valid, y_valid), callbacks=callbacks)"
   ]
  },
  {
   "cell_type": "code",
   "execution_count": 56,
   "metadata": {
    "execution": {
     "iopub.execute_input": "2022-04-06T23:42:21.500170Z",
     "iopub.status.busy": "2022-04-06T23:42:21.499926Z",
     "iopub.status.idle": "2022-04-06T23:43:05.416430Z",
     "shell.execute_reply": "2022-04-06T23:43:05.415750Z",
     "shell.execute_reply.started": "2022-04-06T23:42:21.500138Z"
    },
    "executionInfo": {
     "elapsed": 620,
     "status": "ok",
     "timestamp": 1647294028582,
     "user": {
      "displayName": "Adewole Akorede",
      "photoUrl": "https://lh3.googleusercontent.com/a-/AOh14Gg03grqCyFQgax4UoMPg_gPqiuE8Jeq4oiFSV2x=s64",
      "userId": "08678817209531841234"
     },
     "user_tz": -60
    },
    "id": "t0lTPevlrxQb",
    "outputId": "c3158ef5-5d05-49dd-b9ce-ba2c0f4f724a"
   },
   "outputs": [
    {
     "data": {
      "image/png": "[encoded data removed]",
      "text/plain": [
       "<Figure size 432x288 with 1 Axes>"
      ]
     },
     "metadata": {
      "needs_background": "light"
     },
     "output_type": "display_data"
    },
    {
     "data": {
      "image/png": "[encoded data removed]",
      "text/plain": [
       "<Figure size 432x288 with 1 Axes>"
      ]
     },
     "metadata": {
      "needs_background": "light"
     },
     "output_type": "display_data"
    }
   ],
   "source": [
    "learning_curve(history)"
   ]
  },
  {
   "cell_type": "code",
   "execution_count": 57,
   "metadata": {
    "execution": {
     "iopub.execute_input": "2022-04-06T23:43:05.418426Z",
     "iopub.status.busy": "2022-04-06T23:43:05.417958Z",
     "iopub.status.idle": "2022-04-06T23:43:10.712992Z",
     "shell.execute_reply": "2022-04-06T23:43:10.712322Z",
     "shell.execute_reply.started": "2022-04-06T23:43:05.418388Z"
    },
    "executionInfo": {
     "elapsed": 10780,
     "status": "ok",
     "timestamp": 1647294050829,
     "user": {
      "displayName": "Adewole Akorede",
      "photoUrl": "https://lh3.googleusercontent.com/a-/AOh14Gg03grqCyFQgax4UoMPg_gPqiuE8Jeq4oiFSV2x=s64",
      "userId": "08678817209531841234"
     },
     "user_tz": -60
    },
    "id": "N-Fmjm_dyQE9",
    "outputId": "779eabc1-cea0-4440-896f-9df4243cf599"
   },
   "outputs": [
    {
     "name": "stdout",
     "output_type": "stream",
     "text": [
      "1563/1563 [==============================] - 4s 3ms/step - loss: 0.2052 - accuracy: 0.9196\n"
     ]
    },
    {
     "data": {
      "text/plain": [
       "(0.20520655810832977, 0.9195600152015686)"
      ]
     },
     "execution_count": 57,
     "metadata": {},
     "output_type": "execute_result"
    }
   ],
   "source": [
    "loss_2, acc_2 = model.evaluate(test, test_labels)\n",
    "loss_2, acc_2"
   ]
  },
  {
   "cell_type": "markdown",
   "metadata": {
    "id": "pbNZIklgyfMF"
   },
   "source": [
    "### Model 3 - LSTM"
   ]
  },
  {
   "cell_type": "code",
   "execution_count": 58,
   "metadata": {
    "execution": {
     "iopub.execute_input": "2022-04-06T23:43:10.715195Z",
     "iopub.status.busy": "2022-04-06T23:43:10.714880Z",
     "iopub.status.idle": "2022-04-06T23:43:10.949168Z",
     "shell.execute_reply": "2022-04-06T23:43:10.948457Z",
     "shell.execute_reply.started": "2022-04-06T23:43:10.715158Z"
    },
    "id": "kFXCC3PXyXFb"
   },
   "outputs": [],
   "source": [
    "model = models.Sequential(name='lstm_amazon')\n",
    "model.add(layers.Embedding(input_dim=num_words, output_dim=embedding_dim, input_length=maxlen))\n",
    "model.add(layers.LSTM(64, dropout=0.2, return_sequences=False))\n",
    "model.add(layers.Dense(1, activation='sigmoid'))"
   ]
  },
  {
   "cell_type": "code",
   "execution_count": 59,
   "metadata": {
    "execution": {
     "iopub.execute_input": "2022-04-06T23:43:10.950649Z",
     "iopub.status.busy": "2022-04-06T23:43:10.950398Z",
     "iopub.status.idle": "2022-04-06T23:43:10.958171Z",
     "shell.execute_reply": "2022-04-06T23:43:10.957493Z",
     "shell.execute_reply.started": "2022-04-06T23:43:10.950616Z"
    },
    "executionInfo": {
     "elapsed": 5,
     "status": "ok",
     "timestamp": 1647294072137,
     "user": {
      "displayName": "Adewole Akorede",
      "photoUrl": "https://lh3.googleusercontent.com/a-/AOh14Gg03grqCyFQgax4UoMPg_gPqiuE8Jeq4oiFSV2x=s64",
      "userId": "08678817209531841234"
     },
     "user_tz": -60
    },
    "id": "WcOkVdhzztnP",
    "outputId": "7751992f-7c5a-4fa6-f6c7-d95e6e716c11"
   },
   "outputs": [
    {
     "name": "stdout",
     "output_type": "stream",
     "text": [
      "Model: \"lstm_amazon\"\n",
      "_________________________________________________________________\n",
      "Layer (type)                 Output Shape              Param #   \n",
      "=================================================================\n",
      "embedding_2 (Embedding)      (None, 100, 100)          7000000   \n",
      "_________________________________________________________________\n",
      "lstm (LSTM)                  (None, 64)                42240     \n",
      "_________________________________________________________________\n",
      "dense_5 (Dense)              (None, 1)                 65        \n",
      "=================================================================\n",
      "Total params: 7,042,305\n",
      "Trainable params: 7,042,305\n",
      "Non-trainable params: 0\n",
      "_________________________________________________________________\n"
     ]
    }
   ],
   "source": [
    "model.summary()"
   ]
  },
  {
   "cell_type": "code",
   "execution_count": 60,
   "metadata": {
    "execution": {
     "iopub.execute_input": "2022-04-06T23:43:10.960007Z",
     "iopub.status.busy": "2022-04-06T23:43:10.959298Z",
     "iopub.status.idle": "2022-04-07T00:08:36.089329Z",
     "shell.execute_reply": "2022-04-07T00:08:36.088626Z",
     "shell.execute_reply.started": "2022-04-06T23:43:10.959968Z"
    },
    "executionInfo": {
     "elapsed": 2530020,
     "status": "ok",
     "timestamp": 1647296604422,
     "user": {
      "displayName": "Adewole Akorede",
      "photoUrl": "https://lh3.googleusercontent.com/a-/AOh14Gg03grqCyFQgax4UoMPg_gPqiuE8Jeq4oiFSV2x=s64",
      "userId": "08678817209531841234"
     },
     "user_tz": -60
    },
    "id": "81m2q2nwzwKN",
    "outputId": "b56ba382-5bf3-4106-8807-590a6d83fd7b"
   },
   "outputs": [
    {
     "name": "stdout",
     "output_type": "stream",
     "text": [
      "Epoch 1/20\n",
      "15000/15000 [==============================] - 138s 9ms/step - loss: 0.2285 - accuracy: 0.9083 - val_loss: 0.1833 - val_accuracy: 0.9281\n",
      "Epoch 2/20\n",
      "15000/15000 [==============================] - 126s 8ms/step - loss: 0.1563 - accuracy: 0.9406 - val_loss: 0.1766 - val_accuracy: 0.9321\n",
      "Epoch 3/20\n",
      "15000/15000 [==============================] - 126s 8ms/step - loss: 0.1195 - accuracy: 0.9562 - val_loss: 0.1944 - val_accuracy: 0.9292\n",
      "Epoch 4/20\n",
      "15000/15000 [==============================] - 125s 8ms/step - loss: 0.0921 - accuracy: 0.9672 - val_loss: 0.2097 - val_accuracy: 0.9264\n",
      "Epoch 5/20\n",
      "15000/15000 [==============================] - 127s 8ms/step - loss: 0.0715 - accuracy: 0.9754 - val_loss: 0.2459 - val_accuracy: 0.9242\n",
      "Epoch 6/20\n",
      "15000/15000 [==============================] - 126s 8ms/step - loss: 0.0573 - accuracy: 0.9806 - val_loss: 0.2812 - val_accuracy: 0.9193\n",
      "Epoch 7/20\n",
      "15000/15000 [==============================] - 126s 8ms/step - loss: 0.0469 - accuracy: 0.9842 - val_loss: 0.3029 - val_accuracy: 0.9194\n",
      "Epoch 8/20\n",
      "15000/15000 [==============================] - 126s 8ms/step - loss: 0.0390 - accuracy: 0.9868 - val_loss: 0.3125 - val_accuracy: 0.9181\n",
      "Epoch 9/20\n",
      "15000/15000 [==============================] - 126s 8ms/step - loss: 0.0339 - accuracy: 0.9887 - val_loss: 0.3430 - val_accuracy: 0.9171\n",
      "Epoch 10/20\n",
      "15000/15000 [==============================] - 127s 8ms/step - loss: 0.0294 - accuracy: 0.9900 - val_loss: 0.3698 - val_accuracy: 0.9122\n",
      "Epoch 11/20\n",
      "15000/15000 [==============================] - 126s 8ms/step - loss: 0.0260 - accuracy: 0.9911 - val_loss: 0.3814 - val_accuracy: 0.9137\n",
      "Epoch 12/20\n",
      "15000/15000 [==============================] - 126s 8ms/step - loss: 0.0236 - accuracy: 0.9920 - val_loss: 0.4124 - val_accuracy: 0.9155\n"
     ]
    }
   ],
   "source": [
    "model.compile(loss='binary_crossentropy', optimizer='adam', metrics=['accuracy'])\n",
    "callbacks = [keras.callbacks.EarlyStopping(patience=10, restore_best_weights=False), \n",
    "             keras.callbacks.ModelCheckpoint('lstm_amazon.h5', save_best_only=True)]\n",
    "\n",
    "history = model.fit(X_train, y_train, epochs=20, validation_data=(X_valid, y_valid), callbacks=callbacks)"
   ]
  },
  {
   "cell_type": "code",
   "execution_count": 61,
   "metadata": {
    "execution": {
     "iopub.execute_input": "2022-04-07T00:08:36.091080Z",
     "iopub.status.busy": "2022-04-07T00:08:36.090843Z",
     "iopub.status.idle": "2022-04-07T00:09:34.543081Z",
     "shell.execute_reply": "2022-04-07T00:09:34.542405Z",
     "shell.execute_reply.started": "2022-04-07T00:08:36.091047Z"
    },
    "executionInfo": {
     "elapsed": 730,
     "status": "ok",
     "timestamp": 1647296719377,
     "user": {
      "displayName": "Adewole Akorede",
      "photoUrl": "https://lh3.googleusercontent.com/a-/AOh14Gg03grqCyFQgax4UoMPg_gPqiuE8Jeq4oiFSV2x=s64",
      "userId": "08678817209531841234"
     },
     "user_tz": -60
    },
    "id": "nGMc4inB0nWw",
    "outputId": "8cb1ddee-496a-4342-aa5f-57b3848fa2a0"
   },
   "outputs": [
    {
     "data": {
      "image/png": "[encoded data removed]",
      "text/plain": [
       "<Figure size 432x288 with 1 Axes>"
      ]
     },
     "metadata": {
      "needs_background": "light"
     },
     "output_type": "display_data"
    },
    {
     "data": {
      "image/png": "[encoded data removed]",
      "text/plain": [
       "<Figure size 432x288 with 1 Axes>"
      ]
     },
     "metadata": {
      "needs_background": "light"
     },
     "output_type": "display_data"
    }
   ],
   "source": [
    "learning_curve(history)"
   ]
  },
  {
   "cell_type": "code",
   "execution_count": 62,
   "metadata": {
    "execution": {
     "iopub.execute_input": "2022-04-07T00:09:34.544415Z",
     "iopub.status.busy": "2022-04-07T00:09:34.544161Z",
     "iopub.status.idle": "2022-04-07T00:09:40.942294Z",
     "shell.execute_reply": "2022-04-07T00:09:40.941612Z",
     "shell.execute_reply.started": "2022-04-07T00:09:34.544380Z"
    },
    "executionInfo": {
     "elapsed": 21074,
     "status": "ok",
     "timestamp": 1647296743884,
     "user": {
      "displayName": "Adewole Akorede",
      "photoUrl": "https://lh3.googleusercontent.com/a-/AOh14Gg03grqCyFQgax4UoMPg_gPqiuE8Jeq4oiFSV2x=s64",
      "userId": "08678817209531841234"
     },
     "user_tz": -60
    },
    "id": "bW9E8kjetBHZ",
    "outputId": "09d7ec7c-3992-4339-d3bb-1ff46172879b"
   },
   "outputs": [
    {
     "name": "stdout",
     "output_type": "stream",
     "text": [
      "1563/1563 [==============================] - 6s 4ms/step - loss: 0.4213 - accuracy: 0.9132\n"
     ]
    },
    {
     "data": {
      "text/plain": [
       "(0.4212523102760315, 0.9131799936294556)"
      ]
     },
     "execution_count": 62,
     "metadata": {},
     "output_type": "execute_result"
    }
   ],
   "source": [
    "loss_3, acc_3 = model.evaluate(test, test_labels)\n",
    "loss_3, acc_3"
   ]
  },
  {
   "cell_type": "markdown",
   "metadata": {
    "id": "CTg8n6Vqv6ON"
   },
   "source": [
    "### Bidirectional LSTM"
   ]
  },
  {
   "cell_type": "code",
   "execution_count": 63,
   "metadata": {
    "execution": {
     "iopub.execute_input": "2022-04-07T00:14:36.098557Z",
     "iopub.status.busy": "2022-04-07T00:14:36.097884Z",
     "iopub.status.idle": "2022-04-07T00:14:36.655271Z",
     "shell.execute_reply": "2022-04-07T00:14:36.654438Z",
     "shell.execute_reply.started": "2022-04-07T00:14:36.098521Z"
    },
    "id": "I0TCRpnWvRV4"
   },
   "outputs": [],
   "source": [
    "model = models.Sequential(name='bidirectional_lstm')\n",
    "model.add(layers.Embedding(input_dim=num_words, output_dim=embedding_dim, input_length=maxlen))\n",
    "model.add(layers.Bidirectional(layers.LSTM(64, dropout=0.2, return_sequences=False)))\n",
    "model.add(layers.Dropout(0.4))\n",
    "model.add(layers.Dense(64, activation='relu'))\n",
    "model.add(layers.Dense(1, activation='sigmoid'))"
   ]
  },
  {
   "cell_type": "code",
   "execution_count": 64,
   "metadata": {
    "execution": {
     "iopub.execute_input": "2022-04-07T00:14:38.474289Z",
     "iopub.status.busy": "2022-04-07T00:14:38.473746Z",
     "iopub.status.idle": "2022-04-07T00:14:38.483136Z",
     "shell.execute_reply": "2022-04-07T00:14:38.482158Z",
     "shell.execute_reply.started": "2022-04-07T00:14:38.474253Z"
    },
    "executionInfo": {
     "elapsed": 10,
     "status": "ok",
     "timestamp": 1647250267028,
     "user": {
      "displayName": "Adewole Akorede",
      "photoUrl": "https://lh3.googleusercontent.com/a-/AOh14GjYRLe4kkvsDBySSepcV1JB0322CPixVq3C5kP_oa0=s64",
      "userId": "16474677199734761810"
     },
     "user_tz": -60
    },
    "id": "L3XeKkuKw-Mc",
    "outputId": "d7a3c7c0-ce63-4339-baaf-317e429ffac9"
   },
   "outputs": [
    {
     "name": "stdout",
     "output_type": "stream",
     "text": [
      "Model: \"bidirectional_lstm\"\n",
      "_________________________________________________________________\n",
      "Layer (type)                 Output Shape              Param #   \n",
      "=================================================================\n",
      "embedding_3 (Embedding)      (None, 100, 100)          7000000   \n",
      "_________________________________________________________________\n",
      "bidirectional (Bidirectional (None, 128)               84480     \n",
      "_________________________________________________________________\n",
      "dropout_4 (Dropout)          (None, 128)               0         \n",
      "_________________________________________________________________\n",
      "dense_6 (Dense)              (None, 64)                8256      \n",
      "_________________________________________________________________\n",
      "dense_7 (Dense)              (None, 1)                 65        \n",
      "=================================================================\n",
      "Total params: 7,092,801\n",
      "Trainable params: 7,092,801\n",
      "Non-trainable params: 0\n",
      "_________________________________________________________________\n"
     ]
    }
   ],
   "source": [
    "model.summary()"
   ]
  },
  {
   "cell_type": "code",
   "execution_count": 65,
   "metadata": {
    "execution": {
     "iopub.execute_input": "2022-04-07T00:14:42.754456Z",
     "iopub.status.busy": "2022-04-07T00:14:42.753918Z",
     "iopub.status.idle": "2022-04-07T00:53:42.412607Z",
     "shell.execute_reply": "2022-04-07T00:53:42.411830Z",
     "shell.execute_reply.started": "2022-04-07T00:14:42.754418Z"
    },
    "id": "gz0aWm0GxFYE",
    "outputId": "df102a4f-36d7-4d19-82d0-2ba6616b6006"
   },
   "outputs": [
    {
     "name": "stdout",
     "output_type": "stream",
     "text": [
      "Epoch 1/20\n",
      "15000/15000 [==============================] - 198s 13ms/step - loss: 0.2314 - accuracy: 0.9078 - val_loss: 0.1879 - val_accuracy: 0.9260\n",
      "Epoch 2/20\n",
      "15000/15000 [==============================] - 195s 13ms/step - loss: 0.1594 - accuracy: 0.9406 - val_loss: 0.1788 - val_accuracy: 0.9306\n",
      "Epoch 3/20\n",
      "15000/15000 [==============================] - 195s 13ms/step - loss: 0.1229 - accuracy: 0.9559 - val_loss: 0.1865 - val_accuracy: 0.9307\n",
      "Epoch 4/20\n",
      "15000/15000 [==============================] - 195s 13ms/step - loss: 0.0937 - accuracy: 0.9674 - val_loss: 0.2105 - val_accuracy: 0.9262\n",
      "Epoch 5/20\n",
      "15000/15000 [==============================] - 195s 13ms/step - loss: 0.0711 - accuracy: 0.9755 - val_loss: 0.2393 - val_accuracy: 0.9238\n",
      "Epoch 6/20\n",
      "15000/15000 [==============================] - 195s 13ms/step - loss: 0.0567 - accuracy: 0.9809 - val_loss: 0.2804 - val_accuracy: 0.9209\n",
      "Epoch 7/20\n",
      "15000/15000 [==============================] - 195s 13ms/step - loss: 0.0460 - accuracy: 0.9845 - val_loss: 0.3234 - val_accuracy: 0.9170\n",
      "Epoch 8/20\n",
      "15000/15000 [==============================] - 194s 13ms/step - loss: 0.0395 - accuracy: 0.9866 - val_loss: 0.3139 - val_accuracy: 0.9148\n",
      "Epoch 9/20\n",
      "15000/15000 [==============================] - 195s 13ms/step - loss: 0.0342 - accuracy: 0.9885 - val_loss: 0.3353 - val_accuracy: 0.9168\n",
      "Epoch 10/20\n",
      "15000/15000 [==============================] - 192s 13ms/step - loss: 0.0270 - accuracy: 0.9907 - val_loss: 0.3789 - val_accuracy: 0.9151\n",
      "Epoch 12/20\n",
      "15000/15000 [==============================] - 193s 13ms/step - loss: 0.0245 - accuracy: 0.9915 - val_loss: 0.4147 - val_accuracy: 0.9127\n"
     ]
    }
   ],
   "source": [
    "model.compile(loss='binary_crossentropy', optimizer='adam', metrics=['accuracy'])\n",
    "callbacks = [keras.callbacks.EarlyStopping(patience=10, restore_best_weights=False), \n",
    "             keras.callbacks.ModelCheckpoint('bilstm_amazon.h5', save_best_only=True)]\n",
    "\n",
    "history = model.fit(X_train, y_train, epochs=20, validation_data=(X_valid, y_valid), callbacks=callbacks)"
   ]
  },
  {
   "cell_type": "code",
   "execution_count": 66,
   "metadata": {
    "execution": {
     "iopub.execute_input": "2022-04-07T00:53:42.415126Z",
     "iopub.status.busy": "2022-04-07T00:53:42.414874Z",
     "iopub.status.idle": "2022-04-07T00:54:08.146424Z",
     "shell.execute_reply": "2022-04-07T00:54:08.145633Z",
     "shell.execute_reply.started": "2022-04-07T00:53:42.415092Z"
    },
    "id": "WwEOjwSIxNN1"
   },
   "outputs": [
    {
     "data": {
      "image/png": "[encoded data removed]",
      "text/plain": [
       "<Figure size 432x288 with 1 Axes>"
      ]
     },
     "metadata": {
      "needs_background": "light"
     },
     "output_type": "display_data"
    },
    {
     "data": {
      "image/png": "[encoded data removed]",
      "text/plain": [
       "<Figure size 432x288 with 1 Axes>"
      ]
     },
     "metadata": {
      "needs_background": "light"
     },
     "output_type": "display_data"
    }
   ],
   "source": [
    "learning_curve(history)"
   ]
  },
  {
   "cell_type": "code",
   "execution_count": 67,
   "metadata": {
    "execution": {
     "iopub.execute_input": "2022-04-07T00:56:40.483663Z",
     "iopub.status.busy": "2022-04-07T00:56:40.483405Z",
     "iopub.status.idle": "2022-04-07T00:56:50.004156Z",
     "shell.execute_reply": "2022-04-07T00:56:50.003459Z",
     "shell.execute_reply.started": "2022-04-07T00:56:40.483635Z"
    },
    "id": "6z8xQAO7FWRw"
   },
   "outputs": [
    {
     "name": "stdout",
     "output_type": "stream",
     "text": [
      "1563/1563 [==============================] - 9s 6ms/step - loss: 0.4269 - accuracy: 0.9111\n"
     ]
    },
    {
     "data": {
      "text/plain": [
       "(0.426885187625885, 0.9111400246620178)"
      ]
     },
     "execution_count": 67,
     "metadata": {},
     "output_type": "execute_result"
    }
   ],
   "source": [
    "loss_4, acc_4 = model.evaluate(test, test_labels)\n",
    "loss_4, acc_4"
   ]
  },
  {
   "cell_type": "markdown",
   "metadata": {
    "id": "eujvFfP4lNEd"
   },
   "source": [
    "## Using Pretrained glove Embeddings"
   ]
  },
  {
   "cell_type": "code",
   "execution_count": 68,
   "metadata": {
    "execution": {
     "iopub.execute_input": "2022-04-07T00:57:06.133550Z",
     "iopub.status.busy": "2022-04-07T00:57:06.133297Z",
     "iopub.status.idle": "2022-04-07T00:57:06.343341Z",
     "shell.execute_reply": "2022-04-07T00:57:06.342651Z",
     "shell.execute_reply.started": "2022-04-07T00:57:06.133522Z"
    },
    "id": "slsiVoRKlaok"
   },
   "outputs": [],
   "source": [
    "model = models.Sequential(name='pretrained_embeddings')\n",
    "model.add(layers.Embedding(input_dim=num_words, output_dim=embedding_dim, input_length=maxlen))\n",
    "model.add(layers.LSTM(64, dropout=0.2, return_sequences=False))\n",
    "model.add(layers.Dense(1, activation='sigmoid'))"
   ]
  },
  {
   "cell_type": "code",
   "execution_count": 69,
   "metadata": {
    "execution": {
     "iopub.execute_input": "2022-04-07T00:57:07.373405Z",
     "iopub.status.busy": "2022-04-07T00:57:07.372627Z",
     "iopub.status.idle": "2022-04-07T00:57:07.381659Z",
     "shell.execute_reply": "2022-04-07T00:57:07.380755Z",
     "shell.execute_reply.started": "2022-04-07T00:57:07.373359Z"
    },
    "executionInfo": {
     "elapsed": 500,
     "status": "ok",
     "timestamp": 1647297843641,
     "user": {
      "displayName": "Adewole Akorede",
      "photoUrl": "https://lh3.googleusercontent.com/a-/AOh14Gg03grqCyFQgax4UoMPg_gPqiuE8Jeq4oiFSV2x=s64",
      "userId": "08678817209531841234"
     },
     "user_tz": -60
    },
    "id": "cEXfOf0Nmg9Z",
    "outputId": "4a011ab5-0d9c-41f9-c990-cd1c1918b06e"
   },
   "outputs": [
    {
     "name": "stdout",
     "output_type": "stream",
     "text": [
      "Model: \"pretrained_embeddings\"\n",
      "_________________________________________________________________\n",
      "Layer (type)                 Output Shape              Param #   \n",
      "=================================================================\n",
      "embedding_4 (Embedding)      (None, 100, 100)          7000000   \n",
      "_________________________________________________________________\n",
      "lstm_2 (LSTM)                (None, 64)                42240     \n",
      "_________________________________________________________________\n",
      "dense_8 (Dense)              (None, 1)                 65        \n",
      "=================================================================\n",
      "Total params: 7,042,305\n",
      "Trainable params: 7,042,305\n",
      "Non-trainable params: 0\n",
      "_________________________________________________________________\n"
     ]
    }
   ],
   "source": [
    "model.summary()"
   ]
  },
  {
   "cell_type": "code",
   "execution_count": 70,
   "metadata": {
    "execution": {
     "iopub.execute_input": "2022-04-07T00:57:15.454308Z",
     "iopub.status.busy": "2022-04-07T00:57:15.454048Z",
     "iopub.status.idle": "2022-04-07T00:57:27.577576Z",
     "shell.execute_reply": "2022-04-07T00:57:27.576838Z",
     "shell.execute_reply.started": "2022-04-07T00:57:15.454279Z"
    },
    "executionInfo": {
     "elapsed": 11778,
     "status": "ok",
     "timestamp": 1647298271645,
     "user": {
      "displayName": "Adewole Akorede",
      "photoUrl": "https://lh3.googleusercontent.com/a-/AOh14Gg03grqCyFQgax4UoMPg_gPqiuE8Jeq4oiFSV2x=s64",
      "userId": "08678817209531841234"
     },
     "user_tz": -60
    },
    "id": "c3BXrrkQmks4",
    "outputId": "3483621c-11f8-4e28-c7a1-905214dfb9d5"
   },
   "outputs": [
    {
     "name": "stdout",
     "output_type": "stream",
     "text": [
      "There are 400000 words found\n"
     ]
    }
   ],
   "source": [
    "# we need to use the glove embeddings to set the weights of the Embedding layer\n",
    "\n",
    "embedding_path = '../input/glove6b100dtxt/glove.6B.100d.txt'\n",
    "\n",
    "# create a dictionary to store the index\n",
    "embedding_index = {}\n",
    "f = open(embedding_path)\n",
    "\n",
    "for line in f:\n",
    "    values = line.split()\n",
    "    word = values[0]\n",
    "    coefs = np.array(values[1:], dtype='float32')\n",
    "    embedding_index[word] = coefs\n",
    "\n",
    "f.close()\n",
    "print(f'There are {len(embedding_index)} words found')"
   ]
  },
  {
   "cell_type": "code",
   "execution_count": 71,
   "metadata": {
    "execution": {
     "iopub.execute_input": "2022-04-07T00:57:27.580772Z",
     "iopub.status.busy": "2022-04-07T00:57:27.580565Z",
     "iopub.status.idle": "2022-04-07T00:57:27.877072Z",
     "shell.execute_reply": "2022-04-07T00:57:27.876295Z",
     "shell.execute_reply.started": "2022-04-07T00:57:27.580747Z"
    },
    "id": "McEyPzV5oKiY"
   },
   "outputs": [],
   "source": [
    "# initialize an zero matrix of shape (num_words, embedding_dim)\n",
    "\n",
    "embedding_matrix = np.zeros((num_words, embedding_dim))\n",
    "\n",
    "for word, index in word_index.items():\n",
    "    if index < num_words:\n",
    "        embedding_vector = embedding_index.get(word)\n",
    "        if embedding_vector is not None:\n",
    "            embedding_matrix[index] = embedding_vector # maps each index in our word_index to its glove embeddings"
   ]
  },
  {
   "cell_type": "code",
   "execution_count": 72,
   "metadata": {
    "execution": {
     "iopub.execute_input": "2022-04-07T00:57:27.878756Z",
     "iopub.status.busy": "2022-04-07T00:57:27.878491Z",
     "iopub.status.idle": "2022-04-07T00:57:27.884259Z",
     "shell.execute_reply": "2022-04-07T00:57:27.883457Z",
     "shell.execute_reply.started": "2022-04-07T00:57:27.878721Z"
    }
   },
   "outputs": [
    {
     "data": {
      "text/plain": [
       "(100,)"
      ]
     },
     "execution_count": 72,
     "metadata": {},
     "output_type": "execute_result"
    }
   ],
   "source": [
    "embedding_matrix[0].shape"
   ]
  },
  {
   "cell_type": "code",
   "execution_count": 73,
   "metadata": {
    "execution": {
     "iopub.execute_input": "2022-04-07T00:57:27.887100Z",
     "iopub.status.busy": "2022-04-07T00:57:27.886554Z",
     "iopub.status.idle": "2022-04-07T00:57:27.912470Z",
     "shell.execute_reply": "2022-04-07T00:57:27.911823Z",
     "shell.execute_reply.started": "2022-04-07T00:57:27.887058Z"
    },
    "id": "ePPvflCBpx3F"
   },
   "outputs": [],
   "source": [
    "model.layers[0].set_weights([embedding_matrix])\n",
    "model.layers[0].trainable = False"
   ]
  },
  {
   "cell_type": "code",
   "execution_count": 74,
   "metadata": {
    "execution": {
     "iopub.execute_input": "2022-04-07T00:57:27.913673Z",
     "iopub.status.busy": "2022-04-07T00:57:27.913426Z",
     "iopub.status.idle": "2022-04-07T01:46:51.097345Z",
     "shell.execute_reply": "2022-04-07T01:46:51.096445Z",
     "shell.execute_reply.started": "2022-04-07T00:57:27.913641Z"
    },
    "executionInfo": {
     "elapsed": 4640367,
     "status": "error",
     "timestamp": 1647303485076,
     "user": {
      "displayName": "Adewole Akorede",
      "photoUrl": "https://lh3.googleusercontent.com/a-/AOh14Gg03grqCyFQgax4UoMPg_gPqiuE8Jeq4oiFSV2x=s64",
      "userId": "08678817209531841234"
     },
     "user_tz": -60
    },
    "id": "QvWBDa85p2Y8",
    "outputId": "d713b4ba-b102-4fa3-8874-43a86005fffd"
   },
   "outputs": [
    {
     "name": "stdout",
     "output_type": "stream",
     "text": [
      "Epoch 1/30\n",
      "15000/15000 [==============================] - 96s 6ms/step - loss: 0.3153 - accuracy: 0.8624 - val_loss: 0.2469 - val_accuracy: 0.8984\n",
      "Epoch 2/30\n",
      "15000/15000 [==============================] - 96s 6ms/step - loss: 0.2446 - accuracy: 0.8986 - val_loss: 0.2152 - val_accuracy: 0.9126\n",
      "Epoch 3/30\n",
      "15000/15000 [==============================] - 95s 6ms/step - loss: 0.2258 - accuracy: 0.9080 - val_loss: 0.2064 - val_accuracy: 0.9165\n",
      "Epoch 4/30\n",
      "15000/15000 [==============================] - 96s 6ms/step - loss: 0.2158 - accuracy: 0.9128 - val_loss: 0.2000 - val_accuracy: 0.9193\n",
      "Epoch 5/30\n",
      "15000/15000 [==============================] - 96s 6ms/step - loss: 0.2105 - accuracy: 0.9152 - val_loss: 0.1970 - val_accuracy: 0.9214\n",
      "Epoch 6/30\n",
      "15000/15000 [==============================] - 96s 6ms/step - loss: 0.2055 - accuracy: 0.9173 - val_loss: 0.2023 - val_accuracy: 0.9195\n",
      "Epoch 7/30\n",
      "15000/15000 [==============================] - 96s 6ms/step - loss: 0.2020 - accuracy: 0.9190 - val_loss: 0.1921 - val_accuracy: 0.9241\n",
      "Epoch 8/30\n",
      "15000/15000 [==============================] - 97s 6ms/step - loss: 0.1990 - accuracy: 0.9203 - val_loss: 0.1911 - val_accuracy: 0.9247\n",
      "Epoch 9/30\n",
      "15000/15000 [==============================] - 97s 6ms/step - loss: 0.1972 - accuracy: 0.9212 - val_loss: 0.1908 - val_accuracy: 0.9255\n",
      "Epoch 10/30\n",
      "15000/15000 [==============================] - 97s 6ms/step - loss: 0.1950 - accuracy: 0.9221 - val_loss: 0.1969 - val_accuracy: 0.9222\n",
      "Epoch 11/30\n",
      "15000/15000 [==============================] - 96s 6ms/step - loss: 0.1934 - accuracy: 0.9227 - val_loss: 0.1885 - val_accuracy: 0.9261\n",
      "Epoch 12/30\n",
      "15000/15000 [==============================] - 97s 6ms/step - loss: 0.1919 - accuracy: 0.9237 - val_loss: 0.1897 - val_accuracy: 0.9249\n",
      "Epoch 13/30\n",
      "15000/15000 [==============================] - 106s 7ms/step - loss: 0.1911 - accuracy: 0.9241 - val_loss: 0.1895 - val_accuracy: 0.9254\n",
      "Epoch 14/30\n",
      "15000/15000 [==============================] - 96s 6ms/step - loss: 0.1898 - accuracy: 0.9245 - val_loss: 0.1919 - val_accuracy: 0.9255\n",
      "Epoch 15/30\n",
      "15000/15000 [==============================] - 96s 6ms/step - loss: 0.1887 - accuracy: 0.9252 - val_loss: 0.1951 - val_accuracy: 0.9228\n",
      "Epoch 16/30\n",
      "15000/15000 [==============================] - 96s 6ms/step - loss: 0.1878 - accuracy: 0.9255 - val_loss: 0.1874 - val_accuracy: 0.9268\n",
      "Epoch 17/30\n",
      "15000/15000 [==============================] - 96s 6ms/step - loss: 0.1875 - accuracy: 0.9252 - val_loss: 0.1832 - val_accuracy: 0.9284\n",
      "Epoch 18/30\n",
      "15000/15000 [==============================] - 97s 6ms/step - loss: 0.1864 - accuracy: 0.9257 - val_loss: 0.1871 - val_accuracy: 0.9283\n",
      "Epoch 19/30\n",
      "15000/15000 [==============================] - 96s 6ms/step - loss: 0.1859 - accuracy: 0.9262 - val_loss: 0.1842 - val_accuracy: 0.9278\n",
      "Epoch 20/30\n",
      "15000/15000 [==============================] - 97s 6ms/step - loss: 0.1852 - accuracy: 0.9264 - val_loss: 0.1826 - val_accuracy: 0.9288\n",
      "Epoch 21/30\n",
      "15000/15000 [==============================] - 97s 6ms/step - loss: 0.1850 - accuracy: 0.9264 - val_loss: 0.1837 - val_accuracy: 0.9287\n",
      "Epoch 22/30\n",
      "15000/15000 [==============================] - 97s 6ms/step - loss: 0.1843 - accuracy: 0.9272 - val_loss: 0.1834 - val_accuracy: 0.9284\n",
      "Epoch 23/30\n",
      "15000/15000 [==============================] - 97s 6ms/step - loss: 0.1837 - accuracy: 0.9273 - val_loss: 0.1827 - val_accuracy: 0.9292\n",
      "Epoch 24/30\n",
      "15000/15000 [==============================] - 97s 6ms/step - loss: 0.1832 - accuracy: 0.9278 - val_loss: 0.1840 - val_accuracy: 0.9290\n",
      "Epoch 25/30\n",
      "15000/15000 [==============================] - 97s 6ms/step - loss: 0.1829 - accuracy: 0.9277 - val_loss: 0.1844 - val_accuracy: 0.9277\n",
      "Epoch 26/30\n",
      "15000/15000 [==============================] - 97s 6ms/step - loss: 0.1823 - accuracy: 0.9279 - val_loss: 0.1813 - val_accuracy: 0.9287\n",
      "Epoch 27/30\n",
      "15000/15000 [==============================] - 97s 6ms/step - loss: 0.1823 - accuracy: 0.9280 - val_loss: 0.1824 - val_accuracy: 0.9289\n",
      "Epoch 28/30\n",
      "15000/15000 [==============================] - 97s 6ms/step - loss: 0.1814 - accuracy: 0.9286 - val_loss: 0.1825 - val_accuracy: 0.9290\n",
      "Epoch 29/30\n",
      "15000/15000 [==============================] - 97s 6ms/step - loss: 0.1813 - accuracy: 0.9281 - val_loss: 0.1811 - val_accuracy: 0.9291\n",
      "Epoch 30/30\n",
      "15000/15000 [==============================] - 97s 6ms/step - loss: 0.1813 - accuracy: 0.9281 - val_loss: 0.1799 - val_accuracy: 0.9298\n"
     ]
    }
   ],
   "source": [
    "model.compile(loss='binary_crossentropy', optimizer='adam', metrics=['accuracy'])\n",
    "callbacks = [keras.callbacks.EarlyStopping(patience=15, restore_best_weights=False), \n",
    "             keras.callbacks.ModelCheckpoint('glove_amazon.h5', save_best_only=True)]\n",
    "\n",
    "history = model.fit(X_train, y_train, epochs=30, validation_data=(X_valid, y_valid), callbacks=callbacks)"
   ]
  },
  {
   "cell_type": "code",
   "execution_count": 75,
   "metadata": {
    "execution": {
     "iopub.execute_input": "2022-04-07T01:47:15.261745Z",
     "iopub.status.busy": "2022-04-07T01:47:15.261476Z",
     "iopub.status.idle": "2022-04-07T01:47:15.668320Z",
     "shell.execute_reply": "2022-04-07T01:47:15.667620Z",
     "shell.execute_reply.started": "2022-04-07T01:47:15.261715Z"
    }
   },
   "outputs": [
    {
     "data": {
      "image/png": "[encoded data removed]",
      "text/plain": [
       "<Figure size 432x288 with 1 Axes>"
      ]
     },
     "metadata": {
      "needs_background": "light"
     },
     "output_type": "display_data"
    },
    {
     "data": {
      "image/png": "[encoded data removed]",
      "text/plain": [
       "<Figure size 432x288 with 1 Axes>"
      ]
     },
     "metadata": {
      "needs_background": "light"
     },
     "output_type": "display_data"
    }
   ],
   "source": [
    "learning_curve(history)"
   ]
  },
  {
   "cell_type": "code",
   "execution_count": 76,
   "metadata": {
    "execution": {
     "iopub.execute_input": "2022-04-07T01:47:25.991156Z",
     "iopub.status.busy": "2022-04-07T01:47:25.990685Z",
     "iopub.status.idle": "2022-04-07T01:47:32.294274Z",
     "shell.execute_reply": "2022-04-07T01:47:32.293547Z",
     "shell.execute_reply.started": "2022-04-07T01:47:25.991119Z"
    },
    "executionInfo": {
     "elapsed": 12491,
     "status": "ok",
     "timestamp": 1647303670962,
     "user": {
      "displayName": "Adewole Akorede",
      "photoUrl": "https://lh3.googleusercontent.com/a-/AOh14Gg03grqCyFQgax4UoMPg_gPqiuE8Jeq4oiFSV2x=s64",
      "userId": "08678817209531841234"
     },
     "user_tz": -60
    },
    "id": "5l2kYdQg8SPn",
    "outputId": "ddd81fef-1644-4dc9-a3b3-f4feefb52490"
   },
   "outputs": [
    {
     "name": "stdout",
     "output_type": "stream",
     "text": [
      "1563/1563 [==============================] - 6s 4ms/step - loss: 0.1860 - accuracy: 0.9285\n"
     ]
    },
    {
     "data": {
      "text/plain": [
       "(0.18602396547794342, 0.9284600019454956)"
      ]
     },
     "execution_count": 76,
     "metadata": {},
     "output_type": "execute_result"
    }
   ],
   "source": [
    "loss_5, acc_5 = model.evaluate(test, test_labels)\n",
    "loss_5, acc_5"
   ]
  },
  {
   "cell_type": "markdown",
   "metadata": {},
   "source": [
    "## Using Transformer Architecture From Scratch"
   ]
  },
  {
   "cell_type": "code",
   "execution_count": 77,
   "metadata": {
    "execution": {
     "iopub.execute_input": "2022-04-07T01:47:47.921502Z",
     "iopub.status.busy": "2022-04-07T01:47:47.921203Z",
     "iopub.status.idle": "2022-04-07T01:47:47.935471Z",
     "shell.execute_reply": "2022-04-07T01:47:47.934583Z",
     "shell.execute_reply.started": "2022-04-07T01:47:47.921470Z"
    }
   },
   "outputs": [],
   "source": [
    "# create the transformer block\n",
    "\n",
    "class TransformerBlock(layers.Layer):\n",
    "    def __init__(self, embed_dim, num_heads, ff_dim, rate=0.1):\n",
    "        super(TransformerBlock, self).__init__()\n",
    "        self.att = layers.MultiHeadAttention(num_heads = num_heads, key_dim=embed_dim)\n",
    "        self.ffn = keras.Sequential([layers.Dense(ff_dim, activation='relu'), layers.Dense(embed_dim),])\n",
    "        self.layernorm1 = layers.LayerNormalization(epsilon=1e-6)\n",
    "        self.layernorm2 = layers.LayerNormalization(epsilon=1e-6)\n",
    "        self.dropout1 = layers.Dropout(rate)\n",
    "        self.dropout2 = layers.Dropout(rate)\n",
    "\n",
    "    def call(self, inputs, training):\n",
    "        attn_output = self.att(inputs, inputs)\n",
    "        attn_output = self.dropout1(attn_output, training=training)\n",
    "        out1 = self.layernorm1(inputs + attn_output)\n",
    "        ffn_output = self.ffn(out1)\n",
    "        ffn_output = self.dropout2(ffn_output, training=training)\n",
    "        return self.layernorm2(out1 + ffn_output)\n",
    "\n",
    "# implement the embedding layer\n",
    "\n",
    "class TokenAndPositionEmbedding(layers.Layer):\n",
    "    def __init__(self, maxlen, vocab_size, embed_dim):\n",
    "        super(TokenAndPositionEmbedding, self).__init__()\n",
    "        self.token_emb = layers.Embedding(input_dim=vocab_size, output_dim = embed_dim)\n",
    "        self.pos_emb = layers.Embedding(input_dim=maxlen, output_dim=embed_dim)\n",
    "\n",
    "    def call(self, x):\n",
    "        maxlen = tf.shape(x)[-1]\n",
    "        positions = tf.range(start=0, limit=maxlen, delta=1)\n",
    "        positions = self.pos_emb(positions)\n",
    "        x = self.token_emb(x)\n",
    "        return x + positions"
   ]
  },
  {
   "cell_type": "code",
   "execution_count": 78,
   "metadata": {
    "execution": {
     "iopub.execute_input": "2022-04-07T01:47:50.123995Z",
     "iopub.status.busy": "2022-04-07T01:47:50.123647Z",
     "iopub.status.idle": "2022-04-07T01:47:50.551396Z",
     "shell.execute_reply": "2022-04-07T01:47:50.550703Z",
     "shell.execute_reply.started": "2022-04-07T01:47:50.123954Z"
    }
   },
   "outputs": [],
   "source": [
    "# parameters for training\n",
    "embed_dim = 100\n",
    "num_heads = 2\n",
    "ff_dim = 32\n",
    "vocab_size = 70000\n",
    "\n",
    "# create the model\n",
    "inputs = layers.Input(shape=(maxlen,))\n",
    "embedding_layer = TokenAndPositionEmbedding(maxlen, vocab_size, embed_dim)\n",
    "x = embedding_layer(inputs)\n",
    "transformer_block = TransformerBlock(embed_dim, num_heads, ff_dim)\n",
    "x = transformer_block(x)\n",
    "x = layers.GlobalAveragePooling1D()(x)\n",
    "x = layers.Dropout(0.1)(x)\n",
    "x = layers.Dense(20, activation='relu')(x)\n",
    "x = layers.Dropout(0.1)(x)\n",
    "outputs = layers.Dense(1, activation='sigmoid')(x)\n",
    "\n",
    "model = keras.Model(inputs=inputs, outputs = outputs)"
   ]
  },
  {
   "cell_type": "code",
   "execution_count": 81,
   "metadata": {
    "execution": {
     "iopub.execute_input": "2022-04-07T02:00:52.641203Z",
     "iopub.status.busy": "2022-04-07T02:00:52.640647Z",
     "iopub.status.idle": "2022-04-07T02:19:23.462114Z",
     "shell.execute_reply": "2022-04-07T02:19:23.461368Z",
     "shell.execute_reply.started": "2022-04-07T02:00:52.641155Z"
    }
   },
   "outputs": [
    {
     "name": "stdout",
     "output_type": "stream",
     "text": [
      "Epoch 1/10\n",
      "15000/15000 [==============================] - 107s 7ms/step - loss: 0.1211 - accuracy: 0.9545 - val_loss: 0.3088 - val_accuracy: 0.8931\n",
      "Epoch 2/10\n",
      "15000/15000 [==============================] - 110s 7ms/step - loss: 0.1044 - accuracy: 0.9614 - val_loss: 0.3642 - val_accuracy: 0.8862\n",
      "Epoch 3/10\n",
      "15000/15000 [==============================] - 110s 7ms/step - loss: 0.0901 - accuracy: 0.9672 - val_loss: 0.4202 - val_accuracy: 0.8836\n",
      "Epoch 4/10\n",
      "15000/15000 [==============================] - 107s 7ms/step - loss: 0.0772 - accuracy: 0.9721 - val_loss: 0.4601 - val_accuracy: 0.8835\n",
      "Epoch 5/10\n",
      "15000/15000 [==============================] - 106s 7ms/step - loss: 0.0670 - accuracy: 0.9760 - val_loss: 0.4896 - val_accuracy: 0.8868\n",
      "Epoch 6/10\n",
      "15000/15000 [==============================] - 111s 7ms/step - loss: 0.0589 - accuracy: 0.9792 - val_loss: 0.5226 - val_accuracy: 0.8845\n",
      "Epoch 7/10\n",
      "15000/15000 [==============================] - 110s 7ms/step - loss: 0.0524 - accuracy: 0.9815 - val_loss: 0.5844 - val_accuracy: 0.8811\n",
      "Epoch 8/10\n",
      "15000/15000 [==============================] - 110s 7ms/step - loss: 0.0464 - accuracy: 0.9836 - val_loss: 0.5811 - val_accuracy: 0.8750\n",
      "Epoch 9/10\n",
      "15000/15000 [==============================] - 110s 7ms/step - loss: 0.0415 - accuracy: 0.9853 - val_loss: 0.6832 - val_accuracy: 0.8809\n",
      "Epoch 10/10\n",
      "15000/15000 [==============================] - 105s 7ms/step - loss: 0.0367 - accuracy: 0.9871 - val_loss: 0.6732 - val_accuracy: 0.8801\n"
     ]
    }
   ],
   "source": [
    "model.compile(loss='binary_crossentropy', optimizer='adam', metrics=['accuracy'])\n",
    "\n",
    "history = model.fit(X_train, y_train, epochs=10, validation_data=(X_valid, y_valid))"
   ]
  },
  {
   "cell_type": "code",
   "execution_count": 82,
   "metadata": {
    "execution": {
     "iopub.execute_input": "2022-04-07T02:19:41.420699Z",
     "iopub.status.busy": "2022-04-07T02:19:41.419968Z",
     "iopub.status.idle": "2022-04-07T02:19:41.774584Z",
     "shell.execute_reply": "2022-04-07T02:19:41.773925Z",
     "shell.execute_reply.started": "2022-04-07T02:19:41.420642Z"
    }
   },
   "outputs": [
    {
     "data": {
      "image/png": "[encoded data removed]",
      "text/plain": [
       "<Figure size 432x288 with 1 Axes>"
      ]
     },
     "metadata": {
      "needs_background": "light"
     },
     "output_type": "display_data"
    },
    {
     "data": {
      "image/png": "[encoded data removed]",
      "text/plain": [
       "<Figure size 432x288 with 1 Axes>"
      ]
     },
     "metadata": {
      "needs_background": "light"
     },
     "output_type": "display_data"
    }
   ],
   "source": [
    "learning_curve(history)"
   ]
  },
  {
   "cell_type": "code",
   "execution_count": 83,
   "metadata": {
    "execution": {
     "iopub.execute_input": "2022-04-07T02:19:50.286645Z",
     "iopub.status.busy": "2022-04-07T02:19:50.286389Z",
     "iopub.status.idle": "2022-04-07T02:20:00.744555Z",
     "shell.execute_reply": "2022-04-07T02:20:00.743898Z",
     "shell.execute_reply.started": "2022-04-07T02:19:50.286615Z"
    }
   },
   "outputs": [
    {
     "name": "stdout",
     "output_type": "stream",
     "text": [
      "1563/1563 [==============================] - 6s 4ms/step - loss: 0.6973 - accuracy: 0.8781\n"
     ]
    },
    {
     "data": {
      "text/plain": [
       "(0.6972763538360596, 0.878059983253479)"
      ]
     },
     "execution_count": 83,
     "metadata": {},
     "output_type": "execute_result"
    }
   ],
   "source": [
    "loss_6, acc_6 = model.evaluate(test, test_labels)\n",
    "loss_6, acc_6"
   ]
  },
  {
   "cell_type": "code",
   "execution_count": 84,
   "metadata": {
    "execution": {
     "iopub.execute_input": "2022-04-07T02:20:05.729357Z",
     "iopub.status.busy": "2022-04-07T02:20:05.728727Z",
     "iopub.status.idle": "2022-04-07T02:20:05.740242Z",
     "shell.execute_reply": "2022-04-07T02:20:05.739375Z",
     "shell.execute_reply.started": "2022-04-07T02:20:05.729321Z"
    }
   },
   "outputs": [
    {
     "data": {
      "text/html": [
       "<div>\n",
       "<style scoped>\n",
       "    .dataframe tbody tr th:only-of-type {\n",
       "        vertical-align: middle;\n",
       "    }\n",
       "\n",
       "    .dataframe tbody tr th {\n",
       "        vertical-align: top;\n",
       "    }\n",
       "\n",
       "    .dataframe thead th {\n",
       "        text-align: right;\n",
       "    }\n",
       "</style>\n",
       "<table border=\"1\" class=\"dataframe\">\n",
       "  <thead>\n",
       "    <tr style=\"text-align: right;\">\n",
       "      <th></th>\n",
       "      <th>loss</th>\n",
       "      <th>accuracy</th>\n",
       "    </tr>\n",
       "  </thead>\n",
       "  <tbody>\n",
       "    <tr>\n",
       "      <th>Baseline</th>\n",
       "      <td>0.199389</td>\n",
       "      <td>0.92204</td>\n",
       "    </tr>\n",
       "    <tr>\n",
       "      <th>Baseline with dropout</th>\n",
       "      <td>0.205207</td>\n",
       "      <td>0.91956</td>\n",
       "    </tr>\n",
       "    <tr>\n",
       "      <th>LSTM Model</th>\n",
       "      <td>0.421252</td>\n",
       "      <td>0.91318</td>\n",
       "    </tr>\n",
       "    <tr>\n",
       "      <th>Bidirectional LSTM</th>\n",
       "      <td>0.426885</td>\n",
       "      <td>0.91114</td>\n",
       "    </tr>\n",
       "    <tr>\n",
       "      <th>Pretrained Embeddings</th>\n",
       "      <td>0.186024</td>\n",
       "      <td>0.92846</td>\n",
       "    </tr>\n",
       "    <tr>\n",
       "      <th>Transformers from Scratch</th>\n",
       "      <td>0.697276</td>\n",
       "      <td>0.87806</td>\n",
       "    </tr>\n",
       "  </tbody>\n",
       "</table>\n",
       "</div>"
      ],
      "text/plain": [
       "                               loss  accuracy\n",
       "Baseline                   0.199389   0.92204\n",
       "Baseline with dropout      0.205207   0.91956\n",
       "LSTM Model                 0.421252   0.91318\n",
       "Bidirectional LSTM         0.426885   0.91114\n",
       "Pretrained Embeddings      0.186024   0.92846\n",
       "Transformers from Scratch  0.697276   0.87806"
      ]
     },
     "execution_count": 84,
     "metadata": {},
     "output_type": "execute_result"
    }
   ],
   "source": [
    "result = pd.DataFrame({'loss': [loss_1, loss_2, loss_3, loss_4, loss_5, loss_6], \n",
    "                      'accuracy': [acc_1, acc_2, acc_3, acc_4, acc_5, acc_6], \n",
    "                      }, index = ['Baseline', 'Baseline with dropout', 'LSTM Model', 'Bidirectional LSTM',\n",
    "                                 'Pretrained Embeddings', 'Transformers from Scratch'])\n",
    "result"
   ]
  },
  {
   "cell_type": "code",
   "execution_count": null,
   "metadata": {},
   "outputs": [],
   "source": []
  }
 ],
 "metadata": {
  "kernelspec": {
   "display_name": "Python 3",
   "language": "python",
   "name": "python3"
  },
  "language_info": {
   "codemirror_mode": {
    "name": "ipython",
    "version": 3
   },
   "file_extension": ".py",
   "mimetype": "text/x-python",
   "name": "python",
   "nbconvert_exporter": "python",
   "pygments_lexer": "ipython3",
   "version": "3.9.2"
  }
 },
 "nbformat": 4,
 "nbformat_minor": 4
}
